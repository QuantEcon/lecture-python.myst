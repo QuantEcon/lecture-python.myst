{
 "cells": [
  {
   "cell_type": "markdown",
   "id": "056caf86",
   "metadata": {},
   "source": [
    "(newton_method)=\n",
    "```{raw} html\n",
    "<div id=\"qe-notebook-header\" align=\"right\" style=\"text-align:right;\">\n",
    "        <a href=\"https://quantecon.org/\" title=\"quantecon.org\">\n",
    "                <img style=\"width:250px;display:inline;\" width=\"250px\" src=\"https://assets.quantecon.org/img/qe-menubar-logo.svg\" alt=\"QuantEcon\">\n",
    "        </a>\n",
    "</div>\n",
    "```\n",
    "```{index} single: python\n",
    "```\n",
    "\n",
    "# Using Newton's Method to Solve Economic Models\n",
    "\n",
    "```{contents} Contents\n",
    ":depth: 2\n",
    "```\n",
    "\n",
    "## Overview\n",
    "\n",
    "Many economic problems involve finding [fixed\n",
    "points](https://en.wikipedia.org/wiki/Fixed_point_(mathematics)) or\n",
    "[zeros](https://en.wikipedia.org/wiki/Zero_of_a_function) (sometimes called\n",
    "\"roots\") of functions.\n",
    "\n",
    "For example, in a simple supply and demand model, an equilibrium price is one\n",
    "that makes excess demand zero.  \n",
    "\n",
    "In other words, an equilibrium is a zero of the excess demand function.\n",
    "\n",
    "There are various computational techniques for solving for fixed points and\n",
    "zeros.\n",
    "\n",
    "In this lecture we study an important gradient-based technique called [Newton's\n",
    "method](https://en.wikipedia.org/wiki/Newton%27s_method).\n",
    "\n",
    "Newton's method does not always work but, in situations where it does,\n",
    "convergence is often fast when compared to other methods.\n",
    "\n",
    "The lecture will apply Newton's method in one-dimensional and\n",
    "multi-dimensional settings to solve fixed-point and zero-finding problems. \n",
    "\n",
    "* When finding the fixed point of a function $f$, Newton's method updates\n",
    "  an existing guess of the fixed point by solving for the fixed point of a\n",
    "  linear approximation to the function $f$.\n",
    "\n",
    "* When finding the zero of a function $f$, Newton's method updates\n",
    "  an existing guess by solving for the zero of a linear approximation to\n",
    "  the function $f$.\n",
    "\n",
    "To build intuition, we first consider an easy, one-dimensional fixed point\n",
    "problem where we know the solution and solve it using both successive\n",
    "approximation and Newton's method.\n",
    "\n",
    "Then we apply Newton's method to multi-dimensional settings to solve\n",
    "market for equilibria with multiple goods.\n",
    "\n",
    "At the end of the lecture we leverage the power of JAX and automatic\n",
    "differentiation to solve a very high-dimensional equilibrium problem.\n",
    "\n",
    "We use the following imports in this lecture"
   ]
  },
  {
   "cell_type": "code",
   "execution_count": 1,
   "id": "e0150976",
   "metadata": {},
   "outputs": [],
   "source": [
    "import numpy as np\n",
    "import matplotlib.pyplot as plt\n",
    "from collections import namedtuple\n",
    "from scipy.optimize import root\n",
    "import jax\n",
    "import jax.numpy as jnp\n",
    "\n",
    "plt.rcParams[\"figure.figsize\"] = (10, 5.7)"
   ]
  },
  {
   "cell_type": "markdown",
   "id": "0a82c8bd",
   "metadata": {},
   "source": [
    "## Fixed Point Computation Using Newton's Method\n",
    "\n",
    "In this section we solve the fixed point of the law of motion for capital in\n",
    "the setting of the [Solow growth\n",
    "model](https://en.wikipedia.org/wiki/Solow%E2%80%93Swan_model).\n",
    "\n",
    "We will inspect the fixed point visually, solve it by successive\n",
    "approximation, and then apply Newton's method to achieve faster convergence.\n",
    "\n",
    "(solow)=\n",
    "### The Solow Model\n",
    "\n",
    "In the Solow growth model, assuming Cobb-Douglas production technology and\n",
    "zero population growth, the law of motion for capital is\n",
    "\n",
    "```{math}\n",
    ":label: motion_law\n",
    "    k_{t+1} = g(k_t) \\quad \\text{where} \\quad\n",
    "    g(k) := sAk^\\alpha + (1-\\delta) k\n",
    "```\n",
    "\n",
    "Here\n",
    "\n",
    "- $k_t$ is capital stock per worker,\n",
    "- $A, \\alpha>0$ are production parameters, $\\alpha<1$\n",
    "- $s>0$ is a savings rate, and\n",
    "- $\\delta \\in(0,1)$ is a rate of depreciation\n",
    "\n",
    "In this example, we wish to calculate the unique strictly positive fixed point\n",
    "of $g$, the law of motion for capital.\n",
    "\n",
    "In other words, we seek a $k^* > 0$ such that $g(k^*)=k^*$.\n",
    "\n",
    "* such a $k^*$ is called a [steady state](https://en.wikipedia.org/wiki/Steady_state),\n",
    "  since $k_t = k^*$ implies $k_{t+1} = k^*$.\n",
    "\n",
    "Using pencil and paper to solve $g(k)=k$, you will be able to confirm that\n",
    "\n",
    "$$ k^* = \\left(\\frac{s A}{δ}\\right)^{1/(1 - α)}  $$\n",
    "\n",
    "### Implementation\n",
    "\n",
    "Let's store our parameters in [`namedtuple`](https://docs.python.org/3/library/collections.html#collections.namedtuple) to help us keep our code clean and concise."
   ]
  },
  {
   "cell_type": "code",
   "execution_count": 2,
   "id": "e6862e71",
   "metadata": {},
   "outputs": [],
   "source": [
    "SolowParameters = namedtuple(\"SolowParameters\", ('A', 's', 'α', 'δ'))"
   ]
  },
  {
   "cell_type": "markdown",
   "id": "4d650753",
   "metadata": {},
   "source": [
    "This function creates a suitable `namedtuple` with default parameter values."
   ]
  },
  {
   "cell_type": "code",
   "execution_count": 3,
   "id": "91b89477",
   "metadata": {},
   "outputs": [],
   "source": [
    "def create_solow_params(A=2.0, s=0.3, α=0.3, δ=0.4):\n",
    "    \"Creates a Solow model parameterization with default values.\"\n",
    "    return SolowParameters(A=A, s=s, α=α, δ=δ)"
   ]
  },
  {
   "cell_type": "markdown",
   "id": "1121ca98",
   "metadata": {},
   "source": [
    "The next two functions implement the law of motion [](motion_law) and store the true fixed point $k^*$."
   ]
  },
  {
   "cell_type": "code",
   "execution_count": 4,
   "id": "9c21bab9",
   "metadata": {},
   "outputs": [],
   "source": [
    "def g(k, params):\n",
    "    A, s, α, δ = params\n",
    "    return A * s * k**α + (1 - δ) * k\n",
    "    \n",
    "def exact_fixed_point(params):\n",
    "    A, s, α, δ = params\n",
    "    return ((s * A) / δ)**(1/(1 - α))"
   ]
  },
  {
   "cell_type": "markdown",
   "id": "5cc6f5d9",
   "metadata": {},
   "source": [
    "Here is a function to provide a 45 degree plot of the dynamics."
   ]
  },
  {
   "cell_type": "code",
   "execution_count": 5,
   "id": "9a1fd840",
   "metadata": {},
   "outputs": [],
   "source": [
    "def plot_45(params, ax, fontsize=14):\n",
    "    \n",
    "    k_min, k_max = 0.0, 3.0\n",
    "    k_grid = np.linspace(k_min, k_max, 1200)\n",
    "\n",
    "    # Plot the functions\n",
    "    lb = r\"$g(k) = sAk^{\\alpha} + (1 - \\delta)k$\"\n",
    "    ax.plot(k_grid, g(k_grid, params),  lw=2, alpha=0.6, label=lb)\n",
    "    ax.plot(k_grid, k_grid, \"k--\", lw=1, alpha=0.7, label=\"45\")\n",
    "\n",
    "    # Show and annotate the fixed point\n",
    "    kstar = exact_fixed_point(params)\n",
    "    fps = (kstar,)\n",
    "    ax.plot(fps, fps, \"go\", ms=10, alpha=0.6)\n",
    "    ax.annotate(r\"$k^* = (sA / \\delta)^{\\frac{1}{1-\\alpha}}$\", \n",
    "             xy=(kstar, kstar),\n",
    "             xycoords=\"data\",\n",
    "             xytext=(20, -20),\n",
    "             textcoords=\"offset points\",\n",
    "             fontsize=fontsize)\n",
    "\n",
    "    ax.legend(loc=\"upper left\", frameon=False, fontsize=fontsize)\n",
    "\n",
    "    ax.set_yticks((0, 1, 2, 3))\n",
    "    ax.set_yticklabels((0.0, 1.0, 2.0, 3.0), fontsize=fontsize)\n",
    "    ax.set_ylim(0, 3)\n",
    "    ax.set_xlabel(\"$k_t$\", fontsize=fontsize)\n",
    "    ax.set_ylabel(\"$k_{t+1}$\", fontsize=fontsize)"
   ]
  },
  {
   "cell_type": "markdown",
   "id": "45eb0836",
   "metadata": {},
   "source": [
    "Let's look at the 45 degree diagram for two parameterizations."
   ]
  },
  {
   "cell_type": "code",
   "execution_count": 6,
   "id": "d356ff84",
   "metadata": {},
   "outputs": [
    {
     "data": {
      "image/png": "[encoded data removed]",
      "text/plain": [
       "<Figure size 800x800 with 1 Axes>"
      ]
     },
     "metadata": {
      "filenames": {
       "image/png": "/__w/lecture-python.myst/lecture-python.myst/_build/jupyter_execute/newton_method_11_0.png"
      }
     },
     "output_type": "display_data"
    }
   ],
   "source": [
    "params = create_solow_params()\n",
    "fig, ax = plt.subplots(figsize=(8, 8))\n",
    "plot_45(params, ax)\n",
    "plt.show()"
   ]
  },
  {
   "cell_type": "code",
   "execution_count": 7,
   "id": "895c964f",
   "metadata": {},
   "outputs": [
    {
     "data": {
      "image/png": "[encoded data removed]",
      "text/plain": [
       "<Figure size 800x800 with 1 Axes>"
      ]
     },
     "metadata": {
      "filenames": {
       "image/png": "/__w/lecture-python.myst/lecture-python.myst/_build/jupyter_execute/newton_method_12_0.png"
      }
     },
     "output_type": "display_data"
    }
   ],
   "source": [
    "params = create_solow_params(α=0.05, δ=0.5)\n",
    "fig, ax = plt.subplots(figsize=(8, 8))\n",
    "plot_45(params, ax)\n",
    "plt.show()"
   ]
  },
  {
   "cell_type": "markdown",
   "id": "a9317895",
   "metadata": {},
   "source": [
    "We see that $k^*$ is indeed the unique positive fixed point.\n",
    "\n",
    "\n",
    "#### Successive Approximation\n",
    "\n",
    "First let's compute the fixed point using successive approximation.\n",
    "\n",
    "In this case, successive approximation means repeatedly updating capital\n",
    "from some initial state $k_0$ using the law of motion.\n",
    "\n",
    "Here's a time series from a particular choice of $k_0$."
   ]
  },
  {
   "cell_type": "code",
   "execution_count": 8,
   "id": "2b34440b",
   "metadata": {},
   "outputs": [],
   "source": [
    "def compute_iterates(k_0, f, params, n=25):\n",
    "    \"Compute time series of length n generated by arbitrary function f.\"\n",
    "    k = k_0\n",
    "    k_iterates = []\n",
    "    for t in range(n):\n",
    "        k_iterates.append(k)\n",
    "        k = f(k, params)\n",
    "    return k_iterates"
   ]
  },
  {
   "cell_type": "code",
   "execution_count": 9,
   "id": "32d60b7d",
   "metadata": {},
   "outputs": [
    {
     "data": {
      "image/png": "[encoded data removed]",
      "text/plain": [
       "<Figure size 1000x570 with 1 Axes>"
      ]
     },
     "metadata": {
      "filenames": {
       "image/png": "/__w/lecture-python.myst/lecture-python.myst/_build/jupyter_execute/newton_method_15_0.png"
      }
     },
     "output_type": "display_data"
    }
   ],
   "source": [
    "params = create_solow_params()\n",
    "k_0 = 0.25\n",
    "k_series = compute_iterates(k_0, g, params)\n",
    "k_star = exact_fixed_point(params)\n",
    "\n",
    "fig, ax = plt.subplots()\n",
    "ax.plot(k_series, 'o')\n",
    "ax.plot([k_star] * len(k_series), 'k--')\n",
    "ax.set_ylim(0, 3)\n",
    "plt.show()"
   ]
  },
  {
   "cell_type": "markdown",
   "id": "82f42e17",
   "metadata": {},
   "source": [
    "Let's see the output for a long time series."
   ]
  },
  {
   "cell_type": "code",
   "execution_count": 10,
   "id": "5a6a3415",
   "metadata": {},
   "outputs": [
    {
     "data": {
      "text/plain": [
       "1.7846741842265788"
      ]
     },
     "execution_count": 10,
     "metadata": {},
     "output_type": "execute_result"
    }
   ],
   "source": [
    "k_series = compute_iterates(k_0, g, params, n=10_000)\n",
    "k_star_approx = k_series[-1]\n",
    "k_star_approx"
   ]
  },
  {
   "cell_type": "markdown",
   "id": "1d2c1c7b",
   "metadata": {},
   "source": [
    "This is close to the true value.\n",
    "\n",
    "(solved_k)="
   ]
  },
  {
   "cell_type": "code",
   "execution_count": 11,
   "id": "4b251519",
   "metadata": {},
   "outputs": [
    {
     "data": {
      "text/plain": [
       "1.7846741842265788"
      ]
     },
     "execution_count": 11,
     "metadata": {},
     "output_type": "execute_result"
    }
   ],
   "source": [
    "k_star"
   ]
  },
  {
   "cell_type": "markdown",
   "id": "a7951218",
   "metadata": {},
   "source": [
    "#### Newton's Method \n",
    "\n",
    "In general, when applying Newton's fixed point method to some function $g$, \n",
    "we start with a guess $x_0$ of the fixed\n",
    "point and then update by solving for the fixed point of a tangent line at\n",
    "$x_0$.\n",
    "\n",
    "To begin with, we recall that the first-order approximation of $g$ at $x_0$\n",
    "(i.e., the first order Taylor approximation of $g$ at $x_0$) is\n",
    "the function\n",
    "\n",
    "```{math}\n",
    ":label: motivation\n",
    "\n",
    "\\hat g(x) \\approx g(x_0)+g'(x_0)(x-x_0)\n",
    "```\n",
    "\n",
    "We solve for the fixed point of $\\hat g$ by calculating the $x_1$ that solves\n",
    "\n",
    "$$\n",
    "x_1=\\frac{g(x_0)-g'(x_0) x_0}{1-g'(x_0)}\n",
    "$$\n",
    "\n",
    "Generalising the process above, Newton's fixed point method iterates on \n",
    "\n",
    "```{math}\n",
    ":label: newtons_method\n",
    "\n",
    "x_{t+1} = \\frac{g(x_t) - g'(x_t) x_t}{ 1 - g'(x_t) },\n",
    "\\quad x_0 \\text{ given}\n",
    "```\n",
    "\n",
    "\n",
    "To implement Newton's method we observe that the derivative of the law of motion for capital [](motion_law) is\n",
    "\n",
    "```{math}\n",
    ":label: newton_method2\n",
    "\n",
    "g'(k) = \\alpha s A k^{\\alpha-1} + (1-\\delta)\n",
    "\n",
    "```\n",
    "\n",
    "Let's define this:"
   ]
  },
  {
   "cell_type": "code",
   "execution_count": 12,
   "id": "f9c59eb9",
   "metadata": {},
   "outputs": [],
   "source": [
    "def Dg(k, params):\n",
    "    A, s, α, δ = params\n",
    "    return α * A * s * k**(α-1) + (1 - δ)"
   ]
  },
  {
   "cell_type": "markdown",
   "id": "8e6ae8d5",
   "metadata": {},
   "source": [
    "Here's a function $q$ representing [](newtons_method)."
   ]
  },
  {
   "cell_type": "code",
   "execution_count": 13,
   "id": "03f78011",
   "metadata": {},
   "outputs": [],
   "source": [
    "def q(k, params):\n",
    "    return (g(k, params) - Dg(k, params) * k) / (1 - Dg(k, params))"
   ]
  },
  {
   "cell_type": "markdown",
   "id": "ad03b65b",
   "metadata": {},
   "source": [
    "Now let's plot some trajectories."
   ]
  },
  {
   "cell_type": "code",
   "execution_count": 14,
   "id": "c214af5c",
   "metadata": {},
   "outputs": [],
   "source": [
    "def plot_trajectories(params, \n",
    "                      k0_a=0.8,  # first initial condition\n",
    "                      k0_b=3.1,  # second initial condition\n",
    "                      n=20,      # length of time series\n",
    "                      fs=14):    # fontsize\n",
    "\n",
    "    fig, axes = plt.subplots(2, 1, figsize=(10, 6))\n",
    "    ax1, ax2 = axes\n",
    "\n",
    "    ks1 = compute_iterates(k0_a, g, params, n)\n",
    "    ax1.plot(ks1, \"-o\", label=\"successive approximation\")\n",
    "\n",
    "    ks2 = compute_iterates(k0_b, g, params, n)\n",
    "    ax2.plot(ks2, \"-o\", label=\"successive approximation\")\n",
    "\n",
    "    ks3 = compute_iterates(k0_a, q, params, n)\n",
    "    ax1.plot(ks3, \"-o\", label=\"newton steps\")\n",
    "\n",
    "    ks4 = compute_iterates(k0_b, q, params, n)\n",
    "    ax2.plot(ks4, \"-o\", label=\"newton steps\")\n",
    "\n",
    "    for ax in axes:\n",
    "        ax.plot(k_star * np.ones(n), \"k--\")\n",
    "        ax.legend(fontsize=fs, frameon=False)\n",
    "        ax.set_ylim(0.6, 3.2)\n",
    "        ax.set_yticks((k_star,))\n",
    "        ax.set_yticklabels((\"$k^*$\",), fontsize=fs)\n",
    "        ax.set_xticks(np.linspace(0, 19, 20))\n",
    "        \n",
    "    plt.show()"
   ]
  },
  {
   "cell_type": "code",
   "execution_count": 15,
   "id": "0484b31a",
   "metadata": {},
   "outputs": [
    {
     "data": {
      "image/png": "[encoded data removed]",
      "text/plain": [
       "<Figure size 1000x600 with 2 Axes>"
      ]
     },
     "metadata": {
      "filenames": {
       "image/png": "/__w/lecture-python.myst/lecture-python.myst/_build/jupyter_execute/newton_method_26_0.png"
      }
     },
     "output_type": "display_data"
    }
   ],
   "source": [
    "params = create_solow_params()\n",
    "plot_trajectories(params)"
   ]
  },
  {
   "cell_type": "markdown",
   "id": "330cf4b5",
   "metadata": {},
   "source": [
    "We can see that Newton's method converges faster than successive approximation.\n",
    "\n",
    "\n",
    "## Root-Finding in One Dimension\n",
    "\n",
    "In the previous section we computed fixed points.\n",
    "\n",
    "In fact Newton's method is more commonly associated with the problem of\n",
    "finding zeros of functions.\n",
    "\n",
    "Let's discuss this \"root-finding\" problem and then show how it is connected to\n",
    "the problem of finding fixed points.\n",
    "\n",
    "\n",
    "\n",
    "### Newton's Method for Zeros\n",
    "\n",
    "Let's suppose we want to find an $x$ such that $f(x)=0$ for some smooth\n",
    "function $f$ mapping real numbers to real numbers.\n",
    "\n",
    "Suppose we have a guess $x_0$ and we want to update it to a new point $x_1$.\n",
    "\n",
    "As a first step, we take the first-order approximation of $f$ around $x_0$:\n",
    "\n",
    "$$\n",
    "\\hat f(x) \\approx f\\left(x_0\\right)+f^{\\prime}\\left(x_0\\right)\\left(x-x_0\\right)\n",
    "$$\n",
    "\n",
    "Now we solve for the zero of $\\hat f$.  \n",
    "\n",
    "In particular, we set $\\hat{f}(x_1) = 0$ and solve for $x_1$ to get\n",
    "\n",
    "$$\n",
    "x_1 = x_0 - \\frac{ f(x_0) }{ f'(x_0) },\n",
    "\\quad x_0 \\text{ given}\n",
    "$$\n",
    "\n",
    "Generalizing the formula above, for one-dimensional zero-finding problems, Newton's method iterates on\n",
    "\n",
    "```{math}\n",
    ":label: oneD-newton\n",
    "x_{t+1} = x_t - \\frac{ f(x_t) }{ f'(x_t) },\n",
    "\\quad x_0 \\text{ given}\n",
    "```\n",
    "\n",
    "The following code implements the iteration [](oneD-newton)\n",
    "\n",
    "(first_newton_attempt)="
   ]
  },
  {
   "cell_type": "code",
   "execution_count": 16,
   "id": "fe962b73",
   "metadata": {},
   "outputs": [],
   "source": [
    "def newton(f, Df, x_0, tol=1e-7, max_iter=100_000):\n",
    "    x = x_0\n",
    "\n",
    "    # Implement the zero-finding formula\n",
    "    def q(x):\n",
    "        return x - f(x) / Df(x)\n",
    "\n",
    "    error = tol + 1\n",
    "    n = 0\n",
    "    while error > tol:\n",
    "        n += 1\n",
    "        if(n > max_iter):\n",
    "            raise Exception('Max iteration reached without convergence')\n",
    "        y = q(x)\n",
    "        error = np.abs(x - y)\n",
    "        x = y\n",
    "        print(f'iteration {n}, error = {error:.5f}')\n",
    "    return x"
   ]
  },
  {
   "cell_type": "markdown",
   "id": "bc13467f",
   "metadata": {},
   "source": [
    "Numerous libraries implement Newton's method in one dimension, including\n",
    "SciPy, so the code is just for illustrative purposes.\n",
    "\n",
    "(That said, when we want to apply Newton's method using techniques such as\n",
    "automatic differentiation or GPU acceleration, it will be helpful to know how\n",
    "to implement Newton's method ourselves.)\n",
    "\n",
    "\n",
    "### Application to Finding Fixed Points\n",
    "\n",
    "Now consider again the Solow fixed-point calculation, where we solve for $k$\n",
    "satisfying $g(k) = k$.\n",
    "\n",
    "We can convert to this to a zero-finding problem by setting $f(x) := g(x)-x$.\n",
    "\n",
    "Any zero of $f$ is clearly a fixed point of $g$.\n",
    "\n",
    "Let's apply this idea to the Solow problem"
   ]
  },
  {
   "cell_type": "code",
   "execution_count": 17,
   "id": "0e4e319a",
   "metadata": {},
   "outputs": [
    {
     "name": "stdout",
     "output_type": "stream",
     "text": [
      "iteration 1, error = 1.27209\n",
      "iteration 2, error = 0.28180\n",
      "iteration 3, error = 0.00561\n",
      "iteration 4, error = 0.00000\n",
      "iteration 5, error = 0.00000\n"
     ]
    }
   ],
   "source": [
    "params = create_solow_params()\n",
    "k_star_approx_newton = newton(f=lambda x: g(x, params) - x,\n",
    "                              Df=lambda x: Dg(x, params) - 1,\n",
    "                              x_0=0.8)"
   ]
  },
  {
   "cell_type": "code",
   "execution_count": 18,
   "id": "21a015ff",
   "metadata": {},
   "outputs": [
    {
     "data": {
      "text/plain": [
       "1.7846741842265788"
      ]
     },
     "execution_count": 18,
     "metadata": {},
     "output_type": "execute_result"
    }
   ],
   "source": [
    "k_star_approx_newton"
   ]
  },
  {
   "cell_type": "markdown",
   "id": "066df568",
   "metadata": {},
   "source": [
    "The result confirms the descent we saw in the graphs above: a very accurate result is reached with only 5 iterations.\n",
    "\n",
    "\n",
    "\n",
    "## Multivariate Newton’s Method\n",
    "\n",
    "In this section, we introduce a two-good problem, present a\n",
    "visualization of the problem, and solve for the equilibrium of the two-good market\n",
    "using both a zero finder in `SciPy` and Newton's method.\n",
    "\n",
    "We then expand the idea to a larger market with 5,000 goods and compare the\n",
    "performance of the two methods again.\n",
    "\n",
    "We will see a significant performance gain when using Netwon's method.\n",
    "\n",
    "\n",
    "### A Two Goods Market Equilibrium\n",
    "\n",
    "Let's start by computing the market equilibrium of a two-good problem.\n",
    "\n",
    "We consider a market for two related products, good 0 and good 1, with\n",
    "price vector $p = (p_0, p_1)$\n",
    "\n",
    "Supply of good $i$ at price $p$,\n",
    "\n",
    "$$ \n",
    "q^s_i (p) = b_i \\sqrt{p_i} \n",
    "$$\n",
    "\n",
    "Demand of good $i$ at price $p$ is,\n",
    "\n",
    "$$ \n",
    "q^d_i (p) = \\exp(-a_{i0} p_0) + \\exp(-a_{i1} p_1) + c_i\n",
    "$$\n",
    "\n",
    "Here $c_i$, $b_i$ and $a_{ij}$ are parameters.\n",
    "\n",
    "For example, the two goods might be computer components that are typically used together, in which case they are complements. Hence demand depends on the price of both components.\n",
    "\n",
    "The excess demand function is,\n",
    "\n",
    "$$\n",
    "e_i(p) = q^d_i(p) - q^s_i(p), \\quad i = 0, 1\n",
    "$$\n",
    "\n",
    "\n",
    "An equilibrium price vector $p^*$ satisfies $e_i(p^*) = 0$.\n",
    "\n",
    "\n",
    "We set\n",
    "\n",
    "$$\n",
    "A = \\begin{pmatrix}\n",
    "            a_{00} & a_{01} \\\\\n",
    "            a_{10} & a_{11}\n",
    "        \\end{pmatrix},\n",
    "            \\qquad \n",
    "    b = \\begin{pmatrix}\n",
    "            b_0 \\\\\n",
    "            b_1\n",
    "        \\end{pmatrix}\n",
    "    \\qquad \\text{and} \\qquad\n",
    "    c = \\begin{pmatrix}\n",
    "            c_0 \\\\\n",
    "            c_1\n",
    "        \\end{pmatrix}\n",
    "$$\n",
    "\n",
    "for this particular question.\n",
    "\n",
    "#### A Graphical Exploration\n",
    "\n",
    "Since our problem is only two-dimensional, we can use graphical analysis to visualize and help understand the problem.\n",
    "\n",
    "Our first step is to define the excess demand function\n",
    "\n",
    "$$\n",
    "e(p) = \n",
    "    \\begin{pmatrix}\n",
    "    e_0(p) \\\\\n",
    "    e_1(p)\n",
    "    \\end{pmatrix}\n",
    "$$\n",
    "\n",
    "The function below calculates the excess demand for given parameters"
   ]
  },
  {
   "cell_type": "code",
   "execution_count": 19,
   "id": "dcf9078b",
   "metadata": {},
   "outputs": [],
   "source": [
    "def e(p, A, b, c):\n",
    "    return np.exp(- A @ p) + c - b * np.sqrt(p)"
   ]
  },
  {
   "cell_type": "markdown",
   "id": "4007f844",
   "metadata": {},
   "source": [
    "Our default parameter values will be\n",
    "\n",
    "\n",
    "$$\n",
    "A = \\begin{pmatrix}\n",
    "            0.5 & 0.4 \\\\\n",
    "            0.8 & 0.2\n",
    "        \\end{pmatrix},\n",
    "            \\qquad \n",
    "    b = \\begin{pmatrix}\n",
    "            0 \\\\\n",
    "            0\n",
    "        \\end{pmatrix}\n",
    "    \\qquad \\text{and} \\qquad\n",
    "    c = \\begin{pmatrix}\n",
    "            0 \\\\\n",
    "            0\n",
    "        \\end{pmatrix}\n",
    "$$"
   ]
  },
  {
   "cell_type": "code",
   "execution_count": 20,
   "id": "1da5cbb2",
   "metadata": {},
   "outputs": [],
   "source": [
    "A = np.array([\n",
    "    [0.5, 0.4],\n",
    "    [0.8, 0.2]\n",
    "])\n",
    "b = np.ones(2)\n",
    "c = np.ones(2)"
   ]
  },
  {
   "cell_type": "markdown",
   "id": "453ce67c",
   "metadata": {},
   "source": [
    "At a price level of $p = (1, 0.5)$, the excess demand is"
   ]
  },
  {
   "cell_type": "code",
   "execution_count": 21,
   "id": "39aea493",
   "metadata": {},
   "outputs": [
    {
     "name": "stdout",
     "output_type": "stream",
     "text": [
      "The excess demand for good 0 is 0.497 \n",
      "The excess demand for good 1 is 0.699\n"
     ]
    }
   ],
   "source": [
    "ex_demand = e((1.0, 0.5), A, b, c)\n",
    "\n",
    "print(f'The excess demand for good 0 is {ex_demand[0]:.3f} \\n'\n",
    "      f'The excess demand for good 1 is {ex_demand[1]:.3f}')"
   ]
  },
  {
   "cell_type": "markdown",
   "id": "9c1bc347",
   "metadata": {},
   "source": [
    "Next we plot the two functions $e_0$ and $e_1$ on a grid of $(p_0, p_1)$ values, using contour surfaces and lines.\n",
    "\n",
    "We will use the following function to build the contour plots"
   ]
  },
  {
   "cell_type": "code",
   "execution_count": 22,
   "id": "7f87bc00",
   "metadata": {},
   "outputs": [],
   "source": [
    "def plot_excess_demand(ax, good=0, grid_size=100, grid_max=4, surface=True):\n",
    "\n",
    "    # Create a 100x100 grid\n",
    "    p_grid = np.linspace(0, grid_max, grid_size)\n",
    "    z = np.empty((100, 100))\n",
    "\n",
    "    for i, p_1 in enumerate(p_grid):\n",
    "        for j, p_2 in enumerate(p_grid):\n",
    "            z[i, j] = e((p_1, p_2), A, b, c)[good]\n",
    "\n",
    "    if surface:\n",
    "        cs1 = ax.contourf(p_grid, p_grid, z.T, alpha=0.5)\n",
    "        plt.colorbar(cs1, ax=ax, format=\"%.6f\")\n",
    "\n",
    "    ctr1 = ax.contour(p_grid, p_grid, z.T, levels=[0.0])\n",
    "    ax.set_xlabel(\"$p_0$\")\n",
    "    ax.set_ylabel(\"$p_1$\")\n",
    "    ax.set_title(f'Excess Demand for Good {good}')\n",
    "    plt.clabel(ctr1, inline=1, fontsize=13)"
   ]
  },
  {
   "cell_type": "markdown",
   "id": "c568b736",
   "metadata": {},
   "source": [
    "Here's our plot of $e_0$:"
   ]
  },
  {
   "cell_type": "code",
   "execution_count": 23,
   "id": "2898eeca",
   "metadata": {},
   "outputs": [
    {
     "data": {
      "image/png": "[encoded data removed]",
      "text/plain": [
       "<Figure size 1000x570 with 2 Axes>"
      ]
     },
     "metadata": {
      "filenames": {
       "image/png": "/__w/lecture-python.myst/lecture-python.myst/_build/jupyter_execute/newton_method_41_0.png"
      }
     },
     "output_type": "display_data"
    }
   ],
   "source": [
    "fig, ax = plt.subplots()\n",
    "plot_excess_demand(ax, good=0)\n",
    "plt.show()"
   ]
  },
  {
   "cell_type": "markdown",
   "id": "74c66107",
   "metadata": {},
   "source": [
    "Here's our plot of $e_1$:"
   ]
  },
  {
   "cell_type": "code",
   "execution_count": 24,
   "id": "16ea5830",
   "metadata": {},
   "outputs": [
    {
     "data": {
      "image/png": "[encoded data removed]",
      "text/plain": [
       "<Figure size 1000x570 with 2 Axes>"
      ]
     },
     "metadata": {
      "filenames": {
       "image/png": "/__w/lecture-python.myst/lecture-python.myst/_build/jupyter_execute/newton_method_43_0.png"
      }
     },
     "output_type": "display_data"
    }
   ],
   "source": [
    "fig, ax = plt.subplots()\n",
    "plot_excess_demand(ax, good=1)\n",
    "plt.show()"
   ]
  },
  {
   "cell_type": "markdown",
   "id": "1514b317",
   "metadata": {},
   "source": [
    "We see the black contour line of zero, which tells us when $e_i(p)=0$.\n",
    "\n",
    "For a price vector $p$ such that $e_i(p)=0$ we know that good $i$ is in equilibrium (demand equals supply).\n",
    "\n",
    "If these two contour lines cross at some price vector $p^*$, then $p^*$ is an equilibrium price vector."
   ]
  },
  {
   "cell_type": "code",
   "execution_count": 25,
   "id": "b1765959",
   "metadata": {},
   "outputs": [
    {
     "data": {
      "image/png": "[encoded data removed]",
      "text/plain": [
       "<Figure size 1000x570 with 1 Axes>"
      ]
     },
     "metadata": {
      "filenames": {
       "image/png": "/__w/lecture-python.myst/lecture-python.myst/_build/jupyter_execute/newton_method_45_0.png"
      }
     },
     "output_type": "display_data"
    }
   ],
   "source": [
    "fig, ax = plt.subplots(figsize=(10, 5.7))\n",
    "for good in (0, 1):\n",
    "    plot_excess_demand(ax, good=good, surface=False)\n",
    "plt.show()"
   ]
  },
  {
   "cell_type": "markdown",
   "id": "6dc3c9f7",
   "metadata": {},
   "source": [
    "It seems there is an equilibrium close to $p = (1.6, 1.5)$.\n",
    "\n",
    "\n",
    "#### Using a Multidimensional Root Finder\n",
    "\n",
    "To solve for $p^*$ more precisely, we use a zero-finding algorithm from `scipy.optimize`.\n",
    "\n",
    "We supply $p = (1, 1)$ as our initial guess."
   ]
  },
  {
   "cell_type": "code",
   "execution_count": 26,
   "id": "ae27b4f6",
   "metadata": {},
   "outputs": [],
   "source": [
    "init_p = np.ones(2)"
   ]
  },
  {
   "cell_type": "markdown",
   "id": "5ec8e3cf",
   "metadata": {},
   "source": [
    "This uses the [modified Powell method](https://docs.scipy.org/doc/scipy/reference/optimize.root-hybr.html#optimize-root-hybr) to find the zero"
   ]
  },
  {
   "cell_type": "code",
   "execution_count": 27,
   "id": "2f7ba25d",
   "metadata": {},
   "outputs": [
    {
     "name": "stdout",
     "output_type": "stream",
     "text": [
      "CPU times: user 262 µs, sys: 0 ns, total: 262 µs\n",
      "Wall time: 248 µs\n"
     ]
    }
   ],
   "source": [
    "%%time\n",
    "solution = root(lambda p: e(p, A, b, c), init_p, method='hybr')"
   ]
  },
  {
   "cell_type": "markdown",
   "id": "62c302f5",
   "metadata": {},
   "source": [
    "Here's the resulting value:"
   ]
  },
  {
   "cell_type": "code",
   "execution_count": 28,
   "id": "41fe5594",
   "metadata": {},
   "outputs": [
    {
     "data": {
      "text/plain": [
       "array([1.57080182, 1.46928838])"
      ]
     },
     "execution_count": 28,
     "metadata": {},
     "output_type": "execute_result"
    }
   ],
   "source": [
    "p = solution.x\n",
    "p"
   ]
  },
  {
   "cell_type": "markdown",
   "id": "32148394",
   "metadata": {},
   "source": [
    "This looks close to our guess from observing the figure. We can plug it back into $e$ to test that $e(p) \\approx 0$:"
   ]
  },
  {
   "cell_type": "code",
   "execution_count": 29,
   "id": "2858a62c",
   "metadata": {},
   "outputs": [
    {
     "data": {
      "text/plain": [
       "2.0383694732117874e-13"
      ]
     },
     "execution_count": 29,
     "metadata": {},
     "output_type": "execute_result"
    }
   ],
   "source": [
    "np.max(np.abs(e(p, A, b, c)))"
   ]
  },
  {
   "cell_type": "markdown",
   "id": "49f7becf",
   "metadata": {},
   "source": [
    "This is indeed a very small error.\n",
    "\n",
    "\n",
    "#### Adding Gradient Information\n",
    "\n",
    "In many cases, for zero-finding algorithms applied to smooth functions, supplying the [Jacobian](https://en.wikipedia.org/wiki/Jacobian_matrix_and_determinant) of the function leads to better convergence properties.\n",
    "\n",
    "Here we manually calculate the elements of the Jacobian\n",
    "\n",
    "$$\n",
    "J(p) = \n",
    "    \\begin{pmatrix}\n",
    "        \\frac{\\partial e_0}{\\partial p_0}(p) & \\frac{\\partial e_0}{\\partial p_1}(p) \\\\\n",
    "        \\frac{\\partial e_1}{\\partial p_0}(p) & \\frac{\\partial e_1}{\\partial p_1}(p)\n",
    "    \\end{pmatrix}\n",
    "$$"
   ]
  },
  {
   "cell_type": "code",
   "execution_count": 30,
   "id": "a0fcb7b7",
   "metadata": {},
   "outputs": [],
   "source": [
    "def jacobian(p, A, b, c):\n",
    "    p_0, p_1 = p\n",
    "    a_00, a_01 = A[0, :]\n",
    "    a_10, a_11 = A[1, :]\n",
    "    j_00 = -a_00 * np.exp(-a_00 * p_0) - (b[0]/2) * p_0**(-1/2)\n",
    "    j_01 = -a_01 * np.exp(-a_01 * p_1)\n",
    "    j_10 = -a_10 * np.exp(-a_10 * p_0)\n",
    "    j_11 = -a_11 * np.exp(-a_11 * p_1) - (b[1]/2) * p_1**(-1/2)\n",
    "    J = [[j_00, j_01],\n",
    "         [j_10, j_11]]\n",
    "    return np.array(J)"
   ]
  },
  {
   "cell_type": "code",
   "execution_count": 31,
   "id": "c070ca12",
   "metadata": {},
   "outputs": [
    {
     "name": "stdout",
     "output_type": "stream",
     "text": [
      "CPU times: user 208 µs, sys: 69 µs, total: 277 µs\n",
      "Wall time: 261 µs\n"
     ]
    }
   ],
   "source": [
    "%%time\n",
    "solution = root(lambda p: e(p, A, b, c),\n",
    "                init_p, \n",
    "                jac=lambda p: jacobian(p, A, b, c), \n",
    "                method='hybr')"
   ]
  },
  {
   "cell_type": "markdown",
   "id": "39400961",
   "metadata": {},
   "source": [
    "Now the solution is even more accurate (although, in this low-dimensional problem, the difference is quite small):"
   ]
  },
  {
   "cell_type": "code",
   "execution_count": 32,
   "id": "5b23bcb0",
   "metadata": {},
   "outputs": [
    {
     "data": {
      "text/plain": [
       "1.3322676295501878e-15"
      ]
     },
     "execution_count": 32,
     "metadata": {},
     "output_type": "execute_result"
    }
   ],
   "source": [
    "p = solution.x\n",
    "np.max(np.abs(e(p, A, b, c)))"
   ]
  },
  {
   "cell_type": "markdown",
   "id": "5007f778",
   "metadata": {},
   "source": [
    "#### Using Newton's Method\n",
    "\n",
    "Now let's use Newton's method to compute the equilibrium price using the multivariate version of Newton's method\n",
    "\n",
    "```{math}\n",
    ":label: multi-newton\n",
    "\n",
    "p_{n+1} = p_n - J_e(p_n)^{-1} e(p_n)\n",
    "```\n",
    "\n",
    "This is a multivariate version of [](oneD-newton)\n",
    "\n",
    "(Here $J_e(p_n)$ is the Jacobian of $e$ evaluated at $p_n$.)\n",
    "\n",
    "The iteration starts from some initial guess of the price vector $p_0$. \n",
    "\n",
    "Here, instead of coding Jacobian by hand, We use the `jax.jacobian()` function to auto-differentiate and calculate the Jacobian.\n",
    "\n",
    "With only slight modification, we can generalize [our previous attempt](first_newton_attempt) to multi-dimensional problems"
   ]
  },
  {
   "cell_type": "code",
   "execution_count": 33,
   "id": "202c2cf8",
   "metadata": {},
   "outputs": [],
   "source": [
    "def newton(f, x_0, tol=1e-5, max_iter=10):\n",
    "    x = x_0\n",
    "    q = jax.jit(lambda x: x - jnp.linalg.solve(jax.jacobian(f)(x), f(x)))\n",
    "    error = tol + 1\n",
    "    n = 0\n",
    "    while error > tol:\n",
    "        n+=1\n",
    "        if(n > max_iter):\n",
    "            raise Exception('Max iteration reached without convergence')\n",
    "        y = q(x)\n",
    "        if(any(jnp.isnan(y))):\n",
    "            raise Exception('Solution not found with NaN generated')\n",
    "        error = jnp.linalg.norm(x - y)\n",
    "        x = y\n",
    "        print(f'iteration {n}, error = {error:.5f}')\n",
    "    print('\\n' + f'Result = {x} \\n')\n",
    "    return x"
   ]
  },
  {
   "cell_type": "code",
   "execution_count": 34,
   "id": "60ba593a",
   "metadata": {},
   "outputs": [],
   "source": [
    "def e(p, A, b, c):\n",
    "    return jnp.exp(- jnp.dot(A, p)) + c - b * jnp.sqrt(p)"
   ]
  },
  {
   "cell_type": "markdown",
   "id": "97b9b37b",
   "metadata": {},
   "source": [
    "We find the algorithm terminates in 4 steps"
   ]
  },
  {
   "cell_type": "code",
   "execution_count": 35,
   "id": "40c7dfa1",
   "metadata": {},
   "outputs": [
    {
     "name": "stderr",
     "output_type": "stream",
     "text": [
      "No GPU/TPU found, falling back to CPU. (Set TF_CPP_MIN_LOG_LEVEL=0 and rerun for more info.)\n"
     ]
    },
    {
     "name": "stdout",
     "output_type": "stream",
     "text": [
      "iteration 1, error = 0.62515\n",
      "iteration 2, error = 0.11152\n",
      "iteration 3, error = 0.00258\n",
      "iteration 4, error = 0.00000\n",
      "\n",
      "Result = [1.570802  1.4692882] \n",
      "\n",
      "CPU times: user 347 ms, sys: 8.41 ms, total: 356 ms\n",
      "Wall time: 343 ms\n"
     ]
    }
   ],
   "source": [
    "%%time\n",
    "p = newton(lambda p: e(p, A, b, c), init_p).block_until_ready()"
   ]
  },
  {
   "cell_type": "code",
   "execution_count": 36,
   "id": "9fed3567",
   "metadata": {},
   "outputs": [
    {
     "data": {
      "text/plain": [
       "0.0"
      ]
     },
     "execution_count": 36,
     "metadata": {},
     "output_type": "execute_result"
    }
   ],
   "source": [
    "np.max(np.abs(e(p, A, b, c)))"
   ]
  },
  {
   "cell_type": "markdown",
   "id": "33e8b6df",
   "metadata": {},
   "source": [
    "The result is very accurate. \n",
    "\n",
    "With the larger overhead, the speed is not better than the optimized `scipy` function.\n",
    "\n",
    "However, things will change when we move to higher dimensional problems.\n",
    "\n",
    "\n",
    "\n",
    "### A High-Dimensional Problem\n",
    "\n",
    "Our next step is to investigate a large market with 5,000 goods.\n",
    "\n",
    "To handle this large problem we will use Google JAX.\n",
    "\n",
    "The excess demand function is essentially the same, but now the matrix $A$ is $5000 \\times 5000$ and the parameter vectors $b$ and $c$ are $5000 \\times 1$."
   ]
  },
  {
   "cell_type": "code",
   "execution_count": 37,
   "id": "fd77266c",
   "metadata": {},
   "outputs": [],
   "source": [
    "dim = 5_000\n",
    "np.random.seed(123)\n",
    "\n",
    "# Create a random matrix A and normalize the rows to sum to one\n",
    "A = np.random.rand(dim, dim)\n",
    "A = jnp.asarray(A)\n",
    "s = jnp.sum(A, axis=0)\n",
    "A = A / s\n",
    "\n",
    "# Set up b and c\n",
    "b = jnp.ones(dim)\n",
    "c = jnp.ones(dim)"
   ]
  },
  {
   "cell_type": "markdown",
   "id": "0b92fe66",
   "metadata": {},
   "source": [
    "Here is essentially the same demand function we applied before, but now using `jax.numpy` for the calculations."
   ]
  },
  {
   "cell_type": "code",
   "execution_count": 38,
   "id": "98ffd224",
   "metadata": {},
   "outputs": [],
   "source": [
    "def e(p, A, b, c):\n",
    "    return jnp.exp(- jnp.dot(A, p)) + c - b * jnp.sqrt(p)"
   ]
  },
  {
   "cell_type": "markdown",
   "id": "90492389",
   "metadata": {},
   "source": [
    "Here's our initial condition"
   ]
  },
  {
   "cell_type": "code",
   "execution_count": 39,
   "id": "715487a5",
   "metadata": {},
   "outputs": [],
   "source": [
    "init_p = jnp.ones(dim)"
   ]
  },
  {
   "cell_type": "markdown",
   "id": "8a6bab99",
   "metadata": {},
   "source": [
    "By leveraging the power of Newton's method, JAX accelerated linear algebra,\n",
    "automatic differentiation, and a GPU, we obtain a relatively small error for\n",
    "this very large problem in just a few seconds:"
   ]
  },
  {
   "cell_type": "code",
   "execution_count": 40,
   "id": "40f92d76",
   "metadata": {},
   "outputs": [
    {
     "name": "stdout",
     "output_type": "stream",
     "text": [
      "iteration 1, error = 29.97755\n"
     ]
    },
    {
     "name": "stdout",
     "output_type": "stream",
     "text": [
      "iteration 2, error = 5.09284\n"
     ]
    },
    {
     "name": "stdout",
     "output_type": "stream",
     "text": [
      "iteration 3, error = 0.10971\n"
     ]
    },
    {
     "name": "stdout",
     "output_type": "stream",
     "text": [
      "iteration 4, error = 0.00005\n"
     ]
    },
    {
     "name": "stdout",
     "output_type": "stream",
     "text": [
      "iteration 5, error = 0.00001\n"
     ]
    },
    {
     "name": "stdout",
     "output_type": "stream",
     "text": [
      "iteration 6, error = 0.00000\n",
      "\n",
      "Result = [1.5015959 1.4990965 1.4964362 ... 1.4844416 1.4900057 1.4991018] \n",
      "\n",
      "CPU times: user 1min, sys: 1.91 s, total: 1min 1s\n",
      "Wall time: 11.6 s\n"
     ]
    }
   ],
   "source": [
    "%%time\n",
    "p = newton(lambda p: e(p, A, b, c), init_p).block_until_ready()"
   ]
  },
  {
   "cell_type": "code",
   "execution_count": 41,
   "id": "7861facb",
   "metadata": {},
   "outputs": [
    {
     "data": {
      "text/plain": [
       "1.1920929e-07"
      ]
     },
     "execution_count": 41,
     "metadata": {},
     "output_type": "execute_result"
    }
   ],
   "source": [
    "np.max(np.abs(e(p, A, b, c)))"
   ]
  },
  {
   "cell_type": "markdown",
   "id": "77ddfd28",
   "metadata": {},
   "source": [
    "With the same tolerance, SciPy's `root` function takes much longer to run,\n",
    "even with the Jacobian supplied."
   ]
  },
  {
   "cell_type": "code",
   "execution_count": 42,
   "id": "2d926395",
   "metadata": {},
   "outputs": [
    {
     "name": "stdout",
     "output_type": "stream",
     "text": [
      "CPU times: user 2min 39s, sys: 1.68 s, total: 2min 41s\n",
      "Wall time: 2min 26s\n"
     ]
    }
   ],
   "source": [
    "%%time\n",
    "solution = root(lambda p: e(p, A, b, c),\n",
    "                init_p, \n",
    "                jac=lambda p: jax.jacobian(e)(p, A, b, c), \n",
    "                method='hybr',\n",
    "                tol=1e-5)"
   ]
  },
  {
   "cell_type": "code",
   "execution_count": 43,
   "id": "e0cf818c",
   "metadata": {},
   "outputs": [
    {
     "data": {
      "text/plain": [
       "8.34465e-07"
      ]
     },
     "execution_count": 43,
     "metadata": {},
     "output_type": "execute_result"
    }
   ],
   "source": [
    "p = solution.x\n",
    "np.max(np.abs(e(p, A, b, c)))"
   ]
  },
  {
   "cell_type": "markdown",
   "id": "b10c8ff5",
   "metadata": {},
   "source": [
    "The result is also less accurate.\n",
    "\n",
    "\n",
    "\n",
    "## Exercises\n",
    "\n",
    "```{exercise-start}\n",
    ":label: newton_ex1\n",
    "```\n",
    "\n",
    "Consider a three-dimensional extension of the Solow fixed point problem with\n",
    "\n",
    "$$\n",
    "A = \\begin{pmatrix}\n",
    "            2 & 3 & 3 \\\\\n",
    "            2 & 4 & 2 \\\\\n",
    "            1 & 5 & 1 \\\\\n",
    "        \\end{pmatrix},\n",
    "            \\quad\n",
    "s = 0.2, \\quad α = 0.5, \\quad δ = 0.8\n",
    "$$\n",
    "\n",
    "As before the law of motion is\n",
    "\n",
    "```{math}\n",
    "    k_{t+1} = g(k_t) \\quad \\text{where} \\quad\n",
    "    g(k) := sAk^\\alpha + (1-\\delta) k\n",
    "```\n",
    "\n",
    "However $k_t$ is now a $3 \\times 1$ vector.\n",
    "\n",
    "Solve for the fixed point using Newton's method with the following initial values:\n",
    "\n",
    "$$\n",
    "\\begin{aligned}\n",
    "    k1_{0} &= (1, 1, 1) \\\\\n",
    "    k2_{0} &= (3, 5, 5) \\\\\n",
    "    k3_{0} &= (50, 50, 50)\n",
    "\\end{aligned}\n",
    "$$\n",
    "\n",
    "````{hint} \n",
    ":class: dropdown\n",
    "\n",
    "- The computation of the fixed point is equivalent to computing $k^*$ such that $f(k^*) - k^* = 0$.\n",
    "\n",
    "- If you are unsure about your solution, you can start with the solved example:\n",
    "\n",
    "```{math}\n",
    "A = \\begin{pmatrix}\n",
    "            2 & 0 & 0 \\\\\n",
    "            0 & 2 & 0 \\\\\n",
    "            0 & 0 & 2 \\\\\n",
    "        \\end{pmatrix}\n",
    "```\n",
    "\n",
    "with $s = 0.3$, $α = 0.3$, and $δ = 0.4$ and starting value: \n",
    "\n",
    "\n",
    "```{math}\n",
    "k_0 = (1, 1, 1)\n",
    "```\n",
    "\n",
    "The result should converge to the [analytical solution](solved_k).\n",
    "````\n",
    "\n",
    "```{exercise-end}\n",
    "```\n",
    "\n",
    "\n",
    "```{solution-start} newton_ex1\n",
    ":class: dropdown\n",
    "```\n",
    "\n",
    "Let's first define the parameters for this problem"
   ]
  },
  {
   "cell_type": "code",
   "execution_count": 44,
   "id": "1b1b4e18",
   "metadata": {},
   "outputs": [],
   "source": [
    "A = jnp.array([[2.0, 3.0, 3.0],\n",
    "               [2.0, 4.0, 2.0],\n",
    "               [1.0, 5.0, 1.0]])\n",
    "\n",
    "s = 0.2\n",
    "α = 0.5\n",
    "δ = 0.8\n",
    "\n",
    "initLs = [jnp.ones(3),\n",
    "          jnp.array([3.0, 5.0, 5.0]),\n",
    "          jnp.repeat(50.0, 3)]"
   ]
  },
  {
   "cell_type": "markdown",
   "id": "7f97fad2",
   "metadata": {},
   "source": [
    "Then define the multivariate version of the formula for the [law of motion of captial](motion_law)"
   ]
  },
  {
   "cell_type": "code",
   "execution_count": 45,
   "id": "50da84d9",
   "metadata": {},
   "outputs": [],
   "source": [
    "def multivariate_solow(k, A=A, s=s, α=α, δ=δ):\n",
    "    return (s * jnp.dot(A, k**α) + (1 - δ) * k)"
   ]
  },
  {
   "cell_type": "markdown",
   "id": "d278d5be",
   "metadata": {},
   "source": [
    "Let's run through each starting value and see the output"
   ]
  },
  {
   "cell_type": "code",
   "execution_count": 46,
   "id": "bf48d222",
   "metadata": {},
   "outputs": [
    {
     "name": "stdout",
     "output_type": "stream",
     "text": [
      "Attempt 1: Starting value is [1. 1. 1.] \n",
      "\n"
     ]
    },
    {
     "name": "stdout",
     "output_type": "stream",
     "text": [
      "iteration 1, error = 50.49632\n",
      "iteration 2, error = 41.10939\n",
      "iteration 3, error = 4.29413\n",
      "iteration 4, error = 0.38543\n",
      "iteration 5, error = 0.00544\n",
      "iteration 6, error = 0.00000\n",
      "\n",
      "Result = [3.8405812 3.8707178 3.4109194] \n",
      "\n",
      "CPU times: user 248 ms, sys: 8.3 ms, total: 257 ms\n",
      "Wall time: 249 ms\n",
      "----------------------------------------------------------------\n",
      "Attempt 2: Starting value is [3. 5. 5.] \n",
      "\n"
     ]
    },
    {
     "name": "stdout",
     "output_type": "stream",
     "text": [
      "iteration 1, error = 2.07011\n",
      "iteration 2, error = 0.12642\n",
      "iteration 3, error = 0.00060\n",
      "iteration 4, error = 0.00000\n",
      "\n",
      "Result = [3.8405812 3.8707178 3.4109194] \n",
      "\n",
      "CPU times: user 143 ms, sys: 0 ns, total: 143 ms\n",
      "Wall time: 139 ms\n",
      "----------------------------------------------------------------\n",
      "Attempt 3: Starting value is [50. 50. 50.] \n",
      "\n"
     ]
    },
    {
     "name": "stdout",
     "output_type": "stream",
     "text": [
      "iteration 1, error = 73.00943\n"
     ]
    },
    {
     "name": "stdout",
     "output_type": "stream",
     "text": [
      "iteration 2, error = 6.49379\n",
      "iteration 3, error = 0.68070\n",
      "iteration 4, error = 0.01620\n",
      "iteration 5, error = 0.00001\n",
      "iteration 6, error = 0.00000\n",
      "\n",
      "Result = [3.8405812 3.8707182 3.4109194] \n",
      "\n",
      "CPU times: user 327 ms, sys: 4.17 ms, total: 331 ms\n",
      "Wall time: 323 ms\n",
      "----------------------------------------------------------------\n"
     ]
    }
   ],
   "source": [
    "attempt = 1\n",
    "for init in initLs:\n",
    "    print(f'Attempt {attempt}: Starting value is {init} \\n')\n",
    "\n",
    "    %time k = newton(lambda k: multivariate_solow(k) - k, \\\n",
    "                     init).block_until_ready()\n",
    "    print('-'*64)\n",
    "    attempt +=1"
   ]
  },
  {
   "cell_type": "markdown",
   "id": "bd146b68",
   "metadata": {},
   "source": [
    "We find that the results are invariant to the starting values given the well-defined property of this question.\n",
    "\n",
    "But the number of iterations it takes to converge is dependent on the starting values.\n",
    "\n",
    "Let substitute the output back to the formulate to check our last result"
   ]
  },
  {
   "cell_type": "code",
   "execution_count": 47,
   "id": "29a8d513",
   "metadata": {},
   "outputs": [
    {
     "data": {
      "text/plain": [
       "Array([0.0000000e+00, 0.0000000e+00, 2.3841858e-07], dtype=float32)"
      ]
     },
     "execution_count": 47,
     "metadata": {},
     "output_type": "execute_result"
    }
   ],
   "source": [
    "multivariate_solow(k) - k"
   ]
  },
  {
   "cell_type": "markdown",
   "id": "189e886d",
   "metadata": {},
   "source": [
    "Note the error is very small.\n",
    "\n",
    "We can also test our results on the known solution"
   ]
  },
  {
   "cell_type": "code",
   "execution_count": 48,
   "id": "8c432628",
   "metadata": {},
   "outputs": [
    {
     "name": "stdout",
     "output_type": "stream",
     "text": [
      "iteration 1, error = 1.57459\n",
      "iteration 2, error = 0.21345\n",
      "iteration 3, error = 0.00205\n",
      "iteration 4, error = 0.00000\n",
      "\n",
      "Result = [1.7846744 1.7846744 1.7846744] \n",
      "\n",
      "CPU times: user 276 ms, sys: 7.9 ms, total: 284 ms\n",
      "Wall time: 279 ms\n"
     ]
    }
   ],
   "source": [
    "A = jnp.array([[2.0, 0.0, 0.0],\n",
    "               [0.0, 2.0, 0.0],\n",
    "               [0.0, 0.0, 2.0]])\n",
    "\n",
    "s = 0.3\n",
    "α = 0.3\n",
    "δ = 0.4\n",
    "\n",
    "init = jnp.repeat(1.0, 3)\n",
    "\n",
    "\n",
    "%time k = newton(lambda k: multivariate_solow(k, A=A, s=s, α=α, δ=δ) - k, \\\n",
    "                 init).block_until_ready()"
   ]
  },
  {
   "cell_type": "markdown",
   "id": "6582248e",
   "metadata": {},
   "source": [
    "The result is very close to the ground truth but still slightly different.\n",
    "\n",
    "We can increase the precision of the floating point numbers and restrict the tolerance to obtain a more accurate approximation (see detailed discussion in the [lecture on JAX](https://python-programming.quantecon.org/jax_intro.html#differences))"
   ]
  },
  {
   "cell_type": "code",
   "execution_count": 49,
   "id": "e00786cd",
   "metadata": {},
   "outputs": [
    {
     "name": "stdout",
     "output_type": "stream",
     "text": [
      "iteration 1, error = 1.57459\n",
      "iteration 2, error = 0.21345\n",
      "iteration 3, error = 0.00205\n",
      "iteration 4, error = 0.00000\n",
      "iteration 5, error = 0.00000\n",
      "\n",
      "Result = [1.78467418 1.78467418 1.78467418] \n",
      "\n",
      "CPU times: user 265 ms, sys: 8.12 ms, total: 273 ms\n",
      "Wall time: 268 ms\n"
     ]
    }
   ],
   "source": [
    "from jax.config import config\n",
    "\n",
    "config.update(\"jax_enable_x64\", True)\n",
    "\n",
    "init = init.astype('float64')\n",
    "\n",
    "%time k = newton(lambda k: multivariate_solow(k, A=A, s=s, α=α, δ=δ) - k, \\\n",
    "                 init,\\\n",
    "                 tol=1e-7).block_until_ready()"
   ]
  },
  {
   "cell_type": "markdown",
   "id": "6edfae4b",
   "metadata": {},
   "source": [
    "We can see it steps towards a more accurate solution.\n",
    "\n",
    "```{solution-end}\n",
    "```\n",
    "\n",
    "\n",
    "```{exercise-start}\n",
    ":label: newton_ex2\n",
    "```\n",
    "\n",
    "In this exercise, let's try different initial values and check how Newton's method responds to different starting points.\n",
    "\n",
    "Let's define a three-good problem with the following default values:\n",
    "\n",
    "$$\n",
    "A = \\begin{pmatrix}\n",
    "            0.2 & 0.1 & 0.7 \\\\\n",
    "            0.3 & 0.2 & 0.5 \\\\\n",
    "            0.1 & 0.8 & 0.1 \\\\\n",
    "        \\end{pmatrix},\n",
    "            \\qquad \n",
    "b = \\begin{pmatrix}\n",
    "            1 \\\\\n",
    "            1 \\\\\n",
    "            1\n",
    "        \\end{pmatrix}\n",
    "    \\qquad \\text{and} \\qquad\n",
    "c = \\begin{pmatrix}\n",
    "            1 \\\\\n",
    "            1 \\\\\n",
    "            1\n",
    "        \\end{pmatrix}\n",
    "$$\n",
    "\n",
    "For this exercise, use the following extreme price vectors as initial values:\n",
    "\n",
    "$$\n",
    "\n",
    "\\begin{aligned}\n",
    "    p1_{0} &= (5, 5, 5) \\\\\n",
    "    p2_{0} &= (1, 1, 1) \\\\\n",
    "    p3_{0} &= (4.5, 0.1, 4)\n",
    "\\end{aligned}\n",
    "$$\n",
    "\n",
    "Set the tolerance to $0.0$ for more accurate output.\n",
    "\n",
    "\n",
    "```{hint} \n",
    ":class: dropdown\n",
    "\n",
    "Similar to [exercise 1](newton_ex1), enabling `float64` for JAX can improve the precision of our results.\n",
    "```\n",
    "\n",
    "\n",
    "```{exercise-end}\n",
    "```\n",
    "\n",
    "```{solution-start} newton_ex2\n",
    ":class: dropdown\n",
    "```\n",
    "\n",
    "Define parameters and initial values"
   ]
  },
  {
   "cell_type": "code",
   "execution_count": 50,
   "id": "fbb81365",
   "metadata": {},
   "outputs": [],
   "source": [
    "A = jnp.array([\n",
    "    [0.2, 0.1, 0.7],\n",
    "    [0.3, 0.2, 0.5],\n",
    "    [0.1, 0.8, 0.1]\n",
    "])\n",
    "\n",
    "b = jnp.array([1.0, 1.0, 1.0])\n",
    "c = jnp.array([1.0, 1.0, 1.0])\n",
    "\n",
    "initLs = [jnp.repeat(5.0, 3),\n",
    "          jnp.ones(3),\n",
    "          jnp.array([4.5, 0.1, 4.0])] "
   ]
  },
  {
   "cell_type": "markdown",
   "id": "042a22f3",
   "metadata": {},
   "source": [
    "Let’s run through each initial guess and check the output"
   ]
  },
  {
   "cell_type": "code",
   "execution_count": 51,
   "id": "343daba0",
   "metadata": {},
   "outputs": [
    {
     "name": "stdout",
     "output_type": "stream",
     "text": [
      "Attempt 1: Starting value is [5. 5. 5.] \n",
      "\n"
     ]
    },
    {
     "name": "stdout",
     "output_type": "stream",
     "text": [
      "iteration 1, error = 9.24381\n"
     ]
    },
    {
     "ename": "Exception",
     "evalue": "Solution not found with NaN generated",
     "output_type": "error",
     "traceback": [
      "\u001b[0;31m---------------------------------------------------------------------------\u001b[0m",
      "\u001b[0;31mException\u001b[0m                                 Traceback (most recent call last)",
      "\u001b[0;32m<timed exec>\u001b[0m in \u001b[0;36m<module>\u001b[0;34m\u001b[0m\n",
      "\u001b[0;32m/tmp/ipykernel_15499/3851865876.py\u001b[0m in \u001b[0;36mnewton\u001b[0;34m(f, x_0, tol, max_iter)\u001b[0m\n\u001b[1;32m     10\u001b[0m         \u001b[0my\u001b[0m \u001b[0;34m=\u001b[0m \u001b[0mq\u001b[0m\u001b[0;34m(\u001b[0m\u001b[0mx\u001b[0m\u001b[0;34m)\u001b[0m\u001b[0;34m\u001b[0m\u001b[0;34m\u001b[0m\u001b[0m\n\u001b[1;32m     11\u001b[0m         \u001b[0;32mif\u001b[0m\u001b[0;34m(\u001b[0m\u001b[0many\u001b[0m\u001b[0;34m(\u001b[0m\u001b[0mjnp\u001b[0m\u001b[0;34m.\u001b[0m\u001b[0misnan\u001b[0m\u001b[0;34m(\u001b[0m\u001b[0my\u001b[0m\u001b[0;34m)\u001b[0m\u001b[0;34m)\u001b[0m\u001b[0;34m)\u001b[0m\u001b[0;34m:\u001b[0m\u001b[0;34m\u001b[0m\u001b[0;34m\u001b[0m\u001b[0m\n\u001b[0;32m---> 12\u001b[0;31m             \u001b[0;32mraise\u001b[0m \u001b[0mException\u001b[0m\u001b[0;34m(\u001b[0m\u001b[0;34m'Solution not found with NaN generated'\u001b[0m\u001b[0;34m)\u001b[0m\u001b[0;34m\u001b[0m\u001b[0;34m\u001b[0m\u001b[0m\n\u001b[0m\u001b[1;32m     13\u001b[0m         \u001b[0merror\u001b[0m \u001b[0;34m=\u001b[0m \u001b[0mjnp\u001b[0m\u001b[0;34m.\u001b[0m\u001b[0mlinalg\u001b[0m\u001b[0;34m.\u001b[0m\u001b[0mnorm\u001b[0m\u001b[0;34m(\u001b[0m\u001b[0mx\u001b[0m \u001b[0;34m-\u001b[0m \u001b[0my\u001b[0m\u001b[0;34m)\u001b[0m\u001b[0;34m\u001b[0m\u001b[0;34m\u001b[0m\u001b[0m\n\u001b[1;32m     14\u001b[0m         \u001b[0mx\u001b[0m \u001b[0;34m=\u001b[0m \u001b[0my\u001b[0m\u001b[0;34m\u001b[0m\u001b[0;34m\u001b[0m\u001b[0m\n",
      "\u001b[0;31mException\u001b[0m: Solution not found with NaN generated"
     ]
    },
    {
     "name": "stdout",
     "output_type": "stream",
     "text": [
      "----------------------------------------------------------------\n",
      "Attempt 2: Starting value is [1. 1. 1.] \n",
      "\n"
     ]
    },
    {
     "name": "stdout",
     "output_type": "stream",
     "text": [
      "iteration 1, error = 0.73419\n",
      "iteration 2, error = 0.12472\n",
      "iteration 3, error = 0.00269\n",
      "iteration 4, error = 0.00000\n",
      "iteration 5, error = 0.00000\n",
      "iteration 6, error = 0.00000\n",
      "iteration 7, error = 0.00000\n",
      "\n",
      "Result = [1.49744442 1.49744442 1.49744442] \n",
      "\n",
      "CPU times: user 145 ms, sys: 4.22 ms, total: 149 ms\n",
      "Wall time: 143 ms\n",
      "----------------------------------------------------------------\n",
      "Attempt 3: Starting value is [4.5 0.1 4. ] \n",
      "\n"
     ]
    },
    {
     "name": "stdout",
     "output_type": "stream",
     "text": [
      "iteration 1, error = 4.89202\n",
      "iteration 2, error = 1.21206\n",
      "iteration 3, error = 0.69421\n",
      "iteration 4, error = 0.16895\n",
      "iteration 5, error = 0.00521\n",
      "iteration 6, error = 0.00000\n",
      "iteration 7, error = 0.00000\n",
      "iteration 8, error = 0.00000\n",
      "\n",
      "Result = [1.49744442 1.49744442 1.49744442] \n",
      "\n",
      "CPU times: user 144 ms, sys: 0 ns, total: 144 ms\n",
      "Wall time: 140 ms\n",
      "----------------------------------------------------------------\n"
     ]
    }
   ],
   "source": [
    "attempt = 1\n",
    "for init in initLs:\n",
    "    print(f'Attempt {attempt}: Starting value is {init} \\n')\n",
    "\n",
    "    init = init.astype('float64')\n",
    "\n",
    "    %time p = newton(lambda p: e(p, A, b, c), \\\n",
    "                 init, \\\n",
    "                 tol=0.0).block_until_ready()\n",
    "    print('-'*64)\n",
    "    attempt +=1"
   ]
  },
  {
   "cell_type": "markdown",
   "id": "80449805",
   "metadata": {},
   "source": [
    "We can find that Newton's method may fail for some starting values.\n",
    "\n",
    "Sometimes it may take a few initial guesses to achieve convergence.\n",
    "\n",
    "Substitute the result back to the formula to check our result"
   ]
  },
  {
   "cell_type": "code",
   "execution_count": 52,
   "id": "f370ab93",
   "metadata": {},
   "outputs": [
    {
     "data": {
      "text/plain": [
       "Array([0., 0., 0.], dtype=float64)"
      ]
     },
     "execution_count": 52,
     "metadata": {},
     "output_type": "execute_result"
    }
   ],
   "source": [
    "e(p, A, b, c)"
   ]
  },
  {
   "cell_type": "markdown",
   "id": "0b0de78e",
   "metadata": {},
   "source": [
    "We can see the result is very accurate.\n",
    "\n",
    "```{solution-end}\n",
    "```"
   ]
  }
 ],
 "metadata": {
  "jupytext": {
   "text_representation": {
    "extension": ".md",
    "format_name": "myst"
   }
  },
  "kernelspec": {
   "display_name": "Python 3",
   "language": "python",
   "name": "python3"
  },
  "language_info": {
   "codemirror_mode": {
    "name": "ipython",
    "version": 3
   },
   "file_extension": ".py",
   "mimetype": "text/x-python",
   "name": "python",
   "nbconvert_exporter": "python",
   "pygments_lexer": "ipython3",
   "version": "3.9.13"
  },
  "source_map": [
   10,
   73,
   82,
   129,
   131,
   135,
   139,
   143,
   151,
   154,
   183,
   187,
   194,
   199,
   214,
   225,
   236,
   240,
   244,
   249,
   251,
   298,
   302,
   306,
   309,
   313,
   346,
   349,
   399,
   418,
   439,
   446,
   448,
   536,
   539,
   563,
   570,
   575,
   580,
   587,
   608,
   611,
   615,
   618,
   622,
   631,
   636,
   647,
   649,
   653,
   656,
   660,
   663,
   667,
   669,
   688,
   702,
   708,
   712,
   715,
   738,
   758,
   761,
   765,
   770,
   772,
   791,
   804,
   808,
   811,
   815,
   817,
   823,
   828,
   830,
   836,
   845,
   848,
   926,
   938,
   942,
   945,
   949,
   958,
   966,
   968,
   974,
   988,
   994,
   1004,
   1070,
   1083,
   1087,
   1099,
   1107,
   1109
  ]
 },
 "nbformat": 4,
 "nbformat_minor": 5
}