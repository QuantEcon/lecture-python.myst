{
 "cells": [
  {
   "cell_type": "markdown",
   "id": "0e0acdcc",
   "metadata": {},
   "source": [
    "# QR Decomposition\n",
    "\n",
    "## Overview\n",
    "\n",
    "This lecture describes the QR decomposition and how it relates to\n",
    "\n",
    " * Orthogonal projection and least squares\n",
    "\n",
    " * A Gram-Schmidt process\n",
    "\n",
    " * Eigenvalues and eigenvectors\n",
    "\n",
    "\n",
    "We'll write some Python code to help consolidate our understandings.\n",
    "\n",
    "## Matrix Factorization\n",
    "\n",
    "The QR decomposition (also called the QR factorization) of a matrix is a decomposition of a matrix into the product of  an orthogonal matrix and a triangular matrix.\n",
    "\n",
    "A QR decomposition of a real  matrix $A$ \n",
    "takes the form \n",
    "\n",
    "$$\n",
    "A=QR\n",
    "$$\n",
    "\n",
    "where \n",
    "\n",
    "* $Q$ is an orthogonal matrix (so that  $Q^TQ = I$)\n",
    "\n",
    "* $R$ is an upper triangular matrix \n",
    "\n",
    "\n",
    "We'll use a **Gram-Schmidt process** to compute a  QR decomposition \n",
    "\n",
    "Because doing so is so educational, we'll  write our own Python code to do the job\n",
    "\n",
    "## Gram-Schmidt process\n",
    "\n",
    "We'll start with a **square** matrix $A$.\n",
    "\n",
    "If a square matrix $A$ is nonsingular, then a $QR$ factorization is unique.\n",
    "\n",
    "We'll deal with a rectangular matrix $A$ later.\n",
    "\n",
    "Actually, our algorithm will work with a rectangular $A$ that is not square.\n",
    "\n",
    "### Gram-Schmidt process for square $A$\n",
    "\n",
    "Here we apply a Gram-Schmidt  process to the  **columns**  of matrix $A$.\n",
    "\n",
    "In particular, let\n",
    "\n",
    "$$\n",
    "A= \\left[ \\begin{array}{c|c|c|c} a_1 & a_2 & \\cdots & a_n \\end{array} \\right]\n",
    "$$\n",
    "\n",
    "Let $|| · ||$ denote the L2 norm.\n",
    "\n",
    "The Gram-Schmidt algorithm repeatedly combines the following  two steps in a particular order\n",
    "\n",
    "*  **normalize** a vector to have unit norm\n",
    "\n",
    "*  **orthogonalize** the next vector\n",
    "\n",
    "To begin, we set $u_1 = a_1$ and then **normalize**:\n",
    "\n",
    "$$\n",
    "u_1=a_1, \\ \\ \\ e_1=\\frac{u_1}{||u_1||}\n",
    "$$\n",
    "\n",
    "We **orgonalize** first to compute $u_2$ and then **normalize** to create $e_2$:\n",
    "\n",
    "$$\n",
    "u_2=a_2-(a_2· e_1)e_1, \\ \\ \\  e_2=\\frac{u_2}{||u_2||}\n",
    "$$\n",
    "\n",
    "We invite the reader to verify that $e_1$ is orthogonal to $e_2$ by checking that\n",
    "$e_1 \\cdot e_2 = 0$.\n",
    "\n",
    "The Gram-Schmidt procedure continues iterating.\n",
    "\n",
    "Thus,  for $k= 2, \\ldots, n-1$ we construct\n",
    "\n",
    "$$\n",
    "u_{k+1}=a_{k+1}-(a_{k+1}· e_1)e_1-\\cdots-(a_{k+1}· e_k)e_k, \\ \\ \\ e_{k+1}=\\frac{u_{k+1}}{||u_{k+1}||}\n",
    "$$\n",
    "\n",
    "\n",
    "Here $(a_j \\cdot e_i)$ can be interpreted as the linear least squares **regression coefficient** of $a_j$ on $e_i$ \n",
    "\n",
    "* it is the inner product of $a_j$ and $e_i$ divided by the inner product of $e_i$ where \n",
    "    $e_i \\cdot e_i = 1$, as *normalization* has assured us.\n",
    "    \n",
    "* this regression coefficient has an interpretation as being  a **covariance** divided by a **variance**\n",
    "   \n",
    "\n",
    "It can  be verified that\n",
    "\n",
    "$$\n",
    "A= \\left[ \\begin{array}{c|c|c|c} a_1 & a_2 & \\cdots & a_n \\end{array} \\right]=\n",
    "\\left[ \\begin{array}{c|c|c|c} e_1 & e_2 & \\cdots & e_n \\end{array} \\right]\n",
    "\\left[ \\begin{matrix} a_1·e_1 & a_2·e_1 & \\cdots & a_n·e_1\\\\ 0 & a_2·e_2 & \\cdots & a_n·e_2 \n",
    "\\\\ \\vdots & \\vdots & \\ddots & \\vdots \\\\ 0 & 0 & \\cdots & a_n·e_n \\end{matrix} \\right]\n",
    "$$\n",
    "\n",
    "Thus, we have constructed the decomposision\n",
    "\n",
    "$$ \n",
    "A = Q R\n",
    "$$\n",
    "\n",
    "where \n",
    "\n",
    "$$ \n",
    "Q = \\left[ \\begin{array}{c|c|c|c} a_1 & a_2 & \\cdots & a_n \\end{array} \\right]=\n",
    "\\left[ \\begin{array}{c|c|c|c} e_1 & e_2 & \\cdots & e_n \\end{array} \\right]\n",
    "$$\n",
    "\n",
    "and \n",
    "\n",
    "$$\n",
    "R = \\left[ \\begin{matrix} a_1·e_1 & a_2·e_1 & \\cdots & a_n·e_1\\\\ 0 & a_2·e_2 & \\cdots & a_n·e_2 \n",
    "\\\\ \\vdots & \\vdots & \\ddots & \\vdots \\\\ 0 & 0 & \\cdots & a_n·e_n \\end{matrix} \\right]\n",
    "$$\n",
    "\n",
    "### $A$ not square \n",
    "\n",
    "Now suppose that $A$ is an $n \\times m$ matrix where $m > n$.  \n",
    "\n",
    "Then a $QR$ decomposition is\n",
    "\n",
    "$$\n",
    "A= \\left[ \\begin{array}{c|c|c|c} a_1 & a_2 & \\cdots & a_m \\end{array} \\right]=\\left[ \\begin{array}{c|c|c|c} e_1 & e_2 & \\cdots & e_n \\end{array} \\right]\n",
    "\\left[ \\begin{matrix} a_1·e_1 & a_2·e_1 & \\cdots & a_n·e_1 & a_{n+1}\\cdot e_1 & \\cdots & a_{m}\\cdot e_1 \\\\\n",
    "0 & a_2·e_2 & \\cdots & a_n·e_2 & a_{n+1}\\cdot e_2 & \\cdots & a_{m}\\cdot e_2 \\\\ \\vdots & \\vdots & \\ddots & \\quad  \\vdots & \\vdots & \\ddots & \\vdots\n",
    "\\\\ 0 & 0 & \\cdots & a_n·e_n & a_{n+1}\\cdot e_n & \\cdots & a_{m}\\cdot e_n \\end{matrix} \\right]\n",
    "$$\n",
    "\n",
    "which implies that\n",
    "\n",
    "\\begin{align*}\n",
    "a_1 & = (a_1\\cdot e_1) e_1 \\cr\n",
    "a_2 & = (a_2\\cdot e_1) e_1 + (a_2\\cdot e_2) e_2 \\cr\n",
    "\\vdots & \\quad \\vdots \\cr\n",
    "a_n & = (a_n\\cdot e_1) e_1 + (a_n\\cdot e_2) e_2 + \\cdots + (a_n \\cdot e_n) e_n  \\cr\n",
    "a_{n+1} & = (a_{n+1}\\cdot e_1) e_1 + (a_{n+1}\\cdot e_2) e_2 + \\cdots + (a_{n+1}\\cdot e_n) e_n  \\cr\n",
    "\\vdots & \\quad \\vdots \\cr\n",
    "a_m & = (a_m\\cdot e_1) e_1 + (a_m\\cdot e_2) e_2 + \\cdots + (a_m \\cdot e_n) e_n  \\cr\n",
    "\\end{align*}\n",
    "\n",
    "## Some Code\n",
    "\n",
    "Now let's write some homemade Python code to implement a QR decomposition by deploying the  Gram-Schmidt process described above."
   ]
  },
  {
   "cell_type": "code",
   "execution_count": 1,
   "id": "09521e7d",
   "metadata": {},
   "outputs": [],
   "source": [
    "import numpy as np\n",
    "from scipy.linalg import qr"
   ]
  },
  {
   "cell_type": "code",
   "execution_count": 2,
   "id": "8acb5bd9",
   "metadata": {},
   "outputs": [],
   "source": [
    "def QR_Decomposition(A):\n",
    "    n, m = A.shape # get the shape of A\n",
    "\n",
    "    Q = np.empty((n, n)) # initialize matrix Q\n",
    "    u = np.empty((n, n)) # initialize matrix u\n",
    "\n",
    "    u[:, 0] = A[:, 0]\n",
    "    Q[:, 0] = u[:, 0] / np.linalg.norm(u[:, 0])\n",
    "\n",
    "    for i in range(1, n):\n",
    "\n",
    "        u[:, i] = A[:, i]\n",
    "        for j in range(i):\n",
    "            u[:, i] -= (A[:, i] @ Q[:, j]) * Q[:, j] # get each u vector\n",
    "\n",
    "        Q[:, i] = u[:, i] / np.linalg.norm(u[:, i]) # compute each e vetor\n",
    "\n",
    "    R = np.zeros((n, m))\n",
    "    for i in range(n):\n",
    "        for j in range(i, m):\n",
    "            R[i, j] = A[:, j] @ Q[:, i]\n",
    "\n",
    "    return Q, R"
   ]
  },
  {
   "cell_type": "markdown",
   "id": "a2690ce1",
   "metadata": {},
   "source": [
    "The preceding code is fine but can benefit from some further housekeeping.\n",
    "\n",
    "We want to do this because later in this notebook we want to compare results from using our homemade code above with the code for a QR that the Python `scipy` package delivers.\n",
    "\n",
    "There can be be sign differences between the $Q$ and $R$ matrices produced by different numerical algorithms.\n",
    "\n",
    "All of these are valid QR decompositions because of how the  sign differences cancel out when we compute $QR$.\n",
    "\n",
    "However, to make the results from  our homemade function and the QR module in `scipy` comparable, let's require that $Q$ have positive diagonal entries.\n",
    "\n",
    "We do this by adjusting  the signs of the columns in $Q$ and the rows in $R$ appropriately.\n",
    "\n",
    "To accomplish this we'll define a pair of functions."
   ]
  },
  {
   "cell_type": "code",
   "execution_count": 3,
   "id": "7149000b",
   "metadata": {},
   "outputs": [],
   "source": [
    "def diag_sign(A):\n",
    "    \"Compute the signs of the diagonal of matrix A\"\n",
    "\n",
    "    D = np.diag(np.sign(np.diag(A)))\n",
    "\n",
    "    return D\n",
    "\n",
    "def adjust_sign(Q, R):\n",
    "    \"\"\"\n",
    "    Adjust the signs of the columns in Q and rows in R to\n",
    "    impose positive diagonal of Q\n",
    "    \"\"\"\n",
    "\n",
    "    D = diag_sign(Q)\n",
    "\n",
    "    Q[:, :] = Q @ D\n",
    "    R[:, :] = D @ R\n",
    "\n",
    "    return Q, R"
   ]
  },
  {
   "cell_type": "markdown",
   "id": "947ab6ab",
   "metadata": {},
   "source": [
    "## Example\n",
    "\n",
    "Now let's do an example."
   ]
  },
  {
   "cell_type": "code",
   "execution_count": 4,
   "id": "18770c22",
   "metadata": {},
   "outputs": [
    {
     "data": {
      "text/plain": [
       "array([[1., 1., 0.],\n",
       "       [1., 0., 1.],\n",
       "       [0., 1., 1.]])"
      ]
     },
     "execution_count": 4,
     "metadata": {},
     "output_type": "execute_result"
    }
   ],
   "source": [
    "A = np.array([[1.0, 1.0, 0.0], [1.0, 0.0, 1.0], [0.0, 1.0, 1.0]])\n",
    "# A = np.array([[1.0, 0.5, 0.2], [0.5, 0.5, 1.0], [0.0, 1.0, 1.0]])\n",
    "# A = np.array([[1.0, 0.5, 0.2], [0.5, 0.5, 1.0]])\n",
    "\n",
    "A"
   ]
  },
  {
   "cell_type": "code",
   "execution_count": 5,
   "id": "fb49ecad",
   "metadata": {},
   "outputs": [],
   "source": [
    "Q, R = adjust_sign(*QR_Decomposition(A))"
   ]
  },
  {
   "cell_type": "code",
   "execution_count": 6,
   "id": "314a03c8",
   "metadata": {},
   "outputs": [
    {
     "data": {
      "text/plain": [
       "array([[ 0.70710678, -0.40824829, -0.57735027],\n",
       "       [ 0.70710678,  0.40824829,  0.57735027],\n",
       "       [ 0.        , -0.81649658,  0.57735027]])"
      ]
     },
     "execution_count": 6,
     "metadata": {},
     "output_type": "execute_result"
    }
   ],
   "source": [
    "Q"
   ]
  },
  {
   "cell_type": "code",
   "execution_count": 7,
   "id": "8f6c1910",
   "metadata": {},
   "outputs": [
    {
     "data": {
      "text/plain": [
       "array([[ 1.41421356,  0.70710678,  0.70710678],\n",
       "       [ 0.        , -1.22474487, -0.40824829],\n",
       "       [ 0.        ,  0.        ,  1.15470054]])"
      ]
     },
     "execution_count": 7,
     "metadata": {},
     "output_type": "execute_result"
    }
   ],
   "source": [
    "R"
   ]
  },
  {
   "cell_type": "markdown",
   "id": "25afeac8",
   "metadata": {},
   "source": [
    "Let's compare outcomes  with what the `scipy` package produces"
   ]
  },
  {
   "cell_type": "code",
   "execution_count": 8,
   "id": "26e66ccb",
   "metadata": {},
   "outputs": [],
   "source": [
    "Q_scipy, R_scipy = adjust_sign(*qr(A))"
   ]
  },
  {
   "cell_type": "code",
   "execution_count": 9,
   "id": "e459e03e",
   "metadata": {},
   "outputs": [
    {
     "name": "stdout",
     "output_type": "stream",
     "text": [
      "Our Q: \n",
      " [[ 0.70710678 -0.40824829 -0.57735027]\n",
      " [ 0.70710678  0.40824829  0.57735027]\n",
      " [ 0.         -0.81649658  0.57735027]]\n",
      "\n",
      "\n",
      "Scipy Q: \n",
      " [[ 0.70710678 -0.40824829 -0.57735027]\n",
      " [ 0.70710678  0.40824829  0.57735027]\n",
      " [ 0.         -0.81649658  0.57735027]]\n"
     ]
    }
   ],
   "source": [
    "print('Our Q: \\n', Q)\n",
    "print('\\n')\n",
    "print('Scipy Q: \\n', Q_scipy)"
   ]
  },
  {
   "cell_type": "code",
   "execution_count": 10,
   "id": "09649888",
   "metadata": {},
   "outputs": [
    {
     "name": "stdout",
     "output_type": "stream",
     "text": [
      "Our R: \n",
      " [[ 1.41421356  0.70710678  0.70710678]\n",
      " [ 0.         -1.22474487 -0.40824829]\n",
      " [ 0.          0.          1.15470054]]\n",
      "\n",
      "\n",
      "Scipy R: \n",
      " [[ 1.41421356  0.70710678  0.70710678]\n",
      " [ 0.         -1.22474487 -0.40824829]\n",
      " [ 0.          0.          1.15470054]]\n"
     ]
    }
   ],
   "source": [
    "print('Our R: \\n', R)\n",
    "print('\\n')\n",
    "print('Scipy R: \\n', R_scipy)"
   ]
  },
  {
   "cell_type": "markdown",
   "id": "a0eb160f",
   "metadata": {},
   "source": [
    "The above outcomes give us the good news that our homemade function agrees with what\n",
    "scipy produces.\n",
    "\n",
    "\n",
    "Now let's do a QR decomposition for a rectangular matrix $A$ that is $n \\times m$ with \n",
    "$m > n$."
   ]
  },
  {
   "cell_type": "code",
   "execution_count": 11,
   "id": "18394c8f",
   "metadata": {},
   "outputs": [],
   "source": [
    "A = np.array([[1, 3, 4], [2, 0, 9]])"
   ]
  },
  {
   "cell_type": "code",
   "execution_count": 12,
   "id": "995cd6c1",
   "metadata": {},
   "outputs": [
    {
     "data": {
      "text/plain": [
       "(array([[ 0.4472136 , -0.89442719],\n",
       "        [ 0.89442719,  0.4472136 ]]),\n",
       " array([[ 2.23606798,  1.34164079,  9.8386991 ],\n",
       "        [ 0.        , -2.68328157,  0.4472136 ]]))"
      ]
     },
     "execution_count": 12,
     "metadata": {},
     "output_type": "execute_result"
    }
   ],
   "source": [
    "Q, R = adjust_sign(*QR_Decomposition(A))\n",
    "Q, R"
   ]
  },
  {
   "cell_type": "code",
   "execution_count": 13,
   "id": "2f09455d",
   "metadata": {},
   "outputs": [
    {
     "data": {
      "text/plain": [
       "(array([[ 0.4472136 , -0.89442719],\n",
       "        [ 0.89442719,  0.4472136 ]]),\n",
       " array([[ 2.23606798,  1.34164079,  9.8386991 ],\n",
       "        [ 0.        , -2.68328157,  0.4472136 ]]))"
      ]
     },
     "execution_count": 13,
     "metadata": {},
     "output_type": "execute_result"
    }
   ],
   "source": [
    "Q_scipy, R_scipy = adjust_sign(*qr(A))\n",
    "Q_scipy, R_scipy"
   ]
  },
  {
   "cell_type": "markdown",
   "id": "5e64c910",
   "metadata": {},
   "source": [
    "## Using QR Decomposition to Compute Eigenvalues\n",
    "\n",
    "Now for a useful  fact about the QR algorithm.  \n",
    "\n",
    "The following iterations on the QR decomposition can be used to compute **eigenvalues**\n",
    "of a **square** matrix $A$.\n",
    "\n",
    "Here is the algorithm:\n",
    "\n",
    "1. Set $A_0 = A$ and form $A_0 = Q_0 R_0$\n",
    "\n",
    "2. Form $A_1 = R_0 Q_0 $ . Note that $A_1$ is similar to $A_0$ (easy to verify) and so has the same eigenvalues.\n",
    "\n",
    "3. Form $A_1 = Q_1 R_1$ (i.e., form the $QR$ decomposition of $A_1$).\n",
    "\n",
    "4. Form $ A_2 = R_1 Q_1 $ and then $A_2 = Q_2 R_2$  .\n",
    "\n",
    "5. Iterate to convergence.\n",
    "\n",
    "6. Compute eigenvalues of $A$ and compare them to the diagonal values of the limiting $A_n$ found from this process.\n",
    "\n",
    "```{todo}\n",
    "@mmcky to migrate this to use [sphinx-proof](https://sphinx-proof.readthedocs.io/en/latest/syntax.html#algorithms)\n",
    "```\n",
    "\n",
    "**Remark:** this algorithm is close to one of the most efficient ways of computing eigenvalues!\n",
    "\n",
    "Let's write some Python code to try out the algorithm"
   ]
  },
  {
   "cell_type": "code",
   "execution_count": 14,
   "id": "e9e6f906",
   "metadata": {},
   "outputs": [],
   "source": [
    "def QR_eigvals(A, tol=1e-12, maxiter=1000):\n",
    "    \"Find the eigenvalues of A using QR decomposition.\"\n",
    "\n",
    "    A_old = np.copy(A)\n",
    "    A_new = np.copy(A)\n",
    "\n",
    "    diff = np.inf\n",
    "    i = 0\n",
    "    while (diff > tol) and (i < maxiter):\n",
    "        A_old[:, :] = A_new\n",
    "        Q, R = QR_Decomposition(A_old)\n",
    "\n",
    "        A_new[:, :] = R @ Q\n",
    "\n",
    "        diff = np.abs(A_new - A_old).max()\n",
    "        i += 1\n",
    "\n",
    "    eigvals = np.diag(A_new)\n",
    "\n",
    "    return eigvals"
   ]
  },
  {
   "cell_type": "markdown",
   "id": "8f125a6b",
   "metadata": {},
   "source": [
    "Now let's try the code and compare the results with what `scipy.linalg.eigvals` gives us\n",
    "\n",
    "Here goes"
   ]
  },
  {
   "cell_type": "code",
   "execution_count": 15,
   "id": "c9ee8166",
   "metadata": {},
   "outputs": [],
   "source": [
    "# experiment this with one random A matrix\n",
    "A = np.random.random((3, 3))"
   ]
  },
  {
   "cell_type": "code",
   "execution_count": 16,
   "id": "b2dcafed",
   "metadata": {},
   "outputs": [
    {
     "data": {
      "text/plain": [
       "[-0.48419112423877386, 0.1719006466430886, 1.654323448769855]"
      ]
     },
     "execution_count": 16,
     "metadata": {},
     "output_type": "execute_result"
    }
   ],
   "source": [
    "sorted(QR_eigvals(A))"
   ]
  },
  {
   "cell_type": "markdown",
   "id": "d37ce6d5",
   "metadata": {},
   "source": [
    "Compare with the `scipy` package."
   ]
  },
  {
   "cell_type": "code",
   "execution_count": 17,
   "id": "ecab1988",
   "metadata": {},
   "outputs": [
    {
     "data": {
      "text/plain": [
       "[-0.4841911242387729, 0.17190064664308663, 1.6543234487698564]"
      ]
     },
     "execution_count": 17,
     "metadata": {},
     "output_type": "execute_result"
    }
   ],
   "source": [
    "sorted(np.linalg.eigvals(A))"
   ]
  },
  {
   "cell_type": "markdown",
   "id": "0153ece6",
   "metadata": {},
   "source": [
    "## $QR$ and PCA\n",
    "\n",
    "There are interesting connections between the $QR$ decomposition and principal components analysis (PCA).\n",
    "\n",
    "Here are  some.\n",
    "\n",
    "1.  Let $X'$ be a $k \\times n$ random matrix where the $j$th column is a random draw\n",
    "from ${\\mathcal N}(\\mu, \\Sigma)$ where $\\mu$ is $k \\times 1$ vector of means and $\\Sigma$ is a $k \\times k$\n",
    "covariance matrix.  We want $n > > k$ -- this is an \"econometrics example\".\n",
    "\n",
    "2. Form $X' = Q R $ where $Q $ is $k \\times k$ and $R$ is $k \\times n$.\n",
    "\n",
    "3. Form the eigenvalues of $ R R'$, i.e., we'll compute $R R' = \\tilde P \\Lambda \\tilde P' $.\n",
    "\n",
    "4. Form $X' X = Q \\tilde P \\Lambda \\tilde P' Q'$ and compare it with the eigen decomposition\n",
    "$ X'X = P \\hat \\Lambda P'$.  \n",
    "\n",
    "5. It will turn out that  that $\\Lambda = \\hat \\Lambda$ and that $P = Q \\tilde P$.\n",
    "\n",
    "\n",
    "Let's verify conjecture 5 with some Python code.\n",
    "\n",
    "Start by simulating a random $\\left(n, k\\right)$ matrix $X$."
   ]
  },
  {
   "cell_type": "code",
   "execution_count": 18,
   "id": "f50bec5f",
   "metadata": {},
   "outputs": [],
   "source": [
    "k = 5\n",
    "n = 1000\n",
    "\n",
    "# generate some random moments\n",
    "𝜇 = np.random.random(size=k)\n",
    "C = np.random.random((k, k))\n",
    "Σ = C.T @ C"
   ]
  },
  {
   "cell_type": "code",
   "execution_count": 19,
   "id": "d893dc6b",
   "metadata": {},
   "outputs": [],
   "source": [
    "# X is random matrix where each column follows multivariate normal dist.\n",
    "X = np.random.multivariate_normal(𝜇, Σ, size=n)"
   ]
  },
  {
   "cell_type": "code",
   "execution_count": 20,
   "id": "f8704515",
   "metadata": {},
   "outputs": [
    {
     "data": {
      "text/plain": [
       "(1000, 5)"
      ]
     },
     "execution_count": 20,
     "metadata": {},
     "output_type": "execute_result"
    }
   ],
   "source": [
    "X.shape"
   ]
  },
  {
   "cell_type": "markdown",
   "id": "c59f9d74",
   "metadata": {},
   "source": [
    "Let's apply the QR decomposition to $X^{\\prime}$."
   ]
  },
  {
   "cell_type": "code",
   "execution_count": 21,
   "id": "34e83d5e",
   "metadata": {},
   "outputs": [],
   "source": [
    "Q, R = adjust_sign(*QR_Decomposition(X.T))"
   ]
  },
  {
   "cell_type": "markdown",
   "id": "606f8985",
   "metadata": {},
   "source": [
    "Check the shapes of $Q$ and $R$."
   ]
  },
  {
   "cell_type": "code",
   "execution_count": 22,
   "id": "69fed4a6",
   "metadata": {},
   "outputs": [
    {
     "data": {
      "text/plain": [
       "((5, 5), (5, 1000))"
      ]
     },
     "execution_count": 22,
     "metadata": {},
     "output_type": "execute_result"
    }
   ],
   "source": [
    "Q.shape, R.shape"
   ]
  },
  {
   "cell_type": "markdown",
   "id": "dcdc2516",
   "metadata": {},
   "source": [
    "Now we can construct $R R^{\\prime}=\\tilde{P} \\Lambda \\tilde{P}^{\\prime}$ and form an eigen decomposition."
   ]
  },
  {
   "cell_type": "code",
   "execution_count": 23,
   "id": "121806de",
   "metadata": {},
   "outputs": [],
   "source": [
    "RR = R @ R.T\n",
    "\n",
    "𝜆, P_tilde = np.linalg.eigh(RR)\n",
    "Λ = np.diag(𝜆)"
   ]
  },
  {
   "cell_type": "markdown",
   "id": "bb0fa45d",
   "metadata": {},
   "source": [
    "We can also apply the decomposition to $X^{\\prime} X=P \\hat{\\Lambda} P^{\\prime}$."
   ]
  },
  {
   "cell_type": "code",
   "execution_count": 24,
   "id": "5d4e22d3",
   "metadata": {},
   "outputs": [],
   "source": [
    "XX = X.T @ X\n",
    "\n",
    "𝜆_hat, P = np.linalg.eigh(XX)\n",
    "Λ_hat = np.diag(𝜆_hat)"
   ]
  },
  {
   "cell_type": "markdown",
   "id": "20682a9b",
   "metadata": {},
   "source": [
    "Compare the eigenvalues which are on the diagnoals of $\\Lambda$ and $\\hat{\\Lambda}$."
   ]
  },
  {
   "cell_type": "code",
   "execution_count": 25,
   "id": "5c049cc0",
   "metadata": {},
   "outputs": [
    {
     "data": {
      "text/plain": [
       "(array([  31.3929165 ,  158.00015006,  241.82081556, 1432.3960187 ,\n",
       "        8157.75691427]),\n",
       " array([  31.3929165 ,  158.00015006,  241.82081556, 1432.3960187 ,\n",
       "        8157.75691427]))"
      ]
     },
     "execution_count": 25,
     "metadata": {},
     "output_type": "execute_result"
    }
   ],
   "source": [
    "𝜆, 𝜆_hat"
   ]
  },
  {
   "cell_type": "markdown",
   "id": "cdc40e22",
   "metadata": {},
   "source": [
    "Let's compare $P$ and $Q \\tilde{P}$. \n",
    "\n",
    "Again we need to be careful about sign differences between the columns of $P$ and $Q\\tilde{P}$."
   ]
  },
  {
   "cell_type": "code",
   "execution_count": 26,
   "id": "e9e74cf8",
   "metadata": {},
   "outputs": [
    {
     "data": {
      "text/plain": [
       "8.93729534823251e-15"
      ]
     },
     "execution_count": 26,
     "metadata": {},
     "output_type": "execute_result"
    }
   ],
   "source": [
    "QP_tilde = Q @ P_tilde\n",
    "\n",
    "np.abs(P @ diag_sign(P) - QP_tilde @ diag_sign(QP_tilde)).max()"
   ]
  },
  {
   "cell_type": "markdown",
   "id": "3ffcee9e",
   "metadata": {},
   "source": [
    "Let's verify that $X^{\\prime}X$ can be decomposed as $Q \\tilde{P} \\Lambda \\tilde{P}^{\\prime} Q^{\\prime}$."
   ]
  },
  {
   "cell_type": "code",
   "execution_count": 27,
   "id": "a484ceae",
   "metadata": {},
   "outputs": [],
   "source": [
    "QPΛPQ = Q @ P_tilde @ Λ @ P_tilde.T @ Q.T"
   ]
  },
  {
   "cell_type": "code",
   "execution_count": 28,
   "id": "a82d63f8",
   "metadata": {},
   "outputs": [
    {
     "data": {
      "text/plain": [
       "9.549694368615746e-12"
      ]
     },
     "execution_count": 28,
     "metadata": {},
     "output_type": "execute_result"
    }
   ],
   "source": [
    "np.abs(QPΛPQ - XX).max()"
   ]
  }
 ],
 "metadata": {
  "jupytext": {
   "text_representation": {
    "extension": ".md",
    "format_name": "myst",
    "format_version": 0.13,
    "jupytext_version": "1.10.3"
   }
  },
  "kernelspec": {
   "display_name": "Python 3",
   "language": "python",
   "name": "python3"
  },
  "language_info": {
   "codemirror_mode": {
    "name": "ipython",
    "version": 3
   },
   "file_extension": ".py",
   "mimetype": "text/x-python",
   "name": "python",
   "nbconvert_exporter": "python",
   "pygments_lexer": "ipython3",
   "version": "3.9.12"
  },
  "source_map": [
   12,
   169,
   174,
   198,
   214,
   234,
   240,
   248,
   252,
   256,
   258,
   262,
   266,
   272,
   276,
   285,
   289,
   294,
   297,
   328,
   349,
   355,
   360,
   362,
   366,
   368,
   394,
   404,
   409,
   411,
   415,
   417,
   421,
   423,
   427,
   432,
   436,
   441,
   445,
   447,
   453,
   457,
   461,
   465
  ]
 },
 "nbformat": 4,
 "nbformat_minor": 5
}