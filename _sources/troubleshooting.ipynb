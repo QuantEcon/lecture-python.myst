{
 "cells": [
  {
   "cell_type": "markdown",
   "id": "14eb544b",
   "metadata": {},
   "source": [
    "(troubleshooting)=\n",
    "```{raw} html\n",
    "<div id=\"qe-notebook-header\" align=\"right\" style=\"text-align:right;\">\n",
    "        <a href=\"https://quantecon.org/\" title=\"quantecon.org\">\n",
    "                <img style=\"width:250px;display:inline;\" width=\"250px\" src=\"https://assets.quantecon.org/img/qe-menubar-logo.svg\" alt=\"QuantEcon\">\n",
    "        </a>\n",
    "</div>\n",
    "```\n",
    "\n",
    "# Troubleshooting\n",
    "\n",
    "```{contents} Contents\n",
    ":depth: 2\n",
    "```\n",
    "\n",
    "This page is for readers experiencing errors when running the code from the lectures.\n",
    "\n",
    "## Fixing Your Local Environment\n",
    "\n",
    "The basic assumption of the lectures is that code in a lecture should execute whenever\n",
    "\n",
    "1. it is executed in a Jupyter notebook and\n",
    "1. the notebook is running on a machine with the latest version of Anaconda Python.\n",
    "\n",
    "You have installed Anaconda, haven't you, following the instructions in [this lecture](https://python-programming.quantecon.org/getting_started.html)?\n",
    "\n",
    "Assuming that you have, the most common source of problems for our readers is that their Anaconda distribution is not up to date.\n",
    "\n",
    "[Here's a useful article](https://www.anaconda.com/blog/keeping-anaconda-date)\n",
    "on how to update Anaconda.\n",
    "\n",
    "Another option is to simply remove Anaconda and reinstall.\n",
    "\n",
    "You also need to keep the external code libraries, such as [QuantEcon.py](https://quantecon.org/quantecon-py) up to date.\n",
    "\n",
    "For this task you can either\n",
    "\n",
    "* use conda install -y quantecon on the command line, or\n",
    "* execute !conda install -y quantecon within a Jupyter notebook.\n",
    "\n",
    "If your local environment is still not working you can do two things.\n",
    "\n",
    "First, you can use a remote machine instead, by clicking on the Launch Notebook icon available for each lecture\n",
    "\n",
    "```{image} _static/lecture_specific/troubleshooting/launch.png\n",
    "\n",
    "```\n",
    "\n",
    "Second, you can report an issue, so we can try to fix your local set up.\n",
    "\n",
    "We like getting feedback on the lectures so please don't hesitate to get in\n",
    "touch.\n",
    "\n",
    "## Reporting an Issue\n",
    "\n",
    "One way to give feedback is to raise an issue through our [issue tracker](https://github.com/QuantEcon/lecture-python/issues).\n",
    "\n",
    "Please be as specific as possible.  Tell us where the problem is and as much\n",
    "detail about your local set up as you can provide.\n",
    "\n",
    "Another feedback option is to use our [discourse forum](https://discourse.quantecon.org/).\n",
    "\n",
    "Finally, you can provide direct feedback to [contact@quantecon.org](mailto:contact@quantecon.org)"
   ]
  }
 ],
 "metadata": {
  "jupytext": {
   "text_representation": {
    "extension": ".md",
    "format_name": "myst"
   }
  },
  "kernelspec": {
   "display_name": "Python 3",
   "language": "python",
   "name": "python3"
  },
  "language_info": {
   "codemirror_mode": {
    "name": "ipython",
    "version": 3
   },
   "file_extension": ".py",
   "mimetype": "text/x-python",
   "name": "python",
   "nbconvert_exporter": "python",
   "pygments_lexer": "ipython3",
   "version": "3.9.12"
  },
  "source_map": [
   10
  ]
 },
 "nbformat": 4,
 "nbformat_minor": 5
}