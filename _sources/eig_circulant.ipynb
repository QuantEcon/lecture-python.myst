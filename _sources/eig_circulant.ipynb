{
 "cells": [
  {
   "cell_type": "markdown",
   "id": "7e843a8c",
   "metadata": {},
   "source": [
    "# Circulant Matrices\n",
    "\n",
    "## Overview\n",
    "\n",
    "This lecture describes circulant matrices and some of their properties.\n",
    "\n",
    "Circulant matrices have a special structure that connects them to  useful concepts\n",
    "including\n",
    "\n",
    "  * convolution\n",
    "  * Fourier transforms\n",
    "  * permutation matrices\n",
    "\n",
    "Because of these connections, circulant matrices are widely used  in machine learning, for example, in image processing.\n",
    "\n",
    "\n",
    "We begin by importing some Python packages"
   ]
  },
  {
   "cell_type": "code",
   "execution_count": 1,
   "id": "cfaac7bb",
   "metadata": {},
   "outputs": [],
   "source": [
    "import numpy as np\n",
    "from numba import njit\n",
    "import matplotlib.pyplot as plt\n",
    "%matplotlib inline"
   ]
  },
  {
   "cell_type": "code",
   "execution_count": 2,
   "id": "63c934f0",
   "metadata": {},
   "outputs": [],
   "source": [
    "np.set_printoptions(precision=3, suppress=True)"
   ]
  },
  {
   "cell_type": "markdown",
   "id": "abe51eed",
   "metadata": {},
   "source": [
    "## Constructing a Circulant Matrix\n",
    "\n",
    "To construct an $N \\times N$ circulant matrix, we  need only the first row, say,  \n",
    "\n",
    "$$ \\begin{bmatrix} c_{0} & c_{1} & c_{2} & c_{3} & c_{4} & \\cdots & c_{N-1} \\end{bmatrix} .$$\n",
    "\n",
    "After setting entries in the first row, the remaining rows of a circulant matrix are determined as\n",
    "follows:\n",
    "\n",
    "$$\n",
    "C=\\left[\\begin{array}{ccccccc}\n",
    "c_{0} & c_{1} & c_{2} & c_{3} & c_{4} & \\cdots & c_{N-1}\\\\\n",
    "c_{N-1} & c_{0} & c_{1} & c_{2} & c_{3} & \\cdots & c_{N-2}\\\\\n",
    "c_{N-2} & c_{N-1} & c_{0} & c_{1} & c_{2} & \\cdots & c_{N-3}\\\\\n",
    "\\vdots & \\vdots & \\vdots & \\vdots & \\vdots & \\vdots & \\vdots\\\\\n",
    "c_{3} & c_{4} & c_{5} & c_{6} & c_{7} & \\cdots & c_{2}\\\\\n",
    "c_{2} & c_{3} & c_{4} & c_{5} & c_{6} & \\cdots & c_{1}\\\\\n",
    "c_{1} & c_{2} & c_{3} & c_{4} & c_{5} & \\cdots & c_{0}\n",
    "\\end{array}\\right]\n",
    "$$ (eqn:circulant)\n",
    "\n",
    "It is also possible to construct a circulant matrix by creating the transpose of the above matrix, in which case only the\n",
    "first column needs to be specified.\n",
    "\n",
    "Let's write some Python code to generate a circulant matrix."
   ]
  },
  {
   "cell_type": "code",
   "execution_count": 3,
   "id": "b5b9ca0a",
   "metadata": {},
   "outputs": [],
   "source": [
    "@njit\n",
    "def construct_cirlulant(row):\n",
    "\n",
    "    N = row.size\n",
    "    \n",
    "    C = np.empty((N, N))\n",
    "\n",
    "    for i in range(N):\n",
    "\n",
    "        C[i, i:] = row[:N-i]\n",
    "        C[i, :i] = row[N-i:]\n",
    "\n",
    "    return C"
   ]
  },
  {
   "cell_type": "code",
   "execution_count": 4,
   "id": "9686a92f",
   "metadata": {},
   "outputs": [
    {
     "data": {
      "text/plain": [
       "array([[1., 2., 3.],\n",
       "       [3., 1., 2.],\n",
       "       [2., 3., 1.]])"
      ]
     },
     "execution_count": 4,
     "metadata": {},
     "output_type": "execute_result"
    }
   ],
   "source": [
    "# a simple case when N = 3\n",
    "construct_cirlulant(np.array([1., 2., 3.]))"
   ]
  },
  {
   "cell_type": "markdown",
   "id": "129bc357",
   "metadata": {},
   "source": [
    "### Some Properties of Circulant Matrices\n",
    "\n",
    "Here are some useful properties:\n",
    "\n",
    "Suppose that $A$ and $B$ are both circulant matrices. Then it can be verified that\n",
    "\n",
    " * The transpose of a circulant matrix is a circulant matrix.\n",
    "\n",
    "\n",
    " \n",
    "  * $A + B$ is a circulant matrix\n",
    "  * $A B$ is a circulant matrix\n",
    "  * $A B = B A$ \n",
    "\n",
    "Now consider a circulant matrix with first row \n",
    "\n",
    "  $$  c = \\begin{bmatrix} c_0 & c_1 & \\cdots & c_{N-1} \\end{bmatrix} $$\n",
    "\n",
    " and consider a vector \n",
    "\n",
    " $$ a = \\begin{bmatrix} a_0 & a_1 & \\cdots  &  a_{N-1} \\end{bmatrix} $$\n",
    "\n",
    " The **convolution** of  vectors $c$ and $a$ is defined   as the vector $b = c * a $  with components\n",
    "\n",
    "$$\n",
    " b_k = \\sum_{i=0}^{n-1} c_{k-i} a_i  \n",
    "$$ (eqn:conv)\n",
    "\n",
    "We use $*$ to denote **convolution** via the calculation described in equation {eq}`eqn:conv`.\n",
    "\n",
    "It can be verified that the vector $b$ satisfies\n",
    "\n",
    "$$ b = C^T a  $$\n",
    "\n",
    "where $C^T$ is the transpose of the circulant matrix  defined in equation {eq}`eqn:circulant`.  \n",
    "\n",
    "\n",
    "\n",
    "\n",
    "\n",
    "## Connection to Permutation Matrix\n",
    "\n",
    "A good way to construct a circulant matrix is to use a **permutation matrix**.\n",
    "\n",
    "Before defining a permutation **matrix**, we'll define a **permutation**.\n",
    "\n",
    "A **permutation** of a set of the set of non-negative integers $\\{0, 1, 2, \\ldots \\}$ is a one-to-one mapping of the set into itself.\n",
    "\n",
    "A permutation of a set $\\{1, 2, \\ldots, n\\}$ rearranges the $n$ integers in the set.  \n",
    "\n",
    "\n",
    "A [permutation matrix](https://mathworld.wolfram.com/PermutationMatrix.html) is obtained by permuting the rows of an $n \\times n$ identity matrix according to a permutation of the numbers $1$ to $n$. \n",
    "\n",
    "\n",
    "Thus, every row and every column contain precisely a single $1$ with $0$ everywhere else.\n",
    "\n",
    "Every permutation corresponds to a unique permutation matrix.\n",
    "\n",
    "For example, the $N \\times N$ matrix\n",
    "\n",
    "$$\n",
    "P=\\left[\\begin{array}{cccccc}\n",
    "0 & 1 & 0 & 0 & \\cdots & 0\\\\\n",
    "0 & 0 & 1 & 0 & \\cdots & 0\\\\\n",
    "0 & 0 & 0 & 1 & \\cdots & 0\\\\\n",
    "\\vdots & \\vdots & \\vdots & \\vdots & \\vdots & \\vdots\\\\\n",
    "0 & 0 & 0 & 0 & \\cdots & 1\\\\\n",
    "1 & 0 & 0 & 0 & \\cdots & 0\n",
    "\\end{array}\\right]\n",
    "$$ (eqn:exampleP)\n",
    "\n",
    "serves as  a **cyclic shift**  operator that, when applied to an $N \\times 1$ vector $h$, shifts entries in rows $2$ through $N$ up one row and shifts the entry in row $1$ to row $N$. \n",
    "\n",
    "\n",
    "Eigenvalues of  the cyclic shift permutation matrix $P$ defined in equation {eq}`eqn:exampleP` can be computed  by constructing\n",
    "\n",
    "$$\n",
    "P-\\lambda I=\\left[\\begin{array}{cccccc}\n",
    "-\\lambda & 1 & 0 & 0 & \\cdots & 0\\\\\n",
    "0 & -\\lambda & 1 & 0 & \\cdots & 0\\\\\n",
    "0 & 0 & -\\lambda & 1 & \\cdots & 0\\\\\n",
    "\\vdots & \\vdots & \\vdots & \\vdots & \\vdots & \\vdots\\\\\n",
    "0 & 0 & 0 & 0 & \\cdots & 1\\\\\n",
    "1 & 0 & 0 & 0 & \\cdots & -\\lambda\n",
    "\\end{array}\\right]\n",
    "$$\n",
    "\n",
    "and solving \n",
    "\n",
    "$$\n",
    "\\textrm{det}(P - \\lambda I) = (-1)^N \\lambda^{N}-1=0\n",
    "$$\n",
    "\n",
    "\n",
    "Eigenvalues $\\lambda_i$  can be complex.\n",
    "\n",
    "Magnitudes $\\mid \\lambda_i \\mid$  of these  eigenvalues $\\lambda_i$ all equal  $1$.\n",
    "\n",
    "Thus, **singular values** of the  permutation matrix $P$ defined in equation {eq}`eqn:exampleP` all equal $1$.\n",
    "\n",
    "It can be verified that permutation matrices are orthogonal matrices:\n",
    "\n",
    "$$\n",
    "P P' = I \n",
    "$$\n",
    "\n",
    "\n",
    "\n",
    "\n",
    "## Examples with Python\n",
    "\n",
    "Let's write some Python code to illustrate these ideas."
   ]
  },
  {
   "cell_type": "code",
   "execution_count": 5,
   "id": "456f157e",
   "metadata": {},
   "outputs": [],
   "source": [
    "@njit\n",
    "def construct_P(N):\n",
    "\n",
    "    P = np.zeros((N, N))\n",
    "\n",
    "    for i in range(N-1):\n",
    "        P[i, i+1] = 1\n",
    "    P[-1, 0] = 1\n",
    "\n",
    "    return P"
   ]
  },
  {
   "cell_type": "code",
   "execution_count": 6,
   "id": "9bc65ac3",
   "metadata": {},
   "outputs": [
    {
     "data": {
      "text/plain": [
       "array([[0., 1., 0., 0.],\n",
       "       [0., 0., 1., 0.],\n",
       "       [0., 0., 0., 1.],\n",
       "       [1., 0., 0., 0.]])"
      ]
     },
     "execution_count": 6,
     "metadata": {},
     "output_type": "execute_result"
    }
   ],
   "source": [
    "P4 = construct_P(4)\n",
    "P4"
   ]
  },
  {
   "cell_type": "code",
   "execution_count": 7,
   "id": "81caf24a",
   "metadata": {},
   "outputs": [],
   "source": [
    "# compute the eigenvalues and eigenvectors\n",
    "𝜆, Q = np.linalg.eig(P4)"
   ]
  },
  {
   "cell_type": "code",
   "execution_count": 8,
   "id": "d60861f2",
   "metadata": {},
   "outputs": [
    {
     "name": "stdout",
     "output_type": "stream",
     "text": [
      "𝜆0 = -1.0+0.0j \n",
      "vec0 = [-0.5+0.j   0. +0.5j  0. -0.5j -0.5+0.j ]\n",
      "\n",
      "𝜆1 = 0.0+1.0j \n",
      "vec1 = [ 0.5+0.j -0.5+0.j -0.5-0.j -0.5+0.j]\n",
      "\n",
      "𝜆2 = 0.0-1.0j \n",
      "vec2 = [-0.5+0.j   0. -0.5j  0. +0.5j -0.5+0.j ]\n",
      "\n",
      "𝜆3 = 1.0+0.0j \n",
      "vec3 = [ 0.5+0.j  0.5-0.j  0.5+0.j -0.5+0.j]\n",
      "\n"
     ]
    }
   ],
   "source": [
    "for i in range(4):\n",
    "    print(f'𝜆{i} = {𝜆[i]:.1f} \\nvec{i} = {Q[i, :]}\\n')"
   ]
  },
  {
   "cell_type": "markdown",
   "id": "0e2b45b6",
   "metadata": {},
   "source": [
    "In graphs  below, we shall portray eigenvalues of a shift  permutation matrix   in the complex plane. \n",
    "\n",
    "These eigenvalues are uniformly distributed along the unit circle.\n",
    "\n",
    "They are the **$n$ roots of unity**, meaning they are the $n$  numbers  $z$  that solve $z^n =1$, where $z$ is a complex number.\n",
    "\n",
    "In particular, the $n$ roots of unity are\n",
    "\n",
    "$$\n",
    "z = \\exp\\left(\\frac{2 \\pi j k }{N} \\right) , \\quad k = 0, \\ldots, N-1\n",
    "$$\n",
    "\n",
    "where $j$ denotes the purely imaginary unit number."
   ]
  },
  {
   "cell_type": "code",
   "execution_count": 9,
   "id": "af92ad53",
   "metadata": {},
   "outputs": [
    {
     "data": {
      "image/png": "[encoded data removed]",
      "text/plain": [
       "<Figure size 1000x1000 with 4 Axes>"
      ]
     },
     "metadata": {},
     "output_type": "display_data"
    }
   ],
   "source": [
    "fig, ax = plt.subplots(2, 2, figsize=(10, 10))\n",
    "\n",
    "for i, N in enumerate([3, 4, 6, 8]):\n",
    "\n",
    "    row_i = i // 2\n",
    "    col_i = i % 2\n",
    "\n",
    "    P = construct_P(N)\n",
    "    𝜆, Q = np.linalg.eig(P)\n",
    "\n",
    "    circ = plt.Circle((0, 0), radius=1, edgecolor='b', facecolor='None')\n",
    "    ax[row_i, col_i].add_patch(circ)\n",
    "\n",
    "    for j in range(N):\n",
    "        ax[row_i, col_i].scatter(𝜆[j].real, 𝜆[j].imag, c='b')\n",
    "\n",
    "    ax[row_i, col_i].set_title(f'N = {N}')\n",
    "    ax[row_i, col_i].set_xlabel('real')\n",
    "    ax[row_i, col_i].set_ylabel('imaginary')\n",
    "\n",
    "plt.show()"
   ]
  },
  {
   "cell_type": "markdown",
   "id": "d0de1b8a",
   "metadata": {},
   "source": [
    "For a vector of  coefficients $\\{c_i\\}_{i=0}^{n-1}$, eigenvectors of $P$ are also  eigenvectors of \n",
    "\n",
    "$$\n",
    "C = c_{0} I + c_{1} P + c_{2} P^{2} +\\cdots + c_{N-1} P^{N-1}.\n",
    "$$\n",
    "\n",
    "Consider an example in which  $N=8$ and let $w = e^{-2 \\pi j / N}$.\n",
    "\n",
    "It can be verified that the matrix $F_8$ of eigenvectors of $P_{8}$  is\n",
    "\n",
    "$$\n",
    "F_{8}=\\left[\\begin{array}{ccccc}\n",
    "1 & 1 & 1 & \\cdots & 1\\\\\n",
    "1 & w & w^{2} & \\cdots & w^{7}\\\\\n",
    "1 & w^{2} & w^{4} & \\cdots & w^{14}\\\\\n",
    "1 & w^{3} & w^{6} & \\cdots & w^{21}\\\\\n",
    "1 & w^{4} & w^{8} & \\cdots & w^{28}\\\\\n",
    "1 & w^{5} & w^{10} & \\cdots & w^{35}\\\\\n",
    "1 & w^{6} & w^{12} & \\cdots & w^{42}\\\\\n",
    "1 & w^{7} & w^{14} & \\cdots & w^{49}\n",
    "\\end{array}\\right]\n",
    "$$\n",
    "\n",
    "The matrix $F_8$ defines a  [Discete Fourier Transform](https://en.wikipedia.org/wiki/Discrete_Fourier_transform).\n",
    "\n",
    "To convert it into an orthogonal eigenvector matrix, we can simply normalize it by dividing every entry  by $\\sqrt{8}$. \n",
    "\n",
    " *  stare at the first column of $F_8$ above to convince yourself of this fact \n",
    "\n",
    "The eigenvalues corresponding to each eigenvector are $\\{w^{j}\\}_{j=0}^{7}$ in order."
   ]
  },
  {
   "cell_type": "code",
   "execution_count": 10,
   "id": "40f46160",
   "metadata": {},
   "outputs": [],
   "source": [
    "def construct_F(N):\n",
    "\n",
    "    w = np.e ** (-complex(0, 2*np.pi/N))\n",
    "\n",
    "    F = np.ones((N, N), dtype=complex)\n",
    "    for i in range(1, N):\n",
    "        F[i, 1:] = w ** (i * np.arange(1, N))\n",
    "\n",
    "    return F, w"
   ]
  },
  {
   "cell_type": "code",
   "execution_count": 11,
   "id": "b63618e6",
   "metadata": {},
   "outputs": [],
   "source": [
    "F8, w = construct_F(8)"
   ]
  },
  {
   "cell_type": "code",
   "execution_count": 12,
   "id": "e163c655",
   "metadata": {},
   "outputs": [
    {
     "data": {
      "text/plain": [
       "(0.7071067811865476-0.7071067811865475j)"
      ]
     },
     "execution_count": 12,
     "metadata": {},
     "output_type": "execute_result"
    }
   ],
   "source": [
    "w"
   ]
  },
  {
   "cell_type": "code",
   "execution_count": 13,
   "id": "00c5b37a",
   "metadata": {},
   "outputs": [
    {
     "data": {
      "text/plain": [
       "array([[ 1.   +0.j   ,  1.   +0.j   ,  1.   +0.j   ,  1.   +0.j   ,\n",
       "         1.   +0.j   ,  1.   +0.j   ,  1.   +0.j   ,  1.   +0.j   ],\n",
       "       [ 1.   +0.j   ,  0.707-0.707j,  0.   -1.j   , -0.707-0.707j,\n",
       "        -1.   -0.j   , -0.707+0.707j, -0.   +1.j   ,  0.707+0.707j],\n",
       "       [ 1.   +0.j   ,  0.   -1.j   , -1.   -0.j   , -0.   +1.j   ,\n",
       "         1.   +0.j   ,  0.   -1.j   , -1.   -0.j   , -0.   +1.j   ],\n",
       "       [ 1.   +0.j   , -0.707-0.707j, -0.   +1.j   ,  0.707-0.707j,\n",
       "        -1.   -0.j   ,  0.707+0.707j,  0.   -1.j   , -0.707+0.707j],\n",
       "       [ 1.   +0.j   , -1.   -0.j   ,  1.   +0.j   , -1.   -0.j   ,\n",
       "         1.   +0.j   , -1.   -0.j   ,  1.   +0.j   , -1.   -0.j   ],\n",
       "       [ 1.   +0.j   , -0.707+0.707j,  0.   -1.j   ,  0.707+0.707j,\n",
       "        -1.   -0.j   ,  0.707-0.707j, -0.   +1.j   , -0.707-0.707j],\n",
       "       [ 1.   +0.j   , -0.   +1.j   , -1.   -0.j   ,  0.   -1.j   ,\n",
       "         1.   +0.j   , -0.   +1.j   , -1.   -0.j   ,  0.   -1.j   ],\n",
       "       [ 1.   +0.j   ,  0.707+0.707j, -0.   +1.j   , -0.707+0.707j,\n",
       "        -1.   -0.j   , -0.707-0.707j,  0.   -1.j   ,  0.707-0.707j]])"
      ]
     },
     "execution_count": 13,
     "metadata": {},
     "output_type": "execute_result"
    }
   ],
   "source": [
    "F8"
   ]
  },
  {
   "cell_type": "code",
   "execution_count": 14,
   "id": "b7dbeccd",
   "metadata": {},
   "outputs": [],
   "source": [
    "# normalize\n",
    "Q8 = F8 / np.sqrt(8)"
   ]
  },
  {
   "cell_type": "code",
   "execution_count": 15,
   "id": "dacce53c",
   "metadata": {},
   "outputs": [
    {
     "data": {
      "text/plain": [
       "array([[ 1.+0.j, -0.+0.j, -0.+0.j, -0.+0.j, -0.+0.j,  0.+0.j,  0.+0.j,\n",
       "         0.+0.j],\n",
       "       [-0.-0.j,  1.+0.j, -0.+0.j, -0.+0.j, -0.+0.j, -0.+0.j,  0.+0.j,\n",
       "         0.+0.j],\n",
       "       [-0.-0.j, -0.-0.j,  1.+0.j, -0.+0.j, -0.+0.j, -0.+0.j,  0.+0.j,\n",
       "         0.+0.j],\n",
       "       [-0.-0.j, -0.-0.j, -0.-0.j,  1.+0.j, -0.+0.j, -0.+0.j, -0.+0.j,\n",
       "        -0.+0.j],\n",
       "       [-0.-0.j, -0.-0.j, -0.-0.j, -0.-0.j,  1.+0.j, -0.+0.j, -0.+0.j,\n",
       "        -0.+0.j],\n",
       "       [ 0.-0.j, -0.-0.j, -0.-0.j, -0.-0.j, -0.-0.j,  1.+0.j, -0.+0.j,\n",
       "        -0.+0.j],\n",
       "       [ 0.-0.j,  0.-0.j,  0.-0.j, -0.-0.j, -0.-0.j, -0.-0.j,  1.+0.j,\n",
       "        -0.+0.j],\n",
       "       [ 0.-0.j,  0.-0.j,  0.-0.j, -0.-0.j, -0.-0.j, -0.-0.j, -0.-0.j,\n",
       "         1.+0.j]])"
      ]
     },
     "execution_count": 15,
     "metadata": {},
     "output_type": "execute_result"
    }
   ],
   "source": [
    "# verify the orthogonality (unitarity)\n",
    "Q8 @ np.conjugate(Q8)"
   ]
  },
  {
   "cell_type": "markdown",
   "id": "80a1e3f1",
   "metadata": {},
   "source": [
    "Let's verify that $k$th column of $Q_{8}$ is an eigenvector of $P_{8}$ with an eigenvalue $w^{k}$."
   ]
  },
  {
   "cell_type": "code",
   "execution_count": 16,
   "id": "91ecf268",
   "metadata": {},
   "outputs": [],
   "source": [
    "P8 = construct_P(8)"
   ]
  },
  {
   "cell_type": "code",
   "execution_count": 17,
   "id": "28741b3d",
   "metadata": {},
   "outputs": [],
   "source": [
    "diff_arr = np.empty(8, dtype=complex)\n",
    "for j in range(8):\n",
    "    diff = P8 @ Q8[:, j] - w ** j * Q8[:, j]\n",
    "    diff_arr[j] = diff @ diff.T"
   ]
  },
  {
   "cell_type": "code",
   "execution_count": 18,
   "id": "566d92ce",
   "metadata": {},
   "outputs": [
    {
     "data": {
      "text/plain": [
       "array([ 0.+0.j, -0.+0.j, -0.+0.j, -0.+0.j, -0.+0.j, -0.+0.j, -0.+0.j,\n",
       "       -0.+0.j])"
      ]
     },
     "execution_count": 18,
     "metadata": {},
     "output_type": "execute_result"
    }
   ],
   "source": [
    "diff_arr"
   ]
  },
  {
   "cell_type": "markdown",
   "id": "90f980bb",
   "metadata": {},
   "source": [
    "## Associated Permutation Matrix \n",
    "\n",
    "\n",
    "Next, we execute calculations to verify that the circulant matrix $C$ defined  in equation {eq}`eqn:circulant` can be written as \n",
    "\n",
    "\n",
    "$$\n",
    "C = c_{0} I + c_{1} P + \\cdots + c_{n-1} P^{n-1}\n",
    "$$\n",
    "\n",
    "and that every eigenvector of $P$ is also an eigenvector of $C$."
   ]
  },
  {
   "cell_type": "code",
   "execution_count": null,
   "id": "e9493423",
   "metadata": {},
   "outputs": [],
   "source": []
  },
  {
   "cell_type": "markdown",
   "id": "4996a0cf",
   "metadata": {},
   "source": [
    "We illustrate this for $N=8$ case."
   ]
  },
  {
   "cell_type": "code",
   "execution_count": 19,
   "id": "70e0d58e",
   "metadata": {},
   "outputs": [],
   "source": [
    "c = np.random.random(8)"
   ]
  },
  {
   "cell_type": "code",
   "execution_count": 20,
   "id": "f39f43a1",
   "metadata": {},
   "outputs": [
    {
     "data": {
      "text/plain": [
       "array([0.108, 0.577, 0.287, 0.558, 0.084, 0.753, 0.072, 0.951])"
      ]
     },
     "execution_count": 20,
     "metadata": {},
     "output_type": "execute_result"
    }
   ],
   "source": [
    "c"
   ]
  },
  {
   "cell_type": "code",
   "execution_count": 21,
   "id": "140019aa",
   "metadata": {},
   "outputs": [],
   "source": [
    "C8 = construct_cirlulant(c)"
   ]
  },
  {
   "cell_type": "markdown",
   "id": "21e76660",
   "metadata": {},
   "source": [
    "Compute $c_{0} I + c_{1} P + \\cdots + c_{n-1} P^{n-1}$."
   ]
  },
  {
   "cell_type": "code",
   "execution_count": 22,
   "id": "c7cf0c95",
   "metadata": {},
   "outputs": [],
   "source": [
    "N = 8\n",
    "\n",
    "C = np.zeros((N, N))\n",
    "P = np.eye(N)\n",
    "\n",
    "for i in range(N):\n",
    "    C += c[i] * P\n",
    "    P = P8 @ P"
   ]
  },
  {
   "cell_type": "code",
   "execution_count": 23,
   "id": "ce0df69d",
   "metadata": {},
   "outputs": [
    {
     "data": {
      "text/plain": [
       "array([[0.108, 0.577, 0.287, 0.558, 0.084, 0.753, 0.072, 0.951],\n",
       "       [0.951, 0.108, 0.577, 0.287, 0.558, 0.084, 0.753, 0.072],\n",
       "       [0.072, 0.951, 0.108, 0.577, 0.287, 0.558, 0.084, 0.753],\n",
       "       [0.753, 0.072, 0.951, 0.108, 0.577, 0.287, 0.558, 0.084],\n",
       "       [0.084, 0.753, 0.072, 0.951, 0.108, 0.577, 0.287, 0.558],\n",
       "       [0.558, 0.084, 0.753, 0.072, 0.951, 0.108, 0.577, 0.287],\n",
       "       [0.287, 0.558, 0.084, 0.753, 0.072, 0.951, 0.108, 0.577],\n",
       "       [0.577, 0.287, 0.558, 0.084, 0.753, 0.072, 0.951, 0.108]])"
      ]
     },
     "execution_count": 23,
     "metadata": {},
     "output_type": "execute_result"
    }
   ],
   "source": [
    "C"
   ]
  },
  {
   "cell_type": "code",
   "execution_count": 24,
   "id": "adb76a29",
   "metadata": {},
   "outputs": [
    {
     "data": {
      "text/plain": [
       "array([[0.108, 0.577, 0.287, 0.558, 0.084, 0.753, 0.072, 0.951],\n",
       "       [0.951, 0.108, 0.577, 0.287, 0.558, 0.084, 0.753, 0.072],\n",
       "       [0.072, 0.951, 0.108, 0.577, 0.287, 0.558, 0.084, 0.753],\n",
       "       [0.753, 0.072, 0.951, 0.108, 0.577, 0.287, 0.558, 0.084],\n",
       "       [0.084, 0.753, 0.072, 0.951, 0.108, 0.577, 0.287, 0.558],\n",
       "       [0.558, 0.084, 0.753, 0.072, 0.951, 0.108, 0.577, 0.287],\n",
       "       [0.287, 0.558, 0.084, 0.753, 0.072, 0.951, 0.108, 0.577],\n",
       "       [0.577, 0.287, 0.558, 0.084, 0.753, 0.072, 0.951, 0.108]])"
      ]
     },
     "execution_count": 24,
     "metadata": {},
     "output_type": "execute_result"
    }
   ],
   "source": [
    "C8"
   ]
  },
  {
   "cell_type": "markdown",
   "id": "11eb3102",
   "metadata": {},
   "source": [
    "Now let's compute the difference between two circulant matrices that we have  constructed in two different ways."
   ]
  },
  {
   "cell_type": "code",
   "execution_count": 25,
   "id": "c04e7079",
   "metadata": {},
   "outputs": [
    {
     "data": {
      "text/plain": [
       "0.0"
      ]
     },
     "execution_count": 25,
     "metadata": {},
     "output_type": "execute_result"
    }
   ],
   "source": [
    "np.abs(C - C8).max()"
   ]
  },
  {
   "cell_type": "markdown",
   "id": "fb578f2f",
   "metadata": {},
   "source": [
    "The  $k$th column of $P_{8}$ associated with eigenvalue $w^{k-1}$ is an eigenvector of $C_{8}$ associated with an eigenvalue $\\sum_{h=0}^{7} c_{j} w^{h k}$."
   ]
  },
  {
   "cell_type": "code",
   "execution_count": 26,
   "id": "469ecf99",
   "metadata": {},
   "outputs": [],
   "source": [
    "𝜆_C8 = np.zeros(8, dtype=complex)\n",
    "\n",
    "for j in range(8):\n",
    "    for k in range(8):\n",
    "        𝜆_C8[j] += c[k] * w ** (j * k)"
   ]
  },
  {
   "cell_type": "code",
   "execution_count": 27,
   "id": "59e9f5db",
   "metadata": {},
   "outputs": [
    {
     "data": {
      "text/plain": [
       "array([ 3.39 +0.j   ,  0.178+0.188j, -0.166+0.179j, -0.129+0.617j,\n",
       "       -2.286-0.j   , -0.129-0.617j, -0.166-0.179j,  0.178-0.188j])"
      ]
     },
     "execution_count": 27,
     "metadata": {},
     "output_type": "execute_result"
    }
   ],
   "source": [
    "𝜆_C8"
   ]
  },
  {
   "cell_type": "markdown",
   "id": "4278876d",
   "metadata": {},
   "source": [
    "We can verify this by comparing `C8 @ Q8[:, j]` with `𝜆_C8[j] * Q8[:, j]`."
   ]
  },
  {
   "cell_type": "code",
   "execution_count": 28,
   "id": "c840b342",
   "metadata": {},
   "outputs": [
    {
     "name": "stdout",
     "output_type": "stream",
     "text": [
      "[-0.+0.j -0.+0.j -0.+0.j -0.+0.j -0.+0.j -0.+0.j -0.+0.j -0.+0.j]\n",
      "[ 0.+0.j  0.-0.j -0.-0.j -0.-0.j -0.+0.j -0.+0.j -0.+0.j  0.+0.j]\n",
      "[ 0.+0.j  0.-0.j -0.-0.j -0.+0.j  0.-0.j -0.-0.j -0.-0.j -0.+0.j]\n",
      "[-0.+0.j  0.-0.j -0.+0.j  0.-0.j -0.-0.j  0.+0.j -0.-0.j -0.+0.j]\n",
      "[ 0.+0.j  0.-0.j  0.+0.j  0.-0.j  0.+0.j  0.-0.j  0.+0.j -0.-0.j]\n",
      "[ 0.+0.j  0.-0.j  0.+0.j -0.-0.j  0.-0.j -0.+0.j  0.-0.j  0.+0.j]\n",
      "[ 0.-0.j  0.-0.j  0.-0.j  0.+0.j -0.-0.j  0.-0.j  0.-0.j  0.+0.j]\n",
      "[ 0.+0.j  0.-0.j  0.-0.j  0.-0.j  0.+0.j  0.+0.j  0.+0.j -0.+0.j]\n"
     ]
    }
   ],
   "source": [
    "# verify\n",
    "for j in range(8):\n",
    "    diff = C8 @ Q8[:, j] - 𝜆_C8[j] * Q8[:, j]\n",
    "    print(diff)"
   ]
  },
  {
   "cell_type": "markdown",
   "id": "84ed884b",
   "metadata": {},
   "source": [
    "## Discrete Fourier Transform\n",
    "\n",
    "The **Discrete Fourier Transform** (DFT) allows us to  represent a  discrete time sequence as a weighted sum of complex sinusoids.\n",
    "\n",
    "Consider a sequence of $N$ real number $\\{x_j\\}_{j=0}^{N-1}$. \n",
    "\n",
    "The **Discrete Fourier Transform** maps $\\{x_j\\}_{j=0}^{N-1}$ into a sequence of complex numbers $\\{X_k\\}_{k=0}^{N-1}$\n",
    "\n",
    "where\n",
    "\n",
    "$$\n",
    "X_{k}=\\sum_{n=0}^{N-1}x_{n}e^{-2\\pi\\frac{kn}{N}i}\n",
    "$$"
   ]
  },
  {
   "cell_type": "code",
   "execution_count": 29,
   "id": "0eb60509",
   "metadata": {},
   "outputs": [],
   "source": [
    "def DFT(x):\n",
    "    \"The discrete Fourier transform.\"\n",
    "\n",
    "    N = len(x)\n",
    "    w = np.e ** (-complex(0, 2*np.pi/N))\n",
    "\n",
    "    X = np.zeros(N, dtype=complex)\n",
    "    for k in range(N):\n",
    "        for n in range(N):\n",
    "            X[k] += x[n] * w ** (k * n)\n",
    "\n",
    "    return X"
   ]
  },
  {
   "cell_type": "markdown",
   "id": "b6d77cdc",
   "metadata": {},
   "source": [
    "Consider the following example.\n",
    "\n",
    "$$\n",
    "x_{n}=\\begin{cases}\n",
    "1/2 & n=0,1\\\\\n",
    "0 & \\text{otherwise}\n",
    "\\end{cases}\n",
    "$$"
   ]
  },
  {
   "cell_type": "code",
   "execution_count": 30,
   "id": "908ef759",
   "metadata": {},
   "outputs": [],
   "source": [
    "x = np.zeros(10)\n",
    "x[0:2] = 1/2"
   ]
  },
  {
   "cell_type": "code",
   "execution_count": 31,
   "id": "0165b57b",
   "metadata": {},
   "outputs": [
    {
     "data": {
      "text/plain": [
       "array([0.5, 0.5, 0. , 0. , 0. , 0. , 0. , 0. , 0. , 0. ])"
      ]
     },
     "execution_count": 31,
     "metadata": {},
     "output_type": "execute_result"
    }
   ],
   "source": [
    "x"
   ]
  },
  {
   "cell_type": "markdown",
   "id": "8957155c",
   "metadata": {},
   "source": [
    "Apply a discrete Fourier transform."
   ]
  },
  {
   "cell_type": "code",
   "execution_count": 32,
   "id": "48d31710",
   "metadata": {},
   "outputs": [],
   "source": [
    "X = DFT(x)"
   ]
  },
  {
   "cell_type": "code",
   "execution_count": 33,
   "id": "9559f1ba",
   "metadata": {},
   "outputs": [
    {
     "data": {
      "text/plain": [
       "array([ 1.   +0.j   ,  0.905-0.294j,  0.655-0.476j,  0.345-0.476j,\n",
       "        0.095-0.294j, -0.   +0.j   ,  0.095+0.294j,  0.345+0.476j,\n",
       "        0.655+0.476j,  0.905+0.294j])"
      ]
     },
     "execution_count": 33,
     "metadata": {},
     "output_type": "execute_result"
    }
   ],
   "source": [
    "X"
   ]
  },
  {
   "cell_type": "markdown",
   "id": "14bcf7d8",
   "metadata": {},
   "source": [
    "We can plot  magnitudes of a sequence of numbers and the  associated discrete Fourier transform."
   ]
  },
  {
   "cell_type": "code",
   "execution_count": 34,
   "id": "fb4b1f3a",
   "metadata": {},
   "outputs": [],
   "source": [
    "def plot_magnitude(x=None, X=None):\n",
    "\n",
    "    data = []\n",
    "    names = []\n",
    "    xs = []\n",
    "    if (x is not None):\n",
    "        data.append(x)\n",
    "        names.append('x')\n",
    "        xs.append('n')\n",
    "    if (X is not None):\n",
    "        data.append(X)\n",
    "        names.append('X')\n",
    "        xs.append('j')\n",
    "\n",
    "    num = len(data)\n",
    "    for i in range(num):\n",
    "        n = data[i].size\n",
    "        plt.figure(figsize=(8, 3))\n",
    "        plt.scatter(range(n), np.abs(data[i]))\n",
    "        plt.vlines(range(n), 0, np.abs(data[i]), color='b')\n",
    "\n",
    "        plt.xlabel(xs[i])\n",
    "        plt.ylabel('magnitude')\n",
    "        plt.title(names[i])\n",
    "        plt.show()"
   ]
  },
  {
   "cell_type": "code",
   "execution_count": 35,
   "id": "efda906e",
   "metadata": {},
   "outputs": [
    {
     "data": {
      "image/png": "[encoded data removed]",
      "text/plain": [
       "<Figure size 800x300 with 1 Axes>"
      ]
     },
     "metadata": {},
     "output_type": "display_data"
    },
    {
     "data": {
      "image/png": "[encoded data removed]",
      "text/plain": [
       "<Figure size 800x300 with 1 Axes>"
      ]
     },
     "metadata": {},
     "output_type": "display_data"
    }
   ],
   "source": [
    "plot_magnitude(x=x, X=X)"
   ]
  },
  {
   "cell_type": "markdown",
   "id": "b7e4023e",
   "metadata": {},
   "source": [
    "The **inverse Fourier transform**  transforms a Fourier transform  $X$ of $x$  back to $x$.\n",
    "\n",
    "The inverse Fourier transform is defined as\n",
    "\n",
    "$$\n",
    "x_{n} = \\sum_{k=0}^{N-1} \\frac{1}{N} X_{k} e^{2\\pi\\left(\\frac{kn}{N}\\right)i}, \\quad n=0, 1, \\ldots, N-1\n",
    "$$"
   ]
  },
  {
   "cell_type": "code",
   "execution_count": 36,
   "id": "da48950b",
   "metadata": {},
   "outputs": [],
   "source": [
    "def inverse_transform(X):\n",
    "\n",
    "    N = len(X)\n",
    "    w = np.e ** (complex(0, 2*np.pi/N))\n",
    "\n",
    "    x = np.zeros(N, dtype=complex)\n",
    "    for n in range(N):\n",
    "        for k in range(N):\n",
    "            x[n] += X[k] * w ** (k * n) / N\n",
    "\n",
    "    return x"
   ]
  },
  {
   "cell_type": "code",
   "execution_count": 37,
   "id": "391c476f",
   "metadata": {},
   "outputs": [
    {
     "data": {
      "text/plain": [
       "array([ 0.5+0.j,  0.5-0.j, -0. -0.j, -0. -0.j, -0. -0.j, -0. -0.j,\n",
       "       -0. +0.j, -0. +0.j, -0. +0.j, -0. +0.j])"
      ]
     },
     "execution_count": 37,
     "metadata": {},
     "output_type": "execute_result"
    }
   ],
   "source": [
    "inverse_transform(X)"
   ]
  },
  {
   "cell_type": "markdown",
   "id": "c7974608",
   "metadata": {},
   "source": [
    "Another example is\n",
    "\n",
    "$$\n",
    "x_{n}=2\\cos\\left(2\\pi\\frac{11}{40}n\\right),\\ n=0,1,2,\\cdots19\n",
    "$$\n",
    "\n",
    "Since $N=20$, we cannot use an integer multiple of $\\frac{1}{20}$ to represent a frequency $\\frac{11}{40}$.\n",
    "\n",
    "To handle this,  we shall end up using all $N$ of the availble   frequencies in the DFT.\n",
    "\n",
    "Since $\\frac{11}{40}$ is in between $\\frac{10}{40}$ and $\\frac{12}{40}$ (each of which is an integer multiple of $\\frac{1}{20}$), the complex coefficients in the DFT   have their  largest magnitudes at $k=5,6,15,16$, not just at a single frequency."
   ]
  },
  {
   "cell_type": "code",
   "execution_count": 38,
   "id": "35d71c70",
   "metadata": {},
   "outputs": [],
   "source": [
    "N = 20\n",
    "x = np.empty(N)\n",
    "\n",
    "for j in range(N):\n",
    "    x[j] = 2 * np.cos(2 * np.pi * 11 * j / 40)"
   ]
  },
  {
   "cell_type": "code",
   "execution_count": 39,
   "id": "51d009c9",
   "metadata": {},
   "outputs": [],
   "source": [
    "X = DFT(x)"
   ]
  },
  {
   "cell_type": "code",
   "execution_count": 40,
   "id": "a8526670",
   "metadata": {},
   "outputs": [
    {
     "data": {
      "image/png": "[encoded data removed]",
      "text/plain": [
       "<Figure size 800x300 with 1 Axes>"
      ]
     },
     "metadata": {},
     "output_type": "display_data"
    },
    {
     "data": {
      "image/png": "[encoded data removed]",
      "text/plain": [
       "<Figure size 800x300 with 1 Axes>"
      ]
     },
     "metadata": {},
     "output_type": "display_data"
    }
   ],
   "source": [
    "plot_magnitude(x=x, X=X)"
   ]
  },
  {
   "cell_type": "markdown",
   "id": "d4dc3ee8",
   "metadata": {},
   "source": [
    "What happens if we change the last example to $x_{n}=2\\cos\\left(2\\pi\\frac{10}{40}n\\right)$? \n",
    "\n",
    "Note that $\\frac{10}{40}$ is an integer multiple of $\\frac{1}{20}$."
   ]
  },
  {
   "cell_type": "code",
   "execution_count": 41,
   "id": "70ddbffb",
   "metadata": {},
   "outputs": [],
   "source": [
    "N = 20\n",
    "x = np.empty(N)\n",
    "\n",
    "for j in range(N):\n",
    "    x[j] = 2 * np.cos(2 * np.pi * 10 * j / 40)"
   ]
  },
  {
   "cell_type": "code",
   "execution_count": 42,
   "id": "343a1f03",
   "metadata": {},
   "outputs": [],
   "source": [
    "X = DFT(x)"
   ]
  },
  {
   "cell_type": "code",
   "execution_count": 43,
   "id": "5e92e2d7",
   "metadata": {},
   "outputs": [
    {
     "data": {
      "image/png": "[encoded data removed]",
      "text/plain": [
       "<Figure size 800x300 with 1 Axes>"
      ]
     },
     "metadata": {},
     "output_type": "display_data"
    },
    {
     "data": {
      "image/png": "[encoded data removed]",
      "text/plain": [
       "<Figure size 800x300 with 1 Axes>"
      ]
     },
     "metadata": {},
     "output_type": "display_data"
    }
   ],
   "source": [
    "plot_magnitude(x=x, X=X)"
   ]
  },
  {
   "cell_type": "markdown",
   "id": "e1b0d298",
   "metadata": {},
   "source": [
    "If we represent the discrete Fourier transform as a matrix, we discover that it equals the  matrix $F_{N}$ of eigenvectors  of the permutation matrix $P_{N}$.\n",
    "\n",
    "We can use the example where $x_{n}=2\\cos\\left(2\\pi\\frac{11}{40}n\\right),\\ n=0,1,2,\\cdots19$ to illustrate this."
   ]
  },
  {
   "cell_type": "code",
   "execution_count": 44,
   "id": "46e6a489",
   "metadata": {},
   "outputs": [],
   "source": [
    "N = 20\n",
    "x = np.empty(N)\n",
    "\n",
    "for j in range(N):\n",
    "    x[j] = 2 * np.cos(2 * np.pi * 11 * j / 40)"
   ]
  },
  {
   "cell_type": "code",
   "execution_count": 45,
   "id": "bfe491ea",
   "metadata": {},
   "outputs": [
    {
     "data": {
      "text/plain": [
       "array([ 2.   , -0.313, -1.902,  0.908,  1.618, -1.414, -1.176,  1.782,\n",
       "        0.618, -1.975, -0.   ,  1.975, -0.618, -1.782,  1.176,  1.414,\n",
       "       -1.618, -0.908,  1.902,  0.313])"
      ]
     },
     "execution_count": 45,
     "metadata": {},
     "output_type": "execute_result"
    }
   ],
   "source": [
    "x"
   ]
  },
  {
   "cell_type": "markdown",
   "id": "365832eb",
   "metadata": {},
   "source": [
    "First use the summation formula to transform $x$ to $X$."
   ]
  },
  {
   "cell_type": "code",
   "execution_count": 46,
   "id": "10f28abe",
   "metadata": {},
   "outputs": [
    {
     "data": {
      "text/plain": [
       "array([2. +0.j   , 2. +0.558j, 2. +1.218j, 2. +2.174j, 2. +4.087j,\n",
       "       2.+12.785j, 2.-12.466j, 2. -3.751j, 2. -1.801j, 2. -0.778j,\n",
       "       2. -0.j   , 2. +0.778j, 2. +1.801j, 2. +3.751j, 2.+12.466j,\n",
       "       2.-12.785j, 2. -4.087j, 2. -2.174j, 2. -1.218j, 2. -0.558j])"
      ]
     },
     "execution_count": 46,
     "metadata": {},
     "output_type": "execute_result"
    }
   ],
   "source": [
    "X = DFT(x)\n",
    "X"
   ]
  },
  {
   "cell_type": "markdown",
   "id": "42687c90",
   "metadata": {},
   "source": [
    "Now let's evaluate the outcome  of postmultiplying  the eigenvector matrix  $F_{20}$ by the vector $x$, a product that we claim should equal the Fourier tranform of the sequence $\\{x_n\\}_{n=0}^{N-1}$."
   ]
  },
  {
   "cell_type": "code",
   "execution_count": 47,
   "id": "cbaa3c5e",
   "metadata": {},
   "outputs": [],
   "source": [
    "F20, _ = construct_F(20)"
   ]
  },
  {
   "cell_type": "code",
   "execution_count": 48,
   "id": "24c502b5",
   "metadata": {},
   "outputs": [
    {
     "data": {
      "text/plain": [
       "array([2. +0.j   , 2. +0.558j, 2. +1.218j, 2. +2.174j, 2. +4.087j,\n",
       "       2.+12.785j, 2.-12.466j, 2. -3.751j, 2. -1.801j, 2. -0.778j,\n",
       "       2. -0.j   , 2. +0.778j, 2. +1.801j, 2. +3.751j, 2.+12.466j,\n",
       "       2.-12.785j, 2. -4.087j, 2. -2.174j, 2. -1.218j, 2. -0.558j])"
      ]
     },
     "execution_count": 48,
     "metadata": {},
     "output_type": "execute_result"
    }
   ],
   "source": [
    "F20 @ x"
   ]
  },
  {
   "cell_type": "markdown",
   "id": "4fcc1702",
   "metadata": {},
   "source": [
    "Similarly, the inverse DFT can be expressed as a inverse DFT matrix $F^{-1}_{20}$."
   ]
  },
  {
   "cell_type": "code",
   "execution_count": 49,
   "id": "07dbaf42",
   "metadata": {},
   "outputs": [
    {
     "data": {
      "text/plain": [
       "array([ 2.   +0.j, -0.313+0.j, -1.902-0.j,  0.908+0.j,  1.618+0.j,\n",
       "       -1.414-0.j, -1.176-0.j,  1.782-0.j,  0.618+0.j, -1.975+0.j,\n",
       "       -0.   -0.j,  1.975+0.j, -0.618+0.j, -1.782-0.j,  1.176-0.j,\n",
       "        1.414+0.j, -1.618+0.j, -0.908-0.j,  1.902-0.j,  0.313+0.j])"
      ]
     },
     "execution_count": 49,
     "metadata": {},
     "output_type": "execute_result"
    }
   ],
   "source": [
    "F20_inv = np.linalg.inv(F20)\n",
    "F20_inv @ X"
   ]
  },
  {
   "cell_type": "code",
   "execution_count": null,
   "id": "7c0b95ba",
   "metadata": {},
   "outputs": [],
   "source": []
  }
 ],
 "metadata": {
  "jupytext": {
   "text_representation": {
    "extension": ".md",
    "format_name": "myst",
    "format_version": 0.13,
    "jupytext_version": "1.10.3"
   }
  },
  "kernelspec": {
   "display_name": "Python 3 (ipykernel)",
   "language": "python",
   "name": "python3"
  },
  "language_info": {
   "codemirror_mode": {
    "name": "ipython",
    "version": 3
   },
   "file_extension": ".py",
   "mimetype": "text/x-python",
   "name": "python",
   "nbconvert_exporter": "python",
   "pygments_lexer": "ipython3",
   "version": "3.10.9"
  },
  "source_map": [
   12,
   32,
   39,
   41,
   69,
   85,
   88,
   203,
   216,
   221,
   226,
   229,
   245,
   267,
   299,
   311,
   315,
   319,
   323,
   328,
   331,
   335,
   339,
   346,
   348,
   362,
   364,
   368,
   372,
   376,
   378,
   382,
   393,
   397,
   399,
   403,
   405,
   409,
   417,
   419,
   423,
   428,
   444,
   457,
   468,
   473,
   475,
   479,
   483,
   485,
   489,
   517,
   519,
   529,
   543,
   545,
   559,
   567,
   571,
   573,
   579,
   587,
   591,
   593,
   599,
   607,
   609,
   613,
   616,
   620,
   624,
   626,
   630,
   635
  ]
 },
 "nbformat": 4,
 "nbformat_minor": 5
}