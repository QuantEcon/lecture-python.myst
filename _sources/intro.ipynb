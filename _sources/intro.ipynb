{
 "cells": [
  {
   "cell_type": "markdown",
   "id": "4f297529",
   "metadata": {},
   "source": [
    "# Quantitative Economics with Python\n",
    "\n",
    "This website presents a set of lectures on quantitative economic modeling, designed and written by\n",
    "[Thomas J. Sargent](http://www.tomsargent.com/) and [John Stachurski](https://johnstachurski.net/).\n",
    "\n",
    "For an overview of the series, see [this page](https://quantecon.org/python-lectures/)\n",
    "\n",
    "```{tableofcontents}\n",
    "```\n",
    "\n",
    "\n",
    "```{admonition} Previous website\n",
    "While this new site will receive all future updates, you may still view the [old site here](https://d6mtww49nma8j.cloudfront.net/) for the next month.\n",
    "```"
   ]
  }
 ],
 "metadata": {
  "jupytext": {
   "text_representation": {
    "extension": ".md",
    "format_name": "myst"
   }
  },
  "kernelspec": {
   "display_name": "Python 3",
   "language": "python",
   "name": "python3"
  },
  "language_info": {
   "codemirror_mode": {
    "name": "ipython",
    "version": 3
   },
   "file_extension": ".py",
   "mimetype": "text/x-python",
   "name": "python",
   "nbconvert_exporter": "python",
   "pygments_lexer": "ipython3",
   "version": "3.9.13"
  },
  "source_map": [
   10
  ]
 },
 "nbformat": 4,
 "nbformat_minor": 5
}