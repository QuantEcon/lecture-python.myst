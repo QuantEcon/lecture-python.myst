{
 "cells": [
  {
   "cell_type": "markdown",
   "id": "0d43aa5c",
   "metadata": {},
   "source": [
    "# Intermediate Quantitative Economics with Python\n",
    "\n",
    "This website presents a set of lectures on quantitative economic modeling, designed and written by\n",
    "[Thomas J. Sargent](http://www.tomsargent.com/) and [John Stachurski](https://johnstachurski.net/).\n",
    "\n",
    "```{tableofcontents}\n",
    "```\n",
    "\n",
    "\n",
    "```{admonition} Previous website\n",
    "While this new site will receive all future updates, you may still view the [old site here](https://d6mtww49nma8j.cloudfront.net/) for the next month.\n",
    "```"
   ]
  }
 ],
 "metadata": {
  "jupytext": {
   "text_representation": {
    "extension": ".md",
    "format_name": "myst"
   }
  },
  "kernelspec": {
   "display_name": "Python 3",
   "language": "python",
   "name": "python3"
  },
  "source_map": [
   10
  ]
 },
 "nbformat": 4,
 "nbformat_minor": 5
}