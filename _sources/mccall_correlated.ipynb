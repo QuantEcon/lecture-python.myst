{
 "cells": [
  {
   "cell_type": "markdown",
   "id": "fc716411",
   "metadata": {},
   "source": [
    "```{raw} html\n",
    "<div id=\"qe-notebook-header\" align=\"right\" style=\"text-align:right;\">\n",
    "        <a href=\"https://quantecon.org/\" title=\"quantecon.org\">\n",
    "                <img style=\"width:250px;display:inline;\" width=\"250px\" src=\"https://assets.quantecon.org/img/qe-menubar-logo.svg\" alt=\"QuantEcon\">\n",
    "        </a>\n",
    "</div>\n",
    "```\n",
    "\n",
    "# Job Search IV: Correlated Wage Offers\n",
    "\n",
    "```{contents} Contents\n",
    ":depth: 2\n",
    "```\n",
    "\n",
    "In addition to what's in Anaconda, this lecture will need the following libraries:"
   ]
  },
  {
   "cell_type": "code",
   "execution_count": 1,
   "id": "1e6934dc",
   "metadata": {
    "tags": [
     "hide-output"
    ]
   },
   "outputs": [
    {
     "name": "stdout",
     "output_type": "stream",
     "text": [
      "Requirement already satisfied: quantecon in /usr/share/miniconda3/envs/quantecon/lib/python3.9/site-packages (0.5.3)\r\n",
      "Requirement already satisfied: scipy>=1.0.0 in /usr/share/miniconda3/envs/quantecon/lib/python3.9/site-packages (from quantecon) (1.7.3)\r\n",
      "Requirement already satisfied: requests in /usr/share/miniconda3/envs/quantecon/lib/python3.9/site-packages (from quantecon) (2.27.1)\r\n",
      "Requirement already satisfied: numba in /usr/share/miniconda3/envs/quantecon/lib/python3.9/site-packages (from quantecon) (0.55.1)\r\n",
      "Requirement already satisfied: sympy in /usr/share/miniconda3/envs/quantecon/lib/python3.9/site-packages (from quantecon) (1.10.1)\r\n",
      "Requirement already satisfied: numpy in /usr/share/miniconda3/envs/quantecon/lib/python3.9/site-packages (from quantecon) (1.21.5)\r\n"
     ]
    },
    {
     "name": "stdout",
     "output_type": "stream",
     "text": [
      "Requirement already satisfied: llvmlite<0.39,>=0.38.0rc1 in /usr/share/miniconda3/envs/quantecon/lib/python3.9/site-packages (from numba->quantecon) (0.38.0)\r\n",
      "Requirement already satisfied: setuptools in /usr/share/miniconda3/envs/quantecon/lib/python3.9/site-packages (from numba->quantecon) (61.2.0)\r\n",
      "Requirement already satisfied: charset-normalizer~=2.0.0 in /usr/share/miniconda3/envs/quantecon/lib/python3.9/site-packages (from requests->quantecon) (2.0.4)\r\n",
      "Requirement already satisfied: certifi>=2017.4.17 in /usr/share/miniconda3/envs/quantecon/lib/python3.9/site-packages (from requests->quantecon) (2021.10.8)\r\n",
      "Requirement already satisfied: idna<4,>=2.5 in /usr/share/miniconda3/envs/quantecon/lib/python3.9/site-packages (from requests->quantecon) (3.3)\r\n",
      "Requirement already satisfied: urllib3<1.27,>=1.21.1 in /usr/share/miniconda3/envs/quantecon/lib/python3.9/site-packages (from requests->quantecon) (1.26.9)\r\n",
      "Requirement already satisfied: mpmath>=0.19 in /usr/share/miniconda3/envs/quantecon/lib/python3.9/site-packages (from sympy->quantecon) (1.2.1)\r\n"
     ]
    },
    {
     "name": "stdout",
     "output_type": "stream",
     "text": [
      "Requirement already satisfied: interpolation in /usr/share/miniconda3/envs/quantecon/lib/python3.9/site-packages (2.2.3)\r\n",
      "Requirement already satisfied: tempita<0.6.0,>=0.5.2 in /usr/share/miniconda3/envs/quantecon/lib/python3.9/site-packages (from interpolation) (0.5.2)\r\n",
      "Requirement already satisfied: numba>=0.47 in /usr/share/miniconda3/envs/quantecon/lib/python3.9/site-packages (from interpolation) (0.55.1)\r\n",
      "Requirement already satisfied: numpy<2.0.0,>=1.18.1 in /usr/share/miniconda3/envs/quantecon/lib/python3.9/site-packages (from interpolation) (1.21.5)\r\n",
      "Requirement already satisfied: scipy<2.0.0,>=1.4.1 in /usr/share/miniconda3/envs/quantecon/lib/python3.9/site-packages (from interpolation) (1.7.3)\r\n",
      "Requirement already satisfied: llvmlite<0.39,>=0.38.0rc1 in /usr/share/miniconda3/envs/quantecon/lib/python3.9/site-packages (from numba>=0.47->interpolation) (0.38.0)\r\n",
      "Requirement already satisfied: setuptools in /usr/share/miniconda3/envs/quantecon/lib/python3.9/site-packages (from numba>=0.47->interpolation) (61.2.0)\r\n"
     ]
    }
   ],
   "source": [
    "!pip install quantecon\n",
    "!pip install interpolation"
   ]
  },
  {
   "cell_type": "markdown",
   "id": "7b528a6e",
   "metadata": {},
   "source": [
    "## Overview\n",
    "\n",
    "In this lecture we solve a {doc}`McCall style job search model <mccall_model>` with persistent and\n",
    "transitory components to wages.\n",
    "\n",
    "In other words, we relax the unrealistic assumption that randomness in wages is independent over time.\n",
    "\n",
    "At the same time, we will go back to assuming that jobs are permanent and no separation occurs.\n",
    "\n",
    "This is to keep the model relatively simple as we study the impact of correlation.\n",
    "\n",
    "We will use the following imports:"
   ]
  },
  {
   "cell_type": "code",
   "execution_count": 2,
   "id": "8a4cd330",
   "metadata": {},
   "outputs": [],
   "source": [
    "%matplotlib inline\n",
    "import matplotlib.pyplot as plt\n",
    "plt.rcParams[\"figure.figsize\"] = (11, 5)  #set default figure size\n",
    "import numpy as np\n",
    "import quantecon as qe\n",
    "from interpolation import interp\n",
    "from numpy.random import randn\n",
    "from numba import njit, prange, float64\n",
    "from numba.experimental import jitclass"
   ]
  },
  {
   "cell_type": "markdown",
   "id": "3d414fb6",
   "metadata": {},
   "source": [
    "## The Model\n",
    "\n",
    "Wages at each point in time are given by\n",
    "\n",
    "$$\n",
    "w_t = \\exp(z_t) + y_t\n",
    "$$\n",
    "\n",
    "where\n",
    "\n",
    "$$\n",
    "y_t \\sim \\exp(\\mu + s \\zeta_t)\n",
    "\\quad \\text{and} \\quad\n",
    "z_{t+1} = d + \\rho z_t + \\sigma \\epsilon_{t+1}\n",
    "$$\n",
    "\n",
    "Here $\\{ \\zeta_t \\}$ and $\\{ \\epsilon_t \\}$ are both IID and standard normal.\n",
    "\n",
    "Here $\\{y_t\\}$ is a transitory component and $\\{z_t\\}$ is persistent.\n",
    "\n",
    "As before, the worker can either\n",
    "\n",
    "1. accept an offer and work permanently at that wage, or\n",
    "1. take unemployment compensation $c$ and wait till next period.\n",
    "\n",
    "The value function satisfies the Bellman equation\n",
    "\n",
    "$$\n",
    "v^*(w, z) =\n",
    "    \\max\n",
    "    \\left\\{\n",
    "        \\frac{u(w)}{1-\\beta}, u(c) + \\beta \\, \\mathbb E_z v^*(w', z')\n",
    "    \\right\\}\n",
    "$$\n",
    "\n",
    "In this express, $u$ is a utility function and $\\mathbb E_z$ is expectation of next period variables given current $z$.\n",
    "\n",
    "The variable $z$ enters as a state in the Bellman equation because its current value helps predict future wages.\n",
    "\n",
    "### A Simplification\n",
    "\n",
    "There is a way that we can reduce dimensionality in this problem, which greatly accelerates computation.\n",
    "\n",
    "To start, let $f^*$ be the continuation value function, defined\n",
    "by\n",
    "\n",
    "$$\n",
    "f^*(z) := u(c) + \\beta \\, \\mathbb E_z v^*(w', z')\n",
    "$$\n",
    "\n",
    "The Bellman equation can now be written\n",
    "\n",
    "$$\n",
    "v^*(w, z) = \\max \\left\\{ \\frac{u(w)}{1-\\beta}, \\, f^*(z) \\right\\}\n",
    "$$\n",
    "\n",
    "Combining the last two expressions, we see that the continuation value\n",
    "function satisfies\n",
    "\n",
    "$$\n",
    "f^*(z) = u(c) + \\beta \\, \\mathbb E_z \\max \\left\\{ \\frac{u(w')}{1-\\beta}, f^*(z') \\right\\}\n",
    "$$\n",
    "\n",
    "We’ll solve this functional equation for $f^*$ by introducing the\n",
    "operator\n",
    "\n",
    "$$\n",
    "Qf(z) = u(c) + \\beta \\, \\mathbb E_z \\max \\left\\{ \\frac{u(w')}{1-\\beta}, f(z') \\right\\}\n",
    "$$\n",
    "\n",
    "By construction, $f^*$ is a fixed point of $Q$, in the sense that\n",
    "$Q f^* = f^*$.\n",
    "\n",
    "Under mild assumptions, it can be shown that $Q$ is a [contraction mapping](https://en.wikipedia.org/wiki/Contraction_mapping) over a suitable space of continuous functions on $\\mathbb R$.\n",
    "\n",
    "By Banach's contraction mapping theorem, this means that $f^*$ is the unique fixed point and we can calculate it by iterating with $Q$ from any reasonable initial condition.\n",
    "\n",
    "Once we have $f^*$, we can solve the search problem by stopping when the reward for accepting exceeds the continuation value, or\n",
    "\n",
    "$$\n",
    "\\frac{u(w)}{1-\\beta} \\geq f^*(z)\n",
    "$$\n",
    "\n",
    "For utility we take $u(c) = \\ln(c)$.\n",
    "\n",
    "The reservation wage is the wage where equality holds in the last expression.\n",
    "\n",
    "That is,\n",
    "\n",
    "```{math}\n",
    ":label: corr_mcm_barw\n",
    "\n",
    "\\bar w (z) := \\exp(f^*(z) (1-\\beta))\n",
    "```\n",
    "\n",
    "Our main aim is to solve for the reservation rule and study its properties and implications.\n",
    "\n",
    "## Implementation\n",
    "\n",
    "Let $f$ be our initial guess of $f^*$.\n",
    "\n",
    "When we iterate, we use the {doc}`fitted value function iteration <mccall_fitted_vfi>` algorithm.\n",
    "\n",
    "In particular, $f$ and all subsequent iterates are stored as a vector of values on a grid.\n",
    "\n",
    "These points are interpolated into a function as required, using piecewise linear interpolation.\n",
    "\n",
    "The integral in the definition of $Qf$ is calculated by Monte Carlo.\n",
    "\n",
    "The following list helps Numba by providing some type information about the data we will work with."
   ]
  },
  {
   "cell_type": "code",
   "execution_count": 3,
   "id": "2632f6eb",
   "metadata": {},
   "outputs": [],
   "source": [
    "job_search_data = [\n",
    "     ('μ', float64),             # transient shock log mean\n",
    "     ('s', float64),             # transient shock log variance\n",
    "     ('d', float64),             # shift coefficient of persistent state\n",
    "     ('ρ', float64),             # correlation coefficient of persistent state\n",
    "     ('σ', float64),             # state volatility\n",
    "     ('β', float64),             # discount factor\n",
    "     ('c', float64),             # unemployment compensation\n",
    "     ('z_grid', float64[:]),     # grid over the state space\n",
    "     ('e_draws', float64[:,:])   # Monte Carlo draws for integration\n",
    "]"
   ]
  },
  {
   "cell_type": "markdown",
   "id": "c5007c2a",
   "metadata": {},
   "source": [
    "Here's a class that stores the data and the right hand side of the Bellman equation.\n",
    "\n",
    "Default parameter values are embedded in the class."
   ]
  },
  {
   "cell_type": "code",
   "execution_count": 4,
   "id": "2424a15b",
   "metadata": {},
   "outputs": [],
   "source": [
    "@jitclass(job_search_data)\n",
    "class JobSearch:\n",
    "\n",
    "    def __init__(self,\n",
    "                 μ=0.0,       # transient shock log mean\n",
    "                 s=1.0,       # transient shock log variance\n",
    "                 d=0.0,       # shift coefficient of persistent state\n",
    "                 ρ=0.9,       # correlation coefficient of persistent state\n",
    "                 σ=0.1,       # state volatility\n",
    "                 β=0.98,      # discount factor\n",
    "                 c=5,         # unemployment compensation\n",
    "                 mc_size=1000,\n",
    "                 grid_size=100):\n",
    "\n",
    "        self.μ, self.s, self.d,  = μ, s, d,\n",
    "        self.ρ, self.σ, self.β, self.c = ρ, σ, β, c\n",
    "\n",
    "        # Set up grid\n",
    "        z_mean = d / (1 - ρ)\n",
    "        z_sd = np.sqrt(σ / (1 - ρ**2))\n",
    "        k = 3  # std devs from mean\n",
    "        a, b = z_mean - k * z_sd, z_mean + k * z_sd\n",
    "        self.z_grid = np.linspace(a, b, grid_size)\n",
    "\n",
    "        # Draw and store shocks\n",
    "        np.random.seed(1234)\n",
    "        self.e_draws = randn(2, mc_size)\n",
    "\n",
    "    def parameters(self):\n",
    "        \"\"\"\n",
    "        Return all parameters as a tuple.\n",
    "        \"\"\"\n",
    "        return self.μ, self.s, self.d, \\\n",
    "                self.ρ, self.σ, self.β, self.c"
   ]
  },
  {
   "cell_type": "markdown",
   "id": "f915ae6c",
   "metadata": {},
   "source": [
    "Next we implement the $Q$ operator."
   ]
  },
  {
   "cell_type": "code",
   "execution_count": 5,
   "id": "dfab0c89",
   "metadata": {},
   "outputs": [],
   "source": [
    "@njit(parallel=True)\n",
    "def Q(js, f_in, f_out):\n",
    "    \"\"\"\n",
    "    Apply the operator Q.\n",
    "\n",
    "        * js is an instance of JobSearch\n",
    "        * f_in and f_out are arrays that represent f and Qf respectively\n",
    "\n",
    "    \"\"\"\n",
    "\n",
    "    μ, s, d, ρ, σ, β, c = js.parameters()\n",
    "    M = js.e_draws.shape[1]\n",
    "\n",
    "    for i in prange(len(js.z_grid)):\n",
    "        z = js.z_grid[i]\n",
    "        expectation = 0.0\n",
    "        for m in range(M):\n",
    "            e1, e2 = js.e_draws[:, m]\n",
    "            z_next = d + ρ * z + σ * e1\n",
    "            go_val = interp(js.z_grid, f_in, z_next)     # f(z')\n",
    "            y_next = np.exp(μ + s * e2)                  # y' draw\n",
    "            w_next = np.exp(z_next) + y_next             # w' draw\n",
    "            stop_val = np.log(w_next) / (1 - β)\n",
    "            expectation += max(stop_val, go_val)\n",
    "        expectation = expectation / M\n",
    "        f_out[i] = np.log(c) + β * expectation"
   ]
  },
  {
   "cell_type": "markdown",
   "id": "09320976",
   "metadata": {},
   "source": [
    "Here's a function to compute an approximation to the fixed point of $Q$."
   ]
  },
  {
   "cell_type": "code",
   "execution_count": 6,
   "id": "a5b5e25d",
   "metadata": {},
   "outputs": [],
   "source": [
    "def compute_fixed_point(js,\n",
    "                        use_parallel=True,\n",
    "                        tol=1e-4,\n",
    "                        max_iter=1000,\n",
    "                        verbose=True,\n",
    "                        print_skip=25):\n",
    "\n",
    "    f_init = np.full(len(js.z_grid), np.log(js.c))\n",
    "    f_out = np.empty_like(f_init)\n",
    "\n",
    "    # Set up loop\n",
    "    f_in = f_init\n",
    "    i = 0\n",
    "    error = tol + 1\n",
    "\n",
    "    while i < max_iter and error > tol:\n",
    "        Q(js, f_in, f_out)\n",
    "        error = np.max(np.abs(f_in - f_out))\n",
    "        i += 1\n",
    "        if verbose and i % print_skip == 0:\n",
    "            print(f\"Error at iteration {i} is {error}.\")\n",
    "        f_in[:] = f_out\n",
    "\n",
    "    if error > tol:\n",
    "        print(\"Failed to converge!\")\n",
    "    elif verbose:\n",
    "        print(f\"\\nConverged in {i} iterations.\")\n",
    "\n",
    "    return f_out"
   ]
  },
  {
   "cell_type": "markdown",
   "id": "c6b7fe83",
   "metadata": {},
   "source": [
    "Let's try generating an instance and solving the model."
   ]
  },
  {
   "cell_type": "code",
   "execution_count": 7,
   "id": "d189ea88",
   "metadata": {},
   "outputs": [
    {
     "name": "stdout",
     "output_type": "stream",
     "text": [
      "Error at iteration 25 is 0.6540143893175951.\n",
      "Error at iteration 50 is 0.12643184012380004.\n",
      "Error at iteration 75 is 0.030376323858035903.\n"
     ]
    },
    {
     "name": "stdout",
     "output_type": "stream",
     "text": [
      "Error at iteration 100 is 0.007581959253954551.\n",
      "Error at iteration 125 is 0.0019085682645538782.\n",
      "Error at iteration 150 is 0.00048173786846916755.\n"
     ]
    },
    {
     "name": "stdout",
     "output_type": "stream",
     "text": [
      "Error at iteration 175 is 0.000121400125664195.\n",
      "\n",
      "Converged in 179 iterations.\n",
      "TOC: Elapsed: 0:00:1.82\n"
     ]
    },
    {
     "data": {
      "text/plain": [
       "1.8252811431884766"
      ]
     },
     "execution_count": 7,
     "metadata": {},
     "output_type": "execute_result"
    }
   ],
   "source": [
    "js = JobSearch()\n",
    "\n",
    "qe.tic()\n",
    "f_star = compute_fixed_point(js, verbose=True)\n",
    "qe.toc()"
   ]
  },
  {
   "cell_type": "markdown",
   "id": "3450920f",
   "metadata": {},
   "source": [
    "Next we will compute and plot the reservation wage function defined in {eq}`corr_mcm_barw`."
   ]
  },
  {
   "cell_type": "code",
   "execution_count": 8,
   "id": "ef2bdfb1",
   "metadata": {},
   "outputs": [
    {
     "data": {
      "image/png": "[encoded data removed]",
      "text/plain": [
       "<Figure size 792x360 with 1 Axes>"
      ]
     },
     "metadata": {
      "filenames": {
       "image/png": "/home/runner/work/lecture-python.myst/lecture-python.myst/_build/jupyter_execute/mccall_correlated_15_0.png"
      },
      "needs_background": "light"
     },
     "output_type": "display_data"
    }
   ],
   "source": [
    "res_wage_function = np.exp(f_star * (1 - js.β))\n",
    "\n",
    "fig, ax = plt.subplots()\n",
    "ax.plot(js.z_grid, res_wage_function, label=\"reservation wage given $z$\")\n",
    "ax.set(xlabel=\"$z$\", ylabel=\"wage\")\n",
    "ax.legend()\n",
    "plt.show()"
   ]
  },
  {
   "cell_type": "markdown",
   "id": "34683dec",
   "metadata": {},
   "source": [
    "Notice that the reservation wage is increasing in the current state $z$.\n",
    "\n",
    "This is because a higher state leads the agent to predict higher future wages,\n",
    "increasing the option value of waiting.\n",
    "\n",
    "Let's try changing unemployment compensation and look at its impact on the\n",
    "reservation wage:"
   ]
  },
  {
   "cell_type": "code",
   "execution_count": 9,
   "id": "7bd0a981",
   "metadata": {},
   "outputs": [
    {
     "data": {
      "image/png": "[encoded data removed]",
      "text/plain": [
       "<Figure size 792x360 with 1 Axes>"
      ]
     },
     "metadata": {
      "filenames": {
       "image/png": "/home/runner/work/lecture-python.myst/lecture-python.myst/_build/jupyter_execute/mccall_correlated_17_0.png"
      },
      "needs_background": "light"
     },
     "output_type": "display_data"
    }
   ],
   "source": [
    "c_vals = 1, 2, 3\n",
    "\n",
    "fig, ax = plt.subplots()\n",
    "\n",
    "for c in c_vals:\n",
    "    js = JobSearch(c=c)\n",
    "    f_star = compute_fixed_point(js, verbose=False)\n",
    "    res_wage_function = np.exp(f_star * (1 - js.β))\n",
    "    ax.plot(js.z_grid, res_wage_function, label=rf\"$\\bar w$ at $c = {c}$\")\n",
    "\n",
    "ax.set(xlabel=\"$z$\", ylabel=\"wage\")\n",
    "ax.legend()\n",
    "plt.show()"
   ]
  },
  {
   "cell_type": "markdown",
   "id": "6f2e2bd1",
   "metadata": {},
   "source": [
    "As expected, higher unemployment compensation shifts the reservation wage up\n",
    "at all state values.\n",
    "\n",
    "## Unemployment Duration\n",
    "\n",
    "Next we study how mean unemployment duration varies with unemployment compensation.\n",
    "\n",
    "For simplicity we’ll fix the initial state at $z_t = 0$."
   ]
  },
  {
   "cell_type": "code",
   "execution_count": 10,
   "id": "e55784b0",
   "metadata": {},
   "outputs": [],
   "source": [
    "def compute_unemployment_duration(js, seed=1234):\n",
    "\n",
    "    f_star = compute_fixed_point(js, verbose=False)\n",
    "    μ, s, d, ρ, σ, β, c = js.parameters()\n",
    "    z_grid = js.z_grid\n",
    "    np.random.seed(seed)\n",
    "\n",
    "    @njit\n",
    "    def f_star_function(z):\n",
    "        return interp(z_grid, f_star, z)\n",
    "\n",
    "    @njit\n",
    "    def draw_tau(t_max=10_000):\n",
    "        z = 0\n",
    "        t = 0\n",
    "\n",
    "        unemployed = True\n",
    "        while unemployed and t < t_max:\n",
    "            # draw current wage\n",
    "            y = np.exp(μ + s * np.random.randn())\n",
    "            w = np.exp(z) + y\n",
    "            res_wage = np.exp(f_star_function(z) * (1 - β))\n",
    "            # if optimal to stop, record t\n",
    "            if w >= res_wage:\n",
    "                unemployed = False\n",
    "                τ = t\n",
    "            # else increment data and state\n",
    "            else:\n",
    "                z = ρ * z + d + σ * np.random.randn()\n",
    "                t += 1\n",
    "        return τ\n",
    "\n",
    "    @njit(parallel=True)\n",
    "    def compute_expected_tau(num_reps=100_000):\n",
    "        sum_value = 0\n",
    "        for i in prange(num_reps):\n",
    "            sum_value += draw_tau()\n",
    "        return sum_value / num_reps\n",
    "\n",
    "    return compute_expected_tau()"
   ]
  },
  {
   "cell_type": "markdown",
   "id": "a9f8669f",
   "metadata": {},
   "source": [
    "Let's test this out with some possible values for unemployment compensation."
   ]
  },
  {
   "cell_type": "code",
   "execution_count": 11,
   "id": "509c06ce",
   "metadata": {},
   "outputs": [],
   "source": [
    "c_vals = np.linspace(1.0, 10.0, 8)\n",
    "durations = np.empty_like(c_vals)\n",
    "for i, c in enumerate(c_vals):\n",
    "    js = JobSearch(c=c)\n",
    "    τ = compute_unemployment_duration(js)\n",
    "    durations[i] = τ"
   ]
  },
  {
   "cell_type": "markdown",
   "id": "f2b59249",
   "metadata": {},
   "source": [
    "Here is a plot of the results."
   ]
  },
  {
   "cell_type": "code",
   "execution_count": 12,
   "id": "bc021744",
   "metadata": {},
   "outputs": [
    {
     "data": {
      "image/png": "[encoded data removed]",
      "text/plain": [
       "<Figure size 792x360 with 1 Axes>"
      ]
     },
     "metadata": {
      "filenames": {
       "image/png": "/home/runner/work/lecture-python.myst/lecture-python.myst/_build/jupyter_execute/mccall_correlated_23_0.png"
      },
      "needs_background": "light"
     },
     "output_type": "display_data"
    }
   ],
   "source": [
    "fig, ax = plt.subplots()\n",
    "ax.plot(c_vals, durations)\n",
    "ax.set_xlabel(\"unemployment compensation\")\n",
    "ax.set_ylabel(\"mean unemployment duration\")\n",
    "plt.show()"
   ]
  },
  {
   "cell_type": "markdown",
   "id": "3bc61d77",
   "metadata": {},
   "source": [
    "Not surprisingly, unemployment duration increases when unemployment compensation is higher.\n",
    "\n",
    "This is because the value of waiting increases with unemployment compensation.\n",
    "\n",
    "## Exercises\n",
    "\n",
    "### Exercise 1\n",
    "```{exercise}\n",
    ":label: mc_ex1\n",
    "\n",
    "Investigate how mean unemployment duration varies with the discount factor $\\beta$.\n",
    "\n",
    "* What is your prior expectation?\n",
    "* Do your results match up?\n",
    "```\n",
    "\n",
    "## Solutions\n",
    "\n",
    "```{solution-start} mc_ex1\n",
    ":class: dropdown\n",
    "```\n",
    "\n",
    "Here is one solution."
   ]
  },
  {
   "cell_type": "code",
   "execution_count": 13,
   "id": "f2f948c2",
   "metadata": {},
   "outputs": [],
   "source": [
    "beta_vals = np.linspace(0.94, 0.99, 8)\n",
    "durations = np.empty_like(beta_vals)\n",
    "for i, β in enumerate(beta_vals):\n",
    "    js = JobSearch(β=β)\n",
    "    τ = compute_unemployment_duration(js)\n",
    "    durations[i] = τ"
   ]
  },
  {
   "cell_type": "code",
   "execution_count": 14,
   "id": "bbf59e01",
   "metadata": {},
   "outputs": [
    {
     "data": {
      "image/png": "[encoded data removed]",
      "text/plain": [
       "<Figure size 792x360 with 1 Axes>"
      ]
     },
     "metadata": {
      "filenames": {
       "image/png": "/home/runner/work/lecture-python.myst/lecture-python.myst/_build/jupyter_execute/mccall_correlated_26_0.png"
      },
      "needs_background": "light"
     },
     "output_type": "display_data"
    }
   ],
   "source": [
    "fig, ax = plt.subplots()\n",
    "ax.plot(beta_vals, durations)\n",
    "ax.set_xlabel(r\"$\\beta$\")\n",
    "ax.set_ylabel(\"mean unemployment duration\")\n",
    "plt.show()"
   ]
  },
  {
   "cell_type": "markdown",
   "id": "a335eab5",
   "metadata": {},
   "source": [
    "The figure shows that more patient individuals tend to wait longer before accepting an offer.\n",
    "\n",
    "```{solution-end}\n",
    "```"
   ]
  }
 ],
 "metadata": {
  "jupytext": {
   "text_representation": {
    "extension": ".md",
    "format_name": "myst"
   }
  },
  "kernelspec": {
   "display_name": "Python 3",
   "language": "python",
   "name": "python3"
  },
  "language_info": {
   "codemirror_mode": {
    "name": "ipython",
    "version": 3
   },
   "file_extension": ".py",
   "mimetype": "text/x-python",
   "name": "python",
   "nbconvert_exporter": "python",
   "pygments_lexer": "ipython3",
   "version": "3.9.12"
  },
  "source_map": [
   10,
   28,
   34,
   49,
   59,
   172,
   184,
   190,
   225,
   229,
   256,
   260,
   290,
   294,
   300,
   304,
   312,
   322,
   336,
   347,
   388,
   392,
   399,
   403,
   409,
   435,
   444,
   450
  ]
 },
 "nbformat": 4,
 "nbformat_minor": 5
}