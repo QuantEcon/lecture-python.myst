{
 "cells": [
  {
   "cell_type": "markdown",
   "id": "41153c66",
   "metadata": {},
   "source": [
    "```{raw} html\n",
    "<div id=\"qe-notebook-header\" align=\"right\" style=\"text-align:right;\">\n",
    "        <a href=\"https://quantecon.org/\" title=\"quantecon.org\">\n",
    "                <img style=\"width:250px;display:inline;\" width=\"250px\" src=\"https://assets.quantecon.org/img/qe-menubar-logo.svg\" alt=\"QuantEcon\">\n",
    "        </a>\n",
    "</div>\n",
    "```\n",
    "\n",
    "# Linear Regression in Python\n",
    "\n",
    "```{contents} Contents\n",
    ":depth: 2\n",
    "```\n",
    "\n",
    "In addition to what's in Anaconda, this lecture will need the following libraries:"
   ]
  },
  {
   "cell_type": "code",
   "execution_count": 1,
   "id": "36f56881",
   "metadata": {
    "tags": [
     "hide-output"
    ]
   },
   "outputs": [
    {
     "name": "stdout",
     "output_type": "stream",
     "text": [
      "Collecting linearmodels\r\n"
     ]
    },
    {
     "name": "stdout",
     "output_type": "stream",
     "text": [
      "  Downloading linearmodels-4.27-cp39-cp39-manylinux_2_17_x86_64.manylinux2014_x86_64.whl (1.5 MB)\r\n",
      "\u001b[?25l\r",
      "\u001b[K     |▏                               | 10 kB 30.7 MB/s eta 0:00:01\r",
      "\u001b[K     |▍                               | 20 kB 32.4 MB/s eta 0:00:01\r",
      "\u001b[K     |▋                               | 30 kB 36.5 MB/s eta 0:00:01\r",
      "\u001b[K     |▉                               | 40 kB 31.0 MB/s eta 0:00:01\r",
      "\u001b[K     |█                               | 51 kB 32.4 MB/s eta 0:00:01\r",
      "\u001b[K     |█▎                              | 61 kB 36.0 MB/s eta 0:00:01\r",
      "\u001b[K     |█▌                              | 71 kB 32.8 MB/s eta 0:00:01\r",
      "\u001b[K     |█▊                              | 81 kB 31.0 MB/s eta 0:00:01\r",
      "\u001b[K     |██                              | 92 kB 33.4 MB/s eta 0:00:01\r",
      "\u001b[K     |██▏                             | 102 kB 35.4 MB/s eta 0:00:01\r",
      "\u001b[K     |██▍                             | 112 kB 35.4 MB/s eta 0:00:01\r",
      "\u001b[K     |██▋                             | 122 kB 35.4 MB/s eta 0:00:01\r",
      "\u001b[K     |██▉                             | 133 kB 35.4 MB/s eta 0:00:01\r",
      "\u001b[K     |███                             | 143 kB 35.4 MB/s eta 0:00:01\r",
      "\u001b[K     |███▎                            | 153 kB 35.4 MB/s eta 0:00:01\r",
      "\u001b[K     |███▌                            | 163 kB 35.4 MB/s eta 0:00:01\r",
      "\u001b[K     |███▊                            | 174 kB 35.4 MB/s eta 0:00:01\r",
      "\u001b[K     |████                            | 184 kB 35.4 MB/s eta 0:00:01\r",
      "\u001b[K     |████▏                           | 194 kB 35.4 MB/s eta 0:00:01\r",
      "\u001b[K     |████▍                           | 204 kB 35.4 MB/s eta 0:00:01\r",
      "\u001b[K     |████▋                           | 215 kB 35.4 MB/s eta 0:00:01\r",
      "\u001b[K     |████▉                           | 225 kB 35.4 MB/s eta 0:00:01\r",
      "\u001b[K     |█████                           | 235 kB 35.4 MB/s eta 0:00:01\r",
      "\u001b[K     |█████▎                          | 245 kB 35.4 MB/s eta 0:00:01\r",
      "\u001b[K     |█████▌                          | 256 kB 35.4 MB/s eta 0:00:01\r",
      "\u001b[K     |█████▊                          | 266 kB 35.4 MB/s eta 0:00:01\r",
      "\u001b[K     |██████                          | 276 kB 35.4 MB/s eta 0:00:01\r",
      "\u001b[K     |██████▏                         | 286 kB 35.4 MB/s eta 0:00:01\r",
      "\u001b[K     |██████▍                         | 296 kB 35.4 MB/s eta 0:00:01\r",
      "\u001b[K     |██████▋                         | 307 kB 35.4 MB/s eta 0:00:01\r",
      "\u001b[K     |██████▉                         | 317 kB 35.4 MB/s eta 0:00:01\r",
      "\u001b[K     |███████                         | 327 kB 35.4 MB/s eta 0:00:01\r",
      "\u001b[K     |███████▎                        | 337 kB 35.4 MB/s eta 0:00:01\r",
      "\u001b[K     |███████▌                        | 348 kB 35.4 MB/s eta 0:00:01\r",
      "\u001b[K     |███████▊                        | 358 kB 35.4 MB/s eta 0:00:01\r",
      "\u001b[K     |████████                        | 368 kB 35.4 MB/s eta 0:00:01\r",
      "\u001b[K     |████████▏                       | 378 kB 35.4 MB/s eta 0:00:01\r",
      "\u001b[K     |████████▍                       | 389 kB 35.4 MB/s eta 0:00:01\r",
      "\u001b[K     |████████▋                       | 399 kB 35.4 MB/s eta 0:00:01\r",
      "\u001b[K     |████████▉                       | 409 kB 35.4 MB/s eta 0:00:01\r",
      "\u001b[K     |█████████                       | 419 kB 35.4 MB/s eta 0:00:01\r",
      "\u001b[K     |█████████▎                      | 430 kB 35.4 MB/s eta 0:00:01\r",
      "\u001b[K     |█████████▌                      | 440 kB 35.4 MB/s eta 0:00:01\r",
      "\u001b[K     |█████████▊                      | 450 kB 35.4 MB/s eta 0:00:01\r",
      "\u001b[K     |██████████                      | 460 kB 35.4 MB/s eta 0:00:01\r",
      "\u001b[K     |██████████                      | 471 kB 35.4 MB/s eta 0:00:01\r",
      "\u001b[K     |██████████▎                     | 481 kB 35.4 MB/s eta 0:00:01\r",
      "\u001b[K     |██████████▌                     | 491 kB 35.4 MB/s eta 0:00:01\r",
      "\u001b[K     |██████████▊                     | 501 kB 35.4 MB/s eta 0:00:01\r",
      "\u001b[K     |███████████                     | 512 kB 35.4 MB/s eta 0:00:01\r",
      "\u001b[K     |███████████▏                    | 522 kB 35.4 MB/s eta 0:00:01\r",
      "\u001b[K     |███████████▍                    | 532 kB 35.4 MB/s eta 0:00:01\r",
      "\u001b[K     |███████████▋                    | 542 kB 35.4 MB/s eta 0:00:01\r",
      "\u001b[K     |███████████▉                    | 552 kB 35.4 MB/s eta 0:00:01\r",
      "\u001b[K     |████████████                    | 563 kB 35.4 MB/s eta 0:00:01\r",
      "\u001b[K     |████████████▎                   | 573 kB 35.4 MB/s eta 0:00:01\r",
      "\u001b[K     |████████████▌                   | 583 kB 35.4 MB/s eta 0:00:01\r",
      "\u001b[K     |████████████▊                   | 593 kB 35.4 MB/s eta 0:00:01\r",
      "\u001b[K     |█████████████                   | 604 kB 35.4 MB/s eta 0:00:01\r",
      "\u001b[K     |█████████████▏                  | 614 kB 35.4 MB/s eta 0:00:01\r",
      "\u001b[K     |█████████████▍                  | 624 kB 35.4 MB/s eta 0:00:01\r",
      "\u001b[K     |█████████████▋                  | 634 kB 35.4 MB/s eta 0:00:01\r",
      "\u001b[K     |█████████████▉                  | 645 kB 35.4 MB/s eta 0:00:01\r",
      "\u001b[K     |██████████████                  | 655 kB 35.4 MB/s eta 0:00:01\r",
      "\u001b[K     |██████████████▎                 | 665 kB 35.4 MB/s eta 0:00:01\r",
      "\u001b[K     |██████████████▌                 | 675 kB 35.4 MB/s eta 0:00:01\r",
      "\u001b[K     |██████████████▊                 | 686 kB 35.4 MB/s eta 0:00:01\r",
      "\u001b[K     |███████████████                 | 696 kB 35.4 MB/s eta 0:00:01\r",
      "\u001b[K     |███████████████▏                | 706 kB 35.4 MB/s eta 0:00:01\r",
      "\u001b[K     |███████████████▍                | 716 kB 35.4 MB/s eta 0:00:01\r",
      "\u001b[K     |███████████████▋                | 727 kB 35.4 MB/s eta 0:00:01\r",
      "\u001b[K     |███████████████▉                | 737 kB 35.4 MB/s eta 0:00:01\r",
      "\u001b[K     |████████████████                | 747 kB 35.4 MB/s eta 0:00:01\r",
      "\u001b[K     |████████████████▎               | 757 kB 35.4 MB/s eta 0:00:01\r",
      "\u001b[K     |████████████████▌               | 768 kB 35.4 MB/s eta 0:00:01\r",
      "\u001b[K     |████████████████▊               | 778 kB 35.4 MB/s eta 0:00:01\r",
      "\u001b[K     |█████████████████               | 788 kB 35.4 MB/s eta 0:00:01\r",
      "\u001b[K     |█████████████████▏              | 798 kB 35.4 MB/s eta 0:00:01\r",
      "\u001b[K     |█████████████████▍              | 808 kB 35.4 MB/s eta 0:00:01\r",
      "\u001b[K     |█████████████████▋              | 819 kB 35.4 MB/s eta 0:00:01\r",
      "\u001b[K     |█████████████████▉              | 829 kB 35.4 MB/s eta 0:00:01\r",
      "\u001b[K     |██████████████████              | 839 kB 35.4 MB/s eta 0:00:01\r",
      "\u001b[K     |██████████████████▎             | 849 kB 35.4 MB/s eta 0:00:01\r",
      "\u001b[K     |██████████████████▌             | 860 kB 35.4 MB/s eta 0:00:01\r",
      "\u001b[K     |██████████████████▊             | 870 kB 35.4 MB/s eta 0:00:01\r",
      "\u001b[K     |███████████████████             | 880 kB 35.4 MB/s eta 0:00:01\r",
      "\u001b[K     |███████████████████▏            | 890 kB 35.4 MB/s eta 0:00:01\r",
      "\u001b[K     |███████████████████▍            | 901 kB 35.4 MB/s eta 0:00:01\r",
      "\u001b[K     |███████████████████▋            | 911 kB 35.4 MB/s eta 0:00:01\r",
      "\u001b[K     |███████████████████▉            | 921 kB 35.4 MB/s eta 0:00:01\r",
      "\u001b[K     |████████████████████            | 931 kB 35.4 MB/s eta 0:00:01\r",
      "\u001b[K     |████████████████████▏           | 942 kB 35.4 MB/s eta 0:00:01\r",
      "\u001b[K     |████████████████████▍           | 952 kB 35.4 MB/s eta 0:00:01\r",
      "\u001b[K     |████████████████████▋           | 962 kB 35.4 MB/s eta 0:00:01\r",
      "\u001b[K     |████████████████████▉           | 972 kB 35.4 MB/s eta 0:00:01\r",
      "\u001b[K     |█████████████████████           | 983 kB 35.4 MB/s eta 0:00:01\r",
      "\u001b[K     |█████████████████████▎          | 993 kB 35.4 MB/s eta 0:00:01\r",
      "\u001b[K     |█████████████████████▌          | 1.0 MB 35.4 MB/s eta 0:00:01\r",
      "\u001b[K     |█████████████████████▊          | 1.0 MB 35.4 MB/s eta 0:00:01\r",
      "\u001b[K     |██████████████████████          | 1.0 MB 35.4 MB/s eta 0:00:01\r",
      "\u001b[K     |██████████████████████▏         | 1.0 MB 35.4 MB/s eta 0:00:01\r",
      "\u001b[K     |██████████████████████▍         | 1.0 MB 35.4 MB/s eta 0:00:01\r",
      "\u001b[K     |██████████████████████▋         | 1.1 MB 35.4 MB/s eta 0:00:01\r",
      "\u001b[K     |██████████████████████▉         | 1.1 MB 35.4 MB/s eta 0:00:01\r",
      "\u001b[K     |███████████████████████         | 1.1 MB 35.4 MB/s eta 0:00:01\r",
      "\u001b[K     |███████████████████████▎        | 1.1 MB 35.4 MB/s eta 0:00:01\r",
      "\u001b[K     |███████████████████████▌        | 1.1 MB 35.4 MB/s eta 0:00:01\r",
      "\u001b[K     |███████████████████████▊        | 1.1 MB 35.4 MB/s eta 0:00:01\r",
      "\u001b[K     |████████████████████████        | 1.1 MB 35.4 MB/s eta 0:00:01\r",
      "\u001b[K     |████████████████████████▏       | 1.1 MB 35.4 MB/s eta 0:00:01\r",
      "\u001b[K     |████████████████████████▍       | 1.1 MB 35.4 MB/s eta 0:00:01\r",
      "\u001b[K     |████████████████████████▋       | 1.1 MB 35.4 MB/s eta 0:00:01\r",
      "\u001b[K     |████████████████████████▉       | 1.2 MB 35.4 MB/s eta 0:00:01\r",
      "\u001b[K     |█████████████████████████       | 1.2 MB 35.4 MB/s eta 0:00:01\r",
      "\u001b[K     |█████████████████████████▎      | 1.2 MB 35.4 MB/s eta 0:00:01\r",
      "\u001b[K     |█████████████████████████▌      | 1.2 MB 35.4 MB/s eta 0:00:01\r",
      "\u001b[K     |█████████████████████████▊      | 1.2 MB 35.4 MB/s eta 0:00:01\r",
      "\u001b[K     |██████████████████████████      | 1.2 MB 35.4 MB/s eta 0:00:01\r",
      "\u001b[K     |██████████████████████████▏     | 1.2 MB 35.4 MB/s eta 0:00:01\r",
      "\u001b[K     |██████████████████████████▍     | 1.2 MB 35.4 MB/s eta 0:00:01\r",
      "\u001b[K     |██████████████████████████▋     | 1.2 MB 35.4 MB/s eta 0:00:01\r",
      "\u001b[K     |██████████████████████████▉     | 1.2 MB 35.4 MB/s eta 0:00:01\r",
      "\u001b[K     |███████████████████████████     | 1.3 MB 35.4 MB/s eta 0:00:01\r",
      "\u001b[K     |███████████████████████████▎    | 1.3 MB 35.4 MB/s eta 0:00:01\r",
      "\u001b[K     |███████████████████████████▌    | 1.3 MB 35.4 MB/s eta 0:00:01\r",
      "\u001b[K     |███████████████████████████▊    | 1.3 MB 35.4 MB/s eta 0:00:01\r",
      "\u001b[K     |████████████████████████████    | 1.3 MB 35.4 MB/s eta 0:00:01\r",
      "\u001b[K     |████████████████████████████▏   | 1.3 MB 35.4 MB/s eta 0:00:01\r",
      "\u001b[K     |████████████████████████████▍   | 1.3 MB 35.4 MB/s eta 0:00:01\r",
      "\u001b[K     |████████████████████████████▋   | 1.3 MB 35.4 MB/s eta 0:00:01\r",
      "\u001b[K     |████████████████████████████▉   | 1.3 MB 35.4 MB/s eta 0:00:01\r",
      "\u001b[K     |█████████████████████████████   | 1.4 MB 35.4 MB/s eta 0:00:01\r",
      "\u001b[K     |█████████████████████████████▎  | 1.4 MB 35.4 MB/s eta 0:00:01\r",
      "\u001b[K     |█████████████████████████████▌  | 1.4 MB 35.4 MB/s eta 0:00:01\r",
      "\u001b[K     |█████████████████████████████▊  | 1.4 MB 35.4 MB/s eta 0:00:01\r",
      "\u001b[K     |██████████████████████████████  | 1.4 MB 35.4 MB/s eta 0:00:01\r",
      "\u001b[K     |██████████████████████████████▏ | 1.4 MB 35.4 MB/s eta 0:00:01\r",
      "\u001b[K     |██████████████████████████████▎ | 1.4 MB 35.4 MB/s eta 0:00:01\r",
      "\u001b[K     |██████████████████████████████▌ | 1.4 MB 35.4 MB/s eta 0:00:01\r",
      "\u001b[K     |██████████████████████████████▊ | 1.4 MB 35.4 MB/s eta 0:00:01\r",
      "\u001b[K     |███████████████████████████████ | 1.4 MB 35.4 MB/s eta 0:00:01\r",
      "\u001b[K     |███████████████████████████████▏| 1.5 MB 35.4 MB/s eta 0:00:01\r",
      "\u001b[K     |███████████████████████████████▍| 1.5 MB 35.4 MB/s eta 0:00:01\r",
      "\u001b[K     |███████████████████████████████▋| 1.5 MB 35.4 MB/s eta 0:00:01\r",
      "\u001b[K     |███████████████████████████████▉| 1.5 MB 35.4 MB/s eta 0:00:01"
     ]
    },
    {
     "name": "stdout",
     "output_type": "stream",
     "text": [
      "\r",
      "\u001b[K     |████████████████████████████████| 1.5 MB 35.4 MB/s \r\n",
      "\u001b[?25hCollecting pyhdfe>=0.1\r\n",
      "  Downloading pyhdfe-0.1.0-py3-none-any.whl (18 kB)\r\n",
      "Requirement already satisfied: statsmodels>=0.11 in /usr/share/miniconda3/envs/quantecon/lib/python3.9/site-packages (from linearmodels) (0.13.2)\r\n",
      "Requirement already satisfied: scipy>=1.2 in /usr/share/miniconda3/envs/quantecon/lib/python3.9/site-packages (from linearmodels) (1.7.3)\r\n",
      "Requirement already satisfied: Cython>=0.29.21 in /usr/share/miniconda3/envs/quantecon/lib/python3.9/site-packages (from linearmodels) (0.29.28)\r\n",
      "Requirement already satisfied: numpy>=1.16 in /usr/share/miniconda3/envs/quantecon/lib/python3.9/site-packages (from linearmodels) (1.21.5)\r\n"
     ]
    },
    {
     "name": "stdout",
     "output_type": "stream",
     "text": [
      "Collecting property-cached>=1.6.3\r\n",
      "  Downloading property_cached-1.6.4-py2.py3-none-any.whl (7.8 kB)\r\n",
      "Requirement already satisfied: mypy-extensions>=0.4 in /usr/share/miniconda3/envs/quantecon/lib/python3.9/site-packages (from linearmodels) (0.4.3)\r\n",
      "Collecting formulaic~=0.3.2\r\n"
     ]
    },
    {
     "name": "stdout",
     "output_type": "stream",
     "text": [
      "  Downloading formulaic-0.3.4-py3-none-any.whl (68 kB)\r\n",
      "\u001b[?25l\r",
      "\u001b[K     |████▉                           | 10 kB 30.6 MB/s eta 0:00:01\r",
      "\u001b[K     |█████████▋                      | 20 kB 35.7 MB/s eta 0:00:01\r",
      "\u001b[K     |██████████████▍                 | 30 kB 42.1 MB/s eta 0:00:01\r",
      "\u001b[K     |███████████████████▎            | 40 kB 45.8 MB/s eta 0:00:01\r",
      "\u001b[K     |████████████████████████        | 51 kB 44.2 MB/s eta 0:00:01\r",
      "\u001b[K     |████████████████████████████▉   | 61 kB 46.7 MB/s eta 0:00:01\r",
      "\u001b[K     |████████████████████████████████| 68 kB 11.7 MB/s \r\n"
     ]
    },
    {
     "name": "stdout",
     "output_type": "stream",
     "text": [
      "\u001b[?25hCollecting setuptools-scm<7.0.0,>=6.4.2\r\n",
      "  Downloading setuptools_scm-6.4.2-py3-none-any.whl (37 kB)\r\n",
      "Requirement already satisfied: pandas>=0.24 in /usr/share/miniconda3/envs/quantecon/lib/python3.9/site-packages (from linearmodels) (1.4.2)\r\n"
     ]
    },
    {
     "name": "stdout",
     "output_type": "stream",
     "text": [
      "Collecting interface-meta<2.0.0,>=1.2.0\r\n",
      "  Downloading interface_meta-1.3.0-py3-none-any.whl (14 kB)\r\n",
      "Requirement already satisfied: wrapt>=1.0 in /usr/share/miniconda3/envs/quantecon/lib/python3.9/site-packages (from formulaic~=0.3.2->linearmodels) (1.12.1)\r\n",
      "Collecting astor>=0.8\r\n",
      "  Downloading astor-0.8.1-py2.py3-none-any.whl (27 kB)\r\n"
     ]
    },
    {
     "name": "stdout",
     "output_type": "stream",
     "text": [
      "Requirement already satisfied: python-dateutil>=2.8.1 in /usr/share/miniconda3/envs/quantecon/lib/python3.9/site-packages (from pandas>=0.24->linearmodels) (2.8.2)\r\n",
      "Requirement already satisfied: pytz>=2020.1 in /usr/share/miniconda3/envs/quantecon/lib/python3.9/site-packages (from pandas>=0.24->linearmodels) (2021.3)\r\n",
      "Requirement already satisfied: six>=1.5 in /usr/share/miniconda3/envs/quantecon/lib/python3.9/site-packages (from python-dateutil>=2.8.1->pandas>=0.24->linearmodels) (1.16.0)\r\n",
      "Requirement already satisfied: packaging>=20.0 in /usr/share/miniconda3/envs/quantecon/lib/python3.9/site-packages (from setuptools-scm<7.0.0,>=6.4.2->linearmodels) (21.3)\r\n",
      "Requirement already satisfied: tomli>=1.0.0 in /usr/share/miniconda3/envs/quantecon/lib/python3.9/site-packages (from setuptools-scm<7.0.0,>=6.4.2->linearmodels) (1.2.2)\r\n",
      "Requirement already satisfied: setuptools in /usr/share/miniconda3/envs/quantecon/lib/python3.9/site-packages (from setuptools-scm<7.0.0,>=6.4.2->linearmodels) (61.2.0)\r\n",
      "Requirement already satisfied: pyparsing!=3.0.5,>=2.0.2 in /usr/share/miniconda3/envs/quantecon/lib/python3.9/site-packages (from packaging>=20.0->setuptools-scm<7.0.0,>=6.4.2->linearmodels) (3.0.4)\r\n"
     ]
    },
    {
     "name": "stdout",
     "output_type": "stream",
     "text": [
      "Requirement already satisfied: patsy>=0.5.2 in /usr/share/miniconda3/envs/quantecon/lib/python3.9/site-packages (from statsmodels>=0.11->linearmodels) (0.5.2)\r\n"
     ]
    },
    {
     "name": "stdout",
     "output_type": "stream",
     "text": [
      "Installing collected packages: interface-meta, astor, setuptools-scm, pyhdfe, property-cached, formulaic, linearmodels\r\n"
     ]
    },
    {
     "name": "stdout",
     "output_type": "stream",
     "text": [
      "Successfully installed astor-0.8.1 formulaic-0.3.4 interface-meta-1.3.0 linearmodels-4.27 property-cached-1.6.4 pyhdfe-0.1.0 setuptools-scm-6.4.2\r\n"
     ]
    }
   ],
   "source": [
    "!pip install linearmodels"
   ]
  },
  {
   "cell_type": "markdown",
   "id": "cc0a8134",
   "metadata": {},
   "source": [
    "## Overview\n",
    "\n",
    "Linear regression is a standard tool for analyzing the relationship between two or more variables.\n",
    "\n",
    "In this lecture, we'll use the Python package `statsmodels` to estimate, interpret, and visualize linear regression models.\n",
    "\n",
    "Along the way, we'll discuss a variety of topics, including\n",
    "\n",
    "- simple and multivariate linear regression\n",
    "- visualization\n",
    "- endogeneity and omitted variable bias\n",
    "- two-stage least squares\n",
    "\n",
    "As an example, we will replicate results from Acemoglu, Johnson and Robinson's seminal paper {cite}`Acemoglu2001`.\n",
    "\n",
    "* You can download a copy [here](https://economics.mit.edu/files/4123).\n",
    "\n",
    "In the paper, the authors emphasize the importance of institutions in economic development.\n",
    "\n",
    "The main contribution is the use of settler mortality rates as a source of *exogenous* variation in institutional differences.\n",
    "\n",
    "Such variation is needed to determine whether it is institutions that give rise to greater economic growth, rather than the other way around.\n",
    "\n",
    "Let's start with some imports:"
   ]
  },
  {
   "cell_type": "code",
   "execution_count": 2,
   "id": "b8f9d799",
   "metadata": {},
   "outputs": [],
   "source": [
    "%matplotlib inline\n",
    "import matplotlib.pyplot as plt\n",
    "plt.rcParams[\"figure.figsize\"] = (11, 5)  #set default figure size\n",
    "import numpy as np\n",
    "import pandas as pd\n",
    "import statsmodels.api as sm\n",
    "from statsmodels.iolib.summary2 import summary_col\n",
    "from linearmodels.iv import IV2SLS"
   ]
  },
  {
   "cell_type": "markdown",
   "id": "0638bad8",
   "metadata": {},
   "source": [
    "### Prerequisites\n",
    "\n",
    "This lecture assumes you are familiar with basic econometrics.\n",
    "\n",
    "For an introductory text covering these topics, see, for example,\n",
    "{cite}`Wooldridge2015`.\n",
    "\n",
    "## Simple Linear Regression\n",
    "\n",
    "{cite}`Acemoglu2001` wish to determine whether or not differences in institutions can help to explain observed economic outcomes.\n",
    "\n",
    "How do we measure *institutional differences* and *economic outcomes*?\n",
    "\n",
    "In this paper,\n",
    "\n",
    "- economic outcomes are proxied by log GDP per capita in 1995, adjusted for exchange rates.\n",
    "- institutional differences are proxied by an index of protection against expropriation on average over 1985-95, constructed by the [Political Risk Services Group](https://www.prsgroup.com/).\n",
    "\n",
    "These variables and other data used in the paper are available for download on Daron Acemoglu's [webpage](https://economics.mit.edu/faculty/acemoglu/data/ajr2001).\n",
    "\n",
    "We will use pandas' `.read_stata()` function to read in data contained in the `.dta` files to dataframes"
   ]
  },
  {
   "cell_type": "code",
   "execution_count": 3,
   "id": "61f09846",
   "metadata": {},
   "outputs": [
    {
     "data": {
      "text/html": [
       "<div>\n",
       "<style scoped>\n",
       "    .dataframe tbody tr th:only-of-type {\n",
       "        vertical-align: middle;\n",
       "    }\n",
       "\n",
       "    .dataframe tbody tr th {\n",
       "        vertical-align: top;\n",
       "    }\n",
       "\n",
       "    .dataframe thead th {\n",
       "        text-align: right;\n",
       "    }\n",
       "</style>\n",
       "<table border=\"1\" class=\"dataframe\">\n",
       "  <thead>\n",
       "    <tr style=\"text-align: right;\">\n",
       "      <th></th>\n",
       "      <th>shortnam</th>\n",
       "      <th>euro1900</th>\n",
       "      <th>excolony</th>\n",
       "      <th>avexpr</th>\n",
       "      <th>logpgp95</th>\n",
       "      <th>cons1</th>\n",
       "      <th>cons90</th>\n",
       "      <th>democ00a</th>\n",
       "      <th>cons00a</th>\n",
       "      <th>extmort4</th>\n",
       "      <th>logem4</th>\n",
       "      <th>loghjypl</th>\n",
       "      <th>baseco</th>\n",
       "    </tr>\n",
       "  </thead>\n",
       "  <tbody>\n",
       "    <tr>\n",
       "      <th>0</th>\n",
       "      <td>AFG</td>\n",
       "      <td>0.000000</td>\n",
       "      <td>1.0</td>\n",
       "      <td>NaN</td>\n",
       "      <td>NaN</td>\n",
       "      <td>1.0</td>\n",
       "      <td>2.0</td>\n",
       "      <td>1.0</td>\n",
       "      <td>1.0</td>\n",
       "      <td>93.699997</td>\n",
       "      <td>4.540098</td>\n",
       "      <td>NaN</td>\n",
       "      <td>NaN</td>\n",
       "    </tr>\n",
       "    <tr>\n",
       "      <th>1</th>\n",
       "      <td>AGO</td>\n",
       "      <td>8.000000</td>\n",
       "      <td>1.0</td>\n",
       "      <td>5.363636</td>\n",
       "      <td>7.770645</td>\n",
       "      <td>3.0</td>\n",
       "      <td>3.0</td>\n",
       "      <td>0.0</td>\n",
       "      <td>1.0</td>\n",
       "      <td>280.000000</td>\n",
       "      <td>5.634789</td>\n",
       "      <td>-3.411248</td>\n",
       "      <td>1.0</td>\n",
       "    </tr>\n",
       "    <tr>\n",
       "      <th>2</th>\n",
       "      <td>ARE</td>\n",
       "      <td>0.000000</td>\n",
       "      <td>1.0</td>\n",
       "      <td>7.181818</td>\n",
       "      <td>9.804219</td>\n",
       "      <td>NaN</td>\n",
       "      <td>NaN</td>\n",
       "      <td>NaN</td>\n",
       "      <td>NaN</td>\n",
       "      <td>NaN</td>\n",
       "      <td>NaN</td>\n",
       "      <td>NaN</td>\n",
       "      <td>NaN</td>\n",
       "    </tr>\n",
       "    <tr>\n",
       "      <th>3</th>\n",
       "      <td>ARG</td>\n",
       "      <td>60.000004</td>\n",
       "      <td>1.0</td>\n",
       "      <td>6.386364</td>\n",
       "      <td>9.133459</td>\n",
       "      <td>1.0</td>\n",
       "      <td>6.0</td>\n",
       "      <td>3.0</td>\n",
       "      <td>3.0</td>\n",
       "      <td>68.900002</td>\n",
       "      <td>4.232656</td>\n",
       "      <td>-0.872274</td>\n",
       "      <td>1.0</td>\n",
       "    </tr>\n",
       "    <tr>\n",
       "      <th>4</th>\n",
       "      <td>ARM</td>\n",
       "      <td>0.000000</td>\n",
       "      <td>0.0</td>\n",
       "      <td>NaN</td>\n",
       "      <td>7.682482</td>\n",
       "      <td>NaN</td>\n",
       "      <td>NaN</td>\n",
       "      <td>NaN</td>\n",
       "      <td>NaN</td>\n",
       "      <td>NaN</td>\n",
       "      <td>NaN</td>\n",
       "      <td>NaN</td>\n",
       "      <td>NaN</td>\n",
       "    </tr>\n",
       "  </tbody>\n",
       "</table>\n",
       "</div>"
      ],
      "text/plain": [
       "  shortnam   euro1900  excolony    avexpr  logpgp95  cons1  cons90  democ00a  \\\n",
       "0      AFG   0.000000       1.0       NaN       NaN    1.0     2.0       1.0   \n",
       "1      AGO   8.000000       1.0  5.363636  7.770645    3.0     3.0       0.0   \n",
       "2      ARE   0.000000       1.0  7.181818  9.804219    NaN     NaN       NaN   \n",
       "3      ARG  60.000004       1.0  6.386364  9.133459    1.0     6.0       3.0   \n",
       "4      ARM   0.000000       0.0       NaN  7.682482    NaN     NaN       NaN   \n",
       "\n",
       "   cons00a    extmort4    logem4  loghjypl  baseco  \n",
       "0      1.0   93.699997  4.540098       NaN     NaN  \n",
       "1      1.0  280.000000  5.634789 -3.411248     1.0  \n",
       "2      NaN         NaN       NaN       NaN     NaN  \n",
       "3      3.0   68.900002  4.232656 -0.872274     1.0  \n",
       "4      NaN         NaN       NaN       NaN     NaN  "
      ]
     },
     "execution_count": 3,
     "metadata": {},
     "output_type": "execute_result"
    }
   ],
   "source": [
    "df1 = pd.read_stata('https://github.com/QuantEcon/lecture-python/blob/master/source/_static/lecture_specific/ols/maketable1.dta?raw=true')\n",
    "df1.head()"
   ]
  },
  {
   "cell_type": "markdown",
   "id": "ee48a3f7",
   "metadata": {},
   "source": [
    "Let's use a scatterplot to see whether any obvious relationship exists\n",
    "between GDP per capita and the protection against\n",
    "expropriation index"
   ]
  },
  {
   "cell_type": "code",
   "execution_count": 4,
   "id": "bf508112",
   "metadata": {},
   "outputs": [
    {
     "data": {
      "image/png": "[encoded data removed]",
      "text/plain": [
       "<Figure size 576x396 with 1 Axes>"
      ]
     },
     "metadata": {
      "filenames": {
       "image/png": "/home/runner/work/lecture-python.myst/lecture-python.myst/_build/jupyter_execute/ols_7_0.png"
      }
     },
     "output_type": "display_data"
    }
   ],
   "source": [
    "plt.style.use('seaborn')\n",
    "\n",
    "df1.plot(x='avexpr', y='logpgp95', kind='scatter')\n",
    "plt.show()"
   ]
  },
  {
   "cell_type": "markdown",
   "id": "185fe7db",
   "metadata": {},
   "source": [
    "The plot shows a fairly strong positive relationship between\n",
    "protection against expropriation and log GDP per capita.\n",
    "\n",
    "Specifically, if higher protection against expropriation is a measure of\n",
    "institutional quality, then better institutions appear to be positively\n",
    "correlated with better economic outcomes (higher GDP per capita).\n",
    "\n",
    "Given the plot, choosing a linear model to describe this relationship\n",
    "seems like a reasonable assumption.\n",
    "\n",
    "We can write our model as\n",
    "\n",
    "$$\n",
    "{logpgp95}_i = \\beta_0 + \\beta_1 {avexpr}_i + u_i\n",
    "$$\n",
    "\n",
    "where:\n",
    "\n",
    "- $\\beta_0$ is the intercept of the linear trend line on the\n",
    "  y-axis\n",
    "- $\\beta_1$ is the slope of the linear trend line, representing\n",
    "  the *marginal effect* of protection against risk on log GDP per\n",
    "  capita\n",
    "- $u_i$ is a random error term (deviations of observations from\n",
    "  the linear trend due to factors not included in the model)\n",
    "\n",
    "Visually, this linear model involves choosing a straight line that best\n",
    "fits the data, as in the following plot (Figure 2 in {cite}`Acemoglu2001`)"
   ]
  },
  {
   "cell_type": "code",
   "execution_count": 5,
   "id": "590029a0",
   "metadata": {},
   "outputs": [
    {
     "data": {
      "image/png": "[encoded data removed]",
      "text/plain": [
       "<Figure size 576x396 with 1 Axes>"
      ]
     },
     "metadata": {
      "filenames": {
       "image/png": "/home/runner/work/lecture-python.myst/lecture-python.myst/_build/jupyter_execute/ols_9_0.png"
      }
     },
     "output_type": "display_data"
    }
   ],
   "source": [
    "# Dropping NA's is required to use numpy's polyfit\n",
    "df1_subset = df1.dropna(subset=['logpgp95', 'avexpr'])\n",
    "\n",
    "# Use only 'base sample' for plotting purposes\n",
    "df1_subset = df1_subset[df1_subset['baseco'] == 1]\n",
    "\n",
    "X = df1_subset['avexpr']\n",
    "y = df1_subset['logpgp95']\n",
    "labels = df1_subset['shortnam']\n",
    "\n",
    "# Replace markers with country labels\n",
    "fig, ax = plt.subplots()\n",
    "ax.scatter(X, y, marker='')\n",
    "\n",
    "for i, label in enumerate(labels):\n",
    "    ax.annotate(label, (X.iloc[i], y.iloc[i]))\n",
    "\n",
    "# Fit a linear trend line\n",
    "ax.plot(np.unique(X),\n",
    "         np.poly1d(np.polyfit(X, y, 1))(np.unique(X)),\n",
    "         color='black')\n",
    "\n",
    "ax.set_xlim([3.3,10.5])\n",
    "ax.set_ylim([4,10.5])\n",
    "ax.set_xlabel('Average Expropriation Risk 1985-95')\n",
    "ax.set_ylabel('Log GDP per capita, PPP, 1995')\n",
    "ax.set_title('Figure 2: OLS relationship between expropriation \\\n",
    "    risk and income')\n",
    "plt.show()"
   ]
  },
  {
   "cell_type": "markdown",
   "id": "362a9b1f",
   "metadata": {},
   "source": [
    "The most common technique to estimate the parameters ($\\beta$'s)\n",
    "of the linear model is Ordinary Least Squares (OLS).\n",
    "\n",
    "As the name implies, an OLS model is solved by finding the parameters\n",
    "that minimize *the sum of squared residuals*, i.e.\n",
    "\n",
    "$$\n",
    "\\underset{\\hat{\\beta}}{\\min} \\sum^N_{i=1}{\\hat{u}^2_i}\n",
    "$$\n",
    "\n",
    "where $\\hat{u}_i$ is the difference between the observation and\n",
    "the predicted value of the dependent variable.\n",
    "\n",
    "To estimate the constant term $\\beta_0$, we need to add a column\n",
    "of 1's to our dataset (consider the equation if $\\beta_0$ was\n",
    "replaced with $\\beta_0 x_i$ and $x_i = 1$)"
   ]
  },
  {
   "cell_type": "code",
   "execution_count": 6,
   "id": "d85b7b8b",
   "metadata": {},
   "outputs": [],
   "source": [
    "df1['const'] = 1"
   ]
  },
  {
   "cell_type": "markdown",
   "id": "bc6badff",
   "metadata": {},
   "source": [
    "Now we can construct our model in `statsmodels` using the OLS function.\n",
    "\n",
    "We will use `pandas` dataframes with `statsmodels`, however standard arrays can also be used as arguments"
   ]
  },
  {
   "cell_type": "code",
   "execution_count": 7,
   "id": "afc174b4",
   "metadata": {},
   "outputs": [
    {
     "data": {
      "text/plain": [
       "statsmodels.regression.linear_model.OLS"
      ]
     },
     "execution_count": 7,
     "metadata": {},
     "output_type": "execute_result"
    }
   ],
   "source": [
    "reg1 = sm.OLS(endog=df1['logpgp95'], exog=df1[['const', 'avexpr']], \\\n",
    "    missing='drop')\n",
    "type(reg1)"
   ]
  },
  {
   "cell_type": "markdown",
   "id": "771770ea",
   "metadata": {},
   "source": [
    "So far we have simply constructed our model.\n",
    "\n",
    "We need to use `.fit()` to obtain parameter estimates\n",
    "$\\hat{\\beta}_0$ and $\\hat{\\beta}_1$"
   ]
  },
  {
   "cell_type": "code",
   "execution_count": 8,
   "id": "b69f0f76",
   "metadata": {},
   "outputs": [
    {
     "data": {
      "text/plain": [
       "statsmodels.regression.linear_model.RegressionResultsWrapper"
      ]
     },
     "execution_count": 8,
     "metadata": {},
     "output_type": "execute_result"
    }
   ],
   "source": [
    "results = reg1.fit()\n",
    "type(results)"
   ]
  },
  {
   "cell_type": "markdown",
   "id": "25581877",
   "metadata": {},
   "source": [
    "We now have the fitted regression model stored in `results`.\n",
    "\n",
    "To view the OLS regression results, we can call the `.summary()`\n",
    "method.\n",
    "\n",
    "Note that an observation was mistakenly dropped from the results in the\n",
    "original paper (see the note located in maketable2.do from Acemoglu's webpage), and thus the\n",
    "coefficients differ slightly."
   ]
  },
  {
   "cell_type": "code",
   "execution_count": 9,
   "id": "f50da429",
   "metadata": {},
   "outputs": [
    {
     "name": "stdout",
     "output_type": "stream",
     "text": [
      "                            OLS Regression Results                            \n",
      "==============================================================================\n",
      "Dep. Variable:               logpgp95   R-squared:                       0.611\n",
      "Model:                            OLS   Adj. R-squared:                  0.608\n",
      "Method:                 Least Squares   F-statistic:                     171.4\n",
      "Date:                Thu, 21 Jul 2022   Prob (F-statistic):           4.16e-24\n",
      "Time:                        23:41:40   Log-Likelihood:                -119.71\n",
      "No. Observations:                 111   AIC:                             243.4\n",
      "Df Residuals:                     109   BIC:                             248.8\n",
      "Df Model:                           1                                         \n",
      "Covariance Type:            nonrobust                                         \n",
      "==============================================================================\n",
      "                 coef    std err          t      P>|t|      [0.025      0.975]\n",
      "------------------------------------------------------------------------------\n",
      "const          4.6261      0.301     15.391      0.000       4.030       5.222\n",
      "avexpr         0.5319      0.041     13.093      0.000       0.451       0.612\n",
      "==============================================================================\n",
      "Omnibus:                        9.251   Durbin-Watson:                   1.689\n",
      "Prob(Omnibus):                  0.010   Jarque-Bera (JB):                9.170\n",
      "Skew:                          -0.680   Prob(JB):                       0.0102\n",
      "Kurtosis:                       3.362   Cond. No.                         33.2\n",
      "==============================================================================\n",
      "\n",
      "Notes:\n",
      "[1] Standard Errors assume that the covariance matrix of the errors is correctly specified.\n"
     ]
    }
   ],
   "source": [
    "print(results.summary())"
   ]
  },
  {
   "cell_type": "markdown",
   "id": "050a8887",
   "metadata": {},
   "source": [
    "From our results, we see that\n",
    "\n",
    "- The intercept $\\hat{\\beta}_0 = 4.63$.\n",
    "- The slope $\\hat{\\beta}_1 = 0.53$.\n",
    "- The positive $\\hat{\\beta}_1$ parameter estimate implies that.\n",
    "  institutional quality has a positive effect on economic outcomes, as\n",
    "  we saw in the figure.\n",
    "- The p-value of 0.000 for $\\hat{\\beta}_1$ implies that the\n",
    "  effect of institutions on GDP is statistically significant (using p <\n",
    "  0.05 as a rejection rule).\n",
    "- The R-squared value of 0.611 indicates that around 61% of variation\n",
    "  in log GDP per capita is explained by protection against\n",
    "  expropriation.\n",
    "\n",
    "Using our parameter estimates, we can now write our estimated\n",
    "relationship as\n",
    "\n",
    "$$\n",
    "\\widehat{logpgp95}_i = 4.63 + 0.53 \\ {avexpr}_i\n",
    "$$\n",
    "\n",
    "This equation describes the line that best fits our data, as shown in\n",
    "Figure 2.\n",
    "\n",
    "We can use this equation to predict the level of log GDP per capita for\n",
    "a value of the index of expropriation protection.\n",
    "\n",
    "For example, for a country with an index value of 7.07 (the average for\n",
    "the dataset), we find that their predicted level of log GDP per capita\n",
    "in 1995 is 8.38."
   ]
  },
  {
   "cell_type": "code",
   "execution_count": 10,
   "id": "c9812ff1",
   "metadata": {},
   "outputs": [
    {
     "data": {
      "text/plain": [
       "6.515625"
      ]
     },
     "execution_count": 10,
     "metadata": {},
     "output_type": "execute_result"
    }
   ],
   "source": [
    "mean_expr = np.mean(df1_subset['avexpr'])\n",
    "mean_expr"
   ]
  },
  {
   "cell_type": "code",
   "execution_count": 11,
   "id": "08347e92",
   "metadata": {},
   "outputs": [
    {
     "data": {
      "text/plain": [
       "8.3771"
      ]
     },
     "execution_count": 11,
     "metadata": {},
     "output_type": "execute_result"
    }
   ],
   "source": [
    "predicted_logpdp95 = 4.63 + 0.53 * 7.07\n",
    "predicted_logpdp95"
   ]
  },
  {
   "cell_type": "markdown",
   "id": "15305549",
   "metadata": {},
   "source": [
    "An easier (and more accurate) way to obtain this result is to use\n",
    "`.predict()` and set $constant = 1$ and\n",
    "${avexpr}_i = mean\\_expr$"
   ]
  },
  {
   "cell_type": "code",
   "execution_count": 12,
   "id": "3e973c36",
   "metadata": {},
   "outputs": [
    {
     "data": {
      "text/plain": [
       "array([8.09156367])"
      ]
     },
     "execution_count": 12,
     "metadata": {},
     "output_type": "execute_result"
    }
   ],
   "source": [
    "results.predict(exog=[1, mean_expr])"
   ]
  },
  {
   "cell_type": "markdown",
   "id": "72375f66",
   "metadata": {},
   "source": [
    "We can obtain an array of predicted ${logpgp95}_i$ for every value\n",
    "of ${avexpr}_i$ in our dataset by calling `.predict()` on our\n",
    "results.\n",
    "\n",
    "Plotting the predicted values against ${avexpr}_i$ shows that the\n",
    "predicted values lie along the linear line that we fitted above.\n",
    "\n",
    "The observed values of ${logpgp95}_i$ are also plotted for\n",
    "comparison purposes"
   ]
  },
  {
   "cell_type": "code",
   "execution_count": 13,
   "id": "09068c27",
   "metadata": {},
   "outputs": [
    {
     "data": {
      "image/png": "[encoded data removed]",
      "text/plain": [
       "<Figure size 576x396 with 1 Axes>"
      ]
     },
     "metadata": {
      "filenames": {
       "image/png": "/home/runner/work/lecture-python.myst/lecture-python.myst/_build/jupyter_execute/ols_24_0.png"
      }
     },
     "output_type": "display_data"
    }
   ],
   "source": [
    "# Drop missing observations from whole sample\n",
    "\n",
    "df1_plot = df1.dropna(subset=['logpgp95', 'avexpr'])\n",
    "\n",
    "# Plot predicted values\n",
    "\n",
    "fix, ax = plt.subplots()\n",
    "ax.scatter(df1_plot['avexpr'], results.predict(), alpha=0.5,\n",
    "        label='predicted')\n",
    "\n",
    "# Plot observed values\n",
    "\n",
    "ax.scatter(df1_plot['avexpr'], df1_plot['logpgp95'], alpha=0.5,\n",
    "        label='observed')\n",
    "\n",
    "ax.legend()\n",
    "ax.set_title('OLS predicted values')\n",
    "ax.set_xlabel('avexpr')\n",
    "ax.set_ylabel('logpgp95')\n",
    "plt.show()"
   ]
  },
  {
   "cell_type": "markdown",
   "id": "0094b8a7",
   "metadata": {},
   "source": [
    "## Extending the Linear Regression Model\n",
    "\n",
    "So far we have only accounted for institutions affecting economic\n",
    "performance - almost certainly there are numerous other factors\n",
    "affecting GDP that are not included in our model.\n",
    "\n",
    "Leaving out variables that affect $logpgp95_i$ will result in **omitted variable bias**, yielding biased and inconsistent parameter estimates.\n",
    "\n",
    "We can extend our bivariate regression model to a **multivariate regression model** by adding in other factors that may affect $logpgp95_i$.\n",
    "\n",
    "{cite}`Acemoglu2001` consider other factors such as:\n",
    "\n",
    "- the effect of climate on economic outcomes; latitude is used to proxy\n",
    "  this\n",
    "- differences that affect both economic performance and institutions,\n",
    "  eg. cultural, historical, etc.; controlled for with the use of\n",
    "  continent dummies\n",
    "\n",
    "Let's estimate some of the extended models considered in the paper\n",
    "(Table 2) using data from `maketable2.dta`"
   ]
  },
  {
   "cell_type": "code",
   "execution_count": 14,
   "id": "53ce1f26",
   "metadata": {},
   "outputs": [],
   "source": [
    "df2 = pd.read_stata('https://github.com/QuantEcon/lecture-python/blob/master/source/_static/lecture_specific/ols/maketable2.dta?raw=true')\n",
    "\n",
    "# Add constant term to dataset\n",
    "df2['const'] = 1\n",
    "\n",
    "# Create lists of variables to be used in each regression\n",
    "X1 = ['const', 'avexpr']\n",
    "X2 = ['const', 'avexpr', 'lat_abst']\n",
    "X3 = ['const', 'avexpr', 'lat_abst', 'asia', 'africa', 'other']\n",
    "\n",
    "# Estimate an OLS regression for each set of variables\n",
    "reg1 = sm.OLS(df2['logpgp95'], df2[X1], missing='drop').fit()\n",
    "reg2 = sm.OLS(df2['logpgp95'], df2[X2], missing='drop').fit()\n",
    "reg3 = sm.OLS(df2['logpgp95'], df2[X3], missing='drop').fit()"
   ]
  },
  {
   "cell_type": "markdown",
   "id": "59fef7d8",
   "metadata": {},
   "source": [
    "Now that we have fitted our model, we will use `summary_col` to\n",
    "display the results in a single table (model numbers correspond to those\n",
    "in the paper)"
   ]
  },
  {
   "cell_type": "code",
   "execution_count": 15,
   "id": "d22123b4",
   "metadata": {},
   "outputs": [
    {
     "name": "stdout",
     "output_type": "stream",
     "text": [
      "        Table 2 - OLS Regressions\n",
      "=========================================\n",
      "                 Model 1 Model 3 Model 4 \n",
      "-----------------------------------------\n",
      "const            4.63*** 4.87*** 5.85*** \n",
      "                 (0.30)  (0.33)  (0.34)  \n",
      "avexpr           0.53*** 0.46*** 0.39*** \n",
      "                 (0.04)  (0.06)  (0.05)  \n",
      "lat_abst                 0.87*   0.33    \n",
      "                         (0.49)  (0.45)  \n",
      "asia                             -0.15   \n",
      "                                 (0.15)  \n",
      "africa                           -0.92***\n",
      "                                 (0.17)  \n",
      "other                            0.30    \n",
      "                                 (0.37)  \n",
      "R-squared        0.61    0.62    0.72    \n",
      "R-squared Adj.   0.61    0.62    0.70    \n",
      "R-squared        0.61    0.62    0.72    \n",
      "No. observations 111     111     111     \n",
      "=========================================\n",
      "Standard errors in parentheses.\n",
      "* p<.1, ** p<.05, ***p<.01\n"
     ]
    }
   ],
   "source": [
    "info_dict={'R-squared' : lambda x: f\"{x.rsquared:.2f}\",\n",
    "           'No. observations' : lambda x: f\"{int(x.nobs):d}\"}\n",
    "\n",
    "results_table = summary_col(results=[reg1,reg2,reg3],\n",
    "                            float_format='%0.2f',\n",
    "                            stars = True,\n",
    "                            model_names=['Model 1',\n",
    "                                         'Model 3',\n",
    "                                         'Model 4'],\n",
    "                            info_dict=info_dict,\n",
    "                            regressor_order=['const',\n",
    "                                             'avexpr',\n",
    "                                             'lat_abst',\n",
    "                                             'asia',\n",
    "                                             'africa'])\n",
    "\n",
    "results_table.add_title('Table 2 - OLS Regressions')\n",
    "\n",
    "print(results_table)"
   ]
  },
  {
   "cell_type": "markdown",
   "id": "d8f0e9f1",
   "metadata": {},
   "source": [
    "## Endogeneity\n",
    "\n",
    "As {cite}`Acemoglu2001` discuss, the OLS models likely suffer from\n",
    "**endogeneity** issues, resulting in biased and inconsistent model\n",
    "estimates.\n",
    "\n",
    "Namely, there is likely a two-way relationship between institutions and\n",
    "economic outcomes:\n",
    "\n",
    "- richer countries may be able to afford or prefer better institutions\n",
    "- variables that affect income may also be correlated with\n",
    "  institutional differences\n",
    "- the construction of the index may be biased; analysts may be biased\n",
    "  towards seeing countries with higher income having better\n",
    "  institutions\n",
    "\n",
    "To deal with endogeneity, we can use **two-stage least squares (2SLS)\n",
    "regression**, which is an extension of OLS regression.\n",
    "\n",
    "This method requires replacing the endogenous variable\n",
    "${avexpr}_i$ with a variable that is:\n",
    "\n",
    "1. correlated with ${avexpr}_i$\n",
    "1. not correlated with the error term (ie. it should not directly affect\n",
    "   the dependent variable, otherwise it would be correlated with\n",
    "   $u_i$ due to omitted variable bias)\n",
    "\n",
    "The new set of regressors is called an **instrument**, which aims to\n",
    "remove endogeneity in our proxy of institutional differences.\n",
    "\n",
    "The main contribution of {cite}`Acemoglu2001` is the use of settler mortality\n",
    "rates to instrument for institutional differences.\n",
    "\n",
    "They hypothesize that higher mortality rates of colonizers led to the\n",
    "establishment of institutions that were more extractive in nature (less\n",
    "protection against expropriation), and these institutions still persist\n",
    "today.\n",
    "\n",
    "Using a scatterplot (Figure 3 in {cite}`Acemoglu2001`), we can see protection\n",
    "against expropriation is negatively correlated with settler mortality\n",
    "rates, coinciding with the authors' hypothesis and satisfying the first\n",
    "condition of a valid instrument."
   ]
  },
  {
   "cell_type": "code",
   "execution_count": 16,
   "id": "1400acc9",
   "metadata": {},
   "outputs": [
    {
     "data": {
      "image/png": "[encoded data removed]",
      "text/plain": [
       "<Figure size 576x396 with 1 Axes>"
      ]
     },
     "metadata": {
      "filenames": {
       "image/png": "/home/runner/work/lecture-python.myst/lecture-python.myst/_build/jupyter_execute/ols_30_0.png"
      }
     },
     "output_type": "display_data"
    }
   ],
   "source": [
    "# Dropping NA's is required to use numpy's polyfit\n",
    "df1_subset2 = df1.dropna(subset=['logem4', 'avexpr'])\n",
    "\n",
    "X = df1_subset2['logem4']\n",
    "y = df1_subset2['avexpr']\n",
    "labels = df1_subset2['shortnam']\n",
    "\n",
    "# Replace markers with country labels\n",
    "fig, ax = plt.subplots()\n",
    "ax.scatter(X, y, marker='')\n",
    "\n",
    "for i, label in enumerate(labels):\n",
    "    ax.annotate(label, (X.iloc[i], y.iloc[i]))\n",
    "\n",
    "# Fit a linear trend line\n",
    "ax.plot(np.unique(X),\n",
    "         np.poly1d(np.polyfit(X, y, 1))(np.unique(X)),\n",
    "         color='black')\n",
    "\n",
    "ax.set_xlim([1.8,8.4])\n",
    "ax.set_ylim([3.3,10.4])\n",
    "ax.set_xlabel('Log of Settler Mortality')\n",
    "ax.set_ylabel('Average Expropriation Risk 1985-95')\n",
    "ax.set_title('Figure 3: First-stage relationship between settler mortality \\\n",
    "    and expropriation risk')\n",
    "plt.show()"
   ]
  },
  {
   "cell_type": "markdown",
   "id": "4cf1c6a1",
   "metadata": {},
   "source": [
    "The second condition may not be satisfied if settler mortality rates in the 17th to 19th centuries have a direct effect on current GDP (in addition to their indirect effect through institutions).\n",
    "\n",
    "For example, settler mortality rates may be related to the current disease environment in a country, which could affect current economic performance.\n",
    "\n",
    "{cite}`Acemoglu2001` argue this is unlikely because:\n",
    "\n",
    "- The majority of settler deaths were due to malaria and yellow fever\n",
    "  and had a limited effect on local people.\n",
    "- The disease burden on local people in Africa or India, for example,\n",
    "  did not appear to be higher than average, supported by relatively\n",
    "  high population densities in these areas before colonization.\n",
    "\n",
    "As we appear to have a valid instrument, we can use 2SLS regression to\n",
    "obtain consistent and unbiased parameter estimates.\n",
    "\n",
    "**First stage**\n",
    "\n",
    "The first stage involves regressing the endogenous variable\n",
    "(${avexpr}_i$) on the instrument.\n",
    "\n",
    "The instrument is the set of all exogenous variables in our model (and\n",
    "not just the variable we have replaced).\n",
    "\n",
    "Using model 1 as an example, our instrument is simply a constant and\n",
    "settler mortality rates ${logem4}_i$.\n",
    "\n",
    "Therefore, we will estimate the first-stage regression as\n",
    "\n",
    "$$\n",
    "{avexpr}_i = \\delta_0 + \\delta_1 {logem4}_i + v_i\n",
    "$$\n",
    "\n",
    "The data we need to estimate this equation is located in\n",
    "`maketable4.dta` (only complete data, indicated by `baseco = 1`, is\n",
    "used for estimation)"
   ]
  },
  {
   "cell_type": "code",
   "execution_count": 17,
   "id": "e85e068c",
   "metadata": {},
   "outputs": [
    {
     "name": "stdout",
     "output_type": "stream",
     "text": [
      "                            OLS Regression Results                            \n",
      "==============================================================================\n",
      "Dep. Variable:                 avexpr   R-squared:                       0.270\n",
      "Model:                            OLS   Adj. R-squared:                  0.258\n",
      "Method:                 Least Squares   F-statistic:                     22.95\n",
      "Date:                Thu, 21 Jul 2022   Prob (F-statistic):           1.08e-05\n",
      "Time:                        23:41:43   Log-Likelihood:                -104.83\n",
      "No. Observations:                  64   AIC:                             213.7\n",
      "Df Residuals:                      62   BIC:                             218.0\n",
      "Df Model:                           1                                         \n",
      "Covariance Type:            nonrobust                                         \n",
      "==============================================================================\n",
      "                 coef    std err          t      P>|t|      [0.025      0.975]\n",
      "------------------------------------------------------------------------------\n",
      "const          9.3414      0.611     15.296      0.000       8.121      10.562\n",
      "logem4        -0.6068      0.127     -4.790      0.000      -0.860      -0.354\n",
      "==============================================================================\n",
      "Omnibus:                        0.035   Durbin-Watson:                   2.003\n",
      "Prob(Omnibus):                  0.983   Jarque-Bera (JB):                0.172\n",
      "Skew:                           0.045   Prob(JB):                        0.918\n",
      "Kurtosis:                       2.763   Cond. No.                         19.4\n",
      "==============================================================================\n",
      "\n",
      "Notes:\n",
      "[1] Standard Errors assume that the covariance matrix of the errors is correctly specified.\n"
     ]
    }
   ],
   "source": [
    "# Import and select the data\n",
    "df4 = pd.read_stata('https://github.com/QuantEcon/lecture-python/blob/master/source/_static/lecture_specific/ols/maketable4.dta?raw=true')\n",
    "df4 = df4[df4['baseco'] == 1]\n",
    "\n",
    "# Add a constant variable\n",
    "df4['const'] = 1\n",
    "\n",
    "# Fit the first stage regression and print summary\n",
    "results_fs = sm.OLS(df4['avexpr'],\n",
    "                    df4[['const', 'logem4']],\n",
    "                    missing='drop').fit()\n",
    "print(results_fs.summary())"
   ]
  },
  {
   "cell_type": "markdown",
   "id": "e44b38b6",
   "metadata": {},
   "source": [
    "**Second stage**\n",
    "\n",
    "We need to retrieve the predicted values of ${avexpr}_i$ using\n",
    "`.predict()`.\n",
    "\n",
    "We then replace the endogenous variable ${avexpr}_i$ with the\n",
    "predicted values $\\widehat{avexpr}_i$ in the original linear model.\n",
    "\n",
    "Our second stage regression is thus\n",
    "\n",
    "$$\n",
    "{logpgp95}_i = \\beta_0 + \\beta_1 \\widehat{avexpr}_i + u_i\n",
    "$$"
   ]
  },
  {
   "cell_type": "code",
   "execution_count": 18,
   "id": "91ad5a9f",
   "metadata": {},
   "outputs": [
    {
     "name": "stdout",
     "output_type": "stream",
     "text": [
      "                            OLS Regression Results                            \n",
      "==============================================================================\n",
      "Dep. Variable:               logpgp95   R-squared:                       0.477\n",
      "Model:                            OLS   Adj. R-squared:                  0.469\n",
      "Method:                 Least Squares   F-statistic:                     56.60\n",
      "Date:                Thu, 21 Jul 2022   Prob (F-statistic):           2.66e-10\n",
      "Time:                        23:41:43   Log-Likelihood:                -72.268\n",
      "No. Observations:                  64   AIC:                             148.5\n",
      "Df Residuals:                      62   BIC:                             152.9\n",
      "Df Model:                           1                                         \n",
      "Covariance Type:            nonrobust                                         \n",
      "====================================================================================\n",
      "                       coef    std err          t      P>|t|      [0.025      0.975]\n",
      "------------------------------------------------------------------------------------\n",
      "const                1.9097      0.823      2.320      0.024       0.264       3.555\n",
      "predicted_avexpr     0.9443      0.126      7.523      0.000       0.693       1.195\n",
      "==============================================================================\n",
      "Omnibus:                       10.547   Durbin-Watson:                   2.137\n",
      "Prob(Omnibus):                  0.005   Jarque-Bera (JB):               11.010\n",
      "Skew:                          -0.790   Prob(JB):                      0.00407\n",
      "Kurtosis:                       4.277   Cond. No.                         58.1\n",
      "==============================================================================\n",
      "\n",
      "Notes:\n",
      "[1] Standard Errors assume that the covariance matrix of the errors is correctly specified.\n"
     ]
    }
   ],
   "source": [
    "df4['predicted_avexpr'] = results_fs.predict()\n",
    "\n",
    "results_ss = sm.OLS(df4['logpgp95'],\n",
    "                    df4[['const', 'predicted_avexpr']]).fit()\n",
    "print(results_ss.summary())"
   ]
  },
  {
   "cell_type": "markdown",
   "id": "dba7029b",
   "metadata": {},
   "source": [
    "The second-stage regression results give us an unbiased and consistent\n",
    "estimate of the effect of institutions on economic outcomes.\n",
    "\n",
    "The result suggests a stronger positive relationship than what the OLS\n",
    "results indicated.\n",
    "\n",
    "Note that while our parameter estimates are correct, our standard errors\n",
    "are not and for this reason, computing 2SLS 'manually' (in stages with\n",
    "OLS) is not recommended.\n",
    "\n",
    "We can correctly estimate a 2SLS regression in one step using the\n",
    "[linearmodels](https://github.com/bashtage/linearmodels) package, an extension of `statsmodels`\n",
    "\n",
    "Note that when using `IV2SLS`, the exogenous and instrument variables\n",
    "are split up in the function arguments (whereas before the instrument\n",
    "included exogenous variables)"
   ]
  },
  {
   "cell_type": "code",
   "execution_count": 19,
   "id": "eb104532",
   "metadata": {},
   "outputs": [
    {
     "name": "stdout",
     "output_type": "stream",
     "text": [
      "                          IV-2SLS Estimation Summary                          \n",
      "==============================================================================\n",
      "Dep. Variable:               logpgp95   R-squared:                      0.1870\n",
      "Estimator:                    IV-2SLS   Adj. R-squared:                 0.1739\n",
      "No. Observations:                  64   F-statistic:                    37.568\n",
      "Date:                Thu, Jul 21 2022   P-value (F-stat)                0.0000\n",
      "Time:                        23:41:43   Distribution:                  chi2(1)\n",
      "Cov. Estimator:            unadjusted                                         \n",
      "                                                                              \n",
      "                             Parameter Estimates                              \n",
      "==============================================================================\n",
      "            Parameter  Std. Err.     T-stat    P-value    Lower CI    Upper CI\n",
      "------------------------------------------------------------------------------\n",
      "const          1.9097     1.0106     1.8897     0.0588     -0.0710      3.8903\n",
      "avexpr         0.9443     0.1541     6.1293     0.0000      0.6423      1.2462\n",
      "==============================================================================\n",
      "\n",
      "Endogenous: avexpr\n",
      "Instruments: logem4\n",
      "Unadjusted Covariance (Homoskedastic)\n",
      "Debiased: False\n"
     ]
    }
   ],
   "source": [
    "iv = IV2SLS(dependent=df4['logpgp95'],\n",
    "            exog=df4['const'],\n",
    "            endog=df4['avexpr'],\n",
    "            instruments=df4['logem4']).fit(cov_type='unadjusted')\n",
    "\n",
    "print(iv.summary)"
   ]
  },
  {
   "cell_type": "markdown",
   "id": "7750041c",
   "metadata": {},
   "source": [
    "Given that we now have consistent and unbiased estimates, we can infer\n",
    "from the model we have estimated that institutional differences\n",
    "(stemming from institutions set up during colonization) can help\n",
    "to explain differences in income levels across countries today.\n",
    "\n",
    "{cite}`Acemoglu2001` use a marginal effect of 0.94 to calculate that the\n",
    "difference in the index between Chile and Nigeria (ie. institutional\n",
    "quality) implies up to a 7-fold difference in income, emphasizing the\n",
    "significance of institutions in economic development.\n",
    "\n",
    "## Summary\n",
    "\n",
    "We have demonstrated basic OLS and 2SLS regression in `statsmodels` and `linearmodels`.\n",
    "\n",
    "If you are familiar with R, you may want to use the [formula interface](http://www.statsmodels.org/dev/example_formulas.html) to `statsmodels`, or consider using [r2py](https://rpy2.github.io/) to call R from within Python.\n",
    "\n",
    "## Exercises\n",
    "\n",
    "```{exercise}\n",
    ":label: ols_ex1\n",
    "\n",
    "In the lecture, we think the original model suffers from endogeneity\n",
    "bias due to the likely effect income has on institutional development.\n",
    "\n",
    "Although endogeneity is often best identified by thinking about the data\n",
    "and model, we can formally test for endogeneity using the **Hausman\n",
    "test**.\n",
    "\n",
    "We want to test for correlation between the endogenous variable,\n",
    "$avexpr_i$, and the errors, $u_i$\n",
    "\n",
    "$$\n",
    "\\begin{aligned}\n",
    " H_0 : Cov(avexpr_i, u_i) = 0  \\quad (no\\ endogeneity) \\\\\n",
    " H_1 : Cov(avexpr_i, u_i) \\neq 0 \\quad (endogeneity)\n",
    " \\end{aligned}\n",
    "$$\n",
    "\n",
    "This test is running in two stages.\n",
    "\n",
    "First, we regress $avexpr_i$ on the instrument, $logem4_i$\n",
    "\n",
    "$$\n",
    "avexpr_i = \\pi_0 + \\pi_1 logem4_i + \\upsilon_i\n",
    "$$\n",
    "\n",
    "Second, we retrieve the residuals $\\hat{\\upsilon}_i$ and include\n",
    "them in the original equation\n",
    "\n",
    "$$\n",
    "logpgp95_i = \\beta_0 + \\beta_1 avexpr_i + \\alpha \\hat{\\upsilon}_i + u_i\n",
    "$$\n",
    "\n",
    "If $\\alpha$ is statistically significant (with a p-value < 0.05),\n",
    "then we reject the null hypothesis and conclude that $avexpr_i$ is\n",
    "endogenous.\n",
    "\n",
    "Using the above information, estimate a Hausman test and interpret your\n",
    "results.\n",
    "```\n",
    "\n",
    "\n",
    "```{exercise}\n",
    ":label: ols_ex2\n",
    "\n",
    "The OLS parameter $\\beta$ can also be estimated using matrix\n",
    "algebra and `numpy` (you may need to review the\n",
    "[numpy](https://python-programming.quantecon.org/numpy.html) lecture to\n",
    "complete this exercise).\n",
    "\n",
    "The linear equation we want to estimate is (written in matrix form)\n",
    "\n",
    "$$\n",
    "y = X\\beta + u\n",
    "$$\n",
    "\n",
    "To solve for the unknown parameter $\\beta$, we want to minimize\n",
    "the sum of squared residuals\n",
    "\n",
    "$$\n",
    "\\underset{\\hat{\\beta}}{\\min} \\hat{u}'\\hat{u}\n",
    "$$\n",
    "\n",
    "Rearranging the first equation and substituting into the second\n",
    "equation, we can write\n",
    "\n",
    "$$\n",
    "\\underset{\\hat{\\beta}}{\\min} \\ (Y - X\\hat{\\beta})' (Y - X\\hat{\\beta})\n",
    "$$\n",
    "\n",
    "Solving this optimization problem gives the solution for the\n",
    "$\\hat{\\beta}$ coefficients\n",
    "\n",
    "$$\n",
    "\\hat{\\beta} = (X'X)^{-1}X'y\n",
    "$$\n",
    "\n",
    "Using the above information, compute $\\hat{\\beta}$ from model 1\n",
    "using `numpy` - your results should be the same as those in the\n",
    "`statsmodels` output from earlier in the lecture.\n",
    "```\n",
    "\n",
    "## Solutions\n",
    "\n",
    "```{solution-start} ols_ex1\n",
    ":class: dropdown\n",
    "```"
   ]
  },
  {
   "cell_type": "code",
   "execution_count": 20,
   "id": "0d05af30",
   "metadata": {},
   "outputs": [
    {
     "name": "stdout",
     "output_type": "stream",
     "text": [
      "                            OLS Regression Results                            \n",
      "==============================================================================\n",
      "Dep. Variable:               logpgp95   R-squared:                       0.689\n",
      "Model:                            OLS   Adj. R-squared:                  0.679\n",
      "Method:                 Least Squares   F-statistic:                     74.05\n",
      "Date:                Thu, 21 Jul 2022   Prob (F-statistic):           1.07e-17\n",
      "Time:                        23:41:44   Log-Likelihood:                -62.031\n",
      "No. Observations:                  70   AIC:                             130.1\n",
      "Df Residuals:                      67   BIC:                             136.8\n",
      "Df Model:                           2                                         \n",
      "Covariance Type:            nonrobust                                         \n",
      "==============================================================================\n",
      "                 coef    std err          t      P>|t|      [0.025      0.975]\n",
      "------------------------------------------------------------------------------\n",
      "const          2.4782      0.547      4.530      0.000       1.386       3.570\n",
      "avexpr         0.8564      0.082     10.406      0.000       0.692       1.021\n",
      "resid         -0.4951      0.099     -5.017      0.000      -0.692      -0.298\n",
      "==============================================================================\n",
      "Omnibus:                       17.597   Durbin-Watson:                   2.086\n",
      "Prob(Omnibus):                  0.000   Jarque-Bera (JB):               23.194\n",
      "Skew:                          -1.054   Prob(JB):                     9.19e-06\n",
      "Kurtosis:                       4.873   Cond. No.                         53.8\n",
      "==============================================================================\n",
      "\n",
      "Notes:\n",
      "[1] Standard Errors assume that the covariance matrix of the errors is correctly specified.\n"
     ]
    }
   ],
   "source": [
    "# Load in data\n",
    "df4 = pd.read_stata('https://github.com/QuantEcon/lecture-python/blob/master/source/_static/lecture_specific/ols/maketable4.dta?raw=true')\n",
    "\n",
    "# Add a constant term\n",
    "df4['const'] = 1\n",
    "\n",
    "# Estimate the first stage regression\n",
    "reg1 = sm.OLS(endog=df4['avexpr'],\n",
    "              exog=df4[['const', 'logem4']],\n",
    "              missing='drop').fit()\n",
    "\n",
    "# Retrieve the residuals\n",
    "df4['resid'] = reg1.resid\n",
    "\n",
    "# Estimate the second stage residuals\n",
    "reg2 = sm.OLS(endog=df4['logpgp95'],\n",
    "              exog=df4[['const', 'avexpr', 'resid']],\n",
    "              missing='drop').fit()\n",
    "\n",
    "print(reg2.summary())"
   ]
  },
  {
   "cell_type": "markdown",
   "id": "8622c74a",
   "metadata": {},
   "source": [
    "The output shows that the coefficient on the residuals is statistically\n",
    "significant, indicating $avexpr_i$ is endogenous.\n",
    "\n",
    "```{solution-end}\n",
    "```\n",
    "\n",
    "\n",
    "```{solution-start} ols_ex2\n",
    ":class: dropdown\n",
    "```"
   ]
  },
  {
   "cell_type": "code",
   "execution_count": 21,
   "id": "0c410f32",
   "metadata": {},
   "outputs": [
    {
     "name": "stdout",
     "output_type": "stream",
     "text": [
      "β_0 = 4.6\n",
      "β_1 = 0.53\n"
     ]
    }
   ],
   "source": [
    "# Load in data\n",
    "df1 = pd.read_stata('https://github.com/QuantEcon/lecture-python/blob/master/source/_static/lecture_specific/ols/maketable1.dta?raw=true')\n",
    "df1 = df1.dropna(subset=['logpgp95', 'avexpr'])\n",
    "\n",
    "# Add a constant term\n",
    "df1['const'] = 1\n",
    "\n",
    "# Define the X and y variables\n",
    "y = np.asarray(df1['logpgp95'])\n",
    "X = np.asarray(df1[['const', 'avexpr']])\n",
    "\n",
    "# Compute β_hat\n",
    "β_hat = np.linalg.solve(X.T @ X, X.T @ y)\n",
    "\n",
    "# Print out the results from the 2 x 1 vector β_hat\n",
    "print(f'β_0 = {β_hat[0]:.2}')\n",
    "print(f'β_1 = {β_hat[1]:.2}')"
   ]
  },
  {
   "cell_type": "markdown",
   "id": "85dcd07b",
   "metadata": {},
   "source": [
    "It is also possible to use `np.linalg.inv(X.T @ X) @ X.T @ y` to solve\n",
    "for $\\beta$, however `.solve()` is preferred as it involves fewer\n",
    "computations.\n",
    "\n",
    "```{solution-end}\n",
    "```"
   ]
  }
 ],
 "metadata": {
  "jupytext": {
   "text_representation": {
    "extension": ".md",
    "format_name": "myst"
   }
  },
  "kernelspec": {
   "display_name": "Python 3",
   "language": "python",
   "name": "python3"
  },
  "language_info": {
   "codemirror_mode": {
    "name": "ipython",
    "version": 3
   },
   "file_extension": ".py",
   "mimetype": "text/x-python",
   "name": "python",
   "nbconvert_exporter": "python",
   "pygments_lexer": "ipython3",
   "version": "3.9.12"
  },
  "source_map": [
   10,
   28,
   33,
   60,
   69,
   93,
   96,
   102,
   107,
   138,
   168,
   187,
   189,
   195,
   199,
   206,
   209,
   220,
   222,
   255,
   260,
   263,
   269,
   271,
   283,
   304,
   327,
   342,
   348,
   368,
   413,
   440,
   478,
   491,
   507,
   513,
   532,
   539,
   649,
   670,
   683,
   701
  ]
 },
 "nbformat": 4,
 "nbformat_minor": 5
}