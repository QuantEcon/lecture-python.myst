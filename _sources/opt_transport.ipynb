{
 "cells": [
  {
   "cell_type": "markdown",
   "id": "22e194d0",
   "metadata": {},
   "source": [
    "# Optimal Transport\n",
    "\n",
    "## Overview\n",
    "\n",
    "The **transportation** or **optimal transport** problem is interesting both\n",
    "because of its many applications and because of its important role in the history of\n",
    "economic theory.\n",
    "\n",
    "In this lecture, we describe the problem, tell how\n",
    "{doc}`linear programming <intro:lp_intro>` is a\n",
    "key tool for solving it, and then provide some examples.\n",
    "\n",
    "We will provide other applications in followup lectures.\n",
    "\n",
    "The optimal transport problem was studied in early work about linear\n",
    "programming, as summarized for example by {cite}`DoSSo`.  A modern reference\n",
    "about applications in economics is {cite}`Galichon_2016`.\n",
    "\n",
    "Below, we show how to solve the optimal transport problem using\n",
    "several implementations of linear programming, including, in order,\n",
    "\n",
    "1. the\n",
    "   [linprog](https://docs.scipy.org/doc/scipy/reference/generated/scipy.optimize.linprog.html)\n",
    "   solver from SciPy,\n",
    "2. the [linprog_simplex](https://quanteconpy.readthedocs.io/en/latest/optimize/linprog_simplex.html) solver from QuantEcon and\n",
    "3. the simplex-based solvers included in the [Python Optimal Transport](https://pythonot.github.io/) package."
   ]
  },
  {
   "cell_type": "code",
   "execution_count": null,
   "id": "702c3942",
   "metadata": {
    "tags": [
     "hide-output"
    ]
   },
   "outputs": [],
   "source": [
    "!pip install --upgrade quantecon\n",
    "!pip install --upgrade POT"
   ]
  },
  {
   "cell_type": "markdown",
   "id": "6b62e3bb",
   "metadata": {},
   "source": [
    "Let's start with some imports."
   ]
  },
  {
   "cell_type": "code",
   "execution_count": null,
   "id": "e6bf89b5",
   "metadata": {},
   "outputs": [],
   "source": [
    "import numpy as np\n",
    "import matplotlib.pyplot as plt\n",
    "from scipy.optimize import linprog\n",
    "from quantecon.optimize.linprog_simplex import linprog_simplex\n",
    "import ot\n",
    "from scipy.stats import betabinom\n",
    "import networkx as nx"
   ]
  },
  {
   "cell_type": "markdown",
   "id": "7a26c67b",
   "metadata": {},
   "source": [
    "## The Optimal Transport Problem\n",
    "\n",
    "Suppose that $m$ factories produce goods that must be sent to $n$ locations.\n",
    "\n",
    "Let\n",
    "\n",
    "* $x_{ij}$ denote the quantity  shipped from factory $i$ to location  $j$\n",
    "\n",
    "* $c_{ij}$ denote the cost of shipping one unit  from factory $i$ to location $j$\n",
    "\n",
    "* $p_i$ denote the capacity of factory $i$ and $q_j$ denote the amount required at location $j$.\n",
    "\n",
    "*  $i = 1, 2, \\dots, m$ and $j = 1, 2, \\dots, n$.\n",
    "\n",
    "A planner wants to minimize  total transportation costs subject to the following constraints:\n",
    "\n",
    "* The amount shipped **from** each factory must equal  its capacity.\n",
    "\n",
    "* The amount shipped **to** each location must equal the quantity required there.\n",
    "\n",
    "\n",
    "The figure below shows one visualization of this idea, when factories and\n",
    "target locations are distributed in the plane.\n",
    "\n",
    "```{figure} /_static/lecture_specific/opt_transport/optimal_transport_splitting_experiment.png\n",
    "\n",
    "```\n",
    "\n",
    "The size of the vertices in the figure are proportional to\n",
    "\n",
    "- capacity, for the factories, and\n",
    "- demand (amount required) for the target locations.\n",
    "\n",
    "The arrows show one possible transport plan, which respects the constraints\n",
    "stated above.\n",
    "\n",
    "\n",
    "The planner's problem can be expressed as the following constrained minimization problem:\n",
    "\n",
    "$$\n",
    "\\begin{aligned}\n",
    "    \\min_{x_{ij}} \\ & \\sum_{i=1}^m \\sum_{j=1}^n c_{ij} x_{ij} \\\\\n",
    "    \\mbox{subject to } \\ & \\sum_{j=1}^n x_{ij} = p_i, & i = 1, 2, \\dots, m \\\\\n",
    "    & \\sum_{i=1}^m x_{ij} = q_j, & j = 1, 2, \\dots, n \\\\\n",
    "    & x_{ij} \\ge 0 \\\\\n",
    "\\end{aligned}\n",
    "$$ (plannerproblem)\n",
    "\n",
    "This is an **optimal transport problem** with\n",
    "\n",
    "* $mn$ decision variables, namely, the entries $x_{ij}$   and\n",
    "\n",
    "* $m+n$ constraints.\n",
    "\n",
    "Summing the $q_j$'s across all $j$'s and the $p_i$'s across all $i$'s indicates that the total capacity of all the factories  equals  total requirements at all locations:\n",
    "\n",
    "$$\n",
    "    \\sum_{j=1}^n q_j\n",
    "    = \\sum_{j=1}^n \\sum_{i=1}^m x_{ij}\n",
    "    = \\sum_{i=1}^m \\sum_{j=1}^n x_{ij}\n",
    "    = \\sum_{i=1}^m p_i\n",
    "$$ (sumconstraints)\n",
    "\n",
    "The presence of the restrictions in {eq}`sumconstraints` will be the source of\n",
    "one redundancy in the complete set of restrictions that we describe below.\n",
    "\n",
    "More about this later.\n",
    "\n",
    "\n",
    "\n",
    "\n",
    "## The Linear Programming Approach\n",
    "\n",
    "In this section we discuss using using standard linear programming solvers to\n",
    "tackle the optimal transport problem.\n",
    "\n",
    "\n",
    "### Vectorizing a Matrix of Decision Variables\n",
    "\n",
    "A *matrix* of decision variables $x_{ij}$ appears in problem {eq}`plannerproblem`.\n",
    "\n",
    "The SciPy function `linprog` expects to see a *vector* of decision variables.\n",
    "\n",
    "This situation impels us to rewrite our problem in terms of a\n",
    "*vector* of decision variables.\n",
    "\n",
    "Let\n",
    "\n",
    "* $X, C$ be $m \\times n$ matrices with entries $x_{ij}, c_{ij}$,\n",
    "\n",
    "* $p$ be $m$-dimensional vector with entries $p_i$,\n",
    "\n",
    "* $q$ be $n$-dimensional vector with entries $q_j$.\n",
    "\n",
    "With $\\mathbf{1}_n$ denoting the $n$-dimensional column vector $(1, 1, \\dots,\n",
    "1)'$, our  problem can now be expressed compactly as:\n",
    "\n",
    "$$\n",
    "\\begin{aligned}\n",
    "    \\min_{X} \\ & \\operatorname{tr} (C' X) \\\\\n",
    "    \\mbox{subject to } \\ & X \\ \\mathbf{1}_n = p \\\\\n",
    "    & X' \\ \\mathbf{1}_m = q \\\\\n",
    "    & X \\ge 0 \\\\\n",
    "\\end{aligned}\n",
    "$$\n",
    "\n",
    "We can convert the matrix $X$ into a vector by stacking all of its columns into a  column vector.\n",
    "\n",
    "Doing this is called **vectorization**, an operation that we denote  $\\operatorname{vec}(X)$.\n",
    "\n",
    "Similarly, we convert the matrix $C$ into an $mn$-dimensional vector $\\operatorname{vec}(C)$.\n",
    "\n",
    "The objective function can be expressed as the inner product between $\\operatorname{vec}(C)$ and $\\operatorname{vec}(X)$:\n",
    "\n",
    "$$\n",
    "    \\operatorname{vec}(C)' \\cdot \\operatorname{vec}(X).\n",
    "$$\n",
    "\n",
    "To express the constraints in terms of $\\operatorname{vec}(X)$, we use a\n",
    "**Kronecker product** denoted by $\\otimes$ and defined as follows.\n",
    "\n",
    "Suppose $A$ is an $m \\times s$ matrix with entries $(a_{ij})$ and that $B$ is\n",
    "an $n \\times t$ matrix.\n",
    "\n",
    "The **Kronecker product** of $A$ and $B$ is defined, in block matrix form, by\n",
    "\n",
    "$$\n",
    "    A \\otimes B =\n",
    "    \\begin{pmatrix}\n",
    "    a_{11}B & a_{12}B & \\dots & a_{1s}B \\\\\n",
    "    a_{21}B & a_{22}B & \\dots & a_{2s}B \\\\\n",
    "      &   & \\vdots &   \\\\\n",
    "    a_{m1}B & a_{m2}B & \\dots & a_{ms}B \\\\\n",
    "    \\end{pmatrix}.\n",
    "$$\n",
    "\n",
    "$A \\otimes B$ is an $mn \\times st$ matrix.\n",
    "\n",
    "It has the property that for any $m \\times n$ matrix $X$\n",
    "\n",
    "$$\n",
    "    \\operatorname{vec}(A'XB) = (B' \\otimes A') \\operatorname{vec}(X).\n",
    "$$ (kroneckerprop)\n",
    "\n",
    "We can now express our constraints in terms of $\\operatorname{vec}(X)$.\n",
    "\n",
    "Let $A = \\mathbf{I}_m', B = \\mathbf{1}_n$.\n",
    "\n",
    "By equation {eq}`kroneckerprop`\n",
    "\n",
    "$$\n",
    "    X \\ \\mathbf{1}_n\n",
    "    = \\operatorname{vec}(X \\ \\mathbf{1}_n)\n",
    "    = \\operatorname{vec}(\\mathbf{I}_m X \\ \\mathbf{1}_n)\n",
    "    = (\\mathbf{1}_n' \\otimes \\mathbf{I}_m) \\operatorname{vec}(X).\n",
    "$$\n",
    "\n",
    "where  $\\mathbf{I}_m$ denotes the $m \\times m$ identity matrix.\n",
    "\n",
    "Constraint $X \\ \\mathbf{1}_n = p$ can now be written as:\n",
    "\n",
    "$$\n",
    "    (\\mathbf{1}_n' \\otimes \\mathbf{I}_m) \\operatorname{vec}(X) = p.\n",
    "$$\n",
    "\n",
    "Similarly, the constraint $X' \\ \\mathbf{1}_m = q$ can be rewriten as:\n",
    "\n",
    "$$\n",
    "    (\\mathbf{I}_n \\otimes \\mathbf{1}_m') \\operatorname{vec}(X) = q.\n",
    "$$\n",
    "\n",
    "With $z := \\operatorname{vec}(X)$, our problem can now be expressed\n",
    "in terms of an $mn$-dimensional vector of decision variables:\n",
    "\n",
    "$$\n",
    "    \\begin{aligned}\n",
    "        \\min_{z} \\ & \\operatorname{vec}(C)' z \\\\\n",
    "        \\mbox{subject to } \\ & A z = b \\\\\n",
    "        & z \\ge 0 \\\\\n",
    "    \\end{aligned}\n",
    "$$ (decisionvars)\n",
    "\n",
    "where\n",
    "\n",
    "$$\n",
    "    A =\n",
    "    \\begin{pmatrix}\n",
    "        \\mathbf{1}_n' \\otimes \\mathbf{I}_m \\\\\n",
    "        \\mathbf{I}_n \\otimes \\mathbf{1}_m' \\\\\n",
    "    \\end{pmatrix}\n",
    "    \\quad \\text{and} \\quad\n",
    "    b = \\begin{pmatrix}\n",
    "            p \\\\\n",
    "            q \\\\\n",
    "        \\end{pmatrix}\n",
    "$$\n",
    "\n",
    "\n",
    "### An Application\n",
    "\n",
    "\n",
    "We now provide an example that takes the form {eq}`decisionvars` that we'll\n",
    "solve by deploying the function `linprog`.\n",
    "\n",
    "The table below provides numbers for the requirements vector $q$, the capacity vector $p$,\n",
    "and entries $c_{ij}$  of the cost-of-shipping matrix $C$.\n",
    "\n",
    "\n",
    "```{raw} html\n",
    "<table>\n",
    "    <tr>\n",
    "\t    <th> </th>\n",
    "        <th colspan=\"3\"><center>Factory</center></th>\n",
    "\t    <th rowspan=\"2\">Requirement</th>\n",
    "\t</tr >\n",
    "    <tr>\n",
    "        <th> Location </th> <th>1</th> <th>2</th> <th>3</th>\n",
    "\t</tr>\n",
    "    <tr>\n",
    "\t    <td>1</td>  <td>10</td> <td>20</td> <td>30</td> <td>25</td>\n",
    "\t</tr>\n",
    "    <tr>\n",
    "\t    <td>2</td> <td>15</td> <td>40</td> <td>35</td> <td>115</td>\n",
    "\t</tr>\n",
    "    <tr>\n",
    "\t    <td>3</td> <td>20</td> <td>15</td> <td>40</td> <td>60</td>\n",
    "\t</tr>\n",
    "    <tr>\n",
    "\t    <td>4</td> <td>20</td> <td>30</td> <td>55</td> <td>30</td>\n",
    "\t</tr>\n",
    "    <tr>\n",
    "\t    <td>5</td> <td>40</td> <td>30</td> <td>25</td> <td>70</td>\n",
    "\t</tr>\n",
    "    <tr>\n",
    "\t    <td>Capacity</td> <td>50</td> <td>100</td> <td>150</td> <td>300</td>\n",
    "\t</tr>\n",
    "</table>\n",
    "```\n",
    "\n",
    "The numbers in the above table tell us to set $m = 3$, $n = 5$, and construct\n",
    "the following objects:\n",
    "\n",
    "$$\n",
    "p = \\begin{pmatrix}\n",
    "        50 \\\\\n",
    "        100 \\\\\n",
    "        150\n",
    "    \\end{pmatrix},\n",
    "    \\quad\n",
    "    q =\n",
    "    \\begin{pmatrix}\n",
    "        25 \\\\\n",
    "        115 \\\\\n",
    "        60 \\\\\n",
    "        30 \\\\\n",
    "        70\n",
    "    \\end{pmatrix}\n",
    "    \\quad \\text{and} \\quad\n",
    "    C =\n",
    "    \\begin{pmatrix}\n",
    "        10 &15 &20 &20 &40 \\\\\n",
    "        20 &40 &15 &30 &30 \\\\\n",
    "        30 &35 &40 &55 &25\n",
    "    \\end{pmatrix}.\n",
    "$$\n",
    "\n",
    "Let's write Python code that sets up the problem and solves it."
   ]
  },
  {
   "cell_type": "code",
   "execution_count": null,
   "id": "84f9e9f0",
   "metadata": {},
   "outputs": [],
   "source": [
    "# Define parameters\n",
    "m = 3\n",
    "n = 5\n",
    "\n",
    "p = np.array([50, 100, 150])\n",
    "q = np.array([25, 115, 60, 30, 70])\n",
    "\n",
    "C = np.array([[10, 15, 20, 20, 40],\n",
    "              [20, 40, 15, 30, 30],\n",
    "              [30, 35, 40, 55, 25]])\n",
    "\n",
    "# Vectorize matrix C\n",
    "C_vec = C.reshape((m*n, 1), order='F')\n",
    "\n",
    "# Construct matrix A by Kronecker product\n",
    "A1 = np.kron(np.ones((1, n)), np.identity(m))\n",
    "A2 = np.kron(np.identity(n), np.ones((1, m)))\n",
    "A = np.vstack([A1, A2])\n",
    "\n",
    "# Construct vector b\n",
    "b = np.hstack([p, q])\n",
    "\n",
    "# Solve the primal problem\n",
    "res = linprog(C_vec, A_eq=A, b_eq=b)\n",
    "\n",
    "# Print results\n",
    "print(\"message:\", res.message)\n",
    "print(\"nit:\", res.nit)\n",
    "print(\"fun:\", res.fun)\n",
    "print(\"z:\", res.x)\n",
    "print(\"X:\", res.x.reshape((m,n), order='F'))"
   ]
  },
  {
   "cell_type": "markdown",
   "id": "e082acba",
   "metadata": {},
   "source": [
    "Notice how, in the line `C_vec = C.reshape((m*n, 1), order='F')`, we are\n",
    "careful to vectorize using the flag `order='F'`.\n",
    "\n",
    "This is consistent with converting $C$ into a vector by stacking all of its\n",
    "columns into a  column vector.\n",
    "\n",
    "Here `'F'` stands for \"Fortran\", and we are using Fortran style column-major order.\n",
    "\n",
    "(For an alternative approach, using Python's default row-major ordering, see [this\n",
    "        lecture by Alfred\n",
    "        Galichon](https://www.math-econ-code.org/dynamic-programming).)\n",
    "\n",
    "**Interpreting the warning:**\n",
    "\n",
    "The above warning message from SciPy points out that A is not full rank.\n",
    "\n",
    "This indicates that the linear program has been set up to include one or more redundant constraints.\n",
    "\n",
    "Here, the source of the redundancy is the structure of  restrictions {eq}`sumconstraints`.\n",
    "\n",
    "Let's explore this further by printing out $A$ and staring at it."
   ]
  },
  {
   "cell_type": "code",
   "execution_count": null,
   "id": "58a645b6",
   "metadata": {},
   "outputs": [],
   "source": [
    "A"
   ]
  },
  {
   "cell_type": "markdown",
   "id": "5043cc2c",
   "metadata": {},
   "source": [
    "The singularity of $A$ reflects that the  first three constraints and the last five constraints  both require  that \"total requirements equal total capacities\" expressed in {eq}`sumconstraints`.\n",
    "\n",
    "One  equality constraint here is redundant.\n",
    "\n",
    "Below we drop one of the equality constraints, and use only  7 of them.\n",
    "\n",
    "After doing this, we attain the same minimized cost.\n",
    "\n",
    "However, we find a  different transportation plan.\n",
    "\n",
    "Though it is a different plan, it attains the same cost!"
   ]
  },
  {
   "cell_type": "code",
   "execution_count": null,
   "id": "40582775",
   "metadata": {},
   "outputs": [],
   "source": [
    "linprog(C_vec, A_eq=A[:-1], b_eq=b[:-1])"
   ]
  },
  {
   "cell_type": "code",
   "execution_count": null,
   "id": "6dc2fd2e",
   "metadata": {},
   "outputs": [],
   "source": [
    "%time linprog(C_vec, A_eq=A[:-1], b_eq=b[:-1])"
   ]
  },
  {
   "cell_type": "code",
   "execution_count": null,
   "id": "86a2c4fb",
   "metadata": {},
   "outputs": [],
   "source": [
    "%time linprog(C_vec, A_eq=A, b_eq=b)"
   ]
  },
  {
   "cell_type": "markdown",
   "id": "c580a12a",
   "metadata": {},
   "source": [
    "Evidently, it is slightly quicker to work with the system that removed a redundant constraint.\n",
    "\n",
    "Let's drill down and do some more calculations to help us understand whether or not our finding **two** different optimal transport plans reflects our having dropped a redundant equality constraint.\n",
    "\n",
    "```{admonition} Hint\n",
    "It will turn out that dropping a redundant equality isn't really what mattered.\n",
    "```\n",
    "\n",
    "To verify our hint, we shall simply use **all** of  the original equality constraints (including a redundant one), but we'll just shuffle the order of the constraints."
   ]
  },
  {
   "cell_type": "code",
   "execution_count": null,
   "id": "b48e3ad6",
   "metadata": {},
   "outputs": [],
   "source": [
    "arr = np.arange(m+n)"
   ]
  },
  {
   "cell_type": "code",
   "execution_count": null,
   "id": "4a162d77",
   "metadata": {},
   "outputs": [],
   "source": [
    "sol_found = []\n",
    "cost = []\n",
    "\n",
    "# simulate 1000 times\n",
    "for i in range(1000):\n",
    "\n",
    "    np.random.shuffle(arr)\n",
    "    res_shuffle = linprog(C_vec, A_eq=A[arr], b_eq=b[arr])\n",
    "\n",
    "    # if find a new solution\n",
    "    sol = tuple(res_shuffle.x)\n",
    "    if sol not in sol_found:\n",
    "        sol_found.append(sol)\n",
    "        cost.append(res_shuffle.fun)"
   ]
  },
  {
   "cell_type": "code",
   "execution_count": null,
   "id": "d3e36917",
   "metadata": {},
   "outputs": [],
   "source": [
    "for i in range(len(sol_found)):\n",
    "    print(f\"transportation plan {i}: \", sol_found[i])\n",
    "    print(f\"     minimized cost {i}: \", cost[i])"
   ]
  },
  {
   "cell_type": "markdown",
   "id": "a17ec6e9",
   "metadata": {},
   "source": [
    "**Ah hah!** As you can see, putting constraints in different orders in this case uncovers two optimal transportation plans that achieve the same minimized cost.\n",
    "\n",
    "These are the same two plans computed earlier.\n",
    "\n",
    "Next, we show that leaving out the first constraint \"accidentally\" leads to the initial plan that we computed."
   ]
  },
  {
   "cell_type": "code",
   "execution_count": null,
   "id": "0f83d098",
   "metadata": {},
   "outputs": [],
   "source": [
    "linprog(C_vec, A_eq=A[1:], b_eq=b[1:])"
   ]
  },
  {
   "cell_type": "markdown",
   "id": "c02096a2",
   "metadata": {},
   "source": [
    "Let's compare this transport plan with"
   ]
  },
  {
   "cell_type": "code",
   "execution_count": null,
   "id": "fc8a71e3",
   "metadata": {},
   "outputs": [],
   "source": [
    "res.x"
   ]
  },
  {
   "cell_type": "markdown",
   "id": "0950511b",
   "metadata": {},
   "source": [
    "Here the matrix $X$ contains entries $x_{ij}$ that tell amounts shipped **from** factor $i = 1, 2, 3$\n",
    "**to** location $j=1,2, \\ldots, 5$.\n",
    "\n",
    "The vector $z$ evidently equals $\\operatorname{vec}(X)$.\n",
    "\n",
    "The minimized cost from the optimal transport plan is given by the $fun$ variable.\n",
    "\n",
    "\n",
    "### Using a Just-in-Time Compiler\n",
    "\n",
    "We can also solve optimal transportation problems using a powerful tool from\n",
    "QuantEcon, namely, `quantecon.optimize.linprog_simplex`.\n",
    "\n",
    "While this routine uses the same simplex algorithm as\n",
    "`scipy.optimize.linprog`, the code is accelerated by using a just-in-time\n",
    "compiler shipped in the `numba` library.\n",
    "\n",
    "As you will see very soon, by using `scipy.optimize.linprog` the time required to solve an optimal transportation problem can be reduced significantly."
   ]
  },
  {
   "cell_type": "code",
   "execution_count": null,
   "id": "b99589ee",
   "metadata": {},
   "outputs": [],
   "source": [
    "# construct matrices/vectors for linprog_simplex\n",
    "c = C.flatten()\n",
    "\n",
    "# Equality constraints\n",
    "A_eq = np.zeros((m+n, m*n))\n",
    "for i in range(m):\n",
    "    for j in range(n):\n",
    "        A_eq[i, i*n+j] = 1\n",
    "        A_eq[m+j, i*n+j] = 1\n",
    "\n",
    "b_eq = np.hstack([p, q])"
   ]
  },
  {
   "cell_type": "markdown",
   "id": "08adde0d",
   "metadata": {},
   "source": [
    "Since `quantecon.optimize.linprog_simplex` does maximization instead of\n",
    "minimization, we need to put a negative sign before vector `c`."
   ]
  },
  {
   "cell_type": "code",
   "execution_count": null,
   "id": "fd8693c9",
   "metadata": {},
   "outputs": [],
   "source": [
    "res_qe = linprog_simplex(-c, A_eq=A_eq, b_eq=b_eq)"
   ]
  },
  {
   "cell_type": "markdown",
   "id": "40646a51",
   "metadata": {},
   "source": [
    "Since the two LP solvers use the same simplex algorithm, we expect to get exactly the same solutions"
   ]
  },
  {
   "cell_type": "code",
   "execution_count": null,
   "id": "ef265b1c",
   "metadata": {},
   "outputs": [],
   "source": [
    "res_qe.x.reshape((m, n), order='C')"
   ]
  },
  {
   "cell_type": "code",
   "execution_count": null,
   "id": "a22a33d8",
   "metadata": {},
   "outputs": [],
   "source": [
    "res.x.reshape((m, n), order='F')"
   ]
  },
  {
   "cell_type": "markdown",
   "id": "1ca28910",
   "metadata": {},
   "source": [
    "Let's do a speed comparison between `scipy.optimize.linprog` and `quantecon.optimize.linprog_simplex`."
   ]
  },
  {
   "cell_type": "code",
   "execution_count": null,
   "id": "6a37a058",
   "metadata": {},
   "outputs": [],
   "source": [
    "# scipy.optimize.linprog\n",
    "%time res = linprog(C_vec, A_eq=A[:-1, :], b_eq=b[:-1])"
   ]
  },
  {
   "cell_type": "code",
   "execution_count": null,
   "id": "b5c90e0b",
   "metadata": {},
   "outputs": [],
   "source": [
    "# quantecon.optimize.linprog_simplex\n",
    "%time out = linprog_simplex(-c, A_eq=A_eq, b_eq=b_eq)"
   ]
  },
  {
   "cell_type": "markdown",
   "id": "6a5cb763",
   "metadata": {},
   "source": [
    "As you can see, the `quantecon.optimize.linprog_simplex` is much faster.\n",
    "\n",
    "(Note however, that the SciPy version is probably more stable than the\n",
    "QuantEcon version, having been tested more extensively over a longer period of\n",
    "time.)\n",
    "\n",
    "\n",
    "## The Dual Problem\n",
    "\n",
    "Let $u, v$ denotes vectors of dual decision variables with entries $(u_i), (v_j)$.\n",
    "\n",
    "The **dual** to  **minimization** problem {eq}`plannerproblem` is the **maximization** problem:\n",
    "\n",
    "$$\n",
    "\\begin{aligned}\n",
    "\\max_{u_i, v_j} \\ & \\sum_{i=1}^m p_i u_i + \\sum_{j=1}^n q_j v_j \\\\\n",
    "\\mbox{subject to } \\ & u_i + v_j \\le c_{ij}, \\ i = 1, 2, \\dots, m;\\ j = 1, 2, \\dots, n \\\\\n",
    "\\end{aligned}\n",
    "$$ (dualproblem)\n",
    "\n",
    "The dual problem is also a linear programming problem.\n",
    "\n",
    "It has $m+n$ dual variables and $mn$ constraints.\n",
    "\n",
    "Vectors $u$ and $v$ of **values** are attached to the first and the second sets of primal constraits, respectively.\n",
    "\n",
    "Thus, $u$ is attached to the constraints\n",
    "\n",
    "* $(\\mathbf{1}_n' \\otimes \\mathbf{I}_m) \\operatorname{vec}(X) = p$\n",
    "\n",
    "and  $v$ is attached to constraints\n",
    "\n",
    "* $(\\mathbf{I}_n \\otimes \\mathbf{1}_m') \\operatorname{vec}(X) = q.$\n",
    "\n",
    "Components of the vectors $u$ and $v$ of per unit **values**  are **shadow prices** of the quantities appearing on the right sides of those constraints.\n",
    "\n",
    "We can write the dual problem as\n",
    "\n",
    "$$\n",
    "\\begin{aligned}\n",
    "\\max_{u_i, v_j} \\ & p u + q v \\\\\n",
    "\\mbox{subject to } \\ & A' \\begin{pmatrix} u \\\\ v \\\\ \\end{pmatrix} = \\operatorname{vec}(C) \\\\\n",
    "\\end{aligned}\n",
    "$$ (dualproblem2)\n",
    "\n",
    "For the same numerical example described above, let's solve the dual problem."
   ]
  },
  {
   "cell_type": "code",
   "execution_count": null,
   "id": "acd623fc",
   "metadata": {},
   "outputs": [],
   "source": [
    "# Solve the dual problem\n",
    "res_dual = linprog(-b, A_ub=A.T, b_ub=C_vec,\n",
    "                   bounds=[(None, None)]*(m+n))\n",
    "\n",
    "#Print results\n",
    "print(\"message:\", res_dual.message)\n",
    "print(\"nit:\", res_dual.nit)\n",
    "print(\"fun:\", res_dual.fun)\n",
    "print(\"u:\", res_dual.x[:m])\n",
    "print(\"v:\", res_dual.x[-n:])"
   ]
  },
  {
   "cell_type": "markdown",
   "id": "8a3333a4",
   "metadata": {},
   "source": [
    "We can also solve the dual problem using [quantecon.optimize.linprog_simplex](https://quanteconpy.readthedocs.io/en/latest/optimize/linprog_simplex.html)."
   ]
  },
  {
   "cell_type": "code",
   "execution_count": null,
   "id": "76d3ed38",
   "metadata": {},
   "outputs": [],
   "source": [
    "res_dual_qe = linprog_simplex(b_eq, A_ub=A_eq.T, b_ub=c)"
   ]
  },
  {
   "cell_type": "markdown",
   "id": "38b660f6",
   "metadata": {},
   "source": [
    "And the shadow prices computed by the two programs are identical."
   ]
  },
  {
   "cell_type": "code",
   "execution_count": null,
   "id": "96ffe99e",
   "metadata": {},
   "outputs": [],
   "source": [
    "res_dual_qe.x"
   ]
  },
  {
   "cell_type": "code",
   "execution_count": null,
   "id": "3f9f60d5",
   "metadata": {},
   "outputs": [],
   "source": [
    "res_dual.x"
   ]
  },
  {
   "cell_type": "markdown",
   "id": "36344398",
   "metadata": {},
   "source": [
    "We can compare computational times from using our two tools."
   ]
  },
  {
   "cell_type": "code",
   "execution_count": null,
   "id": "abf3cdc6",
   "metadata": {},
   "outputs": [],
   "source": [
    "%time linprog(-b, A_ub=A.T, b_ub=C_vec, bounds=[(None, None)]*(m+n))"
   ]
  },
  {
   "cell_type": "code",
   "execution_count": null,
   "id": "3ca2c361",
   "metadata": {},
   "outputs": [],
   "source": [
    "%time linprog_simplex(b_eq, A_ub=A_eq.T, b_ub=c)"
   ]
  },
  {
   "cell_type": "markdown",
   "id": "c80af735",
   "metadata": {},
   "source": [
    "`quantecon.optimize.linprog_simplex` solves the dual problem 10 times faster.\n",
    "\n",
    "Just for completeness, let's  solve the dual problems with nonsingular $A$ matrices that we create by dropping a redundant equality constraint.\n",
    "\n",
    "Try first leaving out the first constraint:"
   ]
  },
  {
   "cell_type": "code",
   "execution_count": null,
   "id": "a1064c05",
   "metadata": {},
   "outputs": [],
   "source": [
    "linprog(-b[1:], A_ub=A[1:].T, b_ub=C_vec,\n",
    "        bounds=[(None, None)]*(m+n-1))"
   ]
  },
  {
   "cell_type": "markdown",
   "id": "c02cd911",
   "metadata": {},
   "source": [
    "Not let's instead leave out the last constraint:"
   ]
  },
  {
   "cell_type": "code",
   "execution_count": null,
   "id": "e77f9605",
   "metadata": {},
   "outputs": [],
   "source": [
    "linprog(-b[:-1], A_ub=A[:-1].T, b_ub=C_vec,\n",
    "        bounds=[(None, None)]*(m+n-1))"
   ]
  },
  {
   "cell_type": "markdown",
   "id": "0a95c056",
   "metadata": {},
   "source": [
    "### Interpretation of dual problem\n",
    "\n",
    "By **strong duality** (please see this lecture\n",
    "{doc}`Linear Programming <intro:lp_intro>`), we know that:\n",
    "\n",
    "$$\n",
    "\\sum_{i=1}^m \\sum_{j=1}^n c_{ij} x_{ij}  = \\sum_{i=1}^m p_i u_i + \\sum_{j=1}^n q_j v_j\n",
    "$$\n",
    "\n",
    "One unit more  capacity in factory $i$, i.e. $p_i$,   results in $u_i$ more transportation costs.\n",
    "\n",
    "Thus, $u_i$ describes the  cost of shipping one unit  **from** factory $i$.\n",
    "\n",
    "Call this  the ship-out cost of one unit  shipped from factory $i$.\n",
    "\n",
    "Similarly, $v_j$ is the  cost of shipping one unit **to** location $j$.\n",
    "\n",
    "Call this  the ship-in cost of one unit  to location $j$.\n",
    "\n",
    "Strong duality implies that  total transprotation costs  equals   total ship-out costs **plus**   total ship-in costs.\n",
    "\n",
    "It is reasonable that, for one unit of a product, ship-out cost $u_i$ **plus** ship-in cost $v_j$ should  equal transportation cost $c_{ij}$.\n",
    "\n",
    "This equality is assured by   **complementary slackness** conditions that state that whenever $x_{ij} > 0$, meaning that there are positive shipments  from factory $i$ to location $j$,    it must be true that  $u_i + v_j = c_{ij}$.\n",
    "\n",
    "\n",
    "\n",
    "\n",
    "## The Python Optimal Transport Package\n",
    "\n",
    "There is an excellent [Python package](https://pythonot.github.io/) for\n",
    "optimal transport that simplifies some of the steps we took above.\n",
    "\n",
    "In particular, the package takes care of the vectorization steps before\n",
    "passing the data out to a linear programming routine.\n",
    "\n",
    "(That said, the discussion provided above on vectorization remains important,\n",
    "since we want to understand what happens under the hood.)\n",
    "\n",
    "\n",
    "### Replicating Previous Results\n",
    "\n",
    "The following line of code solves the example application discussed above\n",
    "using linear programming."
   ]
  },
  {
   "cell_type": "code",
   "execution_count": null,
   "id": "657f2c22",
   "metadata": {},
   "outputs": [],
   "source": [
    "X = ot.emd(p, q, C)\n",
    "X"
   ]
  },
  {
   "cell_type": "markdown",
   "id": "efe00a9f",
   "metadata": {},
   "source": [
    "Sure enough, we have the same solution and the same cost"
   ]
  },
  {
   "cell_type": "code",
   "execution_count": null,
   "id": "d902b476",
   "metadata": {},
   "outputs": [],
   "source": [
    "total_cost = np.sum(X * C)\n",
    "total_cost"
   ]
  },
  {
   "cell_type": "markdown",
   "id": "1be04bbd",
   "metadata": {},
   "source": [
    "### A Larger Application\n",
    "\n",
    "Now let's try using the same package on a slightly larger application.\n",
    "\n",
    "The application has the same interpretation as above but we will also give\n",
    "each node (i.e., vertex) a location in the plane.\n",
    "\n",
    "This will allow us to plot the resulting transport plan as edges in a graph.\n",
    "\n",
    "The following class defines a node by\n",
    "\n",
    "* its location $(x, y) \\in \\mathbb R^2$,\n",
    "* its group (factory or location, denoted by `p` or `q`) and\n",
    "* its mass (e.g., $p_i$ or $q_j$)."
   ]
  },
  {
   "cell_type": "code",
   "execution_count": null,
   "id": "c8094b8a",
   "metadata": {},
   "outputs": [],
   "source": [
    "class Node:\n",
    "\n",
    "    def __init__(self, x, y, mass, group, name):\n",
    "\n",
    "        self.x, self.y = x, y\n",
    "        self.mass, self.group = mass, group\n",
    "        self.name = name"
   ]
  },
  {
   "cell_type": "markdown",
   "id": "ad65e327",
   "metadata": {},
   "source": [
    "Next we write a function that repeatedly calls the class above to build\n",
    "instances.\n",
    "\n",
    "It allocates to the nodes it creates their location, mass, and group.\n",
    "\n",
    "Locations are assigned randomly."
   ]
  },
  {
   "cell_type": "code",
   "execution_count": null,
   "id": "294a23f5",
   "metadata": {},
   "outputs": [],
   "source": [
    "def build_nodes_of_one_type(group='p', n=100, seed=123):\n",
    "\n",
    "    nodes = []\n",
    "    np.random.seed(seed)\n",
    "\n",
    "    for i in range(n):\n",
    "\n",
    "        if group == 'p':\n",
    "            m = 1/n\n",
    "            x = np.random.uniform(-2, 2)\n",
    "            y = np.random.uniform(-2, 2)\n",
    "        else:\n",
    "            m = betabinom.pmf(i, n-1, 2, 2)\n",
    "            x = 0.6 * np.random.uniform(-1.5, 1.5)\n",
    "            y = 0.6 * np.random.uniform(-1.5, 1.5)\n",
    "\n",
    "        name = group + str(i)\n",
    "        nodes.append(Node(x, y, m, group, name))\n",
    "\n",
    "    return nodes"
   ]
  },
  {
   "cell_type": "markdown",
   "id": "4f7baecd",
   "metadata": {},
   "source": [
    "Now we build two lists of nodes, each one containing one type (factories or\n",
    "    locations)"
   ]
  },
  {
   "cell_type": "code",
   "execution_count": null,
   "id": "08f40755",
   "metadata": {},
   "outputs": [],
   "source": [
    "n_p = 32\n",
    "n_q = 32\n",
    "p_list = build_nodes_of_one_type(group='p', n=n_p)\n",
    "q_list = build_nodes_of_one_type(group='q', n=n_q)\n",
    "\n",
    "p_probs = [p.mass for p in p_list]\n",
    "q_probs = [q.mass for q in q_list]"
   ]
  },
  {
   "cell_type": "markdown",
   "id": "96383b06",
   "metadata": {},
   "source": [
    "For the cost matrix $C$, we use the Euclidean distance between each factory\n",
    "and location."
   ]
  },
  {
   "cell_type": "code",
   "execution_count": null,
   "id": "7d9d3c06",
   "metadata": {},
   "outputs": [],
   "source": [
    "c = np.empty((n_p, n_q))\n",
    "for i in range(n_p):\n",
    "    for j in range(n_q):\n",
    "        x0, y0 = p_list[i].x, p_list[i].y\n",
    "        x1, y1 = q_list[j].x, q_list[j].y\n",
    "        c[i, j] = np.sqrt((x0-x1)**2 + (y0-y1)**2)"
   ]
  },
  {
   "cell_type": "markdown",
   "id": "c919a31b",
   "metadata": {},
   "source": [
    "Now we are ready to apply the solver"
   ]
  },
  {
   "cell_type": "code",
   "execution_count": null,
   "id": "68770c9a",
   "metadata": {},
   "outputs": [],
   "source": [
    "%time pi = ot.emd(p_probs, q_probs, c)"
   ]
  },
  {
   "cell_type": "markdown",
   "id": "a4529fb1",
   "metadata": {},
   "source": [
    "Finally, let's plot the results using `networkx`.\n",
    "\n",
    "In the plot below,\n",
    "\n",
    "* node size is proportional to probability mass\n",
    "* an edge (arrow) from $i$ to $j$ is drawn when a positive transfer is made\n",
    "from $i$ to $j$ under the optimal transport plan."
   ]
  },
  {
   "cell_type": "code",
   "execution_count": null,
   "id": "4fed5f68",
   "metadata": {},
   "outputs": [],
   "source": [
    "g = nx.DiGraph()\n",
    "g.add_nodes_from([p.name for p in p_list])\n",
    "g.add_nodes_from([q.name for q in q_list])\n",
    "\n",
    "for i in range(n_p):\n",
    "    for j in range(n_q):\n",
    "        if pi[i, j] > 0:\n",
    "            g.add_edge(p_list[i].name, q_list[j].name, weight=pi[i, j])\n",
    "\n",
    "node_pos_dict={}\n",
    "for p in p_list:\n",
    "    node_pos_dict[p.name] = (p.x, p.y)\n",
    "\n",
    "for q in q_list:\n",
    "    node_pos_dict[q.name] = (q.x, q.y)\n",
    "\n",
    "node_color_list = []\n",
    "node_size_list = []\n",
    "scale = 8_000\n",
    "for p in p_list:\n",
    "    node_color_list.append('blue')\n",
    "    node_size_list.append(p.mass * scale)\n",
    "for q in q_list:\n",
    "    node_color_list.append('red')\n",
    "    node_size_list.append(q.mass * scale)\n",
    "\n",
    "\n",
    "fig, ax = plt.subplots(figsize=(7, 10))\n",
    "plt.axis('off')\n",
    "\n",
    "nx.draw_networkx_nodes(g,\n",
    "                       node_pos_dict,\n",
    "                       node_color=node_color_list,\n",
    "                       node_size=node_size_list,\n",
    "                       edgecolors='grey',\n",
    "                       linewidths=1,\n",
    "                       alpha=0.5,\n",
    "                       ax=ax)\n",
    "\n",
    "nx.draw_networkx_edges(g,\n",
    "                       node_pos_dict,\n",
    "                       arrows=True,\n",
    "                       connectionstyle='arc3,rad=0.1',\n",
    "                       alpha=0.6)\n",
    "plt.show()"
   ]
  },
  {
   "cell_type": "code",
   "execution_count": null,
   "id": "03432228",
   "metadata": {},
   "outputs": [],
   "source": []
  }
 ],
 "metadata": {
  "jupytext": {
   "text_representation": {
    "extension": ".md",
    "format_name": "myst",
    "format_version": 0.13,
    "jupytext_version": "1.14.4"
   }
  },
  "kernelspec": {
   "display_name": "Python 3 (ipykernel)",
   "language": "python",
   "name": "python3"
  },
  "source_map": [
   12,
   41,
   46,
   50,
   58,
   328,
   360,
   384,
   386,
   400,
   404,
   408,
   410,
   422,
   426,
   443,
   447,
   455,
   457,
   461,
   463,
   484,
   496,
   501,
   503,
   507,
   511,
   513,
   517,
   522,
   525,
   574,
   585,
   589,
   591,
   595,
   599,
   601,
   605,
   609,
   611,
   619,
   622,
   626,
   629,
   676,
   679,
   683,
   686,
   703,
   711,
   720,
   741,
   746,
   754,
   759,
   766,
   770,
   772,
   782,
   830
  ]
 },
 "nbformat": 4,
 "nbformat_minor": 5
}