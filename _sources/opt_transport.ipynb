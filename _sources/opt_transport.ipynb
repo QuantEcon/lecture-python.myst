{
 "cells": [
  {
   "cell_type": "markdown",
   "id": "384c6761",
   "metadata": {},
   "source": [
    "# Optimal Transport \n",
    "\n",
    "## Overview\n",
    "\n",
    "The **transportation** or **optimal transport** problem is interesting both\n",
    "because of its many applications and because of its important role in the history of\n",
    "economic theory.\n",
    "\n",
    "In this lecture, we describe the problem, tell how \n",
    "{doc}`linear programming <lp_intro>` is a\n",
    "key tool for solving it, and then provide some examples.  \n",
    "\n",
    "We will provide other applications in followup lectures.\n",
    "\n",
    "The optimal transport problem was studied in early work about linear\n",
    "programming, as summarized for example by {cite}`DoSSo`.  A modern reference\n",
    "about applications in economics is {cite}`Galichon_2016`.\n",
    "\n",
    "Below, we show how to solve the optimal transport problem using\n",
    "several implementations of linear programming, including, in order,\n",
    "\n",
    "1. the\n",
    "   [linprog](https://docs.scipy.org/doc/scipy/reference/generated/scipy.optimize.linprog.html)\n",
    "   solver from SciPy, \n",
    "2. the [linprog_simplex](https://quanteconpy.readthedocs.io/en/latest/optimize/linprog_simplex.html) solver from QuantEcon and\n",
    "3. the simplex-based solvers included in the [Python Optimal Transport](https://pythonot.github.io/) package."
   ]
  },
  {
   "cell_type": "code",
   "execution_count": 1,
   "id": "9e3d0bf8",
   "metadata": {
    "tags": [
     "hide-output"
    ]
   },
   "outputs": [
    {
     "name": "stdout",
     "output_type": "stream",
     "text": [
      "Requirement already satisfied: quantecon in /usr/share/miniconda3/envs/quantecon/lib/python3.9/site-packages (0.5.3)\r\n"
     ]
    },
    {
     "name": "stdout",
     "output_type": "stream",
     "text": [
      "Requirement already satisfied: numpy in /usr/share/miniconda3/envs/quantecon/lib/python3.9/site-packages (from quantecon) (1.23.4)\r\n",
      "Requirement already satisfied: scipy>=1.0.0 in /usr/share/miniconda3/envs/quantecon/lib/python3.9/site-packages (from quantecon) (1.9.1)\r\n",
      "Requirement already satisfied: numba in /usr/share/miniconda3/envs/quantecon/lib/python3.9/site-packages (from quantecon) (0.56.3)\r\n",
      "Requirement already satisfied: requests in /usr/share/miniconda3/envs/quantecon/lib/python3.9/site-packages (from quantecon) (2.28.1)\r\n",
      "Requirement already satisfied: sympy in /usr/share/miniconda3/envs/quantecon/lib/python3.9/site-packages (from quantecon) (1.10.1)\r\n"
     ]
    },
    {
     "name": "stdout",
     "output_type": "stream",
     "text": [
      "Requirement already satisfied: llvmlite<0.40,>=0.39.0dev0 in /usr/share/miniconda3/envs/quantecon/lib/python3.9/site-packages (from numba->quantecon) (0.39.1)\r\n",
      "Requirement already satisfied: setuptools in /usr/share/miniconda3/envs/quantecon/lib/python3.9/site-packages (from numba->quantecon) (63.4.1)\r\n",
      "Requirement already satisfied: charset-normalizer<3,>=2 in /usr/share/miniconda3/envs/quantecon/lib/python3.9/site-packages (from requests->quantecon) (2.0.4)\r\n",
      "Requirement already satisfied: urllib3<1.27,>=1.21.1 in /usr/share/miniconda3/envs/quantecon/lib/python3.9/site-packages (from requests->quantecon) (1.26.11)\r\n",
      "Requirement already satisfied: idna<4,>=2.5 in /usr/share/miniconda3/envs/quantecon/lib/python3.9/site-packages (from requests->quantecon) (3.3)\r\n",
      "Requirement already satisfied: certifi>=2017.4.17 in /usr/share/miniconda3/envs/quantecon/lib/python3.9/site-packages (from requests->quantecon) (2022.9.14)\r\n",
      "Requirement already satisfied: mpmath>=0.19 in /usr/share/miniconda3/envs/quantecon/lib/python3.9/site-packages (from sympy->quantecon) (1.2.1)\r\n"
     ]
    },
    {
     "name": "stdout",
     "output_type": "stream",
     "text": [
      "Collecting POT\r\n"
     ]
    },
    {
     "name": "stdout",
     "output_type": "stream",
     "text": [
      "  Downloading POT-0.8.2-cp39-cp39-manylinux_2_12_x86_64.manylinux2010_x86_64.whl (670 kB)\r\n",
      "\u001b[?25l     \u001b[90m━━━━━━━━━━━━━━━━━━━━━━━━━━━━━━━━━━━━━━━━\u001b[0m \u001b[32m0.0/670.2 kB\u001b[0m \u001b[31m?\u001b[0m eta \u001b[36m-:--:--\u001b[0m"
     ]
    },
    {
     "name": "stdout",
     "output_type": "stream",
     "text": [
      "\r",
      "\u001b[2K     \u001b[91m━━━━━━━━━━━━━━━━━━━━━━━━━━━━━━━━━━━\u001b[0m\u001b[90m╺\u001b[0m\u001b[90m━━\u001b[0m \u001b[32m624.6/670.2 kB\u001b[0m \u001b[31m18.5 MB/s\u001b[0m eta \u001b[36m0:00:01\u001b[0m\r",
      "\u001b[2K     \u001b[90m━━━━━━━━━━━━━━━━━━━━━━━━━━━━━━━━━━━━━━\u001b[0m \u001b[32m670.2/670.2 kB\u001b[0m \u001b[31m15.7 MB/s\u001b[0m eta \u001b[36m0:00:00\u001b[0m\r\n",
      "\u001b[?25hRequirement already satisfied: jax in /usr/share/miniconda3/envs/quantecon/lib/python3.9/site-packages (0.3.23)\r\n"
     ]
    },
    {
     "name": "stdout",
     "output_type": "stream",
     "text": [
      "Requirement already satisfied: jaxlib in /usr/share/miniconda3/envs/quantecon/lib/python3.9/site-packages (0.3.22)\r\n"
     ]
    },
    {
     "name": "stdout",
     "output_type": "stream",
     "text": [
      "Requirement already satisfied: numpy>=1.16 in /usr/share/miniconda3/envs/quantecon/lib/python3.9/site-packages (from POT) (1.23.4)\r\n",
      "Requirement already satisfied: scipy>=1.0 in /usr/share/miniconda3/envs/quantecon/lib/python3.9/site-packages (from POT) (1.9.1)\r\n",
      "Requirement already satisfied: typing-extensions in /usr/share/miniconda3/envs/quantecon/lib/python3.9/site-packages (from jax) (4.3.0)\r\n",
      "Requirement already satisfied: etils[epath] in /usr/share/miniconda3/envs/quantecon/lib/python3.9/site-packages (from jax) (0.9.0)\r\n",
      "Requirement already satisfied: absl-py in /usr/share/miniconda3/envs/quantecon/lib/python3.9/site-packages (from jax) (1.3.0)\r\n",
      "Requirement already satisfied: opt-einsum in /usr/share/miniconda3/envs/quantecon/lib/python3.9/site-packages (from jax) (3.3.0)\r\n"
     ]
    },
    {
     "name": "stdout",
     "output_type": "stream",
     "text": [
      "Requirement already satisfied: zipp in /usr/share/miniconda3/envs/quantecon/lib/python3.9/site-packages (from etils[epath]->jax) (3.8.0)\r\n",
      "Requirement already satisfied: importlib_resources in /usr/share/miniconda3/envs/quantecon/lib/python3.9/site-packages (from etils[epath]->jax) (5.10.0)\r\n"
     ]
    },
    {
     "name": "stdout",
     "output_type": "stream",
     "text": [
      "Installing collected packages: POT\r\n"
     ]
    },
    {
     "name": "stdout",
     "output_type": "stream",
     "text": [
      "Successfully installed POT-0.8.2\r\n"
     ]
    }
   ],
   "source": [
    "!pip install --upgrade quantecon\n",
    "!pip install --upgrade POT jax jaxlib"
   ]
  },
  {
   "cell_type": "markdown",
   "id": "2dcb5d46",
   "metadata": {},
   "source": [
    "Let's start with some imports."
   ]
  },
  {
   "cell_type": "code",
   "execution_count": 2,
   "id": "2f0387dc",
   "metadata": {},
   "outputs": [],
   "source": [
    "import numpy as np\n",
    "import matplotlib.pyplot as plt\n",
    "from scipy.optimize import linprog\n",
    "from quantecon.optimize.linprog_simplex import linprog_simplex\n",
    "import ot\n",
    "from scipy.stats import binom, betabinom\n",
    "import networkx as nx"
   ]
  },
  {
   "cell_type": "markdown",
   "id": "bdd8f6e8",
   "metadata": {},
   "source": [
    "## The Optimal Transport Problem\n",
    "\n",
    "Suppose that $m$ factories produce goods that must be sent to $n$ locations.\n",
    "\n",
    "Let \n",
    "\n",
    "* $x_{ij}$ denote the quantity  shipped from factory $i$ to location  $j$\n",
    "\n",
    "* $c_{ij}$ denote the cost of shipping one unit  from factory $i$ to location $j$\n",
    "\n",
    "* $p_i$ denote the capacity of factory $i$ and $q_j$ denote the amount required at location $j$. \n",
    "\n",
    "*  $i = 1, 2, \\dots, m$ and $j = 1, 2, \\dots, n$.\n",
    "\n",
    "A planner wants to minimize  total transportation costs subject to the following constraints:\n",
    "\n",
    "* The amount shipped **from** each factory must equal  its capacity.\n",
    "\n",
    "* The amount shipped **to** each location must equal the quantity required there.\n",
    "\n",
    "\n",
    "The figure below shows one visualization of this idea, when factories and\n",
    "target locations are distributed in the plane.\n",
    "\n",
    "```{figure} /_static/lecture_specific/opt_transport/optimal_transport_splitting_experiment.png\n",
    "\n",
    "```\n",
    "\n",
    "The size of the vertices in the figure are proportional to \n",
    "\n",
    "- capacity, for the factories, and\n",
    "- demand (amount required) for the target locations.\n",
    "\n",
    "The arrows show one possible transport plan, which respects the constraints\n",
    "stated above.\n",
    "\n",
    "\n",
    "The planner's problem can be expressed as the following constrained minimization problem:\n",
    "\n",
    "$$\n",
    "\\begin{aligned}\n",
    "    \\min_{x_{ij}} \\ & \\sum_{i=1}^m \\sum_{j=1}^n c_{ij} x_{ij} \\\\\n",
    "    \\mbox{subject to } \\ & \\sum_{j=1}^n x_{ij} = p_i, & i = 1, 2, \\dots, m \\\\\n",
    "    & \\sum_{i=1}^m x_{ij} = q_j, & j = 1, 2, \\dots, n \\\\\n",
    "    & x_{ij} \\ge 0 \\\\\n",
    "\\end{aligned}\n",
    "$$ (plannerproblem)\n",
    "\n",
    "This is an **optimal transport problem** with\n",
    "\n",
    "* $mn$ decision variables, namely, the entries $x_{ij}$   and\n",
    "\n",
    "* $m+n$ constraints.\n",
    "\n",
    "Summing the $q_j$'s across all $j$'s and the $p_i$'s across all $i$'s indicates that the total capacity of all the factories  equals  total requirements at all locations: \n",
    "\n",
    "$$\n",
    "    \\sum_{j=1}^n q_j \n",
    "    = \\sum_{j=1}^n \\sum_{i=1}^m x_{ij} \n",
    "    = \\sum_{i=1}^m \\sum_{j=1}^n x_{ij} \n",
    "    = \\sum_{i=1}^m p_i\n",
    "$$ (sumconstraints)\n",
    "\n",
    "The presence of the restrictions in {eq}`sumconstraints` will be the source of\n",
    "one redundancy in the complete set of restrictions that we describe below.  \n",
    "\n",
    "More about this later.\n",
    "\n",
    "\n",
    "\n",
    "\n",
    "## The Linear Programming Approach\n",
    "\n",
    "In this section we discuss using using standard linear programming solvers to\n",
    "tackle the optimal transport problem.\n",
    "\n",
    "\n",
    "### Vectorizing a Matrix of Decision Variables\n",
    "\n",
    "A *matrix* of decision variables $x_{ij}$ appears in problem {eq}`plannerproblem`. \n",
    "\n",
    "The SciPy function `linprog` expects to see a *vector* of decision variables. \n",
    "\n",
    "This situation impels us to rewrite our problem in terms of a\n",
    "*vector* of decision variables.\n",
    "\n",
    "Let \n",
    "\n",
    "* $X, C$ be $m \\times n$ matrices with entries $x_{ij}, c_{ij}$,\n",
    "\n",
    "* $p$ be $m$-dimensional vector with entries $p_i$,\n",
    "\n",
    "* $q$ be $n$-dimensional vector with entries $q_j$. \n",
    "\n",
    "With $\\mathbf{1}_n$ denoting the $n$-dimensional column vector $(1, 1, \\dots,\n",
    "1)'$, our  problem can now be expressed compactly as:\n",
    "\n",
    "$$\n",
    "\\begin{aligned}\n",
    "    \\min_{X} \\ & \\operatorname{tr} (C' X) \\\\\n",
    "    \\mbox{subject to } \\ & X \\ \\mathbf{1}_n = p \\\\\n",
    "    & X' \\ \\mathbf{1}_m = q \\\\\n",
    "    & X \\ge 0 \\\\\n",
    "\\end{aligned}\n",
    "$$\n",
    "\n",
    "We can convert the matrix $X$ into a vector by stacking all of its columns into a  column vector. \n",
    "\n",
    "Doing this is called **vectorization**, an operation that we denote  $\\operatorname{vec}(X)$. \n",
    "\n",
    "Similarly, we convert the matrix $C$ into an $mn$-dimensional vector $\\operatorname{vec}(C)$.\n",
    "\n",
    "The objective function can be expressed as the inner product between $\\operatorname{vec}(C)$ and $\\operatorname{vec}(X)$:\n",
    "\n",
    "$$\n",
    "    \\operatorname{vec}(C)' \\cdot \\operatorname{vec}(X).\n",
    "$$\n",
    "\n",
    "To express the constraints in terms of $\\operatorname{vec}(X)$, we use a\n",
    "**Kronecker product** denoted by $\\otimes$ and defined as follows.\n",
    "\n",
    "Suppose $A$ is an $m \\times s$ matrix with entries $(a_{ij})$ and that $B$ is\n",
    "an $n \\times t$ matrix.\n",
    "\n",
    "The **Kronecker product** of $A$ and $B$ is defined, in block matrix form, by\n",
    "\n",
    "$$\n",
    "    A \\otimes B = \n",
    "    \\begin{pmatrix}\n",
    "    a_{11}B & a_{12}B & \\dots & a_{1s}B \\\\ \n",
    "    a_{21}B & a_{22}B & \\dots & a_{2s}B \\\\ \n",
    "      &   & \\vdots &   \\\\ \n",
    "    a_{m1}B & a_{m2}B & \\dots & a_{ms}B \\\\ \n",
    "    \\end{pmatrix}.\n",
    "$$\n",
    "\n",
    "$A \\otimes B$ is an $mn \\times st$ matrix.\n",
    "\n",
    "It has the property that for any $m \\times n$ matrix $X$\n",
    "\n",
    "$$\n",
    "    \\operatorname{vec}(A'XB) = (B' \\otimes A') \\operatorname{vec}(X).\n",
    "$$ (kroneckerprop)\n",
    "\n",
    "We can now express our constraints in terms of $\\operatorname{vec}(X)$.\n",
    "\n",
    "Let $A = \\mathbf{I}_m', B = \\mathbf{1}_n$.\n",
    "\n",
    "By equation {eq}`kroneckerprop`\n",
    "\n",
    "$$\n",
    "    X \\ \\mathbf{1}_n \n",
    "    = \\operatorname{vec}(X \\ \\mathbf{1}_n) \n",
    "    = \\operatorname{vec}(\\mathbf{I}_m X \\ \\mathbf{1}_n) \n",
    "    = (\\mathbf{1}_n' \\otimes \\mathbf{I}_m) \\operatorname{vec}(X).\n",
    "$$\n",
    "\n",
    "where  $\\mathbf{I}_m$ denotes the $m \\times m$ identity matrix.\n",
    "\n",
    "Constraint $X \\ \\mathbf{1}_n = p$ can now be written as:\n",
    "\n",
    "$$\n",
    "    (\\mathbf{1}_n' \\otimes \\mathbf{I}_m) \\operatorname{vec}(X) = p.\n",
    "$$\n",
    "\n",
    "Similarly, the constraint $X' \\ \\mathbf{1}_m = q$ can be rewriten as:\n",
    "\n",
    "$$\n",
    "    (\\mathbf{I}_n \\otimes \\mathbf{1}_m') \\operatorname{vec}(X) = q.\n",
    "$$\n",
    "\n",
    "With $z := \\operatorname{vec}(X)$, our problem can now be expressed\n",
    "in terms of an $mn$-dimensional vector of decision variables:\n",
    "\n",
    "$$\n",
    "    \\begin{aligned}\n",
    "        \\min_{z} \\ & \\operatorname{vec}(C)' z \\\\\n",
    "        \\mbox{subject to } \\ & A z = b \\\\\n",
    "        & z \\ge 0 \\\\\n",
    "    \\end{aligned}\n",
    "$$ (decisionvars)\n",
    "\n",
    "where\n",
    "\n",
    "$$\n",
    "    A = \n",
    "    \\begin{pmatrix}\n",
    "        \\mathbf{1}_n' \\otimes \\mathbf{I}_m \\\\ \n",
    "        \\mathbf{I}_n \\otimes \\mathbf{1}_m' \\\\ \n",
    "    \\end{pmatrix}\n",
    "    \\quad \\text{and} \\quad\n",
    "    b = \\begin{pmatrix} \n",
    "            p \\\\ \n",
    "            q \\\\ \n",
    "        \\end{pmatrix}\n",
    "$$\n",
    "\n",
    "\n",
    "### An Application\n",
    "\n",
    "\n",
    "We now provide an example that takes the form {eq}`decisionvars` that we'll\n",
    "solve by deploying the function `linprog`.\n",
    "\n",
    "The table below provides numbers for the requirements vector $q$, the capacity vector $p$,\n",
    "and entries $c_{ij}$  of the cost-of-shipping matrix $C$.\n",
    "\n",
    "\n",
    "```{raw} html\n",
    "<table>\n",
    "    <tr>\n",
    "\t    <th> </th>\n",
    "        <th colspan=\"3\"><center>Factory</center></th>\n",
    "\t    <th rowspan=\"2\">Requirement</th>  \n",
    "\t</tr >\n",
    "    <tr>\n",
    "        <th> Location </th> <th>1</th> <th>2</th> <th>3</th>\n",
    "\t</tr>\n",
    "    <tr>\n",
    "\t    <td>1</td>  <td>10</td> <td>20</td> <td>30</td> <td>25</td>\n",
    "\t</tr>\n",
    "    <tr>\n",
    "\t    <td>2</td> <td>15</td> <td>40</td> <td>35</td> <td>115</td>\n",
    "\t</tr>\n",
    "    <tr>\n",
    "\t    <td>3</td> <td>20</td> <td>15</td> <td>40</td> <td>60</td>\n",
    "\t</tr>\n",
    "    <tr>\n",
    "\t    <td>4</td> <td>20</td> <td>30</td> <td>55</td> <td>30</td>\n",
    "\t</tr>\n",
    "    <tr>\n",
    "\t    <td>5</td> <td>40</td> <td>30</td> <td>25</td> <td>70</td>\n",
    "\t</tr>\n",
    "    <tr>\n",
    "\t    <td>Capacity</td> <td>50</td> <td>100</td> <td>150</td> <td>300</td>\n",
    "\t</tr>\n",
    "</table>\n",
    "```\n",
    "\n",
    "The numbers in the above table tell us to set $m = 3$, $n = 5$, and construct\n",
    "the following objects:\n",
    "\n",
    "$$\n",
    "p = \\begin{pmatrix}\n",
    "        50 \\\\\n",
    "        100 \\\\\n",
    "        150 \n",
    "    \\end{pmatrix},\n",
    "    \\quad\n",
    "    q = \n",
    "    \\begin{pmatrix}\n",
    "        25 \\\\\n",
    "        115 \\\\\n",
    "        60 \\\\\n",
    "        30 \\\\\n",
    "        70\n",
    "    \\end{pmatrix}\n",
    "    \\quad \\text{and} \\quad\n",
    "    C = \n",
    "    \\begin{pmatrix}\n",
    "        10 &15 &20 &20 &40 \\\\\n",
    "        20 &40 &15 &30 &30 \\\\\n",
    "        30 &35 &40 &55 &25 \n",
    "    \\end{pmatrix}.\n",
    "$$\n",
    "\n",
    "Let's write Python code that sets up the problem and solves it."
   ]
  },
  {
   "cell_type": "code",
   "execution_count": 3,
   "id": "e5ee3233",
   "metadata": {},
   "outputs": [
    {
     "name": "stdout",
     "output_type": "stream",
     "text": [
      "message: Optimization terminated successfully.\n",
      "nit: 12\n",
      "fun: 7225.0\n",
      "z: [15. 10.  0. 35.  0. 80.  0. 60.  0.  0. 30.  0.  0.  0. 70.]\n",
      "X: [[15. 35.  0.  0.  0.]\n",
      " [10.  0. 60. 30.  0.]\n",
      " [ 0. 80.  0.  0. 70.]]\n"
     ]
    },
    {
     "name": "stderr",
     "output_type": "stream",
     "text": [
      "/tmp/ipykernel_17085/1014317504.py:24: DeprecationWarning: `method='revised simplex'` is deprecated and will be removed in SciPy 1.11.0. Please use one of the HiGHS solvers (e.g. `method='highs'`) in new code.\n",
      "  res = linprog(C_vec, A_eq=A, b_eq=b, method='Revised simplex')\n",
      "/tmp/ipykernel_17085/1014317504.py:24: OptimizeWarning: A_eq does not appear to be of full row rank. To improve performance, check the problem formulation for redundant equality constraints.\n",
      "  res = linprog(C_vec, A_eq=A, b_eq=b, method='Revised simplex')\n"
     ]
    }
   ],
   "source": [
    "# Define parameters\n",
    "m = 3\n",
    "n = 5\n",
    "\n",
    "p = np.array([50, 100, 150])\n",
    "q = np.array([25, 115, 60, 30, 70])\n",
    "\n",
    "C = np.array([[10, 15, 20, 20, 40],\n",
    "              [20, 40, 15, 30, 30],\n",
    "              [30, 35, 40, 55, 25]])\n",
    "\n",
    "# Vectorize matrix C\n",
    "C_vec = C.reshape((m*n, 1), order='F')\n",
    "\n",
    "# Construct matrix A by Kronecker product\n",
    "A1 = np.kron(np.ones((1, n)), np.identity(m))\n",
    "A2 = np.kron(np.identity(n), np.ones((1, m)))\n",
    "A = np.vstack([A1, A2])\n",
    "\n",
    "# Construct vector b\n",
    "b = np.hstack([p, q])\n",
    "\n",
    "# Solve the primal problem\n",
    "res = linprog(C_vec, A_eq=A, b_eq=b, method='Revised simplex')\n",
    "\n",
    "# Print results\n",
    "print(\"message:\", res.message)\n",
    "print(\"nit:\", res.nit)\n",
    "print(\"fun:\", res.fun)\n",
    "print(\"z:\", res.x)\n",
    "print(\"X:\", res.x.reshape((m,n), order='F'))"
   ]
  },
  {
   "cell_type": "markdown",
   "id": "3657e273",
   "metadata": {},
   "source": [
    "Notice how, in the line `C_vec = C.reshape((m*n, 1), order='F')`, we are\n",
    "careful to vectorize using the flag `order='F'`.\n",
    "\n",
    "This is consistent with converting $C$ into a vector by stacking all of its\n",
    "columns into a  column vector. \n",
    "\n",
    "Here `'F'` stands for \"Fortran\", and we are using Fortran style column-major order.\n",
    "\n",
    "(For an alternative approach, using Python's default row-major ordering, see [this\n",
    "        lecture by Alfred\n",
    "        Galichon](https://www.math-econ-code.org/dynamic-programming).)\n",
    "\n",
    "**Interpreting the warning:**  \n",
    "\n",
    "The above warning message from SciPy points out that A is not full rank.\n",
    "\n",
    "This indicates that the linear program has been set up to include one or more redundant constraints.\n",
    "\n",
    "Here, the source of the redundancy is the structure of  restrictions {eq}`sumconstraints`.\n",
    "\n",
    "Let's explore this further by printing out $A$ and staring at it."
   ]
  },
  {
   "cell_type": "code",
   "execution_count": 4,
   "id": "d525700d",
   "metadata": {},
   "outputs": [
    {
     "data": {
      "text/plain": [
       "array([[1., 0., 0., 1., 0., 0., 1., 0., 0., 1., 0., 0., 1., 0., 0.],\n",
       "       [0., 1., 0., 0., 1., 0., 0., 1., 0., 0., 1., 0., 0., 1., 0.],\n",
       "       [0., 0., 1., 0., 0., 1., 0., 0., 1., 0., 0., 1., 0., 0., 1.],\n",
       "       [1., 1., 1., 0., 0., 0., 0., 0., 0., 0., 0., 0., 0., 0., 0.],\n",
       "       [0., 0., 0., 1., 1., 1., 0., 0., 0., 0., 0., 0., 0., 0., 0.],\n",
       "       [0., 0., 0., 0., 0., 0., 1., 1., 1., 0., 0., 0., 0., 0., 0.],\n",
       "       [0., 0., 0., 0., 0., 0., 0., 0., 0., 1., 1., 1., 0., 0., 0.],\n",
       "       [0., 0., 0., 0., 0., 0., 0., 0., 0., 0., 0., 0., 1., 1., 1.]])"
      ]
     },
     "execution_count": 4,
     "metadata": {},
     "output_type": "execute_result"
    }
   ],
   "source": [
    "A"
   ]
  },
  {
   "cell_type": "markdown",
   "id": "9fcd6d2c",
   "metadata": {},
   "source": [
    "The singularity of $A$ reflects that the  first three constraints and the last five constraints  both require  that \"total requirements equal total capacities\" expressed in {eq}`sumconstraints`.\n",
    "\n",
    "One  equality constraint here is redundant.\n",
    "\n",
    "Below we drop one of the equality constraints, and use only  7 of them.\n",
    "\n",
    "After doing this, we attain the same minimized cost. \n",
    "\n",
    "However, we find a  different transportation plan.\n",
    "\n",
    "Though it is a different plan, it attains the same cost!"
   ]
  },
  {
   "cell_type": "code",
   "execution_count": 5,
   "id": "d7fbb8e3",
   "metadata": {},
   "outputs": [
    {
     "name": "stderr",
     "output_type": "stream",
     "text": [
      "/tmp/ipykernel_17085/1219707093.py:1: DeprecationWarning: `method='revised simplex'` is deprecated and will be removed in SciPy 1.11.0. Please use one of the HiGHS solvers (e.g. `method='highs'`) in new code.\n",
      "  linprog(C_vec, A_eq=A[:-1], b_eq=b[:-1], method='Revised simplex')\n"
     ]
    },
    {
     "data": {
      "text/plain": [
       "     con: array([0., 0., 0., 0., 0., 0., 0.])\n",
       "     fun: 7225.0\n",
       " message: 'Optimization terminated successfully.'\n",
       "     nit: 13\n",
       "   slack: array([], dtype=float64)\n",
       "  status: 0\n",
       " success: True\n",
       "       x: array([ 0., 25.,  0., 35.,  0., 80.,  0., 60.,  0., 15., 15.,  0.,  0.,\n",
       "        0., 70.])"
      ]
     },
     "execution_count": 5,
     "metadata": {},
     "output_type": "execute_result"
    }
   ],
   "source": [
    "linprog(C_vec, A_eq=A[:-1], b_eq=b[:-1], method='Revised simplex')"
   ]
  },
  {
   "cell_type": "code",
   "execution_count": 6,
   "id": "848cc906",
   "metadata": {},
   "outputs": [
    {
     "name": "stdout",
     "output_type": "stream",
     "text": [
      "CPU times: user 4.6 ms, sys: 67 µs, total: 4.66 ms\n",
      "Wall time: 4.15 ms\n"
     ]
    },
    {
     "name": "stderr",
     "output_type": "stream",
     "text": [
      "<timed eval>:1: DeprecationWarning: `method='revised simplex'` is deprecated and will be removed in SciPy 1.11.0. Please use one of the HiGHS solvers (e.g. `method='highs'`) in new code.\n"
     ]
    },
    {
     "data": {
      "text/plain": [
       "     con: array([0., 0., 0., 0., 0., 0., 0.])\n",
       "     fun: 7225.0\n",
       " message: 'Optimization terminated successfully.'\n",
       "     nit: 13\n",
       "   slack: array([], dtype=float64)\n",
       "  status: 0\n",
       " success: True\n",
       "       x: array([ 0., 25.,  0., 35.,  0., 80.,  0., 60.,  0., 15., 15.,  0.,  0.,\n",
       "        0., 70.])"
      ]
     },
     "execution_count": 6,
     "metadata": {},
     "output_type": "execute_result"
    }
   ],
   "source": [
    "%time linprog(C_vec, A_eq=A[:-1], b_eq=b[:-1], method='Revised simplex')"
   ]
  },
  {
   "cell_type": "code",
   "execution_count": 7,
   "id": "f83fb4ce",
   "metadata": {},
   "outputs": [
    {
     "name": "stdout",
     "output_type": "stream",
     "text": [
      "CPU times: user 2.92 ms, sys: 3.87 ms, total: 6.79 ms\n",
      "Wall time: 5.97 ms\n"
     ]
    },
    {
     "name": "stderr",
     "output_type": "stream",
     "text": [
      "<timed eval>:1: DeprecationWarning: `method='revised simplex'` is deprecated and will be removed in SciPy 1.11.0. Please use one of the HiGHS solvers (e.g. `method='highs'`) in new code.\n",
      "<timed eval>:1: OptimizeWarning: A_eq does not appear to be of full row rank. To improve performance, check the problem formulation for redundant equality constraints.\n"
     ]
    },
    {
     "data": {
      "text/plain": [
       "     con: array([0., 0., 0., 0., 0., 0., 0., 0.])\n",
       "     fun: 7225.0\n",
       " message: 'Optimization terminated successfully.'\n",
       "     nit: 12\n",
       "   slack: array([], dtype=float64)\n",
       "  status: 0\n",
       " success: True\n",
       "       x: array([15., 10.,  0., 35.,  0., 80.,  0., 60.,  0.,  0., 30.,  0.,  0.,\n",
       "        0., 70.])"
      ]
     },
     "execution_count": 7,
     "metadata": {},
     "output_type": "execute_result"
    }
   ],
   "source": [
    "%time linprog(C_vec, A_eq=A, b_eq=b, method='Revised simplex')"
   ]
  },
  {
   "cell_type": "markdown",
   "id": "df8a2955",
   "metadata": {},
   "source": [
    "Evidently, it is slightly quicker to work with the system that removed a redundant constraint.\n",
    "\n",
    "Let's drill down and do some more calculations to help us understand whether or not our finding **two** different optimal transport plans reflects our having dropped a redundant equality constraint.\n",
    "\n",
    "```{admonition} Hint\n",
    "It will turn out that dropping a redundant equality isn't really what mattered.\n",
    "```\n",
    "\n",
    "To verify our hint, we shall simply use **all** of  the original equality constraints (including a redundant one), but we'll just shuffle the order of the constraints."
   ]
  },
  {
   "cell_type": "code",
   "execution_count": 8,
   "id": "d6305866",
   "metadata": {},
   "outputs": [],
   "source": [
    "arr = np.arange(m+n)"
   ]
  },
  {
   "cell_type": "code",
   "execution_count": 9,
   "id": "ec8ad476",
   "metadata": {},
   "outputs": [
    {
     "name": "stderr",
     "output_type": "stream",
     "text": [
      "/tmp/ipykernel_17085/2305330369.py:8: DeprecationWarning: `method='revised simplex'` is deprecated and will be removed in SciPy 1.11.0. Please use one of the HiGHS solvers (e.g. `method='highs'`) in new code.\n",
      "  res_shuffle = linprog(C_vec, A_eq=A[arr], b_eq=b[arr], method='Revised simplex')\n",
      "/tmp/ipykernel_17085/2305330369.py:8: OptimizeWarning: A_eq does not appear to be of full row rank. To improve performance, check the problem formulation for redundant equality constraints.\n",
      "  res_shuffle = linprog(C_vec, A_eq=A[arr], b_eq=b[arr], method='Revised simplex')\n"
     ]
    }
   ],
   "source": [
    "sol_found = []\n",
    "cost = []\n",
    "\n",
    "# simulate 1000 times\n",
    "for i in range(1000):\n",
    "\n",
    "    np.random.shuffle(arr)\n",
    "    res_shuffle = linprog(C_vec, A_eq=A[arr], b_eq=b[arr], method='Revised simplex')\n",
    "\n",
    "    # if find a new solution\n",
    "    sol = tuple(res_shuffle.x)\n",
    "    if sol not in sol_found:\n",
    "        sol_found.append(sol)\n",
    "        cost.append(res_shuffle.fun)"
   ]
  },
  {
   "cell_type": "code",
   "execution_count": 10,
   "id": "39402c1e",
   "metadata": {},
   "outputs": [
    {
     "name": "stdout",
     "output_type": "stream",
     "text": [
      "transportation plan 0:  (15.0, 10.0, 0.0, 35.0, 0.0, 80.0, 0.0, 60.0, 0.0, 0.0, 30.0, 0.0, 0.0, 0.0, 70.0)\n",
      "     minimized cost 0:  7225.0\n",
      "transportation plan 1:  (0.0, 25.0, 0.0, 35.0, 0.0, 80.0, 0.0, 60.0, 0.0, 15.0, 15.0, 0.0, 0.0, 0.0, 70.0)\n",
      "     minimized cost 1:  7225.0\n"
     ]
    }
   ],
   "source": [
    "for i in range(len(sol_found)):\n",
    "    print(f\"transportation plan {i}: \", sol_found[i])\n",
    "    print(f\"     minimized cost {i}: \", cost[i])"
   ]
  },
  {
   "cell_type": "markdown",
   "id": "1368dd0a",
   "metadata": {},
   "source": [
    "**Ah hah!** As you can see, putting constraints in different orders in this case uncovers two optimal transportation plans that achieve the same minimized cost.\n",
    "\n",
    "These are the same two plans computed earlier.\n",
    "\n",
    "Next, we show that leaving out the first constraint \"accidentally\" leads to the initial plan that we computed."
   ]
  },
  {
   "cell_type": "code",
   "execution_count": 11,
   "id": "726dd810",
   "metadata": {},
   "outputs": [
    {
     "name": "stderr",
     "output_type": "stream",
     "text": [
      "/tmp/ipykernel_17085/2512147953.py:1: DeprecationWarning: `method='revised simplex'` is deprecated and will be removed in SciPy 1.11.0. Please use one of the HiGHS solvers (e.g. `method='highs'`) in new code.\n",
      "  linprog(C_vec, A_eq=A[1:], b_eq=b[1:], method='Revised simplex')\n"
     ]
    },
    {
     "data": {
      "text/plain": [
       "     con: array([0., 0., 0., 0., 0., 0., 0.])\n",
       "     fun: 7225.0\n",
       " message: 'Optimization terminated successfully.'\n",
       "     nit: 12\n",
       "   slack: array([], dtype=float64)\n",
       "  status: 0\n",
       " success: True\n",
       "       x: array([15., 10.,  0., 35.,  0., 80.,  0., 60.,  0.,  0., 30.,  0.,  0.,\n",
       "        0., 70.])"
      ]
     },
     "execution_count": 11,
     "metadata": {},
     "output_type": "execute_result"
    }
   ],
   "source": [
    "linprog(C_vec, A_eq=A[1:], b_eq=b[1:], method='Revised simplex')"
   ]
  },
  {
   "cell_type": "markdown",
   "id": "ec616da9",
   "metadata": {},
   "source": [
    "Let's compare this transport plan with"
   ]
  },
  {
   "cell_type": "code",
   "execution_count": 12,
   "id": "cb93673c",
   "metadata": {},
   "outputs": [
    {
     "data": {
      "text/plain": [
       "array([15., 10.,  0., 35.,  0., 80.,  0., 60.,  0.,  0., 30.,  0.,  0.,\n",
       "        0., 70.])"
      ]
     },
     "execution_count": 12,
     "metadata": {},
     "output_type": "execute_result"
    }
   ],
   "source": [
    "res.x"
   ]
  },
  {
   "cell_type": "markdown",
   "id": "e5b1ab0c",
   "metadata": {},
   "source": [
    "Here the matrix $X$ contains entries $x_{ij}$ that tell amounts shipped **from** factor $i = 1, 2, 3$\n",
    "**to** location $j=1,2, \\ldots, 5$.\n",
    "\n",
    "The vector $z$ evidently equals $\\operatorname{vec}(X)$.\n",
    "\n",
    "The minimized cost from the optimal transport plan is given by the $fun$ variable.\n",
    "\n",
    "\n",
    "### Using a Just-in-Time Compiler\n",
    "\n",
    "We can also solve optimal transportation problems using a powerful tool from\n",
    "QuantEcon, namely,`quantecon.optimize.linprog_simplex`. \n",
    "\n",
    "While this routine uses the same simplex algorithm as\n",
    "`scipy.optimize.linprog`, the code is accelerated by using a just-in-time\n",
    "compiler shipped in the `numba` library.\n",
    "\n",
    "As you will see very soon, by using `scipy.optimize.linprog` the time required to solve an optimal transportation problem can be reduced significantly."
   ]
  },
  {
   "cell_type": "code",
   "execution_count": 13,
   "id": "4ae6a4f4",
   "metadata": {},
   "outputs": [],
   "source": [
    "# construct matrices/vectors for linprog_simplex\n",
    "c = C.flatten()\n",
    "\n",
    "# Equality constraints\n",
    "A_eq = np.zeros((m+n, m*n))\n",
    "for i in range(m):\n",
    "    for j in range(n):\n",
    "        A_eq[i, i*n+j] = 1\n",
    "        A_eq[m+j, i*n+j] = 1\n",
    "\n",
    "b_eq = np.hstack([p, q])"
   ]
  },
  {
   "cell_type": "markdown",
   "id": "f962862c",
   "metadata": {},
   "source": [
    "Since `quantecon.optimize.linprog_simplex` does maximization instead of\n",
    "minimization, we need to put a negative sign before vector `c`."
   ]
  },
  {
   "cell_type": "code",
   "execution_count": 14,
   "id": "edaf8e6b",
   "metadata": {},
   "outputs": [],
   "source": [
    "res_qe = linprog_simplex(-c, A_eq=A_eq, b_eq=b_eq)"
   ]
  },
  {
   "cell_type": "markdown",
   "id": "0d6549f7",
   "metadata": {},
   "source": [
    "Since the two LP solvers use the same simplex algorithm, we expect to get exactly the same solutions"
   ]
  },
  {
   "cell_type": "code",
   "execution_count": 15,
   "id": "581ddf66",
   "metadata": {},
   "outputs": [
    {
     "data": {
      "text/plain": [
       "array([[15., 35.,  0.,  0.,  0.],\n",
       "       [10.,  0., 60., 30.,  0.],\n",
       "       [ 0., 80.,  0.,  0., 70.]])"
      ]
     },
     "execution_count": 15,
     "metadata": {},
     "output_type": "execute_result"
    }
   ],
   "source": [
    "res_qe.x.reshape((m, n), order='C')"
   ]
  },
  {
   "cell_type": "code",
   "execution_count": 16,
   "id": "4e7d8257",
   "metadata": {},
   "outputs": [
    {
     "data": {
      "text/plain": [
       "array([[15., 35.,  0.,  0.,  0.],\n",
       "       [10.,  0., 60., 30.,  0.],\n",
       "       [ 0., 80.,  0.,  0., 70.]])"
      ]
     },
     "execution_count": 16,
     "metadata": {},
     "output_type": "execute_result"
    }
   ],
   "source": [
    "res.x.reshape((m, n), order='F')"
   ]
  },
  {
   "cell_type": "markdown",
   "id": "e354a484",
   "metadata": {},
   "source": [
    "Let's do a speed comparison between `scipy.optimize.linprog` and `quantecon.optimize.linprog_simplex`."
   ]
  },
  {
   "cell_type": "code",
   "execution_count": 17,
   "id": "77ca01b3",
   "metadata": {},
   "outputs": [
    {
     "name": "stdout",
     "output_type": "stream",
     "text": [
      "CPU times: user 5.04 ms, sys: 51 µs, total: 5.09 ms\n",
      "Wall time: 4.5 ms\n"
     ]
    },
    {
     "name": "stderr",
     "output_type": "stream",
     "text": [
      "<timed exec>:1: DeprecationWarning: `method='revised simplex'` is deprecated and will be removed in SciPy 1.11.0. Please use one of the HiGHS solvers (e.g. `method='highs'`) in new code.\n"
     ]
    }
   ],
   "source": [
    "# scipy.optimize.linprog\n",
    "%time res = linprog(C_vec, A_eq=A[:-1, :], b_eq=b[:-1], method='Revised simplex')"
   ]
  },
  {
   "cell_type": "code",
   "execution_count": 18,
   "id": "c6b0f6c4",
   "metadata": {},
   "outputs": [
    {
     "name": "stdout",
     "output_type": "stream",
     "text": [
      "CPU times: user 109 µs, sys: 0 ns, total: 109 µs\n",
      "Wall time: 113 µs\n"
     ]
    }
   ],
   "source": [
    "# quantecon.optimize.linprog_simplex\n",
    "%time out = linprog_simplex(-c, A_eq=A_eq, b_eq=b_eq)"
   ]
  },
  {
   "cell_type": "markdown",
   "id": "4e4f5992",
   "metadata": {},
   "source": [
    "As you can see, the `quantecon.optimize.linprog_simplex` is much faster.\n",
    "\n",
    "(Note however, that the SciPy version is probably more stable than the\n",
    "QuantEcon version, having been tested more extensively over a longer period of\n",
    "time.)\n",
    "\n",
    "\n",
    "## The Dual Problem\n",
    "\n",
    "Let $u, v$ denotes vectors of dual decision variables with entries $(u_i), (v_j)$.\n",
    "\n",
    "The **dual** to  **minimization** problem {eq}`plannerproblem` is the **maximization** problem:\n",
    "\n",
    "$$\n",
    "\\begin{aligned}\n",
    "\\max_{u_i, v_j} \\ & \\sum_{i=1}^m p_i u_i + \\sum_{j=1}^n q_j v_j \\\\\n",
    "\\mbox{subject to } \\ & u_i + v_j \\le c_{ij}, \\ i = 1, 2, \\dots, m;\\ j = 1, 2, \\dots, n \\\\\n",
    "\\end{aligned}\n",
    "$$ (dualproblem)\n",
    "\n",
    "The dual problem is also a linear programming problem.\n",
    "\n",
    "It has $m+n$ dual variables and $mn$ constraints. \n",
    "\n",
    "Vectors $u$ and $v$ of **values** are attached to the first and the second sets of primal constraits, respectively.\n",
    "\n",
    "Thus, $u$ is attached to the constraints \n",
    "\n",
    "* $(\\mathbf{1}_n' \\otimes \\mathbf{I}_m) \\operatorname{vec}(X) = p$ \n",
    " \n",
    "and  $v$ is attached to constraints \n",
    " \n",
    "* $(\\mathbf{I}_n \\otimes \\mathbf{1}_m') \\operatorname{vec}(X) = q.$\n",
    "\n",
    "Components of the vectors $u$ and $v$ of per unit **values**  are **shadow prices** of the quantities appearing on the right sides of those constraints.\n",
    "\n",
    "We can write the dual problem as \n",
    "\n",
    "$$\n",
    "\\begin{aligned}\n",
    "\\max_{u_i, v_j} \\ & p u + q v \\\\\n",
    "\\mbox{subject to } \\ & A' \\begin{pmatrix} u \\\\ v \\\\ \\end{pmatrix} = \\operatorname{vec}(C) \\\\\n",
    "\\end{aligned}\n",
    "$$ (dualproblem2)\n",
    "\n",
    "For the same numerical example described above, let's solve the dual problem."
   ]
  },
  {
   "cell_type": "code",
   "execution_count": 19,
   "id": "4661e47e",
   "metadata": {},
   "outputs": [
    {
     "name": "stdout",
     "output_type": "stream",
     "text": [
      "message: Optimization terminated successfully.\n",
      "nit: 7\n",
      "fun: -7225.0\n",
      "u: [ 5. 15. 25.]\n",
      "v: [ 5. 10.  0. 15.  0.]\n"
     ]
    },
    {
     "name": "stderr",
     "output_type": "stream",
     "text": [
      "/tmp/ipykernel_17085/394279910.py:2: DeprecationWarning: `method='revised simplex'` is deprecated and will be removed in SciPy 1.11.0. Please use one of the HiGHS solvers (e.g. `method='highs'`) in new code.\n",
      "  res_dual = linprog(-b, A_ub=A.T, b_ub=C_vec,\n"
     ]
    }
   ],
   "source": [
    "# Solve the dual problem\n",
    "res_dual = linprog(-b, A_ub=A.T, b_ub=C_vec,\n",
    "                   bounds=[(None, None)]*(m+n), method='Revised simplex')\n",
    "\n",
    "#Print results\n",
    "print(\"message:\", res_dual.message)\n",
    "print(\"nit:\", res_dual.nit)\n",
    "print(\"fun:\", res_dual.fun)\n",
    "print(\"u:\", res_dual.x[:m])\n",
    "print(\"v:\", res_dual.x[-n:])"
   ]
  },
  {
   "cell_type": "markdown",
   "id": "bcb21ebe",
   "metadata": {},
   "source": [
    "We can also solve the dual problem using [quantecon.optimize.linprog_simplex](https://quanteconpy.readthedocs.io/en/latest/optimize/linprog_simplex.html)."
   ]
  },
  {
   "cell_type": "code",
   "execution_count": 20,
   "id": "2155762f",
   "metadata": {},
   "outputs": [],
   "source": [
    "res_dual_qe = linprog_simplex(b_eq, A_ub=A_eq.T, b_ub=c)"
   ]
  },
  {
   "cell_type": "markdown",
   "id": "7faed92c",
   "metadata": {},
   "source": [
    "And the shadow prices computed by the two programs are identical."
   ]
  },
  {
   "cell_type": "code",
   "execution_count": 21,
   "id": "2ceeb48d",
   "metadata": {},
   "outputs": [
    {
     "data": {
      "text/plain": [
       "array([ 5., 15., 25.,  5., 10.,  0., 15.,  0.])"
      ]
     },
     "execution_count": 21,
     "metadata": {},
     "output_type": "execute_result"
    }
   ],
   "source": [
    "res_dual_qe.x"
   ]
  },
  {
   "cell_type": "code",
   "execution_count": 22,
   "id": "9069b82e",
   "metadata": {},
   "outputs": [
    {
     "data": {
      "text/plain": [
       "array([ 5., 15., 25.,  5., 10.,  0., 15.,  0.])"
      ]
     },
     "execution_count": 22,
     "metadata": {},
     "output_type": "execute_result"
    }
   ],
   "source": [
    "res_dual.x"
   ]
  },
  {
   "cell_type": "markdown",
   "id": "728563bb",
   "metadata": {},
   "source": [
    "We can compare computational times from using our two tools."
   ]
  },
  {
   "cell_type": "code",
   "execution_count": 23,
   "id": "ba6411fa",
   "metadata": {},
   "outputs": [
    {
     "name": "stdout",
     "output_type": "stream",
     "text": [
      "CPU times: user 4.09 ms, sys: 0 ns, total: 4.09 ms\n",
      "Wall time: 3.7 ms\n"
     ]
    },
    {
     "name": "stderr",
     "output_type": "stream",
     "text": [
      "<timed eval>:1: DeprecationWarning: `method='revised simplex'` is deprecated and will be removed in SciPy 1.11.0. Please use one of the HiGHS solvers (e.g. `method='highs'`) in new code.\n"
     ]
    },
    {
     "data": {
      "text/plain": [
       "     con: array([], dtype=float64)\n",
       "     fun: -7225.0\n",
       " message: 'Optimization terminated successfully.'\n",
       "     nit: 7\n",
       "   slack: array([ 0.,  0.,  0.,  0., 15.,  0., 15.,  0., 15.,  0.,  0., 15., 35.,\n",
       "       15.,  0.])\n",
       "  status: 0\n",
       " success: True\n",
       "       x: array([ 5., 15., 25.,  5., 10.,  0., 15.,  0.])"
      ]
     },
     "execution_count": 23,
     "metadata": {},
     "output_type": "execute_result"
    }
   ],
   "source": [
    "%time linprog(-b, A_ub=A.T, b_ub=C_vec, bounds=[(None, None)]*(m+n), method='Revised simplex')"
   ]
  },
  {
   "cell_type": "code",
   "execution_count": 24,
   "id": "cb1c380b",
   "metadata": {},
   "outputs": [
    {
     "name": "stdout",
     "output_type": "stream",
     "text": [
      "CPU times: user 498 µs, sys: 21 µs, total: 519 µs\n",
      "Wall time: 526 µs\n"
     ]
    },
    {
     "data": {
      "text/plain": [
       "SimplexResult(x=array([ 5., 15., 25.,  5., 10.,  0., 15.,  0.]), lambd=array([ 0., 35.,  0., 15.,  0., 25.,  0., 60., 15.,  0.,  0., 80.,  0.,\n",
       "        0., 70.]), fun=7225.0, success=True, status=0, num_iter=24)"
      ]
     },
     "execution_count": 24,
     "metadata": {},
     "output_type": "execute_result"
    }
   ],
   "source": [
    "%time linprog_simplex(b_eq, A_ub=A_eq.T, b_ub=c)"
   ]
  },
  {
   "cell_type": "markdown",
   "id": "78359c23",
   "metadata": {},
   "source": [
    "`quantecon.optimize.linprog_simplex` solves the dual problem 10 times faster.\n",
    "\n",
    "Just for completeness, let's  solve the dual problems with nonsingular $A$ matrices that we create by dropping a redundant equality constraint.\n",
    "\n",
    "Try first leaving out the first constraint:"
   ]
  },
  {
   "cell_type": "code",
   "execution_count": 25,
   "id": "c17570d6",
   "metadata": {},
   "outputs": [
    {
     "name": "stderr",
     "output_type": "stream",
     "text": [
      "/tmp/ipykernel_17085/57054120.py:1: DeprecationWarning: `method='revised simplex'` is deprecated and will be removed in SciPy 1.11.0. Please use one of the HiGHS solvers (e.g. `method='highs'`) in new code.\n",
      "  linprog(-b[1:], A_ub=A[1:].T, b_ub=C_vec,\n"
     ]
    },
    {
     "data": {
      "text/plain": [
       "     con: array([], dtype=float64)\n",
       "     fun: -7225.0\n",
       " message: 'Optimization terminated successfully.'\n",
       "     nit: 7\n",
       "   slack: array([ 0.,  0.,  0.,  0., 15.,  0., 15.,  0., 15.,  0.,  0., 15., 35.,\n",
       "       15.,  0.])\n",
       "  status: 0\n",
       " success: True\n",
       "       x: array([10., 20., 10., 15.,  5., 20.,  5.])"
      ]
     },
     "execution_count": 25,
     "metadata": {},
     "output_type": "execute_result"
    }
   ],
   "source": [
    "linprog(-b[1:], A_ub=A[1:].T, b_ub=C_vec,\n",
    "        bounds=[(None, None)]*(m+n-1), method='Revised simplex')"
   ]
  },
  {
   "cell_type": "markdown",
   "id": "6a245698",
   "metadata": {},
   "source": [
    "Not let's instead leave out the last constraint:"
   ]
  },
  {
   "cell_type": "code",
   "execution_count": 26,
   "id": "38c0ccab",
   "metadata": {},
   "outputs": [
    {
     "name": "stderr",
     "output_type": "stream",
     "text": [
      "/tmp/ipykernel_17085/2450640664.py:1: DeprecationWarning: `method='revised simplex'` is deprecated and will be removed in SciPy 1.11.0. Please use one of the HiGHS solvers (e.g. `method='highs'`) in new code.\n",
      "  linprog(-b[:-1], A_ub=A[:-1].T, b_ub=C_vec,\n"
     ]
    },
    {
     "data": {
      "text/plain": [
       "     con: array([], dtype=float64)\n",
       "     fun: -7225.0\n",
       " message: 'Optimization terminated successfully.'\n",
       "     nit: 11\n",
       "   slack: array([ 0.,  0.,  0.,  0., 15.,  0., 15.,  0., 15.,  0.,  0., 15., 35.,\n",
       "       15.,  0.])\n",
       "  status: 0\n",
       " success: True\n",
       "       x: array([ 5., 15., 25.,  5., 10.,  0., 15.])"
      ]
     },
     "execution_count": 26,
     "metadata": {},
     "output_type": "execute_result"
    }
   ],
   "source": [
    "linprog(-b[:-1], A_ub=A[:-1].T, b_ub=C_vec,\n",
    "        bounds=[(None, None)]*(m+n-1), method='Revised simplex')"
   ]
  },
  {
   "cell_type": "markdown",
   "id": "cffacebe",
   "metadata": {},
   "source": [
    "### Interpretation of dual problem\n",
    "\n",
    "By **strong duality** (please see this lecture\n",
    "{doc}`Linear Programming <lp_intro>`), we know that:\n",
    "\n",
    "$$\n",
    "\\sum_{i=1}^m \\sum_{j=1}^n c_{ij} x_{ij}  = \\sum_{i=1}^m p_i u_i + \\sum_{j=1}^n q_j v_j\n",
    "$$\n",
    "\n",
    "One unit more  capacity in factory $i$, i.e. $p_i$,   results in $u_i$ more transportation costs.\n",
    "\n",
    "Thus, $u_i$ describes the  cost of shipping one unit  **from** factory $i$. \n",
    "\n",
    "Call this  the ship-out cost of one unit  shipped from factory $i$.\n",
    "\n",
    "Similarly, $v_j$ is the  cost of shipping one unit **to** location $j$.\n",
    "\n",
    "Call this  the ship-in cost of one unit  to location $j$.\n",
    "\n",
    "Strong duality implies that  total transprotation costs  equals   total ship-out costs **plus**   total ship-in costs.\n",
    "\n",
    "It is reasonable that, for one unit of a product, ship-out cost $u_i$ **plus** ship-in cost $v_j$ should  equal transportation cost $c_{ij}$.\n",
    "\n",
    "This equality is assured by   **complementary slackness** conditions that state that whenever $x_{ij} > 0$, meaning that there are positive shipments  from factory $i$ to location $j$,    it must be true that  $u_i + v_j = c_{ij}$.\n",
    "\n",
    "\n",
    "\n",
    "\n",
    "## The Python Optimal Transport Package\n",
    "\n",
    "There is an excellent [Python package](https://pythonot.github.io/) for\n",
    "optimal transport that simplifies some of the steps we took above.\n",
    "\n",
    "In particular, the package takes care of the vectorization steps before\n",
    "passing the data out to a linear programming routine.\n",
    "\n",
    "(That said, the discussion provided above on vectorization remains important,\n",
    "since we want to understand what happens under the hood.)\n",
    "\n",
    "\n",
    "### Replicating Previous Results\n",
    "\n",
    "The following line of code solves the example application discussed above\n",
    "using linear programming."
   ]
  },
  {
   "cell_type": "code",
   "execution_count": 27,
   "id": "fcafc3b6",
   "metadata": {},
   "outputs": [
    {
     "name": "stderr",
     "output_type": "stream",
     "text": [
      "/tmp/ipykernel_17085/1617639716.py:1: UserWarning: Input histogram consists of integer. The transport plan will be casted accordingly, possibly resulting in a loss of precision. If this behaviour is unwanted, please make sure your input histogram consists of floating point elements.\n",
      "  X = ot.emd(p, q, C)\n"
     ]
    },
    {
     "data": {
      "text/plain": [
       "array([[15, 35,  0,  0,  0],\n",
       "       [10,  0, 60, 30,  0],\n",
       "       [ 0, 80,  0,  0, 70]])"
      ]
     },
     "execution_count": 27,
     "metadata": {},
     "output_type": "execute_result"
    }
   ],
   "source": [
    "X = ot.emd(p, q, C)\n",
    "X"
   ]
  },
  {
   "cell_type": "markdown",
   "id": "1f506659",
   "metadata": {},
   "source": [
    "Sure enough, we have the same solution and the same cost"
   ]
  },
  {
   "cell_type": "code",
   "execution_count": 28,
   "id": "be728174",
   "metadata": {},
   "outputs": [
    {
     "data": {
      "text/plain": [
       "7225"
      ]
     },
     "execution_count": 28,
     "metadata": {},
     "output_type": "execute_result"
    }
   ],
   "source": [
    "total_cost = np.sum(X * C)\n",
    "total_cost"
   ]
  },
  {
   "cell_type": "markdown",
   "id": "39080da6",
   "metadata": {},
   "source": [
    "### A Larger Application\n",
    "\n",
    "Now let's try using the same package on a slightly larger application.\n",
    "\n",
    "The application has the same interpretation as above but we will also give\n",
    "each node (i.e., vertex) a location in the plane.\n",
    "\n",
    "This will allow us to plot the resulting transport plan as edges in a graph.\n",
    "\n",
    "The following class defines a node by \n",
    "\n",
    "* its location $(x, y) \\in \\mathbb R^2$, \n",
    "* its group (factory or location, denoted by `p` or `q`) and\n",
    "* its mass (e.g., $p_i$ or $q_j$)."
   ]
  },
  {
   "cell_type": "code",
   "execution_count": 29,
   "id": "288a5415",
   "metadata": {},
   "outputs": [],
   "source": [
    "class Node:\n",
    "\n",
    "    def __init__(self, x, y, mass, group, name):\n",
    "\n",
    "        self.x, self.y = x, y\n",
    "        self.mass, self.group = mass, group\n",
    "        self.name = name"
   ]
  },
  {
   "cell_type": "markdown",
   "id": "2f80b58b",
   "metadata": {},
   "source": [
    "Next we write a function that repeatedly calls the class above to build\n",
    "instances.\n",
    "\n",
    "It allocates to the nodes it creates their location, mass, and group.\n",
    "\n",
    "Locations are assigned randomly."
   ]
  },
  {
   "cell_type": "code",
   "execution_count": 30,
   "id": "f85417d7",
   "metadata": {},
   "outputs": [],
   "source": [
    "def build_nodes_of_one_type(group='p', n=100, seed=123):\n",
    "\n",
    "    nodes = []\n",
    "    np.random.seed(seed)\n",
    "\n",
    "    for i in range(n):\n",
    "        \n",
    "        if group == 'p':\n",
    "            m = 1/n\n",
    "            x = np.random.uniform(-2, 2)\n",
    "            y = np.random.uniform(-2, 2)\n",
    "        else:\n",
    "            m = betabinom.pmf(i, n-1, 2, 2)\n",
    "            x = 0.6 * np.random.uniform(-1.5, 1.5)\n",
    "            y = 0.6 * np.random.uniform(-1.5, 1.5)\n",
    "            \n",
    "        name = group + str(i)\n",
    "        nodes.append(Node(x, y, m, group, name))\n",
    "\n",
    "    return nodes"
   ]
  },
  {
   "cell_type": "markdown",
   "id": "766ba35d",
   "metadata": {},
   "source": [
    "Now we build two lists of nodes, each one containing one type (factories or\n",
    "    locations)"
   ]
  },
  {
   "cell_type": "code",
   "execution_count": 31,
   "id": "b0d89f68",
   "metadata": {},
   "outputs": [],
   "source": [
    "n_p = 32\n",
    "n_q = 32\n",
    "p_list = build_nodes_of_one_type(group='p', n=n_p)\n",
    "q_list = build_nodes_of_one_type(group='q', n=n_q)\n",
    "\n",
    "p_probs = [p.mass for p in p_list]\n",
    "q_probs = [q.mass for q in q_list]"
   ]
  },
  {
   "cell_type": "markdown",
   "id": "b44e2881",
   "metadata": {},
   "source": [
    "For the cost matrix $C$, we use the Euclidean distance between each factory\n",
    "and location."
   ]
  },
  {
   "cell_type": "code",
   "execution_count": 32,
   "id": "26559b23",
   "metadata": {},
   "outputs": [],
   "source": [
    "c = np.empty((n_p, n_q))\n",
    "for i in range(n_p):\n",
    "    for j in range(n_q):\n",
    "        x0, y0 = p_list[i].x, p_list[i].y\n",
    "        x1, y1 = q_list[j].x, q_list[j].y\n",
    "        c[i, j] = np.sqrt((x0-x1)**2 + (y0-y1)**2)"
   ]
  },
  {
   "cell_type": "markdown",
   "id": "68d7fe2b",
   "metadata": {},
   "source": [
    "Now we are ready to apply the solver"
   ]
  },
  {
   "cell_type": "code",
   "execution_count": 33,
   "id": "e8bcb8da",
   "metadata": {},
   "outputs": [
    {
     "name": "stdout",
     "output_type": "stream",
     "text": [
      "CPU times: user 861 µs, sys: 38 µs, total: 899 µs\n",
      "Wall time: 652 µs\n"
     ]
    }
   ],
   "source": [
    "%time pi = ot.emd(p_probs, q_probs, c)"
   ]
  },
  {
   "cell_type": "markdown",
   "id": "2f9ddf8c",
   "metadata": {},
   "source": [
    "Finally, let's plot the results using `networkx`.\n",
    "\n",
    "In the plot below, \n",
    "\n",
    "* node size is proportional to probability mass\n",
    "* an edge (arrow) from $i$ to $j$ is drawn when a positive transfer is made\n",
    "from $i$ to $j$ under the optimal transport plan."
   ]
  },
  {
   "cell_type": "code",
   "execution_count": 34,
   "id": "ace9dd61",
   "metadata": {},
   "outputs": [
    {
     "data": {
      "image/png": "[encoded data removed]",
      "text/plain": [
       "<Figure size 700x1000 with 1 Axes>"
      ]
     },
     "metadata": {
      "filenames": {
       "image/png": "/home/runner/work/lecture-python.myst/lecture-python.myst/_build/jupyter_execute/opt_transport_59_0.png"
      }
     },
     "output_type": "display_data"
    }
   ],
   "source": [
    "g = nx.DiGraph()\n",
    "g.add_nodes_from([p.name for p in p_list])\n",
    "g.add_nodes_from([q.name for q in q_list])\n",
    "\n",
    "for i in range(n_p):\n",
    "    for j in range(n_q):\n",
    "        if pi[i, j] > 0:\n",
    "            g.add_edge(p_list[i].name, q_list[j].name, weight=pi[i, j])\n",
    "\n",
    "node_pos_dict={}\n",
    "for p in p_list:\n",
    "    node_pos_dict[p.name] = (p.x, p.y)\n",
    "\n",
    "for q in q_list:\n",
    "    node_pos_dict[q.name] = (q.x, q.y)\n",
    "\n",
    "node_color_list = []\n",
    "node_size_list = []\n",
    "scale = 8_000\n",
    "for p in p_list:\n",
    "    node_color_list.append('blue')\n",
    "    node_size_list.append(p.mass * scale)\n",
    "for q in q_list:\n",
    "    node_color_list.append('red')\n",
    "    node_size_list.append(q.mass * scale)\n",
    "\n",
    "\n",
    "fig, ax = plt.subplots(figsize=(7, 10))\n",
    "plt.axis('off')\n",
    "\n",
    "nx.draw_networkx_nodes(g, \n",
    "                       node_pos_dict, \n",
    "                       node_color=node_color_list,\n",
    "                       node_size=node_size_list,\n",
    "                       edgecolors='grey',\n",
    "                       linewidths=1,\n",
    "                       alpha=0.5,\n",
    "                       ax=ax)\n",
    "\n",
    "nx.draw_networkx_edges(g, \n",
    "                       node_pos_dict, \n",
    "                       arrows=True,\n",
    "                       connectionstyle='arc3,rad=0.1',\n",
    "                       alpha=0.6)\n",
    "plt.show()\n"
   ]
  }
 ],
 "metadata": {
  "jupytext": {
   "text_representation": {
    "extension": ".md",
    "format_name": "myst",
    "format_version": 0.13,
    "jupytext_version": "1.10.3"
   }
  },
  "kernelspec": {
   "display_name": "Python 3",
   "language": "python",
   "name": "python3"
  },
  "language_info": {
   "codemirror_mode": {
    "name": "ipython",
    "version": 3
   },
   "file_extension": ".py",
   "mimetype": "text/x-python",
   "name": "python",
   "nbconvert_exporter": "python",
   "pygments_lexer": "ipython3",
   "version": "3.9.13"
  },
  "source_map": [
   12,
   44,
   48,
   52,
   60,
   335,
   367,
   391,
   393,
   407,
   411,
   415,
   417,
   429,
   433,
   450,
   454,
   462,
   464,
   468,
   470,
   491,
   503,
   508,
   510,
   514,
   518,
   520,
   524,
   529,
   532,
   581,
   592,
   596,
   598,
   602,
   606,
   608,
   612,
   616,
   618,
   626,
   629,
   633,
   636,
   683,
   686,
   691,
   694,
   711,
   719,
   730,
   751,
   757,
   765,
   770,
   777,
   781,
   783,
   793
  ]
 },
 "nbformat": 4,
 "nbformat_minor": 5
}