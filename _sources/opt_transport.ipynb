{
 "cells": [
  {
   "cell_type": "markdown",
   "id": "3c0d73be",
   "metadata": {},
   "source": [
    "# Optimal Transport \n",
    "\n",
    "## Overview\n",
    "\n",
    "The **transportation** or **optimal transport** problem is interesting both\n",
    "because of its many applications and because of its important role in the history of\n",
    "economic theory.\n",
    "\n",
    "In this lecture, we describe the problem, tell how \n",
    "{doc}`linear programming <lp_intro>` is a\n",
    "key tool for solving it, and then provide some examples.  \n",
    "\n",
    "We will provide other applications in followup lectures.\n",
    "\n",
    "The optimal transport problem was studied in early work about linear\n",
    "programming, as summarized for example by {cite}`DoSSo`.  A modern reference\n",
    "about applications in economics is {cite}`Galichon_2016`.\n",
    "\n",
    "Below, we show how to solve the optimal transport problem using\n",
    "several implementations of linear programming, including, in order,\n",
    "\n",
    "1. the\n",
    "   [linprog](https://docs.scipy.org/doc/scipy/reference/generated/scipy.optimize.linprog.html)\n",
    "   solver from SciPy, \n",
    "2. the [linprog_simplex](https://quanteconpy.readthedocs.io/en/latest/optimize/linprog_simplex.html) solver from QuantEcon and\n",
    "3. the simplex-based solvers included in the [Python Optimal Transport](https://pythonot.github.io/) package."
   ]
  },
  {
   "cell_type": "code",
   "execution_count": 1,
   "id": "ab75038b",
   "metadata": {
    "tags": [
     "hide-output"
    ]
   },
   "outputs": [
    {
     "name": "stdout",
     "output_type": "stream",
     "text": [
      "Requirement already satisfied: quantecon in /usr/share/miniconda3/envs/quantecon/lib/python3.9/site-packages (0.5.3)\r\n"
     ]
    },
    {
     "name": "stdout",
     "output_type": "stream",
     "text": [
      "Requirement already satisfied: numpy in /usr/share/miniconda3/envs/quantecon/lib/python3.9/site-packages (from quantecon) (1.21.5)\r\n",
      "Requirement already satisfied: sympy in /usr/share/miniconda3/envs/quantecon/lib/python3.9/site-packages (from quantecon) (1.10.1)\r\n",
      "Requirement already satisfied: requests in /usr/share/miniconda3/envs/quantecon/lib/python3.9/site-packages (from quantecon) (2.27.1)\r\n",
      "Requirement already satisfied: numba in /usr/share/miniconda3/envs/quantecon/lib/python3.9/site-packages (from quantecon) (0.55.1)\r\n",
      "Requirement already satisfied: scipy>=1.0.0 in /usr/share/miniconda3/envs/quantecon/lib/python3.9/site-packages (from quantecon) (1.7.3)\r\n",
      "Requirement already satisfied: llvmlite<0.39,>=0.38.0rc1 in /usr/share/miniconda3/envs/quantecon/lib/python3.9/site-packages (from numba->quantecon) (0.38.0)\r\n",
      "Requirement already satisfied: setuptools in /usr/share/miniconda3/envs/quantecon/lib/python3.9/site-packages (from numba->quantecon) (61.2.0)\r\n",
      "Requirement already satisfied: idna<4,>=2.5 in /usr/share/miniconda3/envs/quantecon/lib/python3.9/site-packages (from requests->quantecon) (3.3)\r\n",
      "Requirement already satisfied: urllib3<1.27,>=1.21.1 in /usr/share/miniconda3/envs/quantecon/lib/python3.9/site-packages (from requests->quantecon) (1.26.9)\r\n",
      "Requirement already satisfied: certifi>=2017.4.17 in /usr/share/miniconda3/envs/quantecon/lib/python3.9/site-packages (from requests->quantecon) (2021.10.8)\r\n",
      "Requirement already satisfied: charset-normalizer~=2.0.0 in /usr/share/miniconda3/envs/quantecon/lib/python3.9/site-packages (from requests->quantecon) (2.0.4)\r\n"
     ]
    },
    {
     "name": "stdout",
     "output_type": "stream",
     "text": [
      "Requirement already satisfied: mpmath>=0.19 in /usr/share/miniconda3/envs/quantecon/lib/python3.9/site-packages (from sympy->quantecon) (1.2.1)\r\n"
     ]
    },
    {
     "name": "stdout",
     "output_type": "stream",
     "text": [
      "Collecting POT\r\n",
      "  Downloading POT-0.8.2-cp39-cp39-manylinux_2_12_x86_64.manylinux2010_x86_64.whl (670 kB)\r\n",
      "\u001b[?25l\r",
      "\u001b[K     |▌                               | 10 kB 38.6 MB/s eta 0:00:01\r",
      "\u001b[K     |█                               | 20 kB 46.6 MB/s eta 0:00:01\r",
      "\u001b[K     |█▌                              | 30 kB 49.7 MB/s eta 0:00:01\r",
      "\u001b[K     |██                              | 40 kB 55.6 MB/s eta 0:00:01\r",
      "\u001b[K     |██▌                             | 51 kB 22.2 MB/s eta 0:00:01\r",
      "\u001b[K     |███                             | 61 kB 25.2 MB/s eta 0:00:01\r",
      "\u001b[K     |███▍                            | 71 kB 24.2 MB/s eta 0:00:01\r",
      "\u001b[K     |████                            | 81 kB 23.6 MB/s eta 0:00:01\r",
      "\u001b[K     |████▍                           | 92 kB 25.6 MB/s eta 0:00:01\r",
      "\u001b[K     |█████                           | 102 kB 26.2 MB/s eta 0:00:01\r",
      "\u001b[K     |█████▍                          | 112 kB 26.2 MB/s eta 0:00:01\r",
      "\u001b[K     |█████▉                          | 122 kB 26.2 MB/s eta 0:00:01\r",
      "\u001b[K     |██████▍                         | 133 kB 26.2 MB/s eta 0:00:01\r",
      "\u001b[K     |██████▉                         | 143 kB 26.2 MB/s eta 0:00:01\r",
      "\u001b[K     |███████▍                        | 153 kB 26.2 MB/s eta 0:00:01\r",
      "\u001b[K     |███████▉                        | 163 kB 26.2 MB/s eta 0:00:01\r",
      "\u001b[K     |████████▎                       | 174 kB 26.2 MB/s eta 0:00:01\r",
      "\u001b[K     |████████▉                       | 184 kB 26.2 MB/s eta 0:00:01\r",
      "\u001b[K     |█████████▎                      | 194 kB 26.2 MB/s eta 0:00:01\r",
      "\u001b[K     |█████████▉                      | 204 kB 26.2 MB/s eta 0:00:01\r",
      "\u001b[K     |██████████▎                     | 215 kB 26.2 MB/s eta 0:00:01\r",
      "\u001b[K     |██████████▊                     | 225 kB 26.2 MB/s eta 0:00:01\r",
      "\u001b[K     |███████████▎                    | 235 kB 26.2 MB/s eta 0:00:01\r",
      "\u001b[K     |███████████▊                    | 245 kB 26.2 MB/s eta 0:00:01\r",
      "\u001b[K     |████████████▎                   | 256 kB 26.2 MB/s eta 0:00:01\r",
      "\u001b[K     |████████████▊                   | 266 kB 26.2 MB/s eta 0:00:01\r",
      "\u001b[K     |█████████████▏                  | 276 kB 26.2 MB/s eta 0:00:01\r",
      "\u001b[K     |█████████████▊                  | 286 kB 26.2 MB/s eta 0:00:01\r",
      "\u001b[K     |██████████████▏                 | 296 kB 26.2 MB/s eta 0:00:01\r",
      "\u001b[K     |██████████████▊                 | 307 kB 26.2 MB/s eta 0:00:01\r",
      "\u001b[K     |███████████████▏                | 317 kB 26.2 MB/s eta 0:00:01\r",
      "\u001b[K     |███████████████▋                | 327 kB 26.2 MB/s eta 0:00:01\r",
      "\u001b[K     |████████████████▏               | 337 kB 26.2 MB/s eta 0:00:01\r",
      "\u001b[K     |████████████████▋               | 348 kB 26.2 MB/s eta 0:00:01\r",
      "\u001b[K     |█████████████████▏              | 358 kB 26.2 MB/s eta 0:00:01\r",
      "\u001b[K     |█████████████████▋              | 368 kB 26.2 MB/s eta 0:00:01\r",
      "\u001b[K     |██████████████████              | 378 kB 26.2 MB/s eta 0:00:01\r",
      "\u001b[K     |██████████████████▋             | 389 kB 26.2 MB/s eta 0:00:01\r",
      "\u001b[K     |███████████████████             | 399 kB 26.2 MB/s eta 0:00:01\r",
      "\u001b[K     |███████████████████▋            | 409 kB 26.2 MB/s eta 0:00:01\r",
      "\u001b[K     |████████████████████            | 419 kB 26.2 MB/s eta 0:00:01\r",
      "\u001b[K     |████████████████████▌           | 430 kB 26.2 MB/s eta 0:00:01\r",
      "\u001b[K     |█████████████████████           | 440 kB 26.2 MB/s eta 0:00:01\r",
      "\u001b[K     |█████████████████████▌          | 450 kB 26.2 MB/s eta 0:00:01\r",
      "\u001b[K     |██████████████████████          | 460 kB 26.2 MB/s eta 0:00:01\r",
      "\u001b[K     |██████████████████████▌         | 471 kB 26.2 MB/s eta 0:00:01\r",
      "\u001b[K     |███████████████████████         | 481 kB 26.2 MB/s eta 0:00:01\r",
      "\u001b[K     |███████████████████████▌        | 491 kB 26.2 MB/s eta 0:00:01\r",
      "\u001b[K     |████████████████████████        | 501 kB 26.2 MB/s eta 0:00:01\r",
      "\u001b[K     |████████████████████████▌       | 512 kB 26.2 MB/s eta 0:00:01\r",
      "\u001b[K     |█████████████████████████       | 522 kB 26.2 MB/s eta 0:00:01\r",
      "\u001b[K     |█████████████████████████▍      | 532 kB 26.2 MB/s eta 0:00:01"
     ]
    },
    {
     "name": "stdout",
     "output_type": "stream",
     "text": [
      "\r",
      "\u001b[K     |██████████████████████████      | 542 kB 26.2 MB/s eta 0:00:01\r",
      "\u001b[K     |██████████████████████████▍     | 552 kB 26.2 MB/s eta 0:00:01\r",
      "\u001b[K     |███████████████████████████     | 563 kB 26.2 MB/s eta 0:00:01\r",
      "\u001b[K     |███████████████████████████▍    | 573 kB 26.2 MB/s eta 0:00:01\r",
      "\u001b[K     |███████████████████████████▉    | 583 kB 26.2 MB/s eta 0:00:01\r",
      "\u001b[K     |████████████████████████████▍   | 593 kB 26.2 MB/s eta 0:00:01\r",
      "\u001b[K     |████████████████████████████▉   | 604 kB 26.2 MB/s eta 0:00:01\r",
      "\u001b[K     |█████████████████████████████▍  | 614 kB 26.2 MB/s eta 0:00:01\r",
      "\u001b[K     |█████████████████████████████▉  | 624 kB 26.2 MB/s eta 0:00:01\r",
      "\u001b[K     |██████████████████████████████▎ | 634 kB 26.2 MB/s eta 0:00:01\r",
      "\u001b[K     |██████████████████████████████▉ | 645 kB 26.2 MB/s eta 0:00:01\r",
      "\u001b[K     |███████████████████████████████▎| 655 kB 26.2 MB/s eta 0:00:01\r",
      "\u001b[K     |███████████████████████████████▉| 665 kB 26.2 MB/s eta 0:00:01\r",
      "\u001b[K     |████████████████████████████████| 670 kB 26.2 MB/s \r\n",
      "\u001b[?25hRequirement already satisfied: jax in /usr/share/miniconda3/envs/quantecon/lib/python3.9/site-packages (0.3.14)\r\n"
     ]
    },
    {
     "name": "stdout",
     "output_type": "stream",
     "text": [
      "Requirement already satisfied: jaxlib in /usr/share/miniconda3/envs/quantecon/lib/python3.9/site-packages (0.3.14)\r\n"
     ]
    },
    {
     "name": "stdout",
     "output_type": "stream",
     "text": [
      "Requirement already satisfied: numpy>=1.16 in /usr/share/miniconda3/envs/quantecon/lib/python3.9/site-packages (from POT) (1.21.5)\r\n",
      "Requirement already satisfied: scipy>=1.0 in /usr/share/miniconda3/envs/quantecon/lib/python3.9/site-packages (from POT) (1.7.3)\r\n",
      "Requirement already satisfied: etils[epath] in /usr/share/miniconda3/envs/quantecon/lib/python3.9/site-packages (from jax) (0.6.0)\r\n",
      "Requirement already satisfied: absl-py in /usr/share/miniconda3/envs/quantecon/lib/python3.9/site-packages (from jax) (1.2.0)\r\n",
      "Requirement already satisfied: opt-einsum in /usr/share/miniconda3/envs/quantecon/lib/python3.9/site-packages (from jax) (3.3.0)\r\n",
      "Requirement already satisfied: typing-extensions in /usr/share/miniconda3/envs/quantecon/lib/python3.9/site-packages (from jax) (4.1.1)\r\n",
      "Requirement already satisfied: flatbuffers<3.0,>=1.12 in /usr/share/miniconda3/envs/quantecon/lib/python3.9/site-packages (from jaxlib) (2.0)\r\n"
     ]
    },
    {
     "name": "stdout",
     "output_type": "stream",
     "text": [
      "Requirement already satisfied: zipp in /usr/share/miniconda3/envs/quantecon/lib/python3.9/site-packages (from etils[epath]->jax) (3.7.0)\r\n",
      "Requirement already satisfied: importlib_resources in /usr/share/miniconda3/envs/quantecon/lib/python3.9/site-packages (from etils[epath]->jax) (5.8.0)\r\n"
     ]
    },
    {
     "name": "stdout",
     "output_type": "stream",
     "text": [
      "Installing collected packages: POT\r\n"
     ]
    },
    {
     "name": "stdout",
     "output_type": "stream",
     "text": [
      "Successfully installed POT-0.8.2\r\n"
     ]
    }
   ],
   "source": [
    "!pip install --upgrade quantecon\n",
    "!pip install --upgrade POT jax jaxlib"
   ]
  },
  {
   "cell_type": "markdown",
   "id": "98c395be",
   "metadata": {},
   "source": [
    "Let's start with some imports."
   ]
  },
  {
   "cell_type": "code",
   "execution_count": 2,
   "id": "afb1eba9",
   "metadata": {},
   "outputs": [],
   "source": [
    "import numpy as np\n",
    "import matplotlib.pyplot as plt\n",
    "from scipy.optimize import linprog\n",
    "from quantecon.optimize.linprog_simplex import linprog_simplex\n",
    "import ot\n",
    "from scipy.stats import binom, betabinom\n",
    "import networkx as nx"
   ]
  },
  {
   "cell_type": "markdown",
   "id": "5500b9c6",
   "metadata": {},
   "source": [
    "## The Optimal Transport Problem\n",
    "\n",
    "Suppose that $m$ factories produce goods that must be sent to $n$ locations.\n",
    "\n",
    "Let \n",
    "\n",
    "* $x_{ij}$ denote the quantity  shipped from factory $i$ to location  $j$\n",
    "\n",
    "* $c_{ij}$ denote the cost of shipping one unit  from factory $i$ to location $j$\n",
    "\n",
    "* $p_i$ denote the capacity of factory $i$ and $q_j$ denote the amount required at location $j$. \n",
    "\n",
    "*  $i = 1, 2, \\dots, m$ and $j = 1, 2, \\dots, n$.\n",
    "\n",
    "A planner wants to minimize  total transportation costs subject to the following constraints:\n",
    "\n",
    "* The amount shipped **from** each factory must equal  its capacity.\n",
    "\n",
    "* The amount shipped **to** each location must equal the quantity required there.\n",
    "\n",
    "\n",
    "The figure below shows one visualization of this idea, when factories and\n",
    "target locations are distributed in the plane.\n",
    "\n",
    "```{figure} /_static/lecture_specific/opt_transport/optimal_transport_splitting_experiment.png\n",
    "\n",
    "```\n",
    "\n",
    "The size of the vertices in the figure are proportional to \n",
    "\n",
    "- capacity, for the factories, and\n",
    "- demand (amount required) for the target locations.\n",
    "\n",
    "The arrows show one possible transport plan, which respects the constraints\n",
    "stated above.\n",
    "\n",
    "\n",
    "The planner's problem can be expressed as the following constrained minimization problem:\n",
    "\n",
    "$$\n",
    "\\begin{aligned}\n",
    "    \\min_{x_{ij}} \\ & \\sum_{i=1}^m \\sum_{j=1}^n c_{ij} x_{ij} \\\\\n",
    "    \\mbox{subject to } \\ & \\sum_{j=1}^n x_{ij} = p_i, & i = 1, 2, \\dots, m \\\\\n",
    "    & \\sum_{i=1}^m x_{ij} = q_j, & j = 1, 2, \\dots, n \\\\\n",
    "    & x_{ij} \\ge 0 \\\\\n",
    "\\end{aligned}\n",
    "$$ (plannerproblem)\n",
    "\n",
    "This is an **optimal transport problem** with\n",
    "\n",
    "* $mn$ decision variables, namely, the entries $x_{ij}$   and\n",
    "\n",
    "* $m+n$ constraints.\n",
    "\n",
    "Summing the $q_j$'s across all $j$'s and the $p_i$'s across all $i$'s indicates that the total capacity of all the factories  equals  total requirements at all locations: \n",
    "\n",
    "$$\n",
    "    \\sum_{j=1}^n q_j \n",
    "    = \\sum_{j=1}^n \\sum_{i=1}^m x_{ij} \n",
    "    = \\sum_{i=1}^m \\sum_{j=1}^n x_{ij} \n",
    "    = \\sum_{i=1}^m p_i\n",
    "$$ (sumconstraints)\n",
    "\n",
    "The presence of the restrictions in {eq}`sumconstraints` will be the source of\n",
    "one redundancy in the complete set of restrictions that we describe below.  \n",
    "\n",
    "More about this later.\n",
    "\n",
    "\n",
    "\n",
    "\n",
    "## The Linear Programming Approach\n",
    "\n",
    "In this section we discuss using using standard linear programming solvers to\n",
    "tackle the optimal transport problem.\n",
    "\n",
    "\n",
    "### Vectorizing a Matrix of Decision Variables\n",
    "\n",
    "A *matrix* of decision variables $x_{ij}$ appears in problem {eq}`plannerproblem`. \n",
    "\n",
    "The SciPy function `linprog` expects to see a *vector* of decision variables. \n",
    "\n",
    "This situation impels us to rewrite our problem in terms of a\n",
    "*vector* of decision variables.\n",
    "\n",
    "Let \n",
    "\n",
    "* $X, C$ be $m \\times n$ matrices with entries $x_{ij}, c_{ij}$,\n",
    "\n",
    "* $p$ be $m$-dimensional vector with entries $p_i$,\n",
    "\n",
    "* $q$ be $n$-dimensional vector with entries $q_j$. \n",
    "\n",
    "With $\\mathbf{1}_n$ denoting the $n$-dimensional column vector $(1, 1, \\dots,\n",
    "1)'$, our  problem can now be expressed compactly as:\n",
    "\n",
    "$$\n",
    "\\begin{aligned}\n",
    "    \\min_{X} \\ & \\operatorname{tr} (C' X) \\\\\n",
    "    \\mbox{subject to } \\ & X \\ \\mathbf{1}_n = p \\\\\n",
    "    & X' \\ \\mathbf{1}_m = q \\\\\n",
    "    & X \\ge 0 \\\\\n",
    "\\end{aligned}\n",
    "$$\n",
    "\n",
    "We can convert the matrix $X$ into a vector by stacking all of its columns into a  column vector. \n",
    "\n",
    "Doing this is called **vectorization**, an operation that we denote  $\\operatorname{vec}(X)$. \n",
    "\n",
    "Similarly, we convert the matrix $C$ into an $mn$-dimensional vector $\\operatorname{vec}(C)$.\n",
    "\n",
    "The objective function can be expressed as the inner product between $\\operatorname{vec}(C)$ and $\\operatorname{vec}(X)$:\n",
    "\n",
    "$$\n",
    "    \\operatorname{vec}(C)' \\cdot \\operatorname{vec}(X).\n",
    "$$\n",
    "\n",
    "To express the constraints in terms of $\\operatorname{vec}(X)$, we use a\n",
    "**Kronecker product** denoted by $\\otimes$ and defined as follows.\n",
    "\n",
    "Suppose $A$ is an $m \\times s$ matrix with entries $(a_{ij})$ and that $B$ is\n",
    "an $n \\times t$ matrix.\n",
    "\n",
    "The **Kronecker product** of $A$ and $B$ is defined, in block matrix form, by\n",
    "\n",
    "$$\n",
    "    A \\otimes B = \n",
    "    \\begin{pmatrix}\n",
    "    a_{11}B & a_{12}B & \\dots & a_{1s}B \\\\ \n",
    "    a_{21}B & a_{22}B & \\dots & a_{2s}B \\\\ \n",
    "      &   & \\vdots &   \\\\ \n",
    "    a_{m1}B & a_{m2}B & \\dots & a_{ms}B \\\\ \n",
    "    \\end{pmatrix}.\n",
    "$$\n",
    "\n",
    "$A \\otimes B$ is an $mn \\times st$ matrix.\n",
    "\n",
    "It has the property that for any $m \\times n$ matrix $X$\n",
    "\n",
    "$$\n",
    "    \\operatorname{vec}(A'XB) = (B' \\otimes A') \\operatorname{vec}(X).\n",
    "$$ (kroneckerprop)\n",
    "\n",
    "We can now express our constraints in terms of $\\operatorname{vec}(X)$.\n",
    "\n",
    "Let $A = \\mathbf{I}_m', B = \\mathbf{1}_n$.\n",
    "\n",
    "By equation {eq}`kroneckerprop`\n",
    "\n",
    "$$\n",
    "    X \\ \\mathbf{1}_n \n",
    "    = \\operatorname{vec}(X \\ \\mathbf{1}_n) \n",
    "    = \\operatorname{vec}(\\mathbf{I}_m X \\ \\mathbf{1}_n) \n",
    "    = (\\mathbf{1}_n' \\otimes \\mathbf{I}_m) \\operatorname{vec}(X).\n",
    "$$\n",
    "\n",
    "where  $\\mathbf{I}_m$ denotes the $m \\times m$ identity matrix.\n",
    "\n",
    "Constraint $X \\ \\mathbf{1}_n = p$ can now be written as:\n",
    "\n",
    "$$\n",
    "    (\\mathbf{1}_n' \\otimes \\mathbf{I}_m) \\operatorname{vec}(X) = p.\n",
    "$$\n",
    "\n",
    "Similarly, the constraint $X' \\ \\mathbf{1}_m = q$ can be rewriten as:\n",
    "\n",
    "$$\n",
    "    (\\mathbf{I}_n \\otimes \\mathbf{1}_m') \\operatorname{vec}(X) = q.\n",
    "$$\n",
    "\n",
    "With $z := \\operatorname{vec}(X)$, our problem can now be expressed\n",
    "in terms of an $mn$-dimensional vector of decision variables:\n",
    "\n",
    "$$\n",
    "    \\begin{aligned}\n",
    "        \\min_{z} \\ & \\operatorname{vec}(C)' z \\\\\n",
    "        \\mbox{subject to } \\ & A z = b \\\\\n",
    "        & z \\ge 0 \\\\\n",
    "    \\end{aligned}\n",
    "$$ (decisionvars)\n",
    "\n",
    "where\n",
    "\n",
    "$$\n",
    "    A = \n",
    "    \\begin{pmatrix}\n",
    "        \\mathbf{1}_n' \\otimes \\mathbf{I}_m \\\\ \n",
    "        \\mathbf{I}_n \\otimes \\mathbf{1}_m' \\\\ \n",
    "    \\end{pmatrix}\n",
    "    \\quad \\text{and} \\quad\n",
    "    b = \\begin{pmatrix} \n",
    "            p \\\\ \n",
    "            q \\\\ \n",
    "        \\end{pmatrix}\n",
    "$$\n",
    "\n",
    "\n",
    "### An Application\n",
    "\n",
    "\n",
    "We now provide an example that takes the form {eq}`decisionvars` that we'll\n",
    "solve by deploying the function `linprog`.\n",
    "\n",
    "The table below provides numbers for the requirements vector $q$, the capacity vector $p$,\n",
    "and entries $c_{ij}$  of the cost-of-shipping matrix $C$.\n",
    "\n",
    "\n",
    "```{raw} html\n",
    "<table>\n",
    "    <tr>\n",
    "\t    <th> </th>\n",
    "        <th colspan=\"3\"><center>Factory</center></th>\n",
    "\t    <th rowspan=\"2\">Requirement</th>  \n",
    "\t</tr >\n",
    "    <tr>\n",
    "        <th> Location </th> <th>1</th> <th>2</th> <th>3</th>\n",
    "\t</tr>\n",
    "    <tr>\n",
    "\t    <td>1</td>  <td>10</td> <td>20</td> <td>30</td> <td>25</td>\n",
    "\t</tr>\n",
    "    <tr>\n",
    "\t    <td>2</td> <td>15</td> <td>40</td> <td>35</td> <td>115</td>\n",
    "\t</tr>\n",
    "    <tr>\n",
    "\t    <td>3</td> <td>20</td> <td>15</td> <td>40</td> <td>60</td>\n",
    "\t</tr>\n",
    "    <tr>\n",
    "\t    <td>4</td> <td>20</td> <td>30</td> <td>55</td> <td>30</td>\n",
    "\t</tr>\n",
    "    <tr>\n",
    "\t    <td>5</td> <td>40</td> <td>30</td> <td>25</td> <td>70</td>\n",
    "\t</tr>\n",
    "    <tr>\n",
    "\t    <td>Capacity</td> <td>50</td> <td>100</td> <td>150</td> <td>300</td>\n",
    "\t</tr>\n",
    "</table>\n",
    "```\n",
    "\n",
    "The numbers in the above table tell us to set $m = 3$, $n = 5$, and construct\n",
    "the following objects:\n",
    "\n",
    "$$\n",
    "p = \\begin{pmatrix}\n",
    "        50 \\\\\n",
    "        100 \\\\\n",
    "        150 \n",
    "    \\end{pmatrix},\n",
    "    \\quad\n",
    "    q = \n",
    "    \\begin{pmatrix}\n",
    "        25 \\\\\n",
    "        115 \\\\\n",
    "        60 \\\\\n",
    "        30 \\\\\n",
    "        70\n",
    "    \\end{pmatrix}\n",
    "    \\quad \\text{and} \\quad\n",
    "    C = \n",
    "    \\begin{pmatrix}\n",
    "        10 &15 &20 &20 &40 \\\\\n",
    "        20 &40 &15 &30 &30 \\\\\n",
    "        30 &35 &40 &55 &25 \n",
    "    \\end{pmatrix}.\n",
    "$$\n",
    "\n",
    "Let's write Python code that sets up the problem and solves it."
   ]
  },
  {
   "cell_type": "code",
   "execution_count": 3,
   "id": "054ecf8a",
   "metadata": {},
   "outputs": [
    {
     "name": "stdout",
     "output_type": "stream",
     "text": [
      "message: Optimization terminated successfully.\n",
      "nit: 12\n",
      "fun: 7225.0\n",
      "z: [15. 10.  0. 35.  0. 80.  0. 60.  0.  0. 30.  0.  0.  0. 70.]\n",
      "X: [[15. 35.  0.  0.  0.]\n",
      " [10.  0. 60. 30.  0.]\n",
      " [ 0. 80.  0.  0. 70.]]\n"
     ]
    },
    {
     "name": "stderr",
     "output_type": "stream",
     "text": [
      "/tmp/ipykernel_21300/1014317504.py:24: OptimizeWarning: A_eq does not appear to be of full row rank. To improve performance, check the problem formulation for redundant equality constraints.\n",
      "  res = linprog(C_vec, A_eq=A, b_eq=b, method='Revised simplex')\n"
     ]
    }
   ],
   "source": [
    "# Define parameters\n",
    "m = 3\n",
    "n = 5\n",
    "\n",
    "p = np.array([50, 100, 150])\n",
    "q = np.array([25, 115, 60, 30, 70])\n",
    "\n",
    "C = np.array([[10, 15, 20, 20, 40],\n",
    "              [20, 40, 15, 30, 30],\n",
    "              [30, 35, 40, 55, 25]])\n",
    "\n",
    "# Vectorize matrix C\n",
    "C_vec = C.reshape((m*n, 1), order='F')\n",
    "\n",
    "# Construct matrix A by Kronecker product\n",
    "A1 = np.kron(np.ones((1, n)), np.identity(m))\n",
    "A2 = np.kron(np.identity(n), np.ones((1, m)))\n",
    "A = np.vstack([A1, A2])\n",
    "\n",
    "# Construct vector b\n",
    "b = np.hstack([p, q])\n",
    "\n",
    "# Solve the primal problem\n",
    "res = linprog(C_vec, A_eq=A, b_eq=b, method='Revised simplex')\n",
    "\n",
    "# Print results\n",
    "print(\"message:\", res.message)\n",
    "print(\"nit:\", res.nit)\n",
    "print(\"fun:\", res.fun)\n",
    "print(\"z:\", res.x)\n",
    "print(\"X:\", res.x.reshape((m,n), order='F'))"
   ]
  },
  {
   "cell_type": "markdown",
   "id": "98174cd9",
   "metadata": {},
   "source": [
    "Notice how, in the line `C_vec = C.reshape((m*n, 1), order='F')`, we are\n",
    "careful to vectorize using the flag `order='F'`.\n",
    "\n",
    "This is consistent with converting $C$ into a vector by stacking all of its\n",
    "columns into a  column vector. \n",
    "\n",
    "Here `'F'` stands for \"Fortran\", and we are using Fortran style column-major order.\n",
    "\n",
    "(For an alternative approach, using Python's default row-major ordering, see [this\n",
    "        lecture by Alfred\n",
    "        Galichon](https://www.math-econ-code.org/mec-optim-b04).)\n",
    "\n",
    "**Interpreting the warning:**  \n",
    "\n",
    "The above warning message from SciPy points out that A is not full rank.\n",
    "\n",
    "This indicates that the linear program has been set up to include one or more redundant constraints.\n",
    "\n",
    "Here, the source of the redundancy is the structure of  restrictions {eq}`sumconstraints`.\n",
    "\n",
    "Let's explore this further by printing out $A$ and staring at it."
   ]
  },
  {
   "cell_type": "code",
   "execution_count": 4,
   "id": "8bedb4ba",
   "metadata": {},
   "outputs": [
    {
     "data": {
      "text/plain": [
       "array([[1., 0., 0., 1., 0., 0., 1., 0., 0., 1., 0., 0., 1., 0., 0.],\n",
       "       [0., 1., 0., 0., 1., 0., 0., 1., 0., 0., 1., 0., 0., 1., 0.],\n",
       "       [0., 0., 1., 0., 0., 1., 0., 0., 1., 0., 0., 1., 0., 0., 1.],\n",
       "       [1., 1., 1., 0., 0., 0., 0., 0., 0., 0., 0., 0., 0., 0., 0.],\n",
       "       [0., 0., 0., 1., 1., 1., 0., 0., 0., 0., 0., 0., 0., 0., 0.],\n",
       "       [0., 0., 0., 0., 0., 0., 1., 1., 1., 0., 0., 0., 0., 0., 0.],\n",
       "       [0., 0., 0., 0., 0., 0., 0., 0., 0., 1., 1., 1., 0., 0., 0.],\n",
       "       [0., 0., 0., 0., 0., 0., 0., 0., 0., 0., 0., 0., 1., 1., 1.]])"
      ]
     },
     "execution_count": 4,
     "metadata": {},
     "output_type": "execute_result"
    }
   ],
   "source": [
    "A"
   ]
  },
  {
   "cell_type": "markdown",
   "id": "de26b271",
   "metadata": {},
   "source": [
    "The singularity of $A$ reflects that the  first three constraints and the last five constraints  both require  that \"total requirements equal total capacities\" expressed in {eq}`sumconstraints`.\n",
    "\n",
    "One  equality constraint here is redundant.\n",
    "\n",
    "Below we drop one of the equality constraints, and use only  7 of them.\n",
    "\n",
    "After doing this, we attain the same minimized cost. \n",
    "\n",
    "However, we find a  different transportation plan.\n",
    "\n",
    "Though it is a different plan, it attains the same cost!"
   ]
  },
  {
   "cell_type": "code",
   "execution_count": 5,
   "id": "cb963992",
   "metadata": {},
   "outputs": [
    {
     "data": {
      "text/plain": [
       "     con: array([0., 0., 0., 0., 0., 0., 0.])\n",
       "     fun: 7225.0\n",
       " message: 'Optimization terminated successfully.'\n",
       "     nit: 13\n",
       "   slack: array([], dtype=float64)\n",
       "  status: 0\n",
       " success: True\n",
       "       x: array([ 0., 25.,  0., 35.,  0., 80.,  0., 60.,  0., 15., 15.,  0.,  0.,\n",
       "        0., 70.])"
      ]
     },
     "execution_count": 5,
     "metadata": {},
     "output_type": "execute_result"
    }
   ],
   "source": [
    "linprog(C_vec, A_eq=A[:-1], b_eq=b[:-1], method='Revised simplex')"
   ]
  },
  {
   "cell_type": "code",
   "execution_count": 6,
   "id": "cb5332d3",
   "metadata": {},
   "outputs": [
    {
     "name": "stdout",
     "output_type": "stream",
     "text": [
      "CPU times: user 7.35 ms, sys: 0 ns, total: 7.35 ms\n",
      "Wall time: 6.01 ms\n"
     ]
    },
    {
     "data": {
      "text/plain": [
       "     con: array([0., 0., 0., 0., 0., 0., 0.])\n",
       "     fun: 7225.0\n",
       " message: 'Optimization terminated successfully.'\n",
       "     nit: 13\n",
       "   slack: array([], dtype=float64)\n",
       "  status: 0\n",
       " success: True\n",
       "       x: array([ 0., 25.,  0., 35.,  0., 80.,  0., 60.,  0., 15., 15.,  0.,  0.,\n",
       "        0., 70.])"
      ]
     },
     "execution_count": 6,
     "metadata": {},
     "output_type": "execute_result"
    }
   ],
   "source": [
    "%time linprog(C_vec, A_eq=A[:-1], b_eq=b[:-1], method='Revised simplex')"
   ]
  },
  {
   "cell_type": "code",
   "execution_count": 7,
   "id": "5e54e530",
   "metadata": {},
   "outputs": [
    {
     "name": "stdout",
     "output_type": "stream",
     "text": [
      "CPU times: user 5.04 ms, sys: 189 µs, total: 5.23 ms\n",
      "Wall time: 4.65 ms\n"
     ]
    },
    {
     "name": "stderr",
     "output_type": "stream",
     "text": [
      "<timed eval>:1: OptimizeWarning: A_eq does not appear to be of full row rank. To improve performance, check the problem formulation for redundant equality constraints.\n"
     ]
    },
    {
     "data": {
      "text/plain": [
       "     con: array([0., 0., 0., 0., 0., 0., 0., 0.])\n",
       "     fun: 7225.0\n",
       " message: 'Optimization terminated successfully.'\n",
       "     nit: 12\n",
       "   slack: array([], dtype=float64)\n",
       "  status: 0\n",
       " success: True\n",
       "       x: array([15., 10.,  0., 35.,  0., 80.,  0., 60.,  0.,  0., 30.,  0.,  0.,\n",
       "        0., 70.])"
      ]
     },
     "execution_count": 7,
     "metadata": {},
     "output_type": "execute_result"
    }
   ],
   "source": [
    "%time linprog(C_vec, A_eq=A, b_eq=b, method='Revised simplex')"
   ]
  },
  {
   "cell_type": "markdown",
   "id": "e0e19572",
   "metadata": {},
   "source": [
    "Evidently, it is slightly quicker to work with the system that removed a redundant constraint.\n",
    "\n",
    "Let's drill down and do some more calculations to help us understand whether or not our finding **two** different optimal transport plans reflects our having dropped a redundant equality constraint.\n",
    "\n",
    "```{admonition} Hint\n",
    "It will turn out that dropping a redundant equality isn't really what mattered.\n",
    "```\n",
    "\n",
    "To verify our hint, we shall simply use **all** of  the original equality constraints (including a redundant one), but we'll just shuffle the order of the constraints."
   ]
  },
  {
   "cell_type": "code",
   "execution_count": 8,
   "id": "ba72cac9",
   "metadata": {},
   "outputs": [],
   "source": [
    "arr = np.arange(m+n)"
   ]
  },
  {
   "cell_type": "code",
   "execution_count": 9,
   "id": "4ce9b0ce",
   "metadata": {},
   "outputs": [
    {
     "name": "stderr",
     "output_type": "stream",
     "text": [
      "/tmp/ipykernel_21300/2305330369.py:8: OptimizeWarning: A_eq does not appear to be of full row rank. To improve performance, check the problem formulation for redundant equality constraints.\n",
      "  res_shuffle = linprog(C_vec, A_eq=A[arr], b_eq=b[arr], method='Revised simplex')\n"
     ]
    }
   ],
   "source": [
    "sol_found = []\n",
    "cost = []\n",
    "\n",
    "# simulate 1000 times\n",
    "for i in range(1000):\n",
    "\n",
    "    np.random.shuffle(arr)\n",
    "    res_shuffle = linprog(C_vec, A_eq=A[arr], b_eq=b[arr], method='Revised simplex')\n",
    "\n",
    "    # if find a new solution\n",
    "    sol = tuple(res_shuffle.x)\n",
    "    if sol not in sol_found:\n",
    "        sol_found.append(sol)\n",
    "        cost.append(res_shuffle.fun)"
   ]
  },
  {
   "cell_type": "code",
   "execution_count": 10,
   "id": "d6f4291c",
   "metadata": {},
   "outputs": [
    {
     "name": "stdout",
     "output_type": "stream",
     "text": [
      "transportation plan 0:  (15.0, 10.0, 0.0, 35.0, 0.0, 80.0, 0.0, 60.0, 0.0, 0.0, 30.0, 0.0, 0.0, 0.0, 70.0)\n",
      "     minimized cost 0:  7225.0\n",
      "transportation plan 1:  (0.0, 25.0, 0.0, 35.0, 0.0, 80.0, 0.0, 60.0, 0.0, 15.0, 15.0, 0.0, 0.0, 0.0, 70.0)\n",
      "     minimized cost 1:  7225.0\n"
     ]
    }
   ],
   "source": [
    "for i in range(len(sol_found)):\n",
    "    print(f\"transportation plan {i}: \", sol_found[i])\n",
    "    print(f\"     minimized cost {i}: \", cost[i])"
   ]
  },
  {
   "cell_type": "markdown",
   "id": "d7178a86",
   "metadata": {},
   "source": [
    "**Ah hah!** As you can see, putting constraints in different orders in this case uncovers two optimal transportation plans that achieve the same minimized cost.\n",
    "\n",
    "These are the same two plans computed earlier.\n",
    "\n",
    "Next, we show that leaving out the first constraint \"accidentally\" leads to the initial plan that we computed."
   ]
  },
  {
   "cell_type": "code",
   "execution_count": 11,
   "id": "e5d16b5f",
   "metadata": {},
   "outputs": [
    {
     "data": {
      "text/plain": [
       "     con: array([0., 0., 0., 0., 0., 0., 0.])\n",
       "     fun: 7225.0\n",
       " message: 'Optimization terminated successfully.'\n",
       "     nit: 12\n",
       "   slack: array([], dtype=float64)\n",
       "  status: 0\n",
       " success: True\n",
       "       x: array([15., 10.,  0., 35.,  0., 80.,  0., 60.,  0.,  0., 30.,  0.,  0.,\n",
       "        0., 70.])"
      ]
     },
     "execution_count": 11,
     "metadata": {},
     "output_type": "execute_result"
    }
   ],
   "source": [
    "linprog(C_vec, A_eq=A[1:], b_eq=b[1:], method='Revised simplex')"
   ]
  },
  {
   "cell_type": "markdown",
   "id": "a23076ff",
   "metadata": {},
   "source": [
    "Let's compare this transport plan with"
   ]
  },
  {
   "cell_type": "code",
   "execution_count": 12,
   "id": "b23f3e96",
   "metadata": {},
   "outputs": [
    {
     "data": {
      "text/plain": [
       "array([15., 10.,  0., 35.,  0., 80.,  0., 60.,  0.,  0., 30.,  0.,  0.,\n",
       "        0., 70.])"
      ]
     },
     "execution_count": 12,
     "metadata": {},
     "output_type": "execute_result"
    }
   ],
   "source": [
    "res.x"
   ]
  },
  {
   "cell_type": "markdown",
   "id": "d1552efe",
   "metadata": {},
   "source": [
    "Here the matrix $X$ contains entries $x_{ij}$ that tell amounts shipped **from** factor $i = 1, 2, 3$\n",
    "**to** location $j=1,2, \\ldots, 5$.\n",
    "\n",
    "The vector $z$ evidently equals $\\operatorname{vec}(X)$.\n",
    "\n",
    "The minimized cost from the optimal transport plan is given by the $fun$ variable.\n",
    "\n",
    "\n",
    "### Using a Just-in-Time Compiler\n",
    "\n",
    "We can also solve optimal transportation problems using a powerful tool from\n",
    "QuantEcon, namely,`quantecon.optimize.linprog_simplex`. \n",
    "\n",
    "While this routine uses the same simplex algorithm as\n",
    "`scipy.optimize.linprog`, the code is accelerated by using a just-in-time\n",
    "compiler shipped in the `numba` library.\n",
    "\n",
    "As you will see very soon, by using `scipy.optimize.linprog` the time required to solve an optimal transportation problem can be reduced significantly."
   ]
  },
  {
   "cell_type": "code",
   "execution_count": 13,
   "id": "c77cb66f",
   "metadata": {},
   "outputs": [],
   "source": [
    "# construct matrices/vectors for linprog_simplex\n",
    "c = C.flatten()\n",
    "\n",
    "# Equality constraints\n",
    "A_eq = np.zeros((m+n, m*n))\n",
    "for i in range(m):\n",
    "    for j in range(n):\n",
    "        A_eq[i, i*n+j] = 1\n",
    "        A_eq[m+j, i*n+j] = 1\n",
    "\n",
    "b_eq = np.hstack([p, q])"
   ]
  },
  {
   "cell_type": "markdown",
   "id": "8cd7a007",
   "metadata": {},
   "source": [
    "Since `quantecon.optimize.linprog_simplex` does maximization instead of\n",
    "minimization, we need to put a negative sign before vector `c`."
   ]
  },
  {
   "cell_type": "code",
   "execution_count": 14,
   "id": "0083a995",
   "metadata": {},
   "outputs": [],
   "source": [
    "res_qe = linprog_simplex(-c, A_eq=A_eq, b_eq=b_eq)"
   ]
  },
  {
   "cell_type": "markdown",
   "id": "bdfc1db7",
   "metadata": {},
   "source": [
    "Since the two LP solvers use the same simplex algorithm, we expect to get exactly the same solutions"
   ]
  },
  {
   "cell_type": "code",
   "execution_count": 15,
   "id": "e51c1e77",
   "metadata": {},
   "outputs": [
    {
     "data": {
      "text/plain": [
       "array([[15., 35.,  0.,  0.,  0.],\n",
       "       [10.,  0., 60., 30.,  0.],\n",
       "       [ 0., 80.,  0.,  0., 70.]])"
      ]
     },
     "execution_count": 15,
     "metadata": {},
     "output_type": "execute_result"
    }
   ],
   "source": [
    "res_qe.x.reshape((m, n), order='C')"
   ]
  },
  {
   "cell_type": "code",
   "execution_count": 16,
   "id": "8dc223a3",
   "metadata": {},
   "outputs": [
    {
     "data": {
      "text/plain": [
       "array([[15., 35.,  0.,  0.,  0.],\n",
       "       [10.,  0., 60., 30.,  0.],\n",
       "       [ 0., 80.,  0.,  0., 70.]])"
      ]
     },
     "execution_count": 16,
     "metadata": {},
     "output_type": "execute_result"
    }
   ],
   "source": [
    "res.x.reshape((m, n), order='F')"
   ]
  },
  {
   "cell_type": "markdown",
   "id": "d6b91233",
   "metadata": {},
   "source": [
    "Let's do a speed comparison between `scipy.optimize.linprog` and `quantecon.optimize.linprog_simplex`."
   ]
  },
  {
   "cell_type": "code",
   "execution_count": 17,
   "id": "08de8849",
   "metadata": {},
   "outputs": [
    {
     "name": "stdout",
     "output_type": "stream",
     "text": [
      "CPU times: user 1.08 ms, sys: 4.08 ms, total: 5.17 ms\n",
      "Wall time: 4.57 ms\n"
     ]
    }
   ],
   "source": [
    "# scipy.optimize.linprog\n",
    "%time res = linprog(C_vec, A_eq=A[:-1, :], b_eq=b[:-1], method='Revised simplex')"
   ]
  },
  {
   "cell_type": "code",
   "execution_count": 18,
   "id": "ff4bd6a5",
   "metadata": {},
   "outputs": [
    {
     "name": "stdout",
     "output_type": "stream",
     "text": [
      "CPU times: user 88 µs, sys: 7 µs, total: 95 µs\n",
      "Wall time: 97.5 µs\n"
     ]
    }
   ],
   "source": [
    "# quantecon.optimize.linprog_simplex\n",
    "%time out = linprog_simplex(-c, A_eq=A_eq, b_eq=b_eq)"
   ]
  },
  {
   "cell_type": "markdown",
   "id": "2f98e3c8",
   "metadata": {},
   "source": [
    "As you can see, the `quantecon.optimize.linprog_simplex` is much faster.\n",
    "\n",
    "(Note however, that the SciPy version is probably more stable than the\n",
    "QuantEcon version, having been tested more extensively over a longer period of\n",
    "time.)\n",
    "\n",
    "\n",
    "## The Dual Problem\n",
    "\n",
    "Let $u, v$ denotes vectors of dual decision variables with entries $(u_i), (v_j)$.\n",
    "\n",
    "The **dual** to  **minimization** problem {eq}`plannerproblem` is the **maximization** problem:\n",
    "\n",
    "$$\n",
    "\\begin{aligned}\n",
    "\\max_{u_i, v_j} \\ & \\sum_{i=1}^m p_i u_i + \\sum_{j=1}^n q_j v_j \\\\\n",
    "\\mbox{subject to } \\ & u_i + v_j \\le c_{ij}, \\ i = 1, 2, \\dots, m;\\ j = 1, 2, \\dots, n \\\\\n",
    "\\end{aligned}\n",
    "$$ (dualproblem)\n",
    "\n",
    "The dual problem is also a linear programming problem.\n",
    "\n",
    "It has $m+n$ dual variables and $mn$ constraints. \n",
    "\n",
    "Vectors $u$ and $v$ of **values** are attached to the first and the second sets of primal constraits, respectively.\n",
    "\n",
    "Thus, $u$ is attached to the constraints \n",
    "\n",
    "* $(\\mathbf{1}_n' \\otimes \\mathbf{I}_m) \\operatorname{vec}(X) = p$ \n",
    " \n",
    "and  $v$ is attached to constraints \n",
    " \n",
    "* $(\\mathbf{I}_n \\otimes \\mathbf{1}_m') \\operatorname{vec}(X) = q.$\n",
    "\n",
    "Components of the vectors $u$ and $v$ of per unit **values**  are **shadow prices** of the quantities appearing on the right sides of those constraints.\n",
    "\n",
    "We can write the dual problem as \n",
    "\n",
    "$$\n",
    "\\begin{aligned}\n",
    "\\max_{u_i, v_j} \\ & p u + q v \\\\\n",
    "\\mbox{subject to } \\ & A' \\begin{pmatrix} u \\\\ v \\\\ \\end{pmatrix} = \\operatorname{vec}(C) \\\\\n",
    "\\end{aligned}\n",
    "$$ (dualproblem2)\n",
    "\n",
    "For the same numerical example described above, let's solve the dual problem."
   ]
  },
  {
   "cell_type": "code",
   "execution_count": 19,
   "id": "14a49888",
   "metadata": {},
   "outputs": [
    {
     "name": "stdout",
     "output_type": "stream",
     "text": [
      "message: Optimization terminated successfully.\n",
      "nit: 7\n",
      "fun: -7225.0\n",
      "u: [ 5. 15. 25.]\n",
      "v: [ 5. 10.  0. 15.  0.]\n"
     ]
    }
   ],
   "source": [
    "# Solve the dual problem\n",
    "res_dual = linprog(-b, A_ub=A.T, b_ub=C_vec,\n",
    "                   bounds=[(None, None)]*(m+n), method='Revised simplex')\n",
    "\n",
    "#Print results\n",
    "print(\"message:\", res_dual.message)\n",
    "print(\"nit:\", res_dual.nit)\n",
    "print(\"fun:\", res_dual.fun)\n",
    "print(\"u:\", res_dual.x[:m])\n",
    "print(\"v:\", res_dual.x[-n:])"
   ]
  },
  {
   "cell_type": "markdown",
   "id": "1a92d3bd",
   "metadata": {},
   "source": [
    "We can also solve the dual problem using [quantecon.optimize.linprog_simplex](https://quanteconpy.readthedocs.io/en/latest/optimize/linprog_simplex.html)."
   ]
  },
  {
   "cell_type": "code",
   "execution_count": 20,
   "id": "7e5307c6",
   "metadata": {},
   "outputs": [],
   "source": [
    "res_dual_qe = linprog_simplex(b_eq, A_ub=A_eq.T, b_ub=c)"
   ]
  },
  {
   "cell_type": "markdown",
   "id": "a69e0280",
   "metadata": {},
   "source": [
    "And the shadow prices computed by the two programs are identical."
   ]
  },
  {
   "cell_type": "code",
   "execution_count": 21,
   "id": "b9b39d47",
   "metadata": {},
   "outputs": [
    {
     "data": {
      "text/plain": [
       "array([ 5., 15., 25.,  5., 10.,  0., 15.,  0.])"
      ]
     },
     "execution_count": 21,
     "metadata": {},
     "output_type": "execute_result"
    }
   ],
   "source": [
    "res_dual_qe.x"
   ]
  },
  {
   "cell_type": "code",
   "execution_count": 22,
   "id": "83078800",
   "metadata": {},
   "outputs": [
    {
     "data": {
      "text/plain": [
       "array([ 5., 15., 25.,  5., 10.,  0., 15.,  0.])"
      ]
     },
     "execution_count": 22,
     "metadata": {},
     "output_type": "execute_result"
    }
   ],
   "source": [
    "res_dual.x"
   ]
  },
  {
   "cell_type": "markdown",
   "id": "b937c030",
   "metadata": {},
   "source": [
    "We can compare computational times from using our two tools."
   ]
  },
  {
   "cell_type": "code",
   "execution_count": 23,
   "id": "a4c446e5",
   "metadata": {},
   "outputs": [
    {
     "name": "stdout",
     "output_type": "stream",
     "text": [
      "CPU times: user 0 ns, sys: 3.68 ms, total: 3.68 ms\n",
      "Wall time: 3.41 ms\n"
     ]
    },
    {
     "data": {
      "text/plain": [
       "     con: array([], dtype=float64)\n",
       "     fun: -7225.0\n",
       " message: 'Optimization terminated successfully.'\n",
       "     nit: 7\n",
       "   slack: array([ 0.,  0.,  0.,  0., 15.,  0., 15.,  0., 15.,  0.,  0., 15., 35.,\n",
       "       15.,  0.])\n",
       "  status: 0\n",
       " success: True\n",
       "       x: array([ 5., 15., 25.,  5., 10.,  0., 15.,  0.])"
      ]
     },
     "execution_count": 23,
     "metadata": {},
     "output_type": "execute_result"
    }
   ],
   "source": [
    "%time linprog(-b, A_ub=A.T, b_ub=C_vec, bounds=[(None, None)]*(m+n), method='Revised simplex')"
   ]
  },
  {
   "cell_type": "code",
   "execution_count": 24,
   "id": "fa787e20",
   "metadata": {},
   "outputs": [
    {
     "name": "stdout",
     "output_type": "stream",
     "text": [
      "CPU times: user 424 µs, sys: 28 µs, total: 452 µs\n",
      "Wall time: 459 µs\n"
     ]
    },
    {
     "data": {
      "text/plain": [
       "SimplexResult(x=array([ 5., 15., 25.,  5., 10.,  0., 15.,  0.]), lambd=array([ 0., 35.,  0., 15.,  0., 25.,  0., 60., 15.,  0.,  0., 80.,  0.,\n",
       "        0., 70.]), fun=7225.0, success=True, status=0, num_iter=24)"
      ]
     },
     "execution_count": 24,
     "metadata": {},
     "output_type": "execute_result"
    }
   ],
   "source": [
    "%time linprog_simplex(b_eq, A_ub=A_eq.T, b_ub=c)"
   ]
  },
  {
   "cell_type": "markdown",
   "id": "11d55b7c",
   "metadata": {},
   "source": [
    "`quantecon.optimize.linprog_simplex` solves the dual problem 10 times faster.\n",
    "\n",
    "Just for completeness, let's  solve the dual problems with nonsingular $A$ matrices that we create by dropping a redundant equality constraint.\n",
    "\n",
    "Try first leaving out the first constraint:"
   ]
  },
  {
   "cell_type": "code",
   "execution_count": 25,
   "id": "89ce6bac",
   "metadata": {},
   "outputs": [
    {
     "data": {
      "text/plain": [
       "     con: array([], dtype=float64)\n",
       "     fun: -7225.0\n",
       " message: 'Optimization terminated successfully.'\n",
       "     nit: 7\n",
       "   slack: array([ 0.,  0.,  0.,  0., 15.,  0., 15.,  0., 15.,  0.,  0., 15., 35.,\n",
       "       15.,  0.])\n",
       "  status: 0\n",
       " success: True\n",
       "       x: array([10., 20., 10., 15.,  5., 20.,  5.])"
      ]
     },
     "execution_count": 25,
     "metadata": {},
     "output_type": "execute_result"
    }
   ],
   "source": [
    "linprog(-b[1:], A_ub=A[1:].T, b_ub=C_vec,\n",
    "        bounds=[(None, None)]*(m+n-1), method='Revised simplex')"
   ]
  },
  {
   "cell_type": "markdown",
   "id": "97d9cdd2",
   "metadata": {},
   "source": [
    "Not let's instead leave out the last constraint:"
   ]
  },
  {
   "cell_type": "code",
   "execution_count": 26,
   "id": "3cf15b0c",
   "metadata": {},
   "outputs": [
    {
     "data": {
      "text/plain": [
       "     con: array([], dtype=float64)\n",
       "     fun: -7225.0\n",
       " message: 'Optimization terminated successfully.'\n",
       "     nit: 11\n",
       "   slack: array([ 0.,  0.,  0.,  0., 15.,  0., 15.,  0., 15.,  0.,  0., 15., 35.,\n",
       "       15.,  0.])\n",
       "  status: 0\n",
       " success: True\n",
       "       x: array([ 5., 15., 25.,  5., 10.,  0., 15.])"
      ]
     },
     "execution_count": 26,
     "metadata": {},
     "output_type": "execute_result"
    }
   ],
   "source": [
    "linprog(-b[:-1], A_ub=A[:-1].T, b_ub=C_vec,\n",
    "        bounds=[(None, None)]*(m+n-1), method='Revised simplex')"
   ]
  },
  {
   "cell_type": "markdown",
   "id": "8086a8f3",
   "metadata": {},
   "source": [
    "### Interpretation of dual problem\n",
    "\n",
    "By **strong duality** (please see this lecture\n",
    "{doc}`Linear Programming <lp_intro>`), we know that:\n",
    "\n",
    "$$\n",
    "\\sum_{i=1}^m \\sum_{j=1}^n c_{ij} x_{ij}  = \\sum_{i=1}^m p_i u_i + \\sum_{j=1}^n q_j v_j\n",
    "$$\n",
    "\n",
    "One unit more  capacity in factory $i$, i.e. $p_i$,   results in $u_i$ more transportation costs.\n",
    "\n",
    "Thus, $u_i$ describes the  cost of shipping one unit  **from** factory $i$. \n",
    "\n",
    "Call this  the ship-out cost of one unit  shipped from factory $i$.\n",
    "\n",
    "Similarly, $v_j$ is the  cost of shipping one unit **to** location $j$.\n",
    "\n",
    "Call this  the ship-in cost of one unit  to location $j$.\n",
    "\n",
    "Strong duality implies that  total transprotation costs  equals   total ship-out costs **plus**   total ship-in costs.\n",
    "\n",
    "It is reasonable that, for one unit of a product, ship-out cost $u_i$ **plus** ship-in cost $v_j$ should  equal transportation cost $c_{ij}$.\n",
    "\n",
    "This equality is assured by   **complementary slackness** conditions that state that whenever $x_{ij} > 0$, meaning that there are positive shipments  from factory $i$ to location $j$,    it must be true that  $u_i + v_j = c_{ij}$.\n",
    "\n",
    "\n",
    "\n",
    "\n",
    "## The Python Optimal Transport Package\n",
    "\n",
    "There is an excellent [Python package](https://pythonot.github.io/) for\n",
    "optimal transport that simplifies some of the steps we took above.\n",
    "\n",
    "In particular, the package takes care of the vectorization steps before\n",
    "passing the data out to a linear programming routine.\n",
    "\n",
    "(That said, the discussion provided above on vectorization remains important,\n",
    "since we want to understand what happens under the hood.)\n",
    "\n",
    "\n",
    "### Replicating Previous Results\n",
    "\n",
    "The following line of code solves the example application discussed above\n",
    "using linear programming."
   ]
  },
  {
   "cell_type": "code",
   "execution_count": 27,
   "id": "75c0c988",
   "metadata": {},
   "outputs": [
    {
     "name": "stderr",
     "output_type": "stream",
     "text": [
      "/tmp/ipykernel_21300/1617639716.py:1: UserWarning: Input histogram consists of integer. The transport plan will be casted accordingly, possibly resulting in a loss of precision. If this behaviour is unwanted, please make sure your input histogram consists of floating point elements.\n",
      "  X = ot.emd(p, q, C)\n"
     ]
    },
    {
     "data": {
      "text/plain": [
       "array([[15, 35,  0,  0,  0],\n",
       "       [10,  0, 60, 30,  0],\n",
       "       [ 0, 80,  0,  0, 70]])"
      ]
     },
     "execution_count": 27,
     "metadata": {},
     "output_type": "execute_result"
    }
   ],
   "source": [
    "X = ot.emd(p, q, C)\n",
    "X"
   ]
  },
  {
   "cell_type": "markdown",
   "id": "f05363ae",
   "metadata": {},
   "source": [
    "Sure enough, we have the same solution and the same cost"
   ]
  },
  {
   "cell_type": "code",
   "execution_count": 28,
   "id": "1aed8096",
   "metadata": {},
   "outputs": [
    {
     "data": {
      "text/plain": [
       "7225"
      ]
     },
     "execution_count": 28,
     "metadata": {},
     "output_type": "execute_result"
    }
   ],
   "source": [
    "total_cost = np.sum(X * C)\n",
    "total_cost"
   ]
  },
  {
   "cell_type": "markdown",
   "id": "728a2ac9",
   "metadata": {},
   "source": [
    "### A Larger Application\n",
    "\n",
    "Now let's try using the same package on a slightly larger application.\n",
    "\n",
    "The application has the same interpretation as above but we will also give\n",
    "each node (i.e., vertex) a location in the plane.\n",
    "\n",
    "This will allow us to plot the resulting transport plan as edges in a graph.\n",
    "\n",
    "The following class defines a node by \n",
    "\n",
    "* its location $(x, y) \\in \\mathbb R^2$, \n",
    "* its group (factory or location, denoted by `p` or `q`) and\n",
    "* its mass (e.g., $p_i$ or $q_j$)."
   ]
  },
  {
   "cell_type": "code",
   "execution_count": 29,
   "id": "f8c1fafa",
   "metadata": {},
   "outputs": [],
   "source": [
    "class Node:\n",
    "\n",
    "    def __init__(self, x, y, mass, group, name):\n",
    "\n",
    "        self.x, self.y = x, y\n",
    "        self.mass, self.group = mass, group\n",
    "        self.name = name"
   ]
  },
  {
   "cell_type": "markdown",
   "id": "f02e84d0",
   "metadata": {},
   "source": [
    "Next we write a function that repeatedly calls the class above to build\n",
    "instances.\n",
    "\n",
    "It allocates to the nodes it creates their location, mass, and group.\n",
    "\n",
    "Locations are assigned randomly."
   ]
  },
  {
   "cell_type": "code",
   "execution_count": 30,
   "id": "8636c11b",
   "metadata": {},
   "outputs": [],
   "source": [
    "def build_nodes_of_one_type(group='p', n=100, seed=123):\n",
    "\n",
    "    nodes = []\n",
    "    np.random.seed(seed)\n",
    "\n",
    "    for i in range(n):\n",
    "        \n",
    "        if group == 'p':\n",
    "            m = 1/n\n",
    "            x = np.random.uniform(-2, 2)\n",
    "            y = np.random.uniform(-2, 2)\n",
    "        else:\n",
    "            m = betabinom.pmf(i, n-1, 2, 2)\n",
    "            x = 0.6 * np.random.uniform(-1.5, 1.5)\n",
    "            y = 0.6 * np.random.uniform(-1.5, 1.5)\n",
    "            \n",
    "        name = group + str(i)\n",
    "        nodes.append(Node(x, y, m, group, name))\n",
    "\n",
    "    return nodes"
   ]
  },
  {
   "cell_type": "markdown",
   "id": "315d74dd",
   "metadata": {},
   "source": [
    "Now we build two lists of nodes, each one containing one type (factories or\n",
    "    locations)"
   ]
  },
  {
   "cell_type": "code",
   "execution_count": 31,
   "id": "0db3db11",
   "metadata": {},
   "outputs": [],
   "source": [
    "n_p = 32\n",
    "n_q = 32\n",
    "p_list = build_nodes_of_one_type(group='p', n=n_p)\n",
    "q_list = build_nodes_of_one_type(group='q', n=n_q)\n",
    "\n",
    "p_probs = [p.mass for p in p_list]\n",
    "q_probs = [q.mass for q in q_list]"
   ]
  },
  {
   "cell_type": "markdown",
   "id": "66161ed9",
   "metadata": {},
   "source": [
    "For the cost matrix $C$, we use the Euclidean distance between each factory\n",
    "and location."
   ]
  },
  {
   "cell_type": "code",
   "execution_count": 32,
   "id": "e82c07bf",
   "metadata": {},
   "outputs": [],
   "source": [
    "c = np.empty((n_p, n_q))\n",
    "for i in range(n_p):\n",
    "    for j in range(n_q):\n",
    "        x0, y0 = p_list[i].x, p_list[i].y\n",
    "        x1, y1 = q_list[j].x, q_list[j].y\n",
    "        c[i, j] = np.sqrt((x0-x1)**2 + (y0-y1)**2)"
   ]
  },
  {
   "cell_type": "markdown",
   "id": "0e1aefa6",
   "metadata": {},
   "source": [
    "Now we are ready to apply the solver"
   ]
  },
  {
   "cell_type": "code",
   "execution_count": 33,
   "id": "9725d47b",
   "metadata": {},
   "outputs": [
    {
     "name": "stdout",
     "output_type": "stream",
     "text": [
      "CPU times: user 771 µs, sys: 0 ns, total: 771 µs\n",
      "Wall time: 594 µs\n"
     ]
    }
   ],
   "source": [
    "%time pi = ot.emd(p_probs, q_probs, c)"
   ]
  },
  {
   "cell_type": "markdown",
   "id": "619eea15",
   "metadata": {},
   "source": [
    "Finally, let's plot the results using `networkx`.\n",
    "\n",
    "In the plot below, \n",
    "\n",
    "* node size is proportional to probability mass\n",
    "* an edge (arrow) from $i$ to $j$ is drawn when a positive transfer is made\n",
    "from $i$ to $j$ under the optimal transport plan."
   ]
  },
  {
   "cell_type": "code",
   "execution_count": 34,
   "id": "820989c8",
   "metadata": {},
   "outputs": [
    {
     "data": {
      "image/png": "[encoded data removed]",
      "text/plain": [
       "<Figure size 504x720 with 1 Axes>"
      ]
     },
     "metadata": {
      "filenames": {
       "image/png": "/home/runner/work/lecture-python.myst/lecture-python.myst/_build/jupyter_execute/opt_transport_59_0.png"
      }
     },
     "output_type": "display_data"
    }
   ],
   "source": [
    "g = nx.DiGraph()\n",
    "g.add_nodes_from([p.name for p in p_list])\n",
    "g.add_nodes_from([q.name for q in q_list])\n",
    "\n",
    "for i in range(n_p):\n",
    "    for j in range(n_q):\n",
    "        if pi[i, j] > 0:\n",
    "            g.add_edge(p_list[i].name, q_list[j].name, weight=pi[i, j])\n",
    "\n",
    "node_pos_dict={}\n",
    "for p in p_list:\n",
    "    node_pos_dict[p.name] = (p.x, p.y)\n",
    "\n",
    "for q in q_list:\n",
    "    node_pos_dict[q.name] = (q.x, q.y)\n",
    "\n",
    "node_color_list = []\n",
    "node_size_list = []\n",
    "scale = 8_000\n",
    "for p in p_list:\n",
    "    node_color_list.append('blue')\n",
    "    node_size_list.append(p.mass * scale)\n",
    "for q in q_list:\n",
    "    node_color_list.append('red')\n",
    "    node_size_list.append(q.mass * scale)\n",
    "\n",
    "\n",
    "fig, ax = plt.subplots(figsize=(7, 10))\n",
    "plt.axis('off')\n",
    "\n",
    "nx.draw_networkx_nodes(g, \n",
    "                       node_pos_dict, \n",
    "                       node_color=node_color_list,\n",
    "                       node_size=node_size_list,\n",
    "                       edgecolors='grey',\n",
    "                       linewidths=1,\n",
    "                       alpha=0.5,\n",
    "                       ax=ax)\n",
    "\n",
    "nx.draw_networkx_edges(g, \n",
    "                       node_pos_dict, \n",
    "                       arrows=True,\n",
    "                       connectionstyle='arc3,rad=0.1',\n",
    "                       alpha=0.6)\n",
    "plt.show()\n"
   ]
  }
 ],
 "metadata": {
  "jupytext": {
   "text_representation": {
    "extension": ".md",
    "format_name": "myst",
    "format_version": 0.13,
    "jupytext_version": "1.10.3"
   }
  },
  "kernelspec": {
   "display_name": "Python 3",
   "language": "python",
   "name": "python3"
  },
  "language_info": {
   "codemirror_mode": {
    "name": "ipython",
    "version": 3
   },
   "file_extension": ".py",
   "mimetype": "text/x-python",
   "name": "python",
   "nbconvert_exporter": "python",
   "pygments_lexer": "ipython3",
   "version": "3.9.12"
  },
  "source_map": [
   12,
   44,
   48,
   52,
   60,
   335,
   367,
   391,
   393,
   407,
   411,
   415,
   417,
   429,
   433,
   450,
   454,
   462,
   464,
   468,
   470,
   491,
   503,
   508,
   510,
   514,
   518,
   520,
   524,
   529,
   532,
   581,
   592,
   596,
   598,
   602,
   606,
   608,
   612,
   616,
   618,
   626,
   629,
   633,
   636,
   683,
   686,
   691,
   694,
   711,
   719,
   730,
   751,
   757,
   765,
   770,
   777,
   781,
   783,
   793
  ]
 },
 "nbformat": 4,
 "nbformat_minor": 5
}