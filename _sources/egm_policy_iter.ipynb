{
 "cells": [
  {
   "cell_type": "markdown",
   "id": "a7edae3e",
   "metadata": {},
   "source": [
    "```{raw} html\n",
    "<div id=\"qe-notebook-header\" align=\"right\" style=\"text-align:right;\">\n",
    "        <a href=\"https://quantecon.org/\" title=\"quantecon.org\">\n",
    "                <img style=\"width:250px;display:inline;\" width=\"250px\" src=\"https://assets.quantecon.org/img/qe-menubar-logo.svg\" alt=\"QuantEcon\">\n",
    "        </a>\n",
    "</div>\n",
    "```\n",
    "\n",
    "# {index}`Optimal Growth IV: The Endogenous Grid Method <single: Optimal Growth IV: The Endogenous Grid Method>`\n",
    "\n",
    "```{contents} Contents\n",
    ":depth: 2\n",
    "```\n",
    "\n",
    "In addition to what's in Anaconda, this lecture will need the following libraries:"
   ]
  },
  {
   "cell_type": "code",
   "execution_count": 1,
   "id": "8fae30ae",
   "metadata": {
    "tags": [
     "hide-output"
    ]
   },
   "outputs": [
    {
     "name": "stdout",
     "output_type": "stream",
     "text": [
      "Requirement already satisfied: quantecon in /__w/lecture-python.myst/lecture-python.myst/3/envs/quantecon/lib/python3.9/site-packages (0.6.0)\r\n"
     ]
    },
    {
     "name": "stdout",
     "output_type": "stream",
     "text": [
      "Requirement already satisfied: numpy>=1.17.0 in /__w/lecture-python.myst/lecture-python.myst/3/envs/quantecon/lib/python3.9/site-packages (from quantecon) (1.23.5)\r\n",
      "Requirement already satisfied: numba in /__w/lecture-python.myst/lecture-python.myst/3/envs/quantecon/lib/python3.9/site-packages (from quantecon) (0.56.4)\r\n",
      "Requirement already satisfied: requests in /__w/lecture-python.myst/lecture-python.myst/3/envs/quantecon/lib/python3.9/site-packages (from quantecon) (2.28.1)\r\n",
      "Requirement already satisfied: scipy>=1.5.0 in /__w/lecture-python.myst/lecture-python.myst/3/envs/quantecon/lib/python3.9/site-packages (from quantecon) (1.9.1)\r\n",
      "Requirement already satisfied: sympy in /__w/lecture-python.myst/lecture-python.myst/3/envs/quantecon/lib/python3.9/site-packages (from quantecon) (1.10.1)\r\n",
      "Requirement already satisfied: llvmlite<0.40,>=0.39.0dev0 in /__w/lecture-python.myst/lecture-python.myst/3/envs/quantecon/lib/python3.9/site-packages (from numba->quantecon) (0.39.1)\r\n",
      "Requirement already satisfied: setuptools in /__w/lecture-python.myst/lecture-python.myst/3/envs/quantecon/lib/python3.9/site-packages (from numba->quantecon) (63.4.1)\r\n",
      "Requirement already satisfied: idna<4,>=2.5 in /__w/lecture-python.myst/lecture-python.myst/3/envs/quantecon/lib/python3.9/site-packages (from requests->quantecon) (3.3)\r\n",
      "Requirement already satisfied: certifi>=2017.4.17 in /__w/lecture-python.myst/lecture-python.myst/3/envs/quantecon/lib/python3.9/site-packages (from requests->quantecon) (2022.9.14)\r\n",
      "Requirement already satisfied: charset-normalizer<3,>=2 in /__w/lecture-python.myst/lecture-python.myst/3/envs/quantecon/lib/python3.9/site-packages (from requests->quantecon) (2.0.4)\r\n",
      "Requirement already satisfied: urllib3<1.27,>=1.21.1 in /__w/lecture-python.myst/lecture-python.myst/3/envs/quantecon/lib/python3.9/site-packages (from requests->quantecon) (1.26.11)\r\n",
      "Requirement already satisfied: mpmath>=0.19 in /__w/lecture-python.myst/lecture-python.myst/3/envs/quantecon/lib/python3.9/site-packages (from sympy->quantecon) (1.2.1)\r\n"
     ]
    },
    {
     "name": "stdout",
     "output_type": "stream",
     "text": [
      "\u001b[33mWARNING: Running pip as the 'root' user can result in broken permissions and conflicting behaviour with the system package manager. It is recommended to use a virtual environment instead: https://pip.pypa.io/warnings/venv\u001b[0m\u001b[33m\r\n",
      "\u001b[0m"
     ]
    },
    {
     "name": "stdout",
     "output_type": "stream",
     "text": [
      "Requirement already satisfied: interpolation in /__w/lecture-python.myst/lecture-python.myst/3/envs/quantecon/lib/python3.9/site-packages (2.2.4)\r\n",
      "Requirement already satisfied: scipy<2.0.0,>=1.4.1 in /__w/lecture-python.myst/lecture-python.myst/3/envs/quantecon/lib/python3.9/site-packages (from interpolation) (1.9.1)\r\n",
      "Requirement already satisfied: numba>=0.47 in /__w/lecture-python.myst/lecture-python.myst/3/envs/quantecon/lib/python3.9/site-packages (from interpolation) (0.56.4)\r\n",
      "Requirement already satisfied: packaging<22.0,>=21.3 in /__w/lecture-python.myst/lecture-python.myst/3/envs/quantecon/lib/python3.9/site-packages (from interpolation) (21.3)\r\n",
      "Requirement already satisfied: tempita<0.6.0,>=0.5.2 in /__w/lecture-python.myst/lecture-python.myst/3/envs/quantecon/lib/python3.9/site-packages (from interpolation) (0.5.2)\r\n",
      "Requirement already satisfied: numpy<2.0.0,>=1.22.2 in /__w/lecture-python.myst/lecture-python.myst/3/envs/quantecon/lib/python3.9/site-packages (from interpolation) (1.23.5)\r\n",
      "Requirement already satisfied: llvmlite<0.40,>=0.39.0dev0 in /__w/lecture-python.myst/lecture-python.myst/3/envs/quantecon/lib/python3.9/site-packages (from numba>=0.47->interpolation) (0.39.1)\r\n",
      "Requirement already satisfied: setuptools in /__w/lecture-python.myst/lecture-python.myst/3/envs/quantecon/lib/python3.9/site-packages (from numba>=0.47->interpolation) (63.4.1)\r\n",
      "Requirement already satisfied: pyparsing!=3.0.5,>=2.0.2 in /__w/lecture-python.myst/lecture-python.myst/3/envs/quantecon/lib/python3.9/site-packages (from packaging<22.0,>=21.3->interpolation) (3.0.9)\r\n"
     ]
    },
    {
     "name": "stdout",
     "output_type": "stream",
     "text": [
      "\u001b[33mWARNING: Running pip as the 'root' user can result in broken permissions and conflicting behaviour with the system package manager. It is recommended to use a virtual environment instead: https://pip.pypa.io/warnings/venv\u001b[0m\u001b[33m\r\n",
      "\u001b[0m"
     ]
    }
   ],
   "source": [
    "!pip install quantecon\n",
    "!pip install interpolation"
   ]
  },
  {
   "cell_type": "markdown",
   "id": "6569db16",
   "metadata": {},
   "source": [
    "## Overview\n",
    "\n",
    "Previously, we solved the stochastic optimal growth model using\n",
    "\n",
    "1. {doc}`value function iteration <optgrowth_fast>`\n",
    "1. {doc}`Euler equation based time iteration <coleman_policy_iter>`\n",
    "\n",
    "We found time iteration to be significantly more accurate and efficient.\n",
    "\n",
    "In this lecture, we'll look at a clever twist on time iteration called the **endogenous grid method** (EGM).\n",
    "\n",
    "EGM is a numerical method for implementing policy iteration invented by [Chris Carroll](http://www.econ2.jhu.edu/people/ccarroll/).\n",
    "\n",
    "The original reference is {cite}`Carroll2006`.\n",
    "\n",
    "Let's start with some standard imports:"
   ]
  },
  {
   "cell_type": "code",
   "execution_count": 2,
   "id": "42e91b64",
   "metadata": {},
   "outputs": [],
   "source": [
    "%matplotlib inline\n",
    "import matplotlib.pyplot as plt\n",
    "plt.rcParams[\"figure.figsize\"] = (11, 5)  #set default figure size\n",
    "import numpy as np\n",
    "import quantecon as qe\n",
    "from interpolation import interp\n",
    "from numba import njit, float64\n",
    "from numba.experimental import jitclass\n",
    "from quantecon.optimize import brentq"
   ]
  },
  {
   "cell_type": "markdown",
   "id": "ea6bd478",
   "metadata": {},
   "source": [
    "## Key Idea\n",
    "\n",
    "Let's start by reminding ourselves of the theory and then see how the numerics fit in.\n",
    "\n",
    "### Theory\n",
    "\n",
    "Take the model set out in {doc}`the time iteration lecture <coleman_policy_iter>`, following the same terminology and notation.\n",
    "\n",
    "The Euler equation is\n",
    "\n",
    "```{math}\n",
    ":label: egm_euler\n",
    "\n",
    "(u'\\circ \\sigma^*)(y)\n",
    "= \\beta \\int (u'\\circ \\sigma^*)(f(y - \\sigma^*(y)) z) f'(y - \\sigma^*(y)) z \\phi(dz)\n",
    "```\n",
    "\n",
    "As we saw, the Coleman-Reffett operator is a nonlinear operator $K$ engineered so that $\\sigma^*$ is a fixed point of $K$.\n",
    "\n",
    "It takes as its argument a continuous strictly increasing consumption policy $\\sigma \\in \\Sigma$.\n",
    "\n",
    "It returns a new function $K \\sigma$,  where $(K \\sigma)(y)$ is the $c \\in (0, \\infty)$ that solves\n",
    "\n",
    "```{math}\n",
    ":label: egm_coledef\n",
    "\n",
    "u'(c)\n",
    "= \\beta \\int (u' \\circ \\sigma) (f(y - c) z ) f'(y - c) z \\phi(dz)\n",
    "```\n",
    "\n",
    "### Exogenous Grid\n",
    "\n",
    "As discussed in {doc}`the lecture on time iteration <coleman_policy_iter>`, to implement the method on a computer, we need a numerical approximation.\n",
    "\n",
    "In particular, we represent a policy function by a set of values on a finite grid.\n",
    "\n",
    "The function itself is reconstructed from this representation when necessary, using interpolation or some other method.\n",
    "\n",
    "{doc}`Previously <coleman_policy_iter>`, to obtain a finite representation of an updated consumption policy, we\n",
    "\n",
    "* fixed a grid of income points $\\{y_i\\}$\n",
    "* calculated the consumption value $c_i$ corresponding to each\n",
    "  $y_i$ using {eq}`egm_coledef` and a root-finding routine\n",
    "\n",
    "Each $c_i$ is then interpreted as the value of the function $K \\sigma$ at $y_i$.\n",
    "\n",
    "Thus, with the points $\\{y_i, c_i\\}$ in hand, we can reconstruct $K \\sigma$ via approximation.\n",
    "\n",
    "Iteration then continues...\n",
    "\n",
    "### Endogenous Grid\n",
    "\n",
    "The method discussed above requires a root-finding routine to find the\n",
    "$c_i$ corresponding to a given income value $y_i$.\n",
    "\n",
    "Root-finding is costly because it typically involves a significant number of\n",
    "function evaluations.\n",
    "\n",
    "As pointed out by Carroll {cite}`Carroll2006`, we can avoid this if\n",
    "$y_i$ is chosen endogenously.\n",
    "\n",
    "The only assumption required is that $u'$ is invertible on $(0, \\infty)$.\n",
    "\n",
    "Let $(u')^{-1}$ be the inverse function of $u'$.\n",
    "\n",
    "The idea is this:\n",
    "\n",
    "* First, we fix an *exogenous* grid $\\{k_i\\}$ for capital ($k = y - c$).\n",
    "* Then we obtain  $c_i$ via\n",
    "\n",
    "```{math}\n",
    ":label: egm_getc\n",
    "\n",
    "c_i =\n",
    "(u')^{-1}\n",
    "\\left\\{\n",
    "    \\beta \\int (u' \\circ \\sigma) (f(k_i) z ) \\, f'(k_i) \\, z \\, \\phi(dz)\n",
    "\\right\\}\n",
    "```\n",
    "\n",
    "* Finally, for each $c_i$ we set $y_i = c_i + k_i$.\n",
    "\n",
    "It is clear that each $(y_i, c_i)$ pair constructed in this manner satisfies {eq}`egm_coledef`.\n",
    "\n",
    "With the points $\\{y_i, c_i\\}$ in hand, we can reconstruct $K \\sigma$ via approximation as before.\n",
    "\n",
    "The name EGM comes from the fact that the grid $\\{y_i\\}$ is  determined **endogenously**.\n",
    "\n",
    "## Implementation\n",
    "\n",
    "As {doc}`before <coleman_policy_iter>`, we will start with a simple setting\n",
    "where\n",
    "\n",
    "* $u(c) = \\ln c$,\n",
    "* production is Cobb-Douglas, and\n",
    "* the shocks are lognormal.\n",
    "\n",
    "This will allow us to make comparisons with the analytical solutions"
   ]
  },
  {
   "cell_type": "code",
   "execution_count": 3,
   "id": "0c5f1410",
   "metadata": {
    "load": "_static/lecture_specific/optgrowth/cd_analytical.py"
   },
   "outputs": [],
   "source": [
    "\n",
    "def v_star(y, α, β, μ):\n",
    "    \"\"\"\n",
    "    True value function\n",
    "    \"\"\"\n",
    "    c1 = np.log(1 - α * β) / (1 - β)\n",
    "    c2 = (μ + α * np.log(α * β)) / (1 - α)\n",
    "    c3 = 1 / (1 - β)\n",
    "    c4 = 1 / (1 - α * β)\n",
    "    return c1 + c2 * (c3 - c4) + c4 * np.log(y)\n",
    "\n",
    "def σ_star(y, α, β):\n",
    "    \"\"\"\n",
    "    True optimal policy\n",
    "    \"\"\"\n",
    "    return (1 - α * β) * y\n",
    "\n"
   ]
  },
  {
   "cell_type": "markdown",
   "id": "9bd8acaf",
   "metadata": {},
   "source": [
    "We reuse the `OptimalGrowthModel` class"
   ]
  },
  {
   "cell_type": "code",
   "execution_count": 4,
   "id": "c0ad6cdc",
   "metadata": {
    "load": "_static/lecture_specific/optgrowth_fast/ogm.py"
   },
   "outputs": [],
   "source": [
    "\n",
    "opt_growth_data = [\n",
    "    ('α', float64),          # Production parameter\n",
    "    ('β', float64),          # Discount factor\n",
    "    ('μ', float64),          # Shock location parameter\n",
    "    ('s', float64),          # Shock scale parameter\n",
    "    ('grid', float64[:]),    # Grid (array)\n",
    "    ('shocks', float64[:])   # Shock draws (array)\n",
    "]\n",
    "\n",
    "@jitclass(opt_growth_data)\n",
    "class OptimalGrowthModel:\n",
    "\n",
    "    def __init__(self,\n",
    "                α=0.4, \n",
    "                β=0.96, \n",
    "                μ=0,\n",
    "                s=0.1,\n",
    "                grid_max=4,\n",
    "                grid_size=120,\n",
    "                shock_size=250,\n",
    "                seed=1234):\n",
    "\n",
    "        self.α, self.β, self.μ, self.s = α, β, μ, s\n",
    "\n",
    "        # Set up grid\n",
    "        self.grid = np.linspace(1e-5, grid_max, grid_size)\n",
    "\n",
    "        # Store shocks (with a seed, so results are reproducible)\n",
    "        np.random.seed(seed)\n",
    "        self.shocks = np.exp(μ + s * np.random.randn(shock_size))\n",
    "       \n",
    "\n",
    "    def f(self, k):\n",
    "        \"The production function\"\n",
    "        return k**self.α\n",
    "       \n",
    "\n",
    "    def u(self, c):\n",
    "        \"The utility function\"\n",
    "        return np.log(c)\n",
    "\n",
    "    def f_prime(self, k):\n",
    "        \"Derivative of f\"\n",
    "        return self.α * (k**(self.α - 1))\n",
    "\n",
    "\n",
    "    def u_prime(self, c):\n",
    "        \"Derivative of u\"\n",
    "        return 1/c\n",
    "\n",
    "    def u_prime_inv(self, c):\n",
    "        \"Inverse of u'\"\n",
    "        return 1/c\n",
    "\n",
    "\n"
   ]
  },
  {
   "cell_type": "markdown",
   "id": "d985a275",
   "metadata": {},
   "source": [
    "### The Operator\n",
    "\n",
    "Here's an implementation of $K$ using EGM as described above."
   ]
  },
  {
   "cell_type": "code",
   "execution_count": 5,
   "id": "8d11e2f5",
   "metadata": {},
   "outputs": [],
   "source": [
    "@njit\n",
    "def K(σ_array, og):\n",
    "    \"\"\"\n",
    "    The Coleman-Reffett operator using EGM\n",
    "\n",
    "    \"\"\"\n",
    "\n",
    "    # Simplify names\n",
    "    f, β = og.f, og.β\n",
    "    f_prime, u_prime = og.f_prime, og.u_prime\n",
    "    u_prime_inv = og.u_prime_inv\n",
    "    grid, shocks = og.grid, og.shocks\n",
    "\n",
    "    # Determine endogenous grid\n",
    "    y = grid + σ_array  # y_i = k_i + c_i\n",
    "\n",
    "    # Linear interpolation of policy using endogenous grid\n",
    "    σ = lambda x: interp(y, σ_array, x)\n",
    "\n",
    "    # Allocate memory for new consumption array\n",
    "    c = np.empty_like(grid)\n",
    "\n",
    "    # Solve for updated consumption value\n",
    "    for i, k in enumerate(grid):\n",
    "        vals = u_prime(σ(f(k) * shocks)) * f_prime(k) * shocks\n",
    "        c[i] = u_prime_inv(β * np.mean(vals))\n",
    "\n",
    "    return c"
   ]
  },
  {
   "cell_type": "markdown",
   "id": "3b3dd2cf",
   "metadata": {},
   "source": [
    "Note the lack of any root-finding algorithm.\n",
    "\n",
    "### Testing\n",
    "\n",
    "First we create an instance."
   ]
  },
  {
   "cell_type": "code",
   "execution_count": 6,
   "id": "84263fb9",
   "metadata": {},
   "outputs": [],
   "source": [
    "og = OptimalGrowthModel()\n",
    "grid = og.grid"
   ]
  },
  {
   "cell_type": "markdown",
   "id": "46b9c61e",
   "metadata": {},
   "source": [
    "Here's our solver routine:"
   ]
  },
  {
   "cell_type": "code",
   "execution_count": 7,
   "id": "621094fc",
   "metadata": {
    "load": "_static/lecture_specific/coleman_policy_iter/solve_time_iter.py"
   },
   "outputs": [],
   "source": [
    "def solve_model_time_iter(model,    # Class with model information\n",
    "                          σ,        # Initial condition\n",
    "                          tol=1e-4,\n",
    "                          max_iter=1000,\n",
    "                          verbose=True,\n",
    "                          print_skip=25):\n",
    "\n",
    "    # Set up loop\n",
    "    i = 0\n",
    "    error = tol + 1\n",
    "\n",
    "    while i < max_iter and error > tol:\n",
    "        σ_new = K(σ, model)\n",
    "        error = np.max(np.abs(σ - σ_new))\n",
    "        i += 1\n",
    "        if verbose and i % print_skip == 0:\n",
    "            print(f\"Error at iteration {i} is {error}.\")\n",
    "        σ = σ_new\n",
    "\n",
    "    if error > tol:\n",
    "        print(\"Failed to converge!\")\n",
    "    elif verbose:\n",
    "        print(f\"\\nConverged in {i} iterations.\")\n",
    "\n",
    "    return σ_new\n"
   ]
  },
  {
   "cell_type": "markdown",
   "id": "31b482bd",
   "metadata": {},
   "source": [
    "Let's call it:"
   ]
  },
  {
   "cell_type": "code",
   "execution_count": 8,
   "id": "325f86fa",
   "metadata": {},
   "outputs": [
    {
     "name": "stdout",
     "output_type": "stream",
     "text": [
      "\n",
      "Converged in 12 iterations.\n"
     ]
    }
   ],
   "source": [
    "σ_init = np.copy(grid)\n",
    "σ = solve_model_time_iter(og, σ_init)"
   ]
  },
  {
   "cell_type": "markdown",
   "id": "7a2070b2",
   "metadata": {},
   "source": [
    "Here is a plot of the resulting policy, compared with the true policy:"
   ]
  },
  {
   "cell_type": "code",
   "execution_count": 9,
   "id": "64b25c8d",
   "metadata": {},
   "outputs": [
    {
     "data": {
      "image/png": "[encoded data removed]",
      "text/plain": [
       "<Figure size 1100x500 with 1 Axes>"
      ]
     },
     "metadata": {
      "filenames": {
       "image/png": "/__w/lecture-python.myst/lecture-python.myst/_build/jupyter_execute/egm_policy_iter_17_0.png"
      }
     },
     "output_type": "display_data"
    }
   ],
   "source": [
    "y = grid + σ  # y_i = k_i + c_i\n",
    "\n",
    "fig, ax = plt.subplots()\n",
    "\n",
    "ax.plot(y, σ, lw=2,\n",
    "        alpha=0.8, label='approximate policy function')\n",
    "\n",
    "ax.plot(y, σ_star(y, og.α, og.β), 'k--',\n",
    "        lw=2, alpha=0.8, label='true policy function')\n",
    "\n",
    "ax.legend()\n",
    "plt.show()"
   ]
  },
  {
   "cell_type": "markdown",
   "id": "44eaea92",
   "metadata": {},
   "source": [
    "The maximal absolute deviation between the two policies is"
   ]
  },
  {
   "cell_type": "code",
   "execution_count": 10,
   "id": "8a8ec9ba",
   "metadata": {},
   "outputs": [
    {
     "data": {
      "text/plain": [
       "1.530274914252061e-05"
      ]
     },
     "execution_count": 10,
     "metadata": {},
     "output_type": "execute_result"
    }
   ],
   "source": [
    "np.max(np.abs(σ - σ_star(y, og.α, og.β)))"
   ]
  },
  {
   "cell_type": "markdown",
   "id": "7ded128d",
   "metadata": {},
   "source": [
    "How long does it take to converge?"
   ]
  },
  {
   "cell_type": "code",
   "execution_count": 11,
   "id": "e2dff546",
   "metadata": {},
   "outputs": [
    {
     "name": "stdout",
     "output_type": "stream",
     "text": [
      "11.7 ms ± 0 ns per loop (mean ± std. dev. of 1 run, 3 loops each)\n"
     ]
    }
   ],
   "source": [
    "%%timeit -n 3 -r 1\n",
    "σ = solve_model_time_iter(og, σ_init, verbose=False)"
   ]
  },
  {
   "cell_type": "markdown",
   "id": "df4cba87",
   "metadata": {},
   "source": [
    "Relative to time iteration, which as already found to be highly efficient, EGM\n",
    "has managed to shave off still more run time without compromising accuracy.\n",
    "\n",
    "This is due to the lack of a numerical root-finding step.\n",
    "\n",
    "We can now solve the optimal growth model at given parameters extremely fast."
   ]
  }
 ],
 "metadata": {
  "jupytext": {
   "text_representation": {
    "extension": ".md",
    "format_name": "myst"
   }
  },
  "kernelspec": {
   "display_name": "Python 3",
   "language": "python",
   "name": "python3"
  },
  "language_info": {
   "codemirror_mode": {
    "name": "ipython",
    "version": 3
   },
   "file_extension": ".py",
   "mimetype": "text/x-python",
   "name": "python",
   "nbconvert_exporter": "python",
   "pygments_lexer": "ipython3",
   "version": "3.9.13"
  },
  "source_map": [
   10,
   28,
   34,
   53,
   63,
   164,
   166,
   170,
   172,
   178,
   207,
   215,
   218,
   222,
   224,
   228,
   231,
   235,
   248,
   252,
   254,
   258,
   261
  ]
 },
 "nbformat": 4,
 "nbformat_minor": 5
}