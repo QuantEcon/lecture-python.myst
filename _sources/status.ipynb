{
 "cells": [
  {
   "cell_type": "markdown",
   "id": "1957192f",
   "metadata": {},
   "source": [
    "# Execution Statistics\n",
    "\n",
    "This table contains the latest execution statistics.\n",
    "\n",
    "```{nb-exec-table}\n",
    "```\n",
    "\n",
    "(status:machine-details)=\n",
    "\n",
    "These lectures are built on `linux` instances through `github actions`. \n",
    "\n",
    "These lectures are using the following python version"
   ]
  },
  {
   "cell_type": "code",
   "execution_count": null,
   "id": "e5fc3f63",
   "metadata": {},
   "outputs": [],
   "source": [
    "!python --version"
   ]
  },
  {
   "cell_type": "markdown",
   "id": "e40a7445",
   "metadata": {},
   "source": [
    "and the following package versions"
   ]
  },
  {
   "cell_type": "code",
   "execution_count": null,
   "id": "90a38cde",
   "metadata": {
    "tags": [
     "hide-output"
    ]
   },
   "outputs": [],
   "source": [
    "!conda list"
   ]
  },
  {
   "cell_type": "markdown",
   "id": "d43491df",
   "metadata": {},
   "source": [
    "You can check the backend used by JAX using:"
   ]
  },
  {
   "cell_type": "code",
   "execution_count": null,
   "id": "9d78abc9",
   "metadata": {},
   "outputs": [],
   "source": [
    "import jax\n",
    "# Check if JAX is using GPU\n",
    "print(f\"JAX backend: {jax.devices()[0].platform}\")"
   ]
  },
  {
   "cell_type": "markdown",
   "id": "ae33b86b",
   "metadata": {},
   "source": [
    "and this lecture series also has access to the following GPU"
   ]
  },
  {
   "cell_type": "code",
   "execution_count": null,
   "id": "908bc9ba",
   "metadata": {},
   "outputs": [],
   "source": [
    "!nvidia-smi"
   ]
  }
 ],
 "metadata": {
  "jupytext": {
   "text_representation": {
    "extension": ".md",
    "format_name": "myst"
   }
  },
  "kernelspec": {
   "display_name": "Python 3",
   "language": "python",
   "name": "python3"
  },
  "source_map": [
   10,
   25,
   27,
   31,
   34,
   38,
   42,
   46
  ]
 },
 "nbformat": 4,
 "nbformat_minor": 5
}