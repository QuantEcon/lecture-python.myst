{
 "cells": [
  {
   "cell_type": "markdown",
   "id": "d0a9d4f6",
   "metadata": {},
   "source": [
    "(references)=\n",
    "# References\n",
    "\n",
    "```{bibliography} _static/quant-econ.bib\n",
    "```"
   ]
  }
 ],
 "metadata": {
  "jupytext": {
   "text_representation": {
    "extension": ".md",
    "format_name": "myst"
   }
  },
  "kernelspec": {
   "display_name": "Python 3",
   "language": "python",
   "name": "python3"
  },
  "source_map": [
   10
  ]
 },
 "nbformat": 4,
 "nbformat_minor": 5
}