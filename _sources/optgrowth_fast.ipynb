{
 "cells": [
  {
   "cell_type": "markdown",
   "id": "797e371a",
   "metadata": {},
   "source": [
    "(optgrowth)=\n",
    "```{raw} html\n",
    "<div id=\"qe-notebook-header\" align=\"right\" style=\"text-align:right;\">\n",
    "        <a href=\"https://quantecon.org/\" title=\"quantecon.org\">\n",
    "                <img style=\"width:250px;display:inline;\" width=\"250px\" src=\"https://assets.quantecon.org/img/qe-menubar-logo.svg\" alt=\"QuantEcon\">\n",
    "        </a>\n",
    "</div>\n",
    "```\n",
    "\n",
    "# {index}`Optimal Growth II: Accelerating the Code with Numba <single: Optimal Growth II: Accelerating the Code with Numba>`\n",
    "\n",
    "```{contents} Contents\n",
    ":depth: 2\n",
    "```\n",
    "\n",
    "In addition to what's in Anaconda, this lecture will need the following libraries:"
   ]
  },
  {
   "cell_type": "code",
   "execution_count": 1,
   "id": "2df40a55",
   "metadata": {
    "tags": [
     "hide-output"
    ]
   },
   "outputs": [
    {
     "name": "stdout",
     "output_type": "stream",
     "text": [
      "Requirement already satisfied: quantecon in /__w/lecture-python.myst/lecture-python.myst/3/envs/quantecon/lib/python3.9/site-packages (0.5.3)\r\n",
      "Requirement already satisfied: sympy in /__w/lecture-python.myst/lecture-python.myst/3/envs/quantecon/lib/python3.9/site-packages (from quantecon) (1.10.1)\r\n",
      "Requirement already satisfied: scipy>=1.0.0 in /__w/lecture-python.myst/lecture-python.myst/3/envs/quantecon/lib/python3.9/site-packages (from quantecon) (1.9.1)\r\n",
      "Requirement already satisfied: numba in /__w/lecture-python.myst/lecture-python.myst/3/envs/quantecon/lib/python3.9/site-packages (from quantecon) (0.56.4)\r\n",
      "Requirement already satisfied: requests in /__w/lecture-python.myst/lecture-python.myst/3/envs/quantecon/lib/python3.9/site-packages (from quantecon) (2.28.1)\r\n",
      "Requirement already satisfied: numpy in /__w/lecture-python.myst/lecture-python.myst/3/envs/quantecon/lib/python3.9/site-packages (from quantecon) (1.23.5)\r\n",
      "Requirement already satisfied: llvmlite<0.40,>=0.39.0dev0 in /__w/lecture-python.myst/lecture-python.myst/3/envs/quantecon/lib/python3.9/site-packages (from numba->quantecon) (0.39.1)\r\n",
      "Requirement already satisfied: setuptools in /__w/lecture-python.myst/lecture-python.myst/3/envs/quantecon/lib/python3.9/site-packages (from numba->quantecon) (63.4.1)\r\n",
      "Requirement already satisfied: certifi>=2017.4.17 in /__w/lecture-python.myst/lecture-python.myst/3/envs/quantecon/lib/python3.9/site-packages (from requests->quantecon) (2022.9.14)\r\n",
      "Requirement already satisfied: urllib3<1.27,>=1.21.1 in /__w/lecture-python.myst/lecture-python.myst/3/envs/quantecon/lib/python3.9/site-packages (from requests->quantecon) (1.26.11)\r\n",
      "Requirement already satisfied: idna<4,>=2.5 in /__w/lecture-python.myst/lecture-python.myst/3/envs/quantecon/lib/python3.9/site-packages (from requests->quantecon) (3.3)\r\n",
      "Requirement already satisfied: charset-normalizer<3,>=2 in /__w/lecture-python.myst/lecture-python.myst/3/envs/quantecon/lib/python3.9/site-packages (from requests->quantecon) (2.0.4)\r\n",
      "Requirement already satisfied: mpmath>=0.19 in /__w/lecture-python.myst/lecture-python.myst/3/envs/quantecon/lib/python3.9/site-packages (from sympy->quantecon) (1.2.1)\r\n"
     ]
    },
    {
     "name": "stdout",
     "output_type": "stream",
     "text": [
      "\u001b[33mWARNING: Running pip as the 'root' user can result in broken permissions and conflicting behaviour with the system package manager. It is recommended to use a virtual environment instead: https://pip.pypa.io/warnings/venv\u001b[0m\u001b[33m\r\n",
      "\u001b[0m"
     ]
    },
    {
     "name": "stdout",
     "output_type": "stream",
     "text": [
      "Requirement already satisfied: interpolation in /__w/lecture-python.myst/lecture-python.myst/3/envs/quantecon/lib/python3.9/site-packages (2.2.4)\r\n"
     ]
    },
    {
     "name": "stdout",
     "output_type": "stream",
     "text": [
      "Requirement already satisfied: tempita<0.6.0,>=0.5.2 in /__w/lecture-python.myst/lecture-python.myst/3/envs/quantecon/lib/python3.9/site-packages (from interpolation) (0.5.2)\r\n",
      "Requirement already satisfied: numpy<2.0.0,>=1.22.2 in /__w/lecture-python.myst/lecture-python.myst/3/envs/quantecon/lib/python3.9/site-packages (from interpolation) (1.23.5)\r\n",
      "Requirement already satisfied: scipy<2.0.0,>=1.4.1 in /__w/lecture-python.myst/lecture-python.myst/3/envs/quantecon/lib/python3.9/site-packages (from interpolation) (1.9.1)\r\n",
      "Requirement already satisfied: numba>=0.47 in /__w/lecture-python.myst/lecture-python.myst/3/envs/quantecon/lib/python3.9/site-packages (from interpolation) (0.56.4)\r\n",
      "Requirement already satisfied: packaging<22.0,>=21.3 in /__w/lecture-python.myst/lecture-python.myst/3/envs/quantecon/lib/python3.9/site-packages (from interpolation) (21.3)\r\n",
      "Requirement already satisfied: llvmlite<0.40,>=0.39.0dev0 in /__w/lecture-python.myst/lecture-python.myst/3/envs/quantecon/lib/python3.9/site-packages (from numba>=0.47->interpolation) (0.39.1)\r\n",
      "Requirement already satisfied: setuptools in /__w/lecture-python.myst/lecture-python.myst/3/envs/quantecon/lib/python3.9/site-packages (from numba>=0.47->interpolation) (63.4.1)\r\n",
      "Requirement already satisfied: pyparsing!=3.0.5,>=2.0.2 in /__w/lecture-python.myst/lecture-python.myst/3/envs/quantecon/lib/python3.9/site-packages (from packaging<22.0,>=21.3->interpolation) (3.0.9)\r\n"
     ]
    },
    {
     "name": "stdout",
     "output_type": "stream",
     "text": [
      "\u001b[33mWARNING: Running pip as the 'root' user can result in broken permissions and conflicting behaviour with the system package manager. It is recommended to use a virtual environment instead: https://pip.pypa.io/warnings/venv\u001b[0m\u001b[33m\r\n",
      "\u001b[0m"
     ]
    }
   ],
   "source": [
    "!pip install quantecon\n",
    "!pip install interpolation"
   ]
  },
  {
   "cell_type": "markdown",
   "id": "457f474c",
   "metadata": {},
   "source": [
    "## Overview\n",
    "\n",
    "{doc}`Previously <optgrowth>`, we studied a stochastic optimal\n",
    "growth model with one representative agent.\n",
    "\n",
    "We solved the model using dynamic programming.\n",
    "\n",
    "In writing our code, we focused on clarity and flexibility.\n",
    "\n",
    "These are important, but there's often a trade-off between flexibility and\n",
    "speed.\n",
    "\n",
    "The reason is that, when code is less flexible, we can exploit structure more\n",
    "easily.\n",
    "\n",
    "(This is true about algorithms and mathematical problems more generally:\n",
    "more specific problems have more structure, which, with some thought, can be\n",
    "exploited for better results.)\n",
    "\n",
    "So, in this lecture, we are going to accept less flexibility while gaining\n",
    "speed, using just-in-time (JIT) compilation to\n",
    "accelerate our code.\n",
    "\n",
    "Let's start with some imports:"
   ]
  },
  {
   "cell_type": "code",
   "execution_count": 2,
   "id": "0505dbe7",
   "metadata": {},
   "outputs": [],
   "source": [
    "%matplotlib inline\n",
    "import matplotlib.pyplot as plt\n",
    "plt.rcParams[\"figure.figsize\"] = (11, 5)  #set default figure size\n",
    "import numpy as np\n",
    "from interpolation import interp\n",
    "from numba import jit, njit, prange, float64, int32\n",
    "from numba.experimental import jitclass\n",
    "from quantecon.optimize.scalar_maximization import brent_max"
   ]
  },
  {
   "cell_type": "markdown",
   "id": "4b1ea311",
   "metadata": {},
   "source": [
    "We are using an interpolation function from\n",
    "[interpolation.py](https://github.com/EconForge/interpolation.py) because it\n",
    "helps us JIT-compile our code.\n",
    "\n",
    "The function `brent_max` is also designed for embedding in JIT-compiled code.\n",
    "\n",
    "These are alternatives to similar functions in SciPy (which, unfortunately, are not JIT-aware).\n",
    "\n",
    "## The Model\n",
    "\n",
    "```{index} single: Optimal Growth; Model\n",
    "```\n",
    "\n",
    "The model is the same as discussed in our {doc}`previous lecture <optgrowth>`\n",
    "on optimal growth.\n",
    "\n",
    "We will start with log utility:\n",
    "\n",
    "$$\n",
    "u(c) = \\ln(c)\n",
    "$$\n",
    "\n",
    "We continue to assume that\n",
    "\n",
    "* $f(k) = k^{\\alpha}$\n",
    "* $\\phi$ is the distribution of $\\xi := \\exp(\\mu + s \\zeta)$ when $\\zeta$ is standard normal\n",
    "\n",
    "We will once again use value function iteration to solve the model.\n",
    "\n",
    "In particular, the algorithm is unchanged, and the only difference is in the implementation itself.\n",
    "\n",
    "As before, we will be able to compare with the true solutions"
   ]
  },
  {
   "cell_type": "code",
   "execution_count": 3,
   "id": "ffc4fc89",
   "metadata": {
    "load": "_static/lecture_specific/optgrowth/cd_analytical.py"
   },
   "outputs": [],
   "source": [
    "\n",
    "def v_star(y, α, β, μ):\n",
    "    \"\"\"\n",
    "    True value function\n",
    "    \"\"\"\n",
    "    c1 = np.log(1 - α * β) / (1 - β)\n",
    "    c2 = (μ + α * np.log(α * β)) / (1 - α)\n",
    "    c3 = 1 / (1 - β)\n",
    "    c4 = 1 / (1 - α * β)\n",
    "    return c1 + c2 * (c3 - c4) + c4 * np.log(y)\n",
    "\n",
    "def σ_star(y, α, β):\n",
    "    \"\"\"\n",
    "    True optimal policy\n",
    "    \"\"\"\n",
    "    return (1 - α * β) * y\n",
    "\n"
   ]
  },
  {
   "cell_type": "markdown",
   "id": "5dd5f153",
   "metadata": {},
   "source": [
    "## Computation\n",
    "\n",
    "```{index} single: Dynamic Programming; Computation\n",
    "```\n",
    "\n",
    "We will again store the primitives of the optimal growth model in a class.\n",
    "\n",
    "But now we are going to use [Numba's](https://python-programming.quantecon.org/numba.html) `@jitclass` decorator to target our class for JIT compilation.\n",
    "\n",
    "Because we are going to use Numba to compile our class, we need to specify the data types.\n",
    "\n",
    "You will see this as a list called `opt_growth_data` above our class.\n",
    "\n",
    "Unlike in the {doc}`previous lecture <optgrowth>`, we\n",
    "hardwire the production and utility specifications into the\n",
    "class.\n",
    "\n",
    "This is where we sacrifice flexibility in order to gain more speed."
   ]
  },
  {
   "cell_type": "code",
   "execution_count": 4,
   "id": "a834e5ab",
   "metadata": {
    "load": "_static/lecture_specific/optgrowth_fast/ogm.py"
   },
   "outputs": [],
   "source": [
    "\n",
    "opt_growth_data = [\n",
    "    ('α', float64),          # Production parameter\n",
    "    ('β', float64),          # Discount factor\n",
    "    ('μ', float64),          # Shock location parameter\n",
    "    ('s', float64),          # Shock scale parameter\n",
    "    ('grid', float64[:]),    # Grid (array)\n",
    "    ('shocks', float64[:])   # Shock draws (array)\n",
    "]\n",
    "\n",
    "@jitclass(opt_growth_data)\n",
    "class OptimalGrowthModel:\n",
    "\n",
    "    def __init__(self,\n",
    "                α=0.4, \n",
    "                β=0.96, \n",
    "                μ=0,\n",
    "                s=0.1,\n",
    "                grid_max=4,\n",
    "                grid_size=120,\n",
    "                shock_size=250,\n",
    "                seed=1234):\n",
    "\n",
    "        self.α, self.β, self.μ, self.s = α, β, μ, s\n",
    "\n",
    "        # Set up grid\n",
    "        self.grid = np.linspace(1e-5, grid_max, grid_size)\n",
    "\n",
    "        # Store shocks (with a seed, so results are reproducible)\n",
    "        np.random.seed(seed)\n",
    "        self.shocks = np.exp(μ + s * np.random.randn(shock_size))\n",
    "       \n",
    "\n",
    "    def f(self, k):\n",
    "        \"The production function\"\n",
    "        return k**self.α\n",
    "       \n",
    "\n",
    "    def u(self, c):\n",
    "        \"The utility function\"\n",
    "        return np.log(c)\n",
    "\n",
    "    def f_prime(self, k):\n",
    "        \"Derivative of f\"\n",
    "        return self.α * (k**(self.α - 1))\n",
    "\n",
    "\n",
    "    def u_prime(self, c):\n",
    "        \"Derivative of u\"\n",
    "        return 1/c\n",
    "\n",
    "    def u_prime_inv(self, c):\n",
    "        \"Inverse of u'\"\n",
    "        return 1/c\n",
    "\n",
    "\n"
   ]
  },
  {
   "cell_type": "markdown",
   "id": "51037aef",
   "metadata": {},
   "source": [
    "The class includes some methods such as `u_prime` that we do not need now\n",
    "but will use in later lectures.\n",
    "\n",
    "### The Bellman Operator\n",
    "\n",
    "We will use JIT compilation to accelerate the Bellman operator.\n",
    "\n",
    "First, here's a function that returns the value of a particular consumption choice `c`, given state `y`, as per the Bellman equation {eq}`fpb30`."
   ]
  },
  {
   "cell_type": "code",
   "execution_count": 5,
   "id": "b8bfd5af",
   "metadata": {},
   "outputs": [],
   "source": [
    "@njit\n",
    "def state_action_value(c, y, v_array, og):\n",
    "    \"\"\"\n",
    "    Right hand side of the Bellman equation.\n",
    "\n",
    "     * c is consumption\n",
    "     * y is income\n",
    "     * og is an instance of OptimalGrowthModel\n",
    "     * v_array represents a guess of the value function on the grid\n",
    "\n",
    "    \"\"\"\n",
    "\n",
    "    u, f, β, shocks = og.u, og.f, og.β, og.shocks\n",
    "\n",
    "    v = lambda x: interp(og.grid, v_array, x)\n",
    "\n",
    "    return u(c) + β * np.mean(v(f(y - c) * shocks))"
   ]
  },
  {
   "cell_type": "markdown",
   "id": "e75881da",
   "metadata": {},
   "source": [
    "Now we can implement the Bellman operator, which maximizes the right hand side\n",
    "of the Bellman equation:"
   ]
  },
  {
   "cell_type": "code",
   "execution_count": 6,
   "id": "a76ff400",
   "metadata": {},
   "outputs": [],
   "source": [
    "@jit(nopython=True)\n",
    "def T(v, og):\n",
    "    \"\"\"\n",
    "    The Bellman operator.\n",
    "\n",
    "     * og is an instance of OptimalGrowthModel\n",
    "     * v is an array representing a guess of the value function\n",
    "\n",
    "    \"\"\"\n",
    "\n",
    "    v_new = np.empty_like(v)\n",
    "    v_greedy = np.empty_like(v)\n",
    "\n",
    "    for i in range(len(og.grid)):\n",
    "        y = og.grid[i]\n",
    "\n",
    "        # Maximize RHS of Bellman equation at state y\n",
    "        result = brent_max(state_action_value, 1e-10, y, args=(y, v, og))\n",
    "        v_greedy[i], v_new[i] = result[0], result[1]\n",
    "\n",
    "    return v_greedy, v_new"
   ]
  },
  {
   "cell_type": "markdown",
   "id": "95133a14",
   "metadata": {},
   "source": [
    "We use the `solve_model` function to perform iteration until convergence."
   ]
  },
  {
   "cell_type": "code",
   "execution_count": 7,
   "id": "80a7ee86",
   "metadata": {
    "load": "_static/lecture_specific/optgrowth/solve_model.py"
   },
   "outputs": [],
   "source": [
    "def solve_model(og,\n",
    "                tol=1e-4,\n",
    "                max_iter=1000,\n",
    "                verbose=True,\n",
    "                print_skip=25):\n",
    "    \"\"\"\n",
    "    Solve model by iterating with the Bellman operator.\n",
    "\n",
    "    \"\"\"\n",
    "\n",
    "    # Set up loop\n",
    "    v = og.u(og.grid)  # Initial condition\n",
    "    i = 0\n",
    "    error = tol + 1\n",
    "\n",
    "    while i < max_iter and error > tol:\n",
    "        v_greedy, v_new = T(v, og)\n",
    "        error = np.max(np.abs(v - v_new))\n",
    "        i += 1\n",
    "        if verbose and i % print_skip == 0:\n",
    "            print(f\"Error at iteration {i} is {error}.\")\n",
    "        v = v_new\n",
    "\n",
    "    if error > tol:\n",
    "        print(\"Failed to converge!\")\n",
    "    elif verbose:\n",
    "        print(f\"\\nConverged in {i} iterations.\")\n",
    "\n",
    "    return v_greedy, v_new\n"
   ]
  },
  {
   "cell_type": "markdown",
   "id": "37d2c002",
   "metadata": {},
   "source": [
    "Let's compute the approximate solution at the default parameters.\n",
    "\n",
    "First we create an instance:"
   ]
  },
  {
   "cell_type": "code",
   "execution_count": 8,
   "id": "df445917",
   "metadata": {},
   "outputs": [],
   "source": [
    "og = OptimalGrowthModel()"
   ]
  },
  {
   "cell_type": "markdown",
   "id": "65a4b8b3",
   "metadata": {},
   "source": [
    "Now we call `solve_model`, using the `%%time` magic to check how long it\n",
    "takes."
   ]
  },
  {
   "cell_type": "code",
   "execution_count": 9,
   "id": "5aa4237c",
   "metadata": {},
   "outputs": [
    {
     "name": "stdout",
     "output_type": "stream",
     "text": [
      "Error at iteration 25 is 0.41372668361363196.\n"
     ]
    },
    {
     "name": "stdout",
     "output_type": "stream",
     "text": [
      "Error at iteration 50 is 0.14767653072604503.\n",
      "Error at iteration 75 is 0.053221715530355596.\n"
     ]
    },
    {
     "name": "stdout",
     "output_type": "stream",
     "text": [
      "Error at iteration 100 is 0.019180931418503633.\n"
     ]
    },
    {
     "name": "stdout",
     "output_type": "stream",
     "text": [
      "Error at iteration 125 is 0.006912744709538288.\n"
     ]
    },
    {
     "name": "stdout",
     "output_type": "stream",
     "text": [
      "Error at iteration 150 is 0.002491330497818467.\n",
      "Error at iteration 175 is 0.0008978673320712005.\n"
     ]
    },
    {
     "name": "stdout",
     "output_type": "stream",
     "text": [
      "Error at iteration 200 is 0.0003235884386754151.\n"
     ]
    },
    {
     "name": "stdout",
     "output_type": "stream",
     "text": [
      "Error at iteration 225 is 0.00011662021095304453.\n",
      "\n",
      "Converged in 229 iterations.\n",
      "CPU times: user 4.95 s, sys: 69.6 ms, total: 5.02 s\n",
      "Wall time: 5.02 s\n"
     ]
    }
   ],
   "source": [
    "%%time\n",
    "v_greedy, v_solution = solve_model(og)"
   ]
  },
  {
   "cell_type": "markdown",
   "id": "21199838",
   "metadata": {},
   "source": [
    "You will notice that this is *much* faster than our {doc}`original implementation <optgrowth>`.\n",
    "\n",
    "Here is a plot of the resulting policy, compared with the true policy:"
   ]
  },
  {
   "cell_type": "code",
   "execution_count": 10,
   "id": "d6363d76",
   "metadata": {},
   "outputs": [
    {
     "data": {
      "image/png": "[encoded data removed]",
      "text/plain": [
       "<Figure size 1100x500 with 1 Axes>"
      ]
     },
     "metadata": {
      "filenames": {
       "image/png": "/__w/lecture-python.myst/lecture-python.myst/_build/jupyter_execute/optgrowth_fast_19_0.png"
      }
     },
     "output_type": "display_data"
    }
   ],
   "source": [
    "fig, ax = plt.subplots()\n",
    "\n",
    "ax.plot(og.grid, v_greedy, lw=2,\n",
    "        alpha=0.8, label='approximate policy function')\n",
    "\n",
    "ax.plot(og.grid, σ_star(og.grid, og.α, og.β), 'k--',\n",
    "        lw=2, alpha=0.8, label='true policy function')\n",
    "\n",
    "ax.legend()\n",
    "plt.show()"
   ]
  },
  {
   "cell_type": "markdown",
   "id": "9db1e39d",
   "metadata": {},
   "source": [
    "Again, the fit is excellent --- this is as expected since we have not changed\n",
    "the algorithm.\n",
    "\n",
    "The maximal absolute deviation between the two policies is"
   ]
  },
  {
   "cell_type": "code",
   "execution_count": 11,
   "id": "f413581e",
   "metadata": {},
   "outputs": [
    {
     "data": {
      "text/plain": [
       "0.0010480539639137199"
      ]
     },
     "execution_count": 11,
     "metadata": {},
     "output_type": "execute_result"
    }
   ],
   "source": [
    "np.max(np.abs(v_greedy - σ_star(og.grid, og.α, og.β)))"
   ]
  },
  {
   "cell_type": "markdown",
   "id": "94ab64de",
   "metadata": {},
   "source": [
    "## Exercises\n",
    "\n",
    "```{exercise}\n",
    ":label: ogfast_ex1\n",
    "\n",
    "Time how long it takes to iterate with the Bellman operator\n",
    "20 times, starting from initial condition $v(y) = u(y)$.\n",
    "\n",
    "Use the default parameterization.\n",
    "```\n",
    "\n",
    "```{solution-start} ogfast_ex1\n",
    ":class: dropdown\n",
    "```\n",
    "\n",
    "Let's set up the initial condition."
   ]
  },
  {
   "cell_type": "code",
   "execution_count": 12,
   "id": "303f6de3",
   "metadata": {},
   "outputs": [],
   "source": [
    "v = og.u(og.grid)"
   ]
  },
  {
   "cell_type": "markdown",
   "id": "486bc51d",
   "metadata": {},
   "source": [
    "Here's the timing:"
   ]
  },
  {
   "cell_type": "code",
   "execution_count": 13,
   "id": "742f1847",
   "metadata": {},
   "outputs": [
    {
     "name": "stdout",
     "output_type": "stream",
     "text": [
      "CPU times: user 180 ms, sys: 0 ns, total: 180 ms\n",
      "Wall time: 179 ms\n"
     ]
    }
   ],
   "source": [
    "%%time\n",
    "\n",
    "for i in range(20):\n",
    "    v_greedy, v_new = T(v, og)\n",
    "    v = v_new"
   ]
  },
  {
   "cell_type": "markdown",
   "id": "79f4c96e",
   "metadata": {},
   "source": [
    "Compared with our {ref}`timing <og_ex2>` for the non-compiled version of\n",
    "value function iteration, the JIT-compiled code is usually an order of magnitude faster.\n",
    "\n",
    "```{solution-end}\n",
    "```\n",
    "\n",
    "```{exercise}\n",
    ":label: ogfast_ex2\n",
    "\n",
    "Modify the optimal growth model to use the CRRA utility specification.\n",
    "\n",
    "$$\n",
    "u(c) = \\frac{c^{1 - \\gamma} } {1 - \\gamma}\n",
    "$$\n",
    "\n",
    "Set `γ = 1.5` as the default value and maintaining other specifications.\n",
    "\n",
    "(Note that `jitclass` currently does not support inheritance, so you will\n",
    "have to copy the class and change the relevant parameters and methods.)\n",
    "\n",
    "Compute an estimate of the optimal policy, plot it and compare visually with\n",
    "the same plot from the {ref}`analogous exercise <og_ex1>` in the first optimal\n",
    "growth lecture.\n",
    "\n",
    "Compare execution time as well.\n",
    "```\n",
    "\n",
    "\n",
    "```{solution-start} ogfast_ex2\n",
    ":class: dropdown\n",
    "```\n",
    "\n",
    "Here's our CRRA version of `OptimalGrowthModel`:"
   ]
  },
  {
   "cell_type": "code",
   "execution_count": 14,
   "id": "eba1500f",
   "metadata": {
    "load": "_static/lecture_specific/optgrowth_fast/ogm_crra.py"
   },
   "outputs": [],
   "source": [
    "\n",
    "\n",
    "opt_growth_data = [\n",
    "    ('α', float64),          # Production parameter\n",
    "    ('β', float64),          # Discount factor\n",
    "    ('μ', float64),          # Shock location parameter\n",
    "    ('γ', float64),          # Preference parameter\n",
    "    ('s', float64),          # Shock scale parameter\n",
    "    ('grid', float64[:]),    # Grid (array)\n",
    "    ('shocks', float64[:])   # Shock draws (array)\n",
    "]\n",
    "\n",
    "@jitclass(opt_growth_data)\n",
    "class OptimalGrowthModel_CRRA:\n",
    "\n",
    "    def __init__(self,\n",
    "                α=0.4, \n",
    "                β=0.96, \n",
    "                μ=0,\n",
    "                s=0.1,\n",
    "                γ=1.5, \n",
    "                grid_max=4,\n",
    "                grid_size=120,\n",
    "                shock_size=250,\n",
    "                seed=1234):\n",
    "\n",
    "        self.α, self.β, self.γ, self.μ, self.s = α, β, γ, μ, s\n",
    "\n",
    "        # Set up grid\n",
    "        self.grid = np.linspace(1e-5, grid_max, grid_size)\n",
    "\n",
    "        # Store shocks (with a seed, so results are reproducible)\n",
    "        np.random.seed(seed)\n",
    "        self.shocks = np.exp(μ + s * np.random.randn(shock_size))\n",
    "       \n",
    "\n",
    "    def f(self, k):\n",
    "        \"The production function.\"\n",
    "        return k**self.α\n",
    "\n",
    "    def u(self, c):\n",
    "        \"The utility function.\"\n",
    "        return c**(1 - self.γ) / (1 - self.γ)\n",
    "\n",
    "    def f_prime(self, k):\n",
    "        \"Derivative of f.\"\n",
    "        return self.α * (k**(self.α - 1))\n",
    "\n",
    "    def u_prime(self, c):\n",
    "        \"Derivative of u.\"\n",
    "        return c**(-self.γ)\n",
    "\n",
    "    def u_prime_inv(c):\n",
    "        return c**(-1 / self.γ)\n",
    "\n"
   ]
  },
  {
   "cell_type": "markdown",
   "id": "a8365581",
   "metadata": {},
   "source": [
    "Let's create an instance:"
   ]
  },
  {
   "cell_type": "code",
   "execution_count": 15,
   "id": "a3c36d43",
   "metadata": {},
   "outputs": [],
   "source": [
    "og_crra = OptimalGrowthModel_CRRA()"
   ]
  },
  {
   "cell_type": "markdown",
   "id": "b20f99f1",
   "metadata": {},
   "source": [
    "Now we call `solve_model`, using the `%%time` magic to check how long it\n",
    "takes."
   ]
  },
  {
   "cell_type": "code",
   "execution_count": 16,
   "id": "c69d7be4",
   "metadata": {},
   "outputs": [
    {
     "name": "stdout",
     "output_type": "stream",
     "text": [
      "Error at iteration 25 is 1.6201897527234905.\n"
     ]
    },
    {
     "name": "stdout",
     "output_type": "stream",
     "text": [
      "Error at iteration 50 is 0.459106047057503.\n"
     ]
    },
    {
     "name": "stdout",
     "output_type": "stream",
     "text": [
      "Error at iteration 75 is 0.165423522162655.\n"
     ]
    },
    {
     "name": "stdout",
     "output_type": "stream",
     "text": [
      "Error at iteration 100 is 0.05961808343499797.\n"
     ]
    },
    {
     "name": "stdout",
     "output_type": "stream",
     "text": [
      "Error at iteration 125 is 0.021486161531569792.\n"
     ]
    },
    {
     "name": "stdout",
     "output_type": "stream",
     "text": [
      "Error at iteration 150 is 0.007743542074422294.\n"
     ]
    },
    {
     "name": "stdout",
     "output_type": "stream",
     "text": [
      "Error at iteration 175 is 0.002790747140650751.\n"
     ]
    },
    {
     "name": "stdout",
     "output_type": "stream",
     "text": [
      "Error at iteration 200 is 0.001005776107120937.\n"
     ]
    },
    {
     "name": "stdout",
     "output_type": "stream",
     "text": [
      "Error at iteration 225 is 0.0003624784085332067.\n"
     ]
    },
    {
     "name": "stdout",
     "output_type": "stream",
     "text": [
      "Error at iteration 250 is 0.00013063602793295104.\n",
      "\n",
      "Converged in 257 iterations.\n",
      "CPU times: user 4.15 s, sys: 22.3 ms, total: 4.17 s\n",
      "Wall time: 4.17 s\n"
     ]
    }
   ],
   "source": [
    "%%time\n",
    "v_greedy, v_solution = solve_model(og_crra)"
   ]
  },
  {
   "cell_type": "markdown",
   "id": "4aa90c2a",
   "metadata": {},
   "source": [
    "Here is a plot of the resulting policy:"
   ]
  },
  {
   "cell_type": "code",
   "execution_count": 17,
   "id": "dec2e3bc",
   "metadata": {},
   "outputs": [
    {
     "data": {
      "image/png": "[encoded data removed]",
      "text/plain": [
       "<Figure size 1100x500 with 1 Axes>"
      ]
     },
     "metadata": {
      "filenames": {
       "image/png": "/__w/lecture-python.myst/lecture-python.myst/_build/jupyter_execute/optgrowth_fast_33_0.png"
      }
     },
     "output_type": "display_data"
    }
   ],
   "source": [
    "fig, ax = plt.subplots()\n",
    "\n",
    "ax.plot(og.grid, v_greedy, lw=2,\n",
    "        alpha=0.6, label='Approximate value function')\n",
    "\n",
    "ax.legend(loc='lower right')\n",
    "plt.show()"
   ]
  },
  {
   "cell_type": "markdown",
   "id": "46af52cd",
   "metadata": {},
   "source": [
    "This matches the solution that we obtained in our non-jitted code,\n",
    "{ref}`in the exercises <og_ex1>`.\n",
    "\n",
    "Execution time is an order of magnitude faster.\n",
    "\n",
    "```{solution-end}\n",
    "```\n",
    "\n",
    "\n",
    "```{exercise-start}\n",
    ":label: ogfast_ex3\n",
    "```\n",
    "\n",
    "In this exercise we return to the original log utility specification.\n",
    "\n",
    "Once an optimal consumption policy $\\sigma$ is given, income follows\n",
    "\n",
    "$$\n",
    "y_{t+1} = f(y_t - \\sigma(y_t)) \\xi_{t+1}\n",
    "$$\n",
    "\n",
    "The next figure shows a simulation of 100 elements of this sequence for three\n",
    "different discount factors (and hence three different policies).\n",
    "\n",
    "```{figure} /_static/lecture_specific/optgrowth/solution_og_ex2.png\n",
    "```\n",
    "\n",
    "In each sequence, the initial condition is $y_0 = 0.1$.\n",
    "\n",
    "The discount factors are `discount_factors = (0.8, 0.9, 0.98)`.\n",
    "\n",
    "We have also dialed down the shocks a bit with `s = 0.05`.\n",
    "\n",
    "Otherwise, the parameters and primitives are the same as the log-linear model discussed earlier in the lecture.\n",
    "\n",
    "Notice that more patient agents typically have higher wealth.\n",
    "\n",
    "Replicate the figure modulo randomness.\n",
    "\n",
    "```{exercise-end}\n",
    "```\n",
    "\n",
    "```{solution-start} ogfast_ex3\n",
    ":class: dropdown\n",
    "```\n",
    "\n",
    "Here's one solution:"
   ]
  },
  {
   "cell_type": "code",
   "execution_count": 18,
   "id": "2d13af47",
   "metadata": {},
   "outputs": [],
   "source": [
    "def simulate_og(σ_func, og, y0=0.1, ts_length=100):\n",
    "    '''\n",
    "    Compute a time series given consumption policy σ.\n",
    "    '''\n",
    "    y = np.empty(ts_length)\n",
    "    ξ = np.random.randn(ts_length-1)\n",
    "    y[0] = y0\n",
    "    for t in range(ts_length-1):\n",
    "        y[t+1] = (y[t] - σ_func(y[t]))**og.α * np.exp(og.μ + og.s * ξ[t])\n",
    "    return y"
   ]
  },
  {
   "cell_type": "code",
   "execution_count": 19,
   "id": "a7dbf5f5",
   "metadata": {},
   "outputs": [
    {
     "data": {
      "image/png": "[encoded data removed]",
      "text/plain": [
       "<Figure size 1100x500 with 1 Axes>"
      ]
     },
     "metadata": {
      "filenames": {
       "image/png": "/__w/lecture-python.myst/lecture-python.myst/_build/jupyter_execute/optgrowth_fast_36_0.png"
      }
     },
     "output_type": "display_data"
    }
   ],
   "source": [
    "fig, ax = plt.subplots()\n",
    "\n",
    "for β in (0.8, 0.9, 0.98):\n",
    "\n",
    "    og = OptimalGrowthModel(β=β, s=0.05)\n",
    "\n",
    "    v_greedy, v_solution = solve_model(og, verbose=False)\n",
    "\n",
    "    # Define an optimal policy function\n",
    "    σ_func = lambda x: interp(og.grid, v_greedy, x)\n",
    "    y = simulate_og(σ_func, og)\n",
    "    ax.plot(y, lw=2, alpha=0.6, label=rf'$\\beta = {β}$')\n",
    "\n",
    "ax.legend(loc='lower right')\n",
    "plt.show()"
   ]
  },
  {
   "cell_type": "markdown",
   "id": "2dc529fe",
   "metadata": {},
   "source": [
    "```{solution-end}\n",
    "```"
   ]
  }
 ],
 "metadata": {
  "jupytext": {
   "text_representation": {
    "extension": ".md",
    "format_name": "myst"
   }
  },
  "kernelspec": {
   "display_name": "Python 3",
   "language": "python",
   "name": "python3"
  },
  "language_info": {
   "codemirror_mode": {
    "name": "ipython",
    "version": 3
   },
   "file_extension": ".py",
   "mimetype": "text/x-python",
   "name": "python",
   "nbconvert_exporter": "python",
   "pygments_lexer": "ipython3",
   "version": "3.9.13"
  },
  "source_map": [
   10,
   29,
   35,
   62,
   71,
   106,
   108,
   129,
   131,
   142,
   160,
   165,
   187,
   191,
   193,
   199,
   201,
   206,
   209,
   215,
   226,
   233,
   235,
   254,
   256,
   260,
   266,
   302,
   304,
   308,
   310,
   315,
   318,
   322,
   330,
   380,
   393,
   409
  ]
 },
 "nbformat": 4,
 "nbformat_minor": 5
}