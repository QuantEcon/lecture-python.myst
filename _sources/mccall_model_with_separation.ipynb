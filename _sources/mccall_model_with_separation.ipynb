{
 "cells": [
  {
   "cell_type": "markdown",
   "id": "626e5bf5",
   "metadata": {},
   "source": [
    "(mccall_with_sep)=\n",
    "```{raw} html\n",
    "<div id=\"qe-notebook-header\" align=\"right\" style=\"text-align:right;\">\n",
    "        <a href=\"https://quantecon.org/\" title=\"quantecon.org\">\n",
    "                <img style=\"width:250px;display:inline;\" width=\"250px\" src=\"https://assets.quantecon.org/img/qe-menubar-logo.svg\" alt=\"QuantEcon\">\n",
    "        </a>\n",
    "</div>\n",
    "```\n",
    "\n",
    "# Job Search II: Search and Separation\n",
    "\n",
    "```{index} single: An Introduction to Job Search\n",
    "```\n",
    "\n",
    "```{contents} Contents\n",
    ":depth: 2\n",
    "```\n",
    "\n",
    "In addition to what's in Anaconda, this lecture will need the following libraries:"
   ]
  },
  {
   "cell_type": "code",
   "execution_count": 1,
   "id": "034c00f6",
   "metadata": {
    "tags": [
     "hide-output"
    ]
   },
   "outputs": [
    {
     "name": "stdout",
     "output_type": "stream",
     "text": [
      "Requirement already satisfied: quantecon in /usr/share/miniconda3/envs/quantecon/lib/python3.9/site-packages (0.5.3)\r\n",
      "Requirement already satisfied: sympy in /usr/share/miniconda3/envs/quantecon/lib/python3.9/site-packages (from quantecon) (1.10.1)\r\n",
      "Requirement already satisfied: numpy in /usr/share/miniconda3/envs/quantecon/lib/python3.9/site-packages (from quantecon) (1.21.5)\r\n",
      "Requirement already satisfied: scipy>=1.0.0 in /usr/share/miniconda3/envs/quantecon/lib/python3.9/site-packages (from quantecon) (1.7.3)\r\n",
      "Requirement already satisfied: requests in /usr/share/miniconda3/envs/quantecon/lib/python3.9/site-packages (from quantecon) (2.27.1)\r\n",
      "Requirement already satisfied: numba in /usr/share/miniconda3/envs/quantecon/lib/python3.9/site-packages (from quantecon) (0.55.1)\r\n",
      "Requirement already satisfied: setuptools in /usr/share/miniconda3/envs/quantecon/lib/python3.9/site-packages (from numba->quantecon) (61.2.0)\r\n",
      "Requirement already satisfied: llvmlite<0.39,>=0.38.0rc1 in /usr/share/miniconda3/envs/quantecon/lib/python3.9/site-packages (from numba->quantecon) (0.38.0)\r\n"
     ]
    },
    {
     "name": "stdout",
     "output_type": "stream",
     "text": [
      "Requirement already satisfied: certifi>=2017.4.17 in /usr/share/miniconda3/envs/quantecon/lib/python3.9/site-packages (from requests->quantecon) (2021.10.8)\r\n",
      "Requirement already satisfied: charset-normalizer~=2.0.0 in /usr/share/miniconda3/envs/quantecon/lib/python3.9/site-packages (from requests->quantecon) (2.0.4)\r\n",
      "Requirement already satisfied: idna<4,>=2.5 in /usr/share/miniconda3/envs/quantecon/lib/python3.9/site-packages (from requests->quantecon) (3.3)\r\n",
      "Requirement already satisfied: urllib3<1.27,>=1.21.1 in /usr/share/miniconda3/envs/quantecon/lib/python3.9/site-packages (from requests->quantecon) (1.26.9)\r\n",
      "Requirement already satisfied: mpmath>=0.19 in /usr/share/miniconda3/envs/quantecon/lib/python3.9/site-packages (from sympy->quantecon) (1.2.1)\r\n"
     ]
    }
   ],
   "source": [
    "!pip install quantecon"
   ]
  },
  {
   "cell_type": "markdown",
   "id": "a121a370",
   "metadata": {},
   "source": [
    "## Overview\n",
    "\n",
    "Previously {doc}`we looked <mccall_model>` at the McCall job search model {cite}`McCall1970` as a way of understanding unemployment and worker decisions.\n",
    "\n",
    "One unrealistic feature of the model is that every job is permanent.\n",
    "\n",
    "In this lecture, we extend the McCall model by introducing job separation.\n",
    "\n",
    "Once separation enters the picture, the agent comes to view\n",
    "\n",
    "* the loss of a job as a capital loss, and\n",
    "* a spell of unemployment as an *investment* in searching for an acceptable job\n",
    "\n",
    "The other minor addition is that a utility function will be included to make\n",
    "worker preferences slightly more sophisticated.\n",
    "\n",
    "We'll need the following imports"
   ]
  },
  {
   "cell_type": "code",
   "execution_count": 2,
   "id": "dc776f87",
   "metadata": {},
   "outputs": [],
   "source": [
    "%matplotlib inline\n",
    "import matplotlib.pyplot as plt\n",
    "plt.rcParams[\"figure.figsize\"] = (11, 5)  #set default figure size\n",
    "import numpy as np\n",
    "from numba import njit, float64\n",
    "from numba.experimental import jitclass\n",
    "from quantecon.distributions import BetaBinomial"
   ]
  },
  {
   "cell_type": "markdown",
   "id": "ec413730",
   "metadata": {},
   "source": [
    "## The Model\n",
    "\n",
    "The model is similar to the {doc}`baseline McCall job search model <mccall_model>`.\n",
    "\n",
    "It concerns the life of an infinitely lived worker and\n",
    "\n",
    "* the opportunities he or she (let's say he to save one character) has to work at different wages\n",
    "* exogenous events that destroy his current job\n",
    "* his decision making process while unemployed\n",
    "\n",
    "The worker can be in one of two states: employed or unemployed.\n",
    "\n",
    "He wants to maximize\n",
    "\n",
    "```{math}\n",
    ":label: objective\n",
    "\n",
    "{\\mathbb E} \\sum_{t=0}^\\infty \\beta^t u(y_t)\n",
    "```\n",
    "\n",
    "At this stage the only difference from the {doc}`baseline model <mccall_model>` is that we've added some flexibility to preferences by\n",
    "introducing a utility function $u$.\n",
    "\n",
    "It satisfies $u'> 0$ and $u'' < 0$.\n",
    "\n",
    "### The Wage Process\n",
    "\n",
    "For now we will drop the separation of state process and wage process that we\n",
    "maintained for the {doc}`baseline model <mccall_model>`.\n",
    "\n",
    "In particular, we simply suppose that wage offers $\\{ w_t \\}$ are IID with common distribution $q$.\n",
    "\n",
    "The set of possible wage values is denoted by $\\mathbb W$.\n",
    "\n",
    "(Later we will go back to having a separate state process $\\{s_t\\}$\n",
    "driving random outcomes, since this formulation is usually convenient in more sophisticated\n",
    "models.)\n",
    "\n",
    "### Timing and Decisions\n",
    "\n",
    "At the start of each period, the agent can be either\n",
    "\n",
    "* unemployed or\n",
    "* employed at some existing wage level $w_e$.\n",
    "\n",
    "At the start of a given period, the current wage offer $w_t$ is observed.\n",
    "\n",
    "If currently *employed*, the worker\n",
    "\n",
    "1. receives utility $u(w_e)$ and\n",
    "1. is fired with some (small) probability $\\alpha$.\n",
    "\n",
    "If currently *unemployed*, the worker either accepts or rejects the current offer $w_t$.\n",
    "\n",
    "If he accepts, then he begins work immediately at wage $w_t$.\n",
    "\n",
    "If he rejects, then he receives unemployment compensation $c$.\n",
    "\n",
    "The process then repeats.\n",
    "\n",
    "(Note: we do not allow for job search while employed---this topic is taken up in a {doc}`later lecture <jv>`.)\n",
    "\n",
    "## Solving the Model\n",
    "\n",
    "We drop time subscripts in what follows and primes denote next period values.\n",
    "\n",
    "Let\n",
    "\n",
    "* $v(w_e)$ be total lifetime value accruing to a worker who enters the current period *employed* with existing wage $w_e$\n",
    "* $h(w)$ be total lifetime value accruing to a worker who who enters the current period *unemployed* and receives\n",
    "  wage offer $w$.\n",
    "\n",
    "Here *value* means the value of the objective function {eq}`objective` when the worker makes optimal decisions at all future points in time.\n",
    "\n",
    "Our first aim is to obtain these functions.\n",
    "\n",
    "### The Bellman Equations\n",
    "\n",
    "Suppose for now that the worker can calculate the functions $v$ and $h$ and use them in his decision making.\n",
    "\n",
    "Then $v$ and $h$  should satisfy\n",
    "\n",
    "```{math}\n",
    ":label: bell1_mccall\n",
    "\n",
    "v(w_e) = u(w_e) + \\beta\n",
    "    \\left[\n",
    "        (1-\\alpha)v(w_e) + \\alpha \\sum_{w' \\in \\mathbb W} h(w') q(w')\n",
    "    \\right]\n",
    "```\n",
    "\n",
    "and\n",
    "\n",
    "```{math}\n",
    ":label: bell2_mccall\n",
    "\n",
    "h(w) = \\max \\left\\{ v(w), \\,  u(c) + \\beta \\sum_{w' \\in \\mathbb W} h(w') q(w') \\right\\}\n",
    "```\n",
    "\n",
    "Equation {eq}`bell1_mccall` expresses the value of being employed at wage $w_e$ in terms of\n",
    "\n",
    "* current reward $u(w_e)$ plus\n",
    "* discounted expected reward tomorrow, given the $\\alpha$ probability of being fired\n",
    "\n",
    "Equation {eq}`bell2_mccall` expresses the value of being unemployed with offer\n",
    "$w$ in hand as a maximum over the value of two options: accept or reject\n",
    "the current offer.\n",
    "\n",
    "Accepting transitions the worker to employment and hence yields reward $v(w)$.\n",
    "\n",
    "Rejecting leads to unemployment compensation and unemployment tomorrow.\n",
    "\n",
    "Equations {eq}`bell1_mccall` and {eq}`bell2_mccall` are the Bellman equations for this model.\n",
    "\n",
    "They provide enough information to solve for both $v$ and $h$.\n",
    "\n",
    "(ast_mcm)=\n",
    "### A Simplifying Transformation\n",
    "\n",
    "Rather than jumping straight into solving these equations, let's see if we can\n",
    "simplify them somewhat.\n",
    "\n",
    "(This process will be analogous to our {ref}`second pass <mm_op2>` at the plain vanilla\n",
    "McCall model, where we simplified the Bellman equation.)\n",
    "\n",
    "First, let\n",
    "\n",
    "```{math}\n",
    ":label: defd_mm\n",
    "\n",
    "d := \\sum_{w' \\in \\mathbb W} h(w') q(w')\n",
    "```\n",
    "\n",
    "be the expected value of unemployment tomorrow.\n",
    "\n",
    "We can now write {eq}`bell2_mccall` as\n",
    "\n",
    "$$\n",
    "h(w) = \\max \\left\\{ v(w), \\,  u(c) + \\beta d \\right\\}\n",
    "$$\n",
    "\n",
    "or, shifting time forward one period\n",
    "\n",
    "$$\n",
    "\\sum_{w' \\in \\mathbb W} h(w') q(w')\n",
    " = \\sum_{w' \\in \\mathbb W} \\max \\left\\{ v(w'), \\,  u(c) + \\beta d \\right\\} q(w')\n",
    "$$\n",
    "\n",
    "Using {eq}`defd_mm` again now gives\n",
    "\n",
    "```{math}\n",
    ":label: bell02_mccall\n",
    "\n",
    "d = \\sum_{w' \\in \\mathbb W} \\max \\left\\{ v(w'), \\,  u(c) + \\beta d \\right\\} q(w')\n",
    "```\n",
    "\n",
    "Finally, {eq}`bell1_mccall` can now be rewritten as\n",
    "\n",
    "```{math}\n",
    ":label: bell01_mccall\n",
    "\n",
    "v(w) = u(w) + \\beta\n",
    "    \\left[\n",
    "        (1-\\alpha)v(w) + \\alpha d\n",
    "    \\right]\n",
    "```\n",
    "\n",
    "In the last expression, we wrote $w_e$ as $w$ to make the notation\n",
    "simpler.\n",
    "\n",
    "### The Reservation Wage\n",
    "\n",
    "Suppose we can use {eq}`bell02_mccall` and {eq}`bell01_mccall` to solve for\n",
    "$d$ and $v$.\n",
    "\n",
    "(We will do this soon.)\n",
    "\n",
    "We can then determine optimal behavior for the worker.\n",
    "\n",
    "From {eq}`bell2_mccall`, we see that an unemployed agent accepts current offer\n",
    "$w$ if $v(w) \\geq  u(c) + \\beta d$.\n",
    "\n",
    "This means precisely that the value of accepting is higher than the expected value of rejecting.\n",
    "\n",
    "It is clear that $v$ is (at least weakly) increasing in $w$, since the agent is never made worse off by a higher wage offer.\n",
    "\n",
    "Hence, we can express the optimal choice as accepting wage offer $w$ if and only if\n",
    "\n",
    "$$\n",
    "w \\geq \\bar w\n",
    "\\quad \\text{where} \\quad\n",
    "\\bar w \\text{ solves } v(\\bar w) =  u(c) + \\beta d\n",
    "$$\n",
    "\n",
    "### Solving the Bellman Equations\n",
    "\n",
    "We'll use the same iterative approach to solving the Bellman equations that we\n",
    "adopted in the {doc}`first job search lecture <mccall_model>`.\n",
    "\n",
    "Here this amounts to\n",
    "\n",
    "1. make guesses for $d$ and $v$\n",
    "1. plug these guesses into the right-hand sides of {eq}`bell02_mccall` and {eq}`bell01_mccall`\n",
    "1. update the left-hand sides from this rule and then repeat\n",
    "\n",
    "In other words, we are iterating using the rules\n",
    "\n",
    "```{math}\n",
    ":label: bell1001\n",
    "\n",
    "d_{n+1} = \\sum_{w' \\in \\mathbb W}\n",
    "    \\max \\left\\{ v_n(w'), \\,  u(c) + \\beta d_n \\right\\} q(w')\n",
    "```\n",
    "\n",
    "```{math}\n",
    ":label: bell2001\n",
    "\n",
    "v_{n+1}(w) = u(w) + \\beta\n",
    "    \\left[\n",
    "        (1-\\alpha)v_n(w) + \\alpha d_n\n",
    "    \\right]\n",
    "```\n",
    "\n",
    "starting from some initial conditions $d_0, v_0$.\n",
    "\n",
    "As before, the system always converges to the true solutions---in this case,\n",
    "the $v$ and $d$ that solve {eq}`bell02_mccall` and {eq}`bell01_mccall`.\n",
    "\n",
    "(A proof can be obtained via the Banach contraction mapping theorem.)\n",
    "\n",
    "## Implementation\n",
    "\n",
    "Let's implement this iterative process.\n",
    "\n",
    "In the code, you'll see that we use a class to store the various parameters and other\n",
    "objects associated with a given model.\n",
    "\n",
    "This helps to tidy up the code and provides an object that's easy to pass to functions.\n",
    "\n",
    "The default utility function is a CRRA utility function"
   ]
  },
  {
   "cell_type": "code",
   "execution_count": 3,
   "id": "d8d2dd51",
   "metadata": {},
   "outputs": [],
   "source": [
    "@njit\n",
    "def u(c, σ=2.0):\n",
    "    return (c**(1 - σ) - 1) / (1 - σ)"
   ]
  },
  {
   "cell_type": "markdown",
   "id": "527fd9d2",
   "metadata": {},
   "source": [
    "Also, here's a default wage distribution, based around the BetaBinomial\n",
    "distribution:"
   ]
  },
  {
   "cell_type": "code",
   "execution_count": 4,
   "id": "6df09df4",
   "metadata": {},
   "outputs": [],
   "source": [
    "n = 60                                  # n possible outcomes for w\n",
    "w_default = np.linspace(10, 20, n)      # wages between 10 and 20\n",
    "a, b = 600, 400                         # shape parameters\n",
    "dist = BetaBinomial(n-1, a, b)\n",
    "q_default = dist.pdf()"
   ]
  },
  {
   "cell_type": "markdown",
   "id": "76b80562",
   "metadata": {},
   "source": [
    "Here's our jitted class for the McCall model with separation."
   ]
  },
  {
   "cell_type": "code",
   "execution_count": 5,
   "id": "fbb25cb9",
   "metadata": {},
   "outputs": [],
   "source": [
    "mccall_data = [\n",
    "    ('α', float64),      # job separation rate\n",
    "    ('β', float64),      # discount factor\n",
    "    ('c', float64),      # unemployment compensation\n",
    "    ('w', float64[:]),   # list of wage values\n",
    "    ('q', float64[:])    # pmf of random variable w\n",
    "]\n",
    "\n",
    "@jitclass(mccall_data)\n",
    "class McCallModel:\n",
    "    \"\"\"\n",
    "    Stores the parameters and functions associated with a given model.\n",
    "    \"\"\"\n",
    "\n",
    "    def __init__(self, α=0.2, β=0.98, c=6.0, w=w_default, q=q_default):\n",
    "\n",
    "        self.α, self.β, self.c, self.w, self.q = α, β, c, w, q\n",
    "\n",
    "\n",
    "    def update(self, v, d):\n",
    "\n",
    "        α, β, c, w, q = self.α, self.β, self.c, self.w, self.q\n",
    "\n",
    "        v_new = np.empty_like(v)\n",
    "\n",
    "        for i in range(len(w)):\n",
    "            v_new[i] = u(w[i]) + β * ((1 - α) * v[i] + α * d)\n",
    "\n",
    "        d_new = np.sum(np.maximum(v, u(c) + β * d) * q)\n",
    "\n",
    "        return v_new, d_new"
   ]
  },
  {
   "cell_type": "markdown",
   "id": "d76837aa",
   "metadata": {},
   "source": [
    "Now we iterate until successive realizations are closer together than some small tolerance level.\n",
    "\n",
    "We then return the current iterate as an approximate solution."
   ]
  },
  {
   "cell_type": "code",
   "execution_count": 6,
   "id": "ce3b54b1",
   "metadata": {},
   "outputs": [],
   "source": [
    "@njit\n",
    "def solve_model(mcm, tol=1e-5, max_iter=2000):\n",
    "    \"\"\"\n",
    "    Iterates to convergence on the Bellman equations\n",
    "\n",
    "    * mcm is an instance of McCallModel\n",
    "    \"\"\"\n",
    "\n",
    "    v = np.ones_like(mcm.w)    # Initial guess of v\n",
    "    d = 1                      # Initial guess of d\n",
    "    i = 0\n",
    "    error = tol + 1\n",
    "\n",
    "    while error > tol and i < max_iter:\n",
    "        v_new, d_new = mcm.update(v, d)\n",
    "        error_1 = np.max(np.abs(v_new - v))\n",
    "        error_2 = np.abs(d_new - d)\n",
    "        error = max(error_1, error_2)\n",
    "        v = v_new\n",
    "        d = d_new\n",
    "        i += 1\n",
    "\n",
    "    return v, d"
   ]
  },
  {
   "cell_type": "markdown",
   "id": "5f93961a",
   "metadata": {},
   "source": [
    "### The Reservation Wage: First Pass\n",
    "\n",
    "The optimal choice of the agent is summarized by the reservation wage.\n",
    "\n",
    "As discussed above, the reservation wage is the $\\bar w$ that solves\n",
    "$v(\\bar w) = h$ where $h := u(c) + \\beta d$ is the continuation\n",
    "value.\n",
    "\n",
    "Let's compare $v$ and $h$ to see what they look like.\n",
    "\n",
    "We'll use the default parameterizations found in the code above."
   ]
  },
  {
   "cell_type": "code",
   "execution_count": 7,
   "id": "e6c9f347",
   "metadata": {},
   "outputs": [
    {
     "data": {
      "image/png": "[encoded data removed]",
      "text/plain": [
       "<Figure size 792x360 with 1 Axes>"
      ]
     },
     "metadata": {
      "filenames": {
       "image/png": "/home/runner/work/lecture-python.myst/lecture-python.myst/_build/jupyter_execute/mccall_model_with_separation_13_0.png"
      },
      "needs_background": "light"
     },
     "output_type": "display_data"
    }
   ],
   "source": [
    "mcm = McCallModel()\n",
    "v, d = solve_model(mcm)\n",
    "h = u(mcm.c) + mcm.β * d\n",
    "\n",
    "fig, ax = plt.subplots()\n",
    "\n",
    "ax.plot(mcm.w, v, 'b-', lw=2, alpha=0.7, label='$v$')\n",
    "ax.plot(mcm.w, [h] * len(mcm.w),\n",
    "        'g-', lw=2, alpha=0.7, label='$h$')\n",
    "ax.set_xlim(min(mcm.w), max(mcm.w))\n",
    "ax.legend()\n",
    "\n",
    "plt.show()"
   ]
  },
  {
   "cell_type": "markdown",
   "id": "2575249a",
   "metadata": {},
   "source": [
    "The value $v$ is increasing because higher $w$ generates a higher wage flow conditional on staying employed.\n",
    "\n",
    "### The Reservation Wage: Computation\n",
    "\n",
    "Here's a function `compute_reservation_wage` that takes an instance of `McCallModel`\n",
    "and returns the associated reservation wage."
   ]
  },
  {
   "cell_type": "code",
   "execution_count": 8,
   "id": "1431b4ce",
   "metadata": {},
   "outputs": [],
   "source": [
    "@njit\n",
    "def compute_reservation_wage(mcm):\n",
    "    \"\"\"\n",
    "    Computes the reservation wage of an instance of the McCall model\n",
    "    by finding the smallest w such that v(w) >= h.\n",
    "\n",
    "    If no such w exists, then w_bar is set to np.inf.\n",
    "    \"\"\"\n",
    "\n",
    "    v, d = solve_model(mcm)\n",
    "    h = u(mcm.c) + mcm.β * d\n",
    "\n",
    "    w_bar = np.inf\n",
    "    for i, wage in enumerate(mcm.w):\n",
    "        if v[i] > h:\n",
    "            w_bar = wage\n",
    "            break\n",
    "\n",
    "    return w_bar"
   ]
  },
  {
   "cell_type": "markdown",
   "id": "732156b1",
   "metadata": {},
   "source": [
    "Next we will investigate how the reservation wage varies with parameters.\n",
    "\n",
    "## Impact of Parameters\n",
    "\n",
    "In each instance below, we'll show you a figure and then ask you to reproduce it in the exercises.\n",
    "\n",
    "### The Reservation Wage and Unemployment Compensation\n",
    "\n",
    "First, let's look at how $\\bar w$ varies with unemployment compensation.\n",
    "\n",
    "In the figure below, we use the default parameters in the `McCallModel` class, apart from\n",
    "c (which takes the values given on the horizontal axis)\n",
    "\n",
    "```{figure} /_static/lecture_specific/mccall_model_with_separation/mccall_resw_c.png\n",
    "\n",
    "```\n",
    "\n",
    "As expected, higher unemployment compensation causes the worker to hold out for higher wages.\n",
    "\n",
    "In effect, the cost of continuing job search is reduced.\n",
    "\n",
    "### The Reservation Wage and Discounting\n",
    "\n",
    "Next, let's investigate how $\\bar w$ varies with the discount factor.\n",
    "\n",
    "The next figure plots the reservation wage associated with different values of\n",
    "$\\beta$\n",
    "\n",
    "```{figure} /_static/lecture_specific/mccall_model_with_separation/mccall_resw_beta.png\n",
    "\n",
    "```\n",
    "\n",
    "Again, the results are intuitive: More patient workers will hold out for higher wages.\n",
    "\n",
    "### The Reservation Wage and Job Destruction\n",
    "\n",
    "Finally, let's look at how $\\bar w$ varies with the job separation rate $\\alpha$.\n",
    "\n",
    "Higher $\\alpha$ translates to a greater chance that a worker will face termination in each period once employed.\n",
    "\n",
    "```{figure} /_static/lecture_specific/mccall_model_with_separation/mccall_resw_alpha.png\n",
    "\n",
    "```\n",
    "\n",
    "Once more, the results are in line with our intuition.\n",
    "\n",
    "If the separation rate is high, then the benefit of holding out for a higher wage falls.\n",
    "\n",
    "Hence the reservation wage is lower.\n",
    "\n",
    "## Exercises\n",
    "\n",
    "```{exercise-start}\n",
    ":label: mmws_ex1\n",
    "```\n",
    "\n",
    "Reproduce all the reservation wage figures shown above.\n",
    "\n",
    "Regarding the values on the horizontal axis, use"
   ]
  },
  {
   "cell_type": "code",
   "execution_count": 9,
   "id": "59d76612",
   "metadata": {},
   "outputs": [],
   "source": [
    "grid_size = 25\n",
    "c_vals = np.linspace(2, 12, grid_size)         # unemployment compensation\n",
    "beta_vals = np.linspace(0.8, 0.99, grid_size)  # discount factors\n",
    "alpha_vals = np.linspace(0.05, 0.5, grid_size) # separation rate"
   ]
  },
  {
   "cell_type": "markdown",
   "id": "f90c4e40",
   "metadata": {},
   "source": [
    "```{exercise-end}\n",
    "```\n",
    "\n",
    "## Solutions\n",
    "\n",
    "```{solution-start} mmws_ex1\n",
    ":class: dropdown\n",
    "```\n",
    "\n",
    "Here's the first figure."
   ]
  },
  {
   "cell_type": "code",
   "execution_count": 10,
   "id": "4baef272",
   "metadata": {},
   "outputs": [
    {
     "data": {
      "image/png": "[encoded data removed]",
      "text/plain": [
       "<Figure size 792x360 with 1 Axes>"
      ]
     },
     "metadata": {
      "filenames": {
       "image/png": "/home/runner/work/lecture-python.myst/lecture-python.myst/_build/jupyter_execute/mccall_model_with_separation_19_0.png"
      },
      "needs_background": "light"
     },
     "output_type": "display_data"
    }
   ],
   "source": [
    "mcm = McCallModel()\n",
    "\n",
    "w_bar_vals = np.empty_like(c_vals)\n",
    "\n",
    "fig, ax = plt.subplots()\n",
    "\n",
    "for i, c in enumerate(c_vals):\n",
    "    mcm.c = c\n",
    "    w_bar = compute_reservation_wage(mcm)\n",
    "    w_bar_vals[i] = w_bar\n",
    "\n",
    "ax.set(xlabel='unemployment compensation',\n",
    "       ylabel='reservation wage')\n",
    "ax.plot(c_vals, w_bar_vals, label=r'$\\bar w$ as a function of $c$')\n",
    "ax.legend()\n",
    "\n",
    "plt.show()"
   ]
  },
  {
   "cell_type": "markdown",
   "id": "2efd8e6a",
   "metadata": {},
   "source": [
    "Here's the second one."
   ]
  },
  {
   "cell_type": "code",
   "execution_count": 11,
   "id": "edd950ad",
   "metadata": {},
   "outputs": [
    {
     "data": {
      "image/png": "[encoded data removed]",
      "text/plain": [
       "<Figure size 792x360 with 1 Axes>"
      ]
     },
     "metadata": {
      "filenames": {
       "image/png": "/home/runner/work/lecture-python.myst/lecture-python.myst/_build/jupyter_execute/mccall_model_with_separation_21_0.png"
      },
      "needs_background": "light"
     },
     "output_type": "display_data"
    }
   ],
   "source": [
    "fig, ax = plt.subplots()\n",
    "\n",
    "for i, β in enumerate(beta_vals):\n",
    "    mcm.β = β\n",
    "    w_bar = compute_reservation_wage(mcm)\n",
    "    w_bar_vals[i] = w_bar\n",
    "\n",
    "ax.set(xlabel='discount factor', ylabel='reservation wage')\n",
    "ax.plot(beta_vals, w_bar_vals, label=r'$\\bar w$ as a function of $\\beta$')\n",
    "ax.legend()\n",
    "\n",
    "plt.show()"
   ]
  },
  {
   "cell_type": "markdown",
   "id": "e6a9794d",
   "metadata": {},
   "source": [
    "Here's the third."
   ]
  },
  {
   "cell_type": "code",
   "execution_count": 12,
   "id": "9e4f6d4c",
   "metadata": {},
   "outputs": [
    {
     "data": {
      "image/png": "[encoded data removed]",
      "text/plain": [
       "<Figure size 792x360 with 1 Axes>"
      ]
     },
     "metadata": {
      "filenames": {
       "image/png": "/home/runner/work/lecture-python.myst/lecture-python.myst/_build/jupyter_execute/mccall_model_with_separation_23_0.png"
      },
      "needs_background": "light"
     },
     "output_type": "display_data"
    }
   ],
   "source": [
    "fig, ax = plt.subplots()\n",
    "\n",
    "for i, α in enumerate(alpha_vals):\n",
    "    mcm.α = α\n",
    "    w_bar = compute_reservation_wage(mcm)\n",
    "    w_bar_vals[i] = w_bar\n",
    "\n",
    "ax.set(xlabel='separation rate', ylabel='reservation wage')\n",
    "ax.plot(alpha_vals, w_bar_vals, label=r'$\\bar w$ as a function of $\\alpha$')\n",
    "ax.legend()\n",
    "\n",
    "plt.show()"
   ]
  },
  {
   "cell_type": "markdown",
   "id": "dbf16424",
   "metadata": {},
   "source": [
    "```{solution-end}\n",
    "```"
   ]
  }
 ],
 "metadata": {
  "jupytext": {
   "text_representation": {
    "extension": ".md",
    "format_name": "myst"
   }
  },
  "kernelspec": {
   "display_name": "Python 3",
   "language": "python",
   "name": "python3"
  },
  "language_info": {
   "codemirror_mode": {
    "name": "ipython",
    "version": 3
   },
   "file_extension": ".py",
   "mimetype": "text/x-python",
   "name": "python",
   "nbconvert_exporter": "python",
   "pygments_lexer": "ipython3",
   "version": "3.9.12"
  },
  "source_map": [
   10,
   32,
   37,
   57,
   65,
   308,
   312,
   317,
   323,
   327,
   359,
   365,
   389,
   403,
   417,
   426,
   446,
   508,
   513,
   526,
   544,
   548,
   561,
   565,
   578
  ]
 },
 "nbformat": 4,
 "nbformat_minor": 5
}